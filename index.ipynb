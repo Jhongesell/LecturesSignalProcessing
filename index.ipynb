{
 "cells": [
  {
   "cell_type": "markdown",
   "metadata": {},
   "source": [
    "# TRAITEMENT DU SIGNAL -- PPMD/ENSG"
   ]
  },
  {
   "cell_type": "markdown",
   "metadata": {},
   "source": [
    "## Installation\n",
    "Télécharger les deux scripts suivants dans un répertoire local,\n",
    "- [Installation des packages Python](install_pkg_ensg)\n",
    "- [Configuration du notebook Jupyter](config_notebook_ensg)\n",
    "puis  faire `chmod 755 *_ensg` et enfin lancer ces deux scripts (par `./install_pkg_ensg` par exemple)\n",
    "\n",
    "<p style=\"color:red\"> **Attention** : pour ceux qui auraient déjà installé avant le 24 novembre, merci de faire une mise à jour du dépôt par\n",
    "```\n",
    "cd ~/LecturesSignalProcessing\n",
    "git pull\n",
    "\n",
    "```\n",
    "</p>\n",
    "## Télécharger l'archive du cours\n",
    "[Archive](http://perso.esiee.fr/~bercherj/PPMD/LecturesSignalProcessing.zip)\n",
    "puis la décompresser par `unzip LecturesSignalProcessing.zip`\n",
    "\n",
    "## Les cours en pages html\n",
    "[Version Web](http://perso.esiee.fr/~bercherj/Lectures_SignalProcessing/index.html)\n",
    "\n",
    "## Le poly \n",
    "[Poly](Poly.pdf) (! déjà inclu dans l'archive)"
   ]
  }
 ],
 "metadata": {
  "kernelspec": {
   "display_name": "Python 3",
   "language": "python",
   "name": "python3"
  },
  "language_info": {
   "codemirror_mode": {
    "name": "ipython",
    "version": 3
   },
   "file_extension": ".py",
   "mimetype": "text/x-python",
   "name": "python",
   "nbconvert_exporter": "python",
   "pygments_lexer": "ipython3",
   "version": "3.5.0"
  },
  "latex_envs": {
   "LaTeX_envs_menu_present": true,
   "bibliofile": "latex_bib.bib",
   "cite_by": "apalike",
   "current_citInitial": 1,
   "eqLabelWithNumbers": true,
   "eqNumInitial": 1,
   "labels_anchors": false,
   "latex_user_defs": false,
   "report_style_numbering": false,
   "user_envs_cfg": false
  },
  "toc": {
   "colors": {
    "hover_highlight": "#DAA520",
    "running_highlight": "#FF0000",
    "selected_highlight": "#39ff00"
   },
   "nav_menu": {
    "height": "79px",
    "width": "252px"
   },
   "navigate_menu": true,
   "number_sections": true,
   "sideBar": true,
   "threshold": 4,
   "toc_cell": false,
   "toc_section_display": "block",
   "toc_window_display": false
  }
 },
 "nbformat": 4,
 "nbformat_minor": 1
}
