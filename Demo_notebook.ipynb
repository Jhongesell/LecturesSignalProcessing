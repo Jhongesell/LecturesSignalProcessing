{
 "cells": [
  {
   "cell_type": "code",
   "execution_count": null,
   "metadata": {
    "collapsed": false
   },
   "outputs": [],
   "source": [
    "%run nbinit.ipy"
   ]
  },
  {
   "cell_type": "markdown",
   "metadata": {},
   "source": [
    "# Démonstration du notebook IPython"
   ]
  },
  {
   "cell_type": "markdown",
   "metadata": {},
   "source": [
    "## Fonctionnalités"
   ]
  },
  {
   "cell_type": "markdown",
   "metadata": {},
   "source": [
    "Le notebook [IPython](www.ipython.org) est un document \"*vivant*\" qui permet \n",
    "\n",
    "- d'intégrer des commentaires, du texte, des explications,\n",
    "- des mathématiques,\n",
    "- du code,\n",
    "\n",
    ">    - exécutable \n",
    "\n",
    "- des images, liens multimédias\n",
    "- des widgets"
   ]
  },
  {
   "cell_type": "markdown",
   "metadata": {},
   "source": [
    "**Raccourcis clavier**   <a style=\"color:red\"> Esc-H </a> Puis voir la suite..."
   ]
  },
  {
   "cell_type": "markdown",
   "metadata": {},
   "source": [
    "On peut énumérer, mettre en gras, en italique, faire des liens"
   ]
  },
  {
   "cell_type": "markdown",
   "metadata": {},
   "source": [
    "Deux types de cellules :\n",
    "  - des cellules Markdown (texte)\n",
    "  - des cellules de code"
   ]
  },
  {
   "cell_type": "markdown",
   "metadata": {},
   "source": [
    "On peut utiliser Python comme un calculateur"
   ]
  },
  {
   "cell_type": "code",
   "execution_count": null,
   "metadata": {
    "collapsed": false
   },
   "outputs": [],
   "source": [
    "a=1\n",
    "b=2\n",
    "print(a+b)"
   ]
  },
  {
   "cell_type": "markdown",
   "metadata": {},
   "source": [
    "Ou encore faire des fonctions"
   ]
  },
  {
   "cell_type": "code",
   "execution_count": null,
   "metadata": {
    "collapsed": false
   },
   "outputs": [],
   "source": [
    "def myfunction(x,y=2):\n",
    "    \"\"\"effectue la somme de x et y\n",
    "    avec y=2 par défaut\n",
    "    \"\"\"    \n",
    "    return x+y\n",
    "myfunction(2,3)"
   ]
  },
  {
   "cell_type": "markdown",
   "metadata": {},
   "source": [
    "### Par exemple"
   ]
  },
  {
   "cell_type": "markdown",
   "metadata": {},
   "source": [
    "La transformée de [Fourier](http://fr.wikipedia.org/wiki/Joseph_Fourier) est définie par \n",
    "$$\n",
    "X(f) = \\int_{-\\infty}^{+\\infty} x(t) e^{-j2\\pi ft} \\text{d}t.  \n",
    "\\label{eq:Fou}\n",
    "$$\n",
    "Bien entendu, en pratique on doit utiliser une version numérique, comme\n",
    "$$\n",
    "X(f) = \\sum_{n=-\\infty}^{+\\infty} x(n) e^{-j2\\pi fn}.  \n",
    "\\label{eq:Fou_discret}\n",
    "$$\n",
    "Sous réserve qu'on sache calculer des sommes infinies, et puis il reste que $f$ est continue. "
   ]
  },
  {
   "cell_type": "markdown",
   "metadata": {},
   "source": [
    "Fourier était un type sympa. Voici son portrait: <img src=\"http://web.mit.edu/2.51/www/fourier.jpg\" width=180></img>"
   ]
  },
  {
   "cell_type": "code",
   "execution_count": null,
   "metadata": {
    "collapsed": false
   },
   "outputs": [],
   "source": [
    "from IPython.display import IFrame\n",
    "IFrame('https://fr.wikipedia.org/wiki/Joseph_Fourier', width=700, height=350)"
   ]
  },
  {
   "cell_type": "markdown",
   "metadata": {},
   "source": [
    "Représentons une sinusoïde : "
   ]
  },
  {
   "cell_type": "code",
   "execution_count": null,
   "metadata": {
    "collapsed": false
   },
   "outputs": [],
   "source": [
    "sin(10)\n",
    "#sin(pi/4)"
   ]
  },
  {
   "cell_type": "code",
   "execution_count": null,
   "metadata": {
    "collapsed": false
   },
   "outputs": [],
   "source": [
    "f=0.05\n",
    "s=sin(2*pi*f*arange(0,200))\n",
    "s[0:10]"
   ]
  },
  {
   "cell_type": "code",
   "execution_count": null,
   "metadata": {
    "collapsed": false
   },
   "outputs": [],
   "source": [
    "plot(s)\n",
    "ylim([-1.2, 1.2])"
   ]
  },
  {
   "cell_type": "markdown",
   "metadata": {},
   "source": [
    "### De l'interactif"
   ]
  },
  {
   "cell_type": "markdown",
   "metadata": {},
   "source": [
    "Mieux encore: une version *interactive*"
   ]
  },
  {
   "cell_type": "code",
   "execution_count": null,
   "metadata": {
    "collapsed": false
   },
   "outputs": [],
   "source": [
    "# using %matplotlib use a backend that allows external figures\n",
    "# using %matplotlib inline plots the results in the notebook\n",
    "%matplotlib inline\n",
    "slider=widgets.FloatSlider(min=0,max=0.25,step=0.005,value=0.05)\n",
    "\n",
    "#----- Callbacks des widgets -------------\n",
    "def pltsin(f):\n",
    "        #clear_output(wait=True)\n",
    "        s=sin(2*pi*f*arange(0,200))\n",
    "        plt.plot(s)\n",
    "        plt.xlabel(\"Temps\")\n",
    "        _=plt.title(\"Sinusoïde\")\n",
    "        plt.ylim([-1.2, 1.2])\n",
    "        plt.grid(b='on')\n",
    "        \n",
    "_=interact(pltsin,f=slider)"
   ]
  },
  {
   "cell_type": "markdown",
   "metadata": {},
   "source": [
    "### Des fonctionnalités supplémentaires"
   ]
  },
  {
   "cell_type": "markdown",
   "metadata": {},
   "source": [
    "\\begin{listing}\n",
    "On peut intégrer des environnement LaTeX :\n",
    "\\begin{theorem}\n",
    "La somme de deux nombres pairs est paire. \n",
    "\\end{theorem}\n",
    "\\begin{example}\n",
    "474+24 = 498\n",
    "\\end{example}\n",
    "Définir des exercices :\n",
    "\\begin{exercise}\n",
    "Définir une fonction python qui calcule la somme de deux nombres\n",
    "\\end{exercise}\n",
    "\\end{listing}"
   ]
  },
  {
   "cell_type": "markdown",
   "metadata": {},
   "source": [
    "On peut intégrer des environnement $\\LaTeX$ :\n",
    "\\begin{theorem}\n",
    "La somme de deux nombres pairs est paire. \n",
    "\\end{theorem}\n",
    "\\begin{example}\n",
    "474+24 = 498\n",
    "\\end{example}\n",
    "Définir des exercices :\n",
    "\\begin{exercise}\n",
    "Définir une fonction python qui calcule la somme de deux nombres\n",
    "\\end{exercise}\n"
   ]
  },
  {
   "cell_type": "markdown",
   "metadata": {},
   "source": [
    "Et proposer des solutions"
   ]
  },
  {
   "cell_type": "markdown",
   "metadata": {},
   "source": [
    "\\begin{exercise}\n",
    "Définir une fonction python qui calcule le filtrage d'un signal $x$ par un \n",
    "filtre moyenneur de longueur L. La syntaxe d'appel sera la suivante:\n",
    "\n",
    "```python\n",
    "def monlissage(x,L):\n",
    "#...\n",
    "return y #signal filtré\n",
    "```\n",
    "\\end{exercise}"
   ]
  },
  {
   "cell_type": "markdown",
   "metadata": {},
   "source": [
    "Vous avez 5 minutes pour compléter le code ci-après et le tester."
   ]
  },
  {
   "cell_type": "markdown",
   "metadata": {},
   "source": [
    "\\begin{textboxa}\n",
    "Vous avez 5 minutes.. pour compléter le code ci-après et le tester.\n",
    "\\end{textboxa}"
   ]
  },
  {
   "cell_type": "code",
   "execution_count": null,
   "metadata": {
    "collapsed": false
   },
   "outputs": [],
   "source": [
    "def monlissage(x,L):\n",
    "    #\n",
    "    #DO IT YOURSELF\n",
    "    #\n",
    "    return y #signal filtré\n",
    "\n",
    "# Test: \n",
    "y=zeros(400)\n",
    "np.random.seed(42)\n",
    "x=np.random.normal(size=400)\n",
    "y=monlissage(x,20)\n",
    "plt.plot(x,label=\"entrée\")\n",
    "plt.plot(y,label=\"sortie\")\n",
    "plt.legend()"
   ]
  },
  {
   "cell_type": "code",
   "execution_count": 2,
   "metadata": {
    "cbox_ck": false,
    "cbox_id": "myCheck2",
    "collapsed": false,
    "widget": true
   },
   "outputs": [
    {
     "data": {
      "text/html": [
       "<div class=\"onoffswitch\">\n",
       "<input type=\"checkbox\" name=\"onoffswitch\" class=\"onoffswitch-checkbox\"\n",
       "onclick=\"document.getElementById('myCheck2').checked ? \n",
       "show_input(2) : hide_input(2)\" \n",
       "id=\"myCheck2\"  checked>\n",
       "<label class=\"onoffswitch-label\" for=\"myCheck2\"> \n",
       "<span class=\"onoffswitch-inner\"></span> \n",
       "<span class=\"onoffswitch-switch\"></span>\n",
       "</label>\n",
       "</div>"
      ],
      "text/plain": [
       "<IPython.core.display.HTML object>"
      ]
     },
     "metadata": {},
     "output_type": "display_data"
    }
   ],
   "source": [
    "from IPython.display import HTML, display, Javascript\n",
    "display(HTML('<div class=\"onoffswitch\">\\n<input type=\"checkbox\" name=\"onoffswitch\" class=\"onoffswitch-checkbox\"\\nonclick=\"document.getElementById('+\"'myCheck2'\"+').checked ? \\nshow_input(2) : hide_input(2)\" \\nid=\"myCheck2\"  checked>\\n<label class=\"onoffswitch-label\" for=\"myCheck2\"> \\n<span class=\"onoffswitch-inner\"></span> \\n<span class=\"onoffswitch-switch\"></span>\\n</label>\\n</div>'))"
   ]
  },
  {
   "cell_type": "code",
   "execution_count": null,
   "metadata": {
    "collapsed": false,
    "hidden": true
   },
   "outputs": [],
   "source": [
    "def monlissage(x,L):\n",
    "    y = sig.lfilter(1/L*np.ones(L),[1],x)\n",
    "    return y #signal filtré"
   ]
  },
  {
   "cell_type": "code",
   "execution_count": null,
   "metadata": {
    "collapsed": false,
    "hidden": true
   },
   "outputs": [],
   "source": [
    "y=zeros(400)\n",
    "np.random.seed(42)\n",
    "x=np.random.normal(size=400)\n",
    "y=monlissage(x,20)\n",
    "plt.plot(x,label=\"entrée\", alpha=0.4)\n",
    "plt.plot(y,label=\"sortie\")\n",
    "plt.xlabel('Temps')\n",
    "_=plt.legend()"
   ]
  }
 ],
 "metadata": {
  "interactive_sols": {
   "cbx_id": 3
  },
  "kernelspec": {
   "display_name": "Python 3",
   "language": "python",
   "name": "python3"
  },
  "language_info": {
   "codemirror_mode": {
    "name": "ipython",
    "version": 3
   },
   "file_extension": ".py",
   "mimetype": "text/x-python",
   "name": "python",
   "nbconvert_exporter": "python",
   "pygments_lexer": "ipython3",
   "version": "3.4.3+"
  },
  "latex_envs": {
   "bibliofile": "biblio.bib",
   "cite_by": "apalike",
   "current_citInitial": 1,
   "eqLabelWithNumbers": true,
   "eqNumInitial": 0
  }
 },
 "nbformat": 4,
 "nbformat_minor": 0
}
