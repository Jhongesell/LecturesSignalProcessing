{
 "cells": [
  {
   "cell_type": "code",
   "execution_count": 1,
   "metadata": {
    "collapsed": false
   },
   "outputs": [
    {
     "name": "stdout",
     "output_type": "stream",
     "text": [
      "... Configuring matplotlib formats\n",
      "... Configuring matplotlib with inline figures\n",
      "... Importing numpy as np, scipy as sp, pyplot as plt, scipy.stats as stats\n",
      "   ... scipy.signal as sig\n",
      "... Importing widgets, display, HTML, Image, Javascript\n",
      "... Some LaTeX definitions\n"
     ]
    },
    {
     "data": {
      "text/html": [
       "\n",
       "$$\\require{color}\n",
       "\\require{cancel}\n",
       "\\def\\tf#1{{\\mathrm{FT}\\left\\{ #1 \\right\\}}}\n",
       "\\def\\flecheTF{\\rightleftharpoons }\n",
       "\\def\\TFI#1#2#3{{\\displaystyle{\\int_{-\\infty}^{+\\infty} #1 ~e^{j2\\pi #2 #3} \n",
       "~\\dr{#2}}}}\n",
       "\\def\\TF#1#2#3{{\\displaystyle{\\int_{-\\infty}^{+\\infty} #1 ~e^{-j2\\pi #3 #2} \n",
       "~\\dr{#2}}}}\n",
       "\\def\\sha{ш}\n",
       "\\def\\dr#1{\\mathrm{d}#1}\n",
       "\\def\\egalpardef{\\mathop{=}\\limits^\\triangle}\n",
       "\\def\\sinc#1{{\\mathrm{sinc}\\left( #1 \\right)}}\n",
       "\\def\\rect{\\mathrm{rect}}\n",
       "\\definecolor{lightred}{rgb}{1,0.1,0}\n",
       "\\def\\myblueeqbox#1{{\\fcolorbox{blue}{lightblue}{$\textcolor{blue}{ #1}$}}}\n",
       "\\def\\myeqbox#1#2{{\\fcolorbox{#1}{light#1}{$\textcolor{#1}{ #2}$}}}\n",
       "\\def\\eqbox#1#2#3#4{{\\fcolorbox{#1}{#2}{$\\textcolor{#3}{ #4}$}}}\n",
       "% border|background|text\n",
       "\\def\\eqboxa#1{{\\boxed{#1}}}\n",
       "\\def\\eqboxb#1{{\\eqbox{green}{white}{green}{#1}}}\n",
       "\\def\\eqboxc#1{{\\eqbox{blue}{white}{blue}{#1}}}\n",
       "\\def\\eqboxd#1{{\\eqbox{blue}{lightblue}{blue}{#1}}}\n",
       "\\def\\E#1{\\mathbb{E}\\left[#1\\right]}\n",
       "\\def\\ta#1{\\left<#1\\right>}\n",
       "\\def\\egalparerg{{\\mathop{=}\\limits_\\mathrm{erg}}}\n",
       "\\def\\expo#1{\\exp\\left(#1\\right)}\n",
       "\\def\\d#1{\\mathrm{d}#1}\n",
       "\\def\\wb{\\mathbf{w}} \n",
       "\\def\\sb{\\mathbf{s}} \n",
       "\\def\\xb{\\mathbf{x}}\n",
       "\\def\\Rb{\\mathbf{R}} \n",
       "\\def\\rb{\\mathbf{r}} \n",
       "\\def\\mystar{{*}}\n",
       "\\def\\ub{\\mathbf{u}}\n",
       "\\def\\wbopt{\\mathop{\\mathbf{w}}\\limits^\\triangle}\n",
       "\\def\\deriv#1#2{\\frac{\\mathrm{d}#1}{\\mathrm{d}#2}}\n",
       "\\def\\Ub{\\mathbf{U}}\n",
       "\\def\\db{\\mathbf{d}}\n",
       "\\def\\eb{\\mathbf{e}}\n",
       "\\def\\vb{\\mathbf{v}}\n",
       "\\def\\Ib{\\mathbf{I}}\n",
       "\\def\\Vb{\\mathbf{V}}\n",
       "\\def\\Lambdab{\\mathbf{\\Lambda}}\n",
       "\\def\\Ab{\\mathbf{A}}\n",
       "\\def\\Bb{\\mathbf{B}}\n",
       "\\def\\Cb{\\mathbf{C}}\n",
       "\\def\\Db{\\mathbf{D}}\n",
       "\\def\\Kb{\\mathbf{K}}\n",
       "\\def\\sinc#1{\\mathrm{sinc\\left(#1\\right)}}\n",
       "$$\n"
      ],
      "text/plain": [
       "<IPython.core.display.HTML object>"
      ]
     },
     "metadata": {},
     "output_type": "display_data"
    },
    {
     "name": "stdout",
     "output_type": "stream",
     "text": [
      "... Defining figures captions \n"
     ]
    },
    {
     "data": {
      "text/html": [
       "<style>\n",
       ".caption {\n",
       "font-weight: normal;\n",
       "text-align: left;\n",
       "width:60%; margin-left:10%; border:2px solid; padding-top:5px; padding-bottom:5px;\n",
       "background-color:white;border-color:#efd3d7;color:black;\n",
       "border-radius:8px;-webkit-border-radius:8px;-moz-border-radius:8px;border-radius:8px\n",
       "}\n",
       "</style>"
      ],
      "text/plain": [
       "<IPython.core.display.HTML object>"
      ]
     },
     "metadata": {},
     "output_type": "display_data"
    },
    {
     "name": "stdout",
     "output_type": "stream",
     "text": [
      "... Loading customized Javascript for interactive solutions (show/hide)\n",
      "... Redefining interactive from ipywidgets\n"
     ]
    }
   ],
   "source": [
    "%run nbinit.ipy\n",
    "js_addon()"
   ]
  },
  {
   "cell_type": "markdown",
   "metadata": {},
   "source": [
    "# Table of Contents\n",
    "* [Filters and convolution](#Filters-and-convolution)\n",
    "\t* [Representation formula](#Representation-formula)\n",
    "\t* [The convolution operation](#The-convolution-operation)\n",
    "\t\t* [Definition](#Definition)\n",
    "\t\t* [Illustration](#Illustration)\n",
    "\t\t* [Exercises](#Exercises)\n"
   ]
  },
  {
   "cell_type": "markdown",
   "metadata": {},
   "source": [
    "\\index{Convolution}\n",
    "\\index{Convolution|fin}"
   ]
  },
  {
   "cell_type": "markdown",
   "metadata": {},
   "source": [
    "# Filters and convolution"
   ]
  },
  {
   "cell_type": "markdown",
   "metadata": {},
   "source": [
    "## Representation formula"
   ]
  },
  {
   "cell_type": "markdown",
   "metadata": {},
   "source": [
    "\\index{Filtres}\n",
    "\\index{Filtres|fin}\n",
    "\\index{Filtres!Définition|fin}\n",
    "\n",
    "Any signal $x(n)$ can be written as follows:\n",
    "$$\n",
    "\\eqboxc{x(n) = \\sum_{m=-\\infty}^{+\\infty} x(m)\\delta(n-m).} \n",
    "$$\n",
    "It is very important to understand the meaning of this formula. \n",
    "\n",
    " -  Since $\\delta(n-m)=1$ if and only if $n=m$, then all the terms in the sum cancel, excepted the one with  $n=m$ and therefore we arrive at the identity $x(n)=x(n)$.\n",
    " -  The set of delayed Dirac impulses $\\delta(n-m)$ form a basis of the space of discrete signals. Then the coordinate of a signal on this basis is the scalar product $\\sum_{n=-\\infty}^{+\\infty} x(n)\\delta(n-m)=x(m)$. Hence, the reprentation formula just expresses the decomposition of the signal on the basis, where the $x(m)$ are the coordinates. \n",
    " \n",
    "This means that $x(n)$, as a waveform, is actually composed of the sum of many Dirac impulses, placed at each integer, with a weight $x(m)$ which is nothing but the amplitude of the signal at time $m=n$. The formula shows how the signal can be seen as the superposition of Dirac impulses with the correct weights. Lets us illustrate this with a simple Python demonstration:"
   ]
  },
  {
   "cell_type": "code",
   "execution_count": 2,
   "metadata": {
    "collapsed": false
   },
   "outputs": [
    {
     "name": "stdout",
     "output_type": "stream",
     "text": [
      "x= [ 0.  1.  2.  3.  0.  0.  1.  2.  3.  0.]\n"
     ]
    },
    {
     "data": {
      "text/plain": [
       "<matplotlib.text.Text at 0x7f3f40ece5f8>"
      ]
     },
     "execution_count": 2,
     "metadata": {},
     "output_type": "execute_result"
    },
    {
     "data": {
      "image/png": "[encoded data removed]",
      "text/plain": [
       "<matplotlib.figure.Figure at 0x7f3f6525bf60>"
      ]
     },
     "metadata": {
      "image/png": {
       "height": 458,
       "width": 432
      }
     },
     "output_type": "display_data"
    }
   ],
   "source": [
    "L=10\n",
    "z=np.zeros(L)\n",
    "x=np.zeros(L)\n",
    "x[5:9]=range(4)\n",
    "x[0:4]=range(4)\n",
    "print(\"x=\",x)\n",
    "s=np.zeros((L,L))\n",
    "for k in range(L):\n",
    "        s[k][k]=x[k]\n",
    "# this is equivalent as s=np.diag(x)        \n",
    "f,ax=plt.subplots(L+2,figsize=(7,7))\n",
    "for k in range(L): \n",
    "    ax[k].stem(s[k][:])\n",
    "    ax[k].set_ylim([0,3])\n",
    "    ax[k].get_yaxis().set_ticks([])\n",
    "    if k!=L-1: ax[k].get_xaxis().set_ticks([])\n",
    "\n",
    "ax[L].axis('off')\n",
    "\n",
    "ax[L+1].get_yaxis().set_ticks([])  \n",
    "ax[L+1].stem(x,'r')\n",
    "ax[L+1].set_title(\"Sum of all elementary signals\")\n",
    "#f.tight_layout()\n",
    "f.suptitle(\"Decomposition of a signal into a sum of Dirac\",fontsize=14)"
   ]
  },
  {
   "cell_type": "markdown",
   "metadata": {},
   "source": [
    "## The convolution operation"
   ]
  },
  {
   "cell_type": "markdown",
   "metadata": {},
   "source": [
    "### Definition"
   ]
  },
  {
   "cell_type": "markdown",
   "metadata": {},
   "source": [
    "Using previous elements, we are now in position of characterizing more precisely the \n",
    "\\textit{filters}. As already mentioned, a filter is a linear and time-invariant system, see [Intro_Filtering](Intro_Filtering.ipynb#filters).  \n",
    "\n",
    "\n",
    "The system being time invariant, the output associated with \n",
    "$x(m)\\delta(n-\\tau)$ is $x(m)h(n-m)$, if $h$ is the impulse response. \n",
    "$$\n",
    "x(m)\\delta(n-m) \\rightarrow x(m)h(n-mu).\n",
    "$$\n",
    "Since we know that any signal $x(n)$ can be written as (representation formula)\n",
    "$$\n",
    "x(n) = \\sum_{m=-\\infty}^{+\\infty} x(m)\\delta(n-m), \n",
    "$$\n",
    "we obtain, by linearity --that is superposition of all outputs, that \n",
    "$$\n",
    "\\boxed{\\displaystyle{y(n) = \\sum_{m=-\\infty}^{+\\infty} x(m)h(n-m) = \n",
    "[x*h](n).}} \n",
    "$$\n",
    "\\index{Convolution!Définition|fin}\n",
    "\n",
    "This relation is called \\textit{convolution} of $x$ and $h$, and this operation is denoted\n",
    "$[x*h](t)$, so as to indicate that the  \\textit{result} of the convolution operation is evaluated \n",
    "at time $n$ and that the variable $m$ is simply a dummy variable that disappears by the summation."
   ]
  },
  {
   "cell_type": "markdown",
   "metadata": {},
   "source": [
    "\\begin{textboxa}\n",
    "The convolution operation is important since it enables to compute the output of the system using only its impulse response. It is not necessary to know the way the system is build, its internal design and so on. The only thing one must have is its impulse response. Thus we see that the knowledge of the impulse response enable to fully characterize the input-output relationships.\\end{textboxa}"
   ]
  },
  {
   "cell_type": "markdown",
   "metadata": {},
   "source": [
    "### Illustration"
   ]
  },
  {
   "cell_type": "markdown",
   "metadata": {},
   "source": [
    "We show numerically that the output of a system is effectively the weightened sum of delayed impulse responses. This indicates that the output of the system can be computed either by using its difference equation, or by the convolution of its input with its impulse response. "
   ]
  },
  {
   "cell_type": "markdown",
   "metadata": {},
   "source": [
    "Direct response"
   ]
  },
  {
   "cell_type": "code",
   "execution_count": null,
   "metadata": {
    "collapsed": false
   },
   "outputs": [],
   "source": [
    "def op3(signal):\n",
    "    transformed_signal=np.zeros(np.size(signal))\n",
    "    for t in np.arange(np.size(signal)):\n",
    "        transformed_signal[t]= 0.7*transformed_signal[t-1]+0.3*signal[t]\n",
    "    return transformed_signal\n",
    "#\n",
    "# rectangular pulse\n",
    "N=20; L=5; M=10\n",
    "r=np.zeros(N)\n",
    "r[L:M]=1\n",
    "#\n",
    "plt.stem(r)\n",
    "plt.stem(op3(r),linefmt='r-',markerfmt='ro')\n",
    "_=plt.ylim([0, 1.2])"
   ]
  },
  {
   "cell_type": "markdown",
   "metadata": {},
   "source": [
    "Response by the sum of delayed impulse responses"
   ]
  },
  {
   "cell_type": "code",
   "execution_count": null,
   "metadata": {
    "collapsed": false
   },
   "outputs": [],
   "source": [
    "s=np.zeros((N,N))\n",
    "for k in range(N):\n",
    "        s[k][k]=r[k]\n",
    "# this is equivalent to s=np.diag(x)        \n",
    "ll=range(5,10)\n",
    "llmax=ll[-1]\n",
    "f,ax=plt.subplots(len(ll)+2,figsize=(7,7))\n",
    "u=0\n",
    "sum_of_responses=np.zeros(N)\n",
    "for k in ll:  \n",
    "    ax[u].stem(s[k][:])\n",
    "    ax[u].stem(2*op3(s[k][:]),linefmt='r-',markerfmt='ro')\n",
    "    ax[u].set_ylim([0,1.3])\n",
    "    ax[u].set_ylabel('k={}'.format(k))\n",
    "    ax[u].get_yaxis().set_ticks([])\n",
    "    sum_of_responses+=op3(s[k][:])\n",
    "    if u!=llmax-1: ax[u].get_xaxis().set_ticks([])\n",
    "    u+=1    \n",
    "\n",
    "ax[u].axis('off')\n",
    "\n",
    "ax[u+1].get_yaxis().set_ticks([])  \n",
    "ax[u+1].stem(r,linefmt='b-',markerfmt='bo')\n",
    "ax[u+1].stem(sum_of_responses,linefmt='r-',markerfmt='ro')\n",
    "ax[u+1].set_ylim([0,1.3])\n",
    "ax[u+1].set_title(\"Sum of all responses to elementary signals\")\n",
    "\n",
    "#\n",
    "#f.tight_layout()\n",
    "f.suptitle(\"Convolution as the sum of all delayed impulse responses\",fontsize=14)"
   ]
  },
  {
   "cell_type": "markdown",
   "metadata": {},
   "source": [
    "### Exercises"
   ]
  },
  {
   "cell_type": "markdown",
   "metadata": {},
   "source": [
    "\\begin{exercise}\\label{exo:convolution}\n",
    "\\begin{enumerate}\n",
    "\\item  Compute *by hand* the convolution between two rectangular signals,\n",
    "\\item propose a python program that computes the result, given two arrays. Syntax:\n",
    "```\n",
    "    def myconv(x,y):\n",
    "        return z\n",
    "```\n",
    "\\item Of course, convolution functions have already be implemented, in many languages, by many people and using many algorithms. Implementations also exist in two or more dimensions. So, we do need to reinvent the wheel. Consult the help of `np.convolve` and of `sig.convolve` (respectively from numpy and scipy modules). \n",
    "\\item use this convolution to compute and display the convolution between two rectangular signals\n",
    " \\end{enumerate}\n",
    "\\end{exercise}"
   ]
  },
  {
   "cell_type": "code",
   "execution_count": null,
   "metadata": {
    "collapsed": false,
    "solution2": "hidden"
   },
   "outputs": [],
   "source": [
    "def myconv(x,y):\n",
    "    L=np.size(x)\n",
    "    # we do it in the simpla case where both signals have the same length\n",
    "    assert np.size(x)==np.size(y), \"The two signals must have the same lengths\"\n",
    "    # as an exercise, you can generalize this\n",
    "    \n",
    "    z=np.zeros(2*L-1)\n",
    "    #\n",
    "    ## -> FILL IN   \n",
    "    #\n",
    "    return z\n",
    "# test it:\n",
    "z=myconv(np.ones(L),np.ones(L))\n",
    "print('z=',z)"
   ]
  },
  {
   "cell_type": "code",
   "execution_count": null,
   "metadata": {
    "collapsed": false,
    "hidden": false,
    "solution2": "hidden"
   },
   "outputs": [],
   "source": [
    "def myconv(x,y):\n",
    "    L=np.size(x)\n",
    "    # we do it in the simpla case where both signals have the same length\n",
    "    assert np.size(x)==np.size(y), \"The two signals must have the same lengths\"\n",
    "    # as an exercise, you can generalize this\n",
    "    \n",
    "    z=np.zeros(2*L-1)\n",
    "    # delay<L\n",
    "    for delay in np.arange(0,L):\n",
    "       z[delay]=np.sum(x[0:delay+1]*y[-1:-1-delay-1:-1])     \n",
    "    # delay>=L        \n",
    "    for delay in np.arange(L,2*L-1):  \n",
    "       z[delay]=np.sum(x[delay+1-L:L]*y[-delay-1+L:0:-1])        \n",
    "    return z\n",
    "# test it:\n",
    "z=myconv(np.ones(L),np.ones(L))\n",
    "print('z=',z)"
   ]
  },
  {
   "cell_type": "markdown",
   "metadata": {
    "hidden": false,
    "solution2": "hidden"
   },
   "source": [
    "Convolution with legacy convolve:"
   ]
  },
  {
   "cell_type": "code",
   "execution_count": null,
   "metadata": {
    "collapsed": false,
    "hidden": false,
    "solution2": "hidden"
   },
   "outputs": [],
   "source": [
    "#help(np.convolve)\n",
    "# convolution between two squares of length L\n",
    "L=10\n",
    "z=sig.convolve(np.ones(L),np.ones(L))\n",
    "plt.stem(z)\n",
    "plt.title(\"Convolution between two rectangular pulses\")\n",
    "plt.xlabel(\"Delay\")"
   ]
  },
  {
   "cell_type": "markdown",
   "metadata": {},
   "source": [
    "\n",
    "----\n",
    "<div align=right> [Index](toc.ipynb) - [Back](Fourier_transform_properties.ipynb) - [Next](TransferFunctions.ipynb)</div>"
   ]
  }
 ],
 "metadata": {
  "interactive_sols": {
   "cbx_id": 3
  },
  "kernelspec": {
   "display_name": "Python 3",
   "language": "python",
   "name": "python3"
  },
  "language_info": {
   "codemirror_mode": {
    "name": "ipython",
    "version": 3
   },
   "file_extension": ".py",
   "mimetype": "text/x-python",
   "name": "python",
   "nbconvert_exporter": "python",
   "pygments_lexer": "ipython3",
   "version": "3.5.0"
  },
  "latex_envs": {
   "bibliofile": "biblio.bib",
   "cite_by": "apalike",
   "current_citInitial": 1,
   "eqLabelWithNumbers": true,
   "eqNumInitial": 0
  },
  "toc": {
   "toc-wrapper_display": "none",
   "toc_cell": false,
   "toc_number_sections": true,
   "toc_threshold": 4
  }
 },
 "nbformat": 4,
 "nbformat_minor": 0
}
