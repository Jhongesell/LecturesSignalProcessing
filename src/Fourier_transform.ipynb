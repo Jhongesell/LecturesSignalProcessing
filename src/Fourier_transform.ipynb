{
 "cells": [
  {
   "cell_type": "markdown",
   "metadata": {},
   "source": [
    "# Table of Contents\n",
    "* [Fourier transform](#Fourier-transform)\n",
    "* [From Fourier Series to Fourier transforms <a name=\"Towards_the_FT\"></a>](#From-Fourier-Series-to-Fourier-transforms-<a-name=\"Towards_the_FT\"></a>)\n",
    "\t* [Introduction and definitions](#Introduction-and-definitions)\n",
    "\t* [Examples](#Examples)\n",
    "\t\t* [The Fourier transform of a rectangular window](#The-Fourier-transform-of-a-rectangular-window)\n",
    "\t\t* [Fourier transform of a sine wave](#Fourier-transform-of-a-sine-wave)\n"
   ]
  },
  {
   "cell_type": "code",
   "execution_count": 1,
   "metadata": {
    "collapsed": false
   },
   "outputs": [
    {
     "name": "stdout",
     "output_type": "stream",
     "text": [
      "... Configuring matplotlib formats\n",
      "... Configuring matplotlib with inline figures\n",
      "... Importing numpy as np, scipy as sp, pyplot as plt, scipy.stats as stats\n",
      "   ... scipy.signal as sig\n",
      "... Importing widgets, display, HTML, Image, Javascript\n",
      "... Some LaTeX definitions\n"
     ]
    },
    {
     "data": {
      "text/html": [
       "\n",
       "$$\\require{color}\n",
       "\\require{cancel}\n",
       "\\def\\tf#1{{\\mathrm{FT}\\left\\{ #1 \\right\\}}}\n",
       "\\def\\flecheTF{\\rightleftharpoons }\n",
       "\\def\\TFI#1#2#3{{\\displaystyle{\\int_{-\\infty}^{+\\infty} #1 ~e^{j2\\pi #2 #3} \n",
       "~\\dr{#2}}}}\n",
       "\\def\\TF#1#2#3{{\\displaystyle{\\int_{-\\infty}^{+\\infty} #1 ~e^{-j2\\pi #3 #2} \n",
       "~\\dr{#2}}}}\n",
       "\\def\\sha{ш}\n",
       "\\def\\dr#1{\\mathrm{d}#1}\n",
       "\\def\\egalpardef{\\mathop{=}\\limits^\\triangle}\n",
       "\\def\\sinc#1{{\\mathrm{sinc}\\left( #1 \\right)}}\n",
       "\\def\\rect{\\mathrm{rect}}\n",
       "\\definecolor{lightred}{rgb}{1,0.1,0}\n",
       "\\def\\myblueeqbox#1{{\\fcolorbox{blue}{lightblue}{$\textcolor{blue}{ #1}$}}}\n",
       "\\def\\myeqbox#1#2{{\\fcolorbox{#1}{light#1}{$\textcolor{#1}{ #2}$}}}\n",
       "\\def\\eqbox#1#2#3#4{{\\fcolorbox{#1}{#2}{$\\textcolor{#3}{ #4}$}}}\n",
       "% border|background|text\n",
       "\\def\\eqboxa#1{{\\boxed{#1}}}\n",
       "\\def\\eqboxb#1{{\\eqbox{green}{white}{green}{#1}}}\n",
       "\\def\\eqboxc#1{{\\eqbox{blue}{white}{blue}{#1}}}\n",
       "\\def\\eqboxd#1{{\\eqbox{blue}{lightblue}{blue}{#1}}}\n",
       "\\def\\E#1{\\mathbb{E}\\left[#1\\right]}\n",
       "\\def\\ta#1{\\left<#1\\right>}\n",
       "\\def\\egalparerg{{\\mathop{=}\\limits_\\mathrm{erg}}}\n",
       "\\def\\expo#1{\\exp\\left(#1\\right)}\n",
       "\\def\\d#1{\\mathrm{d}#1}\n",
       "\\def\\wb{\\mathbf{w}} \n",
       "\\def\\sb{\\mathbf{s}} \n",
       "\\def\\xb{\\mathbf{x}}\n",
       "\\def\\Rb{\\mathbf{R}} \n",
       "\\def\\rb{\\mathbf{r}} \n",
       "\\def\\mystar{{*}}\n",
       "\\def\\ub{\\mathbf{u}}\n",
       "\\def\\wbopt{\\mathop{\\mathbf{w}}\\limits^\\triangle}\n",
       "\\def\\deriv#1#2{\\frac{\\mathrm{d}#1}{\\mathrm{d}#2}}\n",
       "\\def\\Ub{\\mathbf{U}}\n",
       "\\def\\db{\\mathbf{d}}\n",
       "\\def\\eb{\\mathbf{e}}\n",
       "\\def\\vb{\\mathbf{v}}\n",
       "\\def\\Ib{\\mathbf{I}}\n",
       "\\def\\Vb{\\mathbf{V}}\n",
       "\\def\\Lambdab{\\mathbf{\\Lambda}}\n",
       "\\def\\Ab{\\mathbf{A}}\n",
       "\\def\\Bb{\\mathbf{B}}\n",
       "\\def\\Cb{\\mathbf{C}}\n",
       "\\def\\Db{\\mathbf{D}}\n",
       "\\def\\Kb{\\mathbf{K}}\n",
       "$$\n"
      ],
      "text/plain": [
       "<IPython.core.display.HTML object>"
      ]
     },
     "metadata": {},
     "output_type": "display_data"
    },
    {
     "name": "stdout",
     "output_type": "stream",
     "text": [
      "... Defining figures captions \n"
     ]
    },
    {
     "data": {
      "text/html": [
       "<style>\n",
       ".caption {\n",
       "font-weight: normal;\n",
       "text-align: left;\n",
       "width:60%; margin-left:10%; border:2px solid; padding-top:5px; padding-bottom:5px;\n",
       "background-color:white;border-color:#efd3d7;color:black;\n",
       "border-radius:8px;-webkit-border-radius:8px;-moz-border-radius:8px;border-radius:8px\n",
       "}\n",
       "</style>"
      ],
      "text/plain": [
       "<IPython.core.display.HTML object>"
      ]
     },
     "metadata": {},
     "output_type": "display_data"
    },
    {
     "name": "stdout",
     "output_type": "stream",
     "text": [
      "... Loading customized Javascript for interactive solutions (show/hide)\n"
     ]
    }
   ],
   "source": [
    "%run nbinit.ipy"
   ]
  },
  {
   "cell_type": "markdown",
   "metadata": {},
   "source": [
    "# From Fourier Series to Fourier transforms <a name=\"Towards_the_FT\"></a>"
   ]
  },
  {
   "cell_type": "markdown",
   "metadata": {},
   "source": [
    "In this section, we go from the Fourier series to the Fourier transform for discrete signal. \n",
    "So doing, we also introduce the notion of Discrete Fourier Transform that we will study in more details later. For now, we focus on the representations in the frequency domain, detail and experiment with some examples. "
   ]
  },
  {
   "cell_type": "markdown",
   "metadata": {},
   "source": [
    "## Introduction and definitions"
   ]
  },
  {
   "cell_type": "markdown",
   "metadata": {},
   "source": [
    "Suppose that we only have an observation of length $N$. So no periodic signal, but a signal of size $N$. We do not know if there were data before the first sample, and we do not know if there were data after sample $N$. What to do? Facing to such situation, we can still \n",
    "- imagine that the data are periodic outside of the observation interval, with a period $N$. Then the formulas for the Fourier series **are** valid, for $n$ in the observation interval. Actually there is no problem with that. The resulting transformation is called the *Discrete Fourier Transform* \\label{def:DFT}. The corresponding formulas are\n",
    "\n",
    "$$\n",
    "\\eqboxc{\\begin{aligned}\n",
    "x(n) &= \\sum_{k=0}^{N-1} X(k)  e^{j2\\pi\\frac{ k n}{N}}\\\\\n",
    "\\text{with   }\n",
    "X(k) &= \\frac{1}{N}\\sum_{n=0}^{N-1} x(n)  e^{-j2\\pi\\frac{ k n}{N}}\n",
    "\\end{aligned}\n",
    "}\n",
    "\\label{eq:DFT}\n",
    "$$\n",
    "\n",
    "\n",
    "- we may also consider that there is nothing --that is zeros, outside of the observation interval. In such condition, we can still imagine that we have a periodic signal, but with an infinite period. Since the separation of two harmonics in the Fourier series is $\\Delta f$=1/period, we see that $\\Delta f\\rightarrow 0$. Then the Fourier representation becomes continuous. This is illustrated below.  "
   ]
  },
  {
   "cell_type": "code",
   "execution_count": null,
   "metadata": {
    "collapsed": false
   },
   "outputs": [],
   "source": [
    "# compute the coeffs ck\n",
    "def coeffck(x,L,k):\n",
    "    assert np.size(x)==L, \"input must be of length L\"     \n",
    "    karray=[]\n",
    "    res=[]\n",
    "    if isinstance(k,int):\n",
    "       karray.append(k)\n",
    "    else:\n",
    "       karray=np.array(k)\n",
    "   \n",
    "    for k in karray:\n",
    "        res.append(np.vdot(exp(1j*2*pi/L*k*np.arange(0,L)),x))\n",
    "    return 1/L*np.array(res)\n",
    "\n",
    "#test: coeffck(x[0:L],L,[-12,1,7])\n",
    "# --> array([  1.51702135e-02 +4.60742555e-17j,\n",
    "#     -1.31708229e-05 -1.31708229e-05j,   1.37224241e-05 -1.37224241e-05j])"
   ]
  },
  {
   "cell_type": "code",
   "execution_count": null,
   "metadata": {
    "collapsed": false
   },
   "outputs": [],
   "source": [
    "Lpad=20 # then 200, then 2000\n",
    "# define a rectangular pulse\n",
    "rect=np.concatenate((np.ones(20),-np.ones(20)))\n",
    "# Add zeros after:\n",
    "rect_zeropadded=np.concatenate((rect,np.zeros(Lpad)))\n",
    "sig=rect_zeropadded\n",
    "plt.plot(sig)\n",
    "# compute the Fourier series for |k/Lsig|<1/4\n",
    "Lsig=np.size(sig)\n",
    "fmax=int(Lsig/4)\n",
    "kk=np.arange(-fmax,fmax)\n",
    "c=coeffck(sig[0:Lsig],Lsig,kk)\n",
    "# plot it\n",
    "plt.figure()\n",
    "plt.stem(kk/Lsig,np.abs(c))\n",
    "plt.title(\"Fourier series coefficients (modulus)\")\n",
    "plt.xlabel(\"Normalized frequency -- k/Lsig\")"
   ]
  },
  {
   "cell_type": "markdown",
   "metadata": {},
   "source": [
    "$\\def\\d{\\mathrm{d}}$\n",
    "Hence we obtain a formula where the discrete sum for reconstructing the time-series $x(n)$ becomes a continuous sum, since $f$ is now continuous:\n",
    "$$\n",
    "\\begin{aligned}\n",
    "x(n) = \\sum_{k=0}^{N-1} c_k & e^{j2\\pi\\frac{ k n}{N}}   = \\sum_{k/N=0}^{1-1/N} N X(k)  e^{j2\\pi\\frac{ k n}{N}} \\frac{1}{N} \\\\ \n",
    "&\\rightarrow x(n) = \\int_{0}^{1} X(f)  e^{j2\\pi f n} \\d f \n",
    "\\end{aligned}\n",
    "$$\n",
    "Finally, we end with what is called the **Discrete-time Fourier transform** \\label{def:DiscreteTimeFT}:\n",
    "\n",
    "$$\n",
    "\\boxed{\\begin{aligned}\n",
    "x(n) & = \\int_{0}^{1} X(f)  e^{j2\\pi f n} \\d f \\\\\n",
    "\\text{with   }\n",
    "X(f) &= \\sum_{n=-\\infty}^{\\infty} x(n)  e^{-j2\\pi f n}\n",
    "\\end{aligned}\n",
    "}\n",
    "\\label{eq:DiscreteTimeFT}\n",
    "$$\n"
   ]
  },
  {
   "cell_type": "markdown",
   "metadata": {},
   "source": [
    "Even before exploring the numerous properties of the Fourier transform, \n",
    "it is important to stress that\n",
    "<div class=alert-error style=\"text-align:center; width:60%; margin:auto; border:2px solid; border-color:#eed3d7\">\n",
    "The Fourier transform of a discrete signal is periodic with period one.\n",
    "</div>\n",
    "\n",
    "*Check it as an exercise!* Begin with the formula for $X(f)$ an compute $X(f+1)$. use the fact that $n$ is an integer and that $\\exp(j2\\pi n)=1$."
   ]
  },
  {
   "cell_type": "markdown",
   "metadata": {},
   "source": [
    "## Examples"
   ]
  },
  {
   "cell_type": "markdown",
   "metadata": {},
   "source": [
    "\\begin{exercise}.\n",
    "\n",
    "- Compute the *Fourier transform* of a rectangular window given on $N$ points. The result is called a (discrete) cardinal sine (or sometimes Dirichlet kernel). Sketch a plot, and study the behaviour of this function with $N$. \n",
    "- Experiment numerically... See below the provided functions. \n",
    "- Compute the Fourier transform of a sine wave $\\sin(2\\pi f_0 n)$ given on $N$ points. \n",
    "- Examine what happens when the $N$ and $f_0$ vary. \n",
    "\\end{exercise}"
   ]
  },
  {
   "cell_type": "markdown",
   "metadata": {},
   "source": [
    "### The Fourier transform of a rectangular window"
   ]
  },
  {
   "cell_type": "markdown",
   "metadata": {},
   "source": [
    "The derivation of the formula will be done in class. Let us see the experimental part. "
   ]
  },
  {
   "cell_type": "markdown",
   "metadata": {},
   "source": [
    "For the numerical experiments, import the fft (Fast Fourier Transform) function, \n",
    "```python\n",
    "from numpy.fft import fft, ifft\n",
    "```\n",
    "define a sine wave, complute and plot its Fourier transform.  As the FFT is actually an implementation of a discrete Fourier transform, we will have an approximation of the true Fourier transform by using zero-padding (check that a parameter in the fft enables to do this zero-padding). "
   ]
  },
  {
   "cell_type": "code",
   "execution_count": null,
   "metadata": {
    "collapsed": false
   },
   "outputs": [],
   "source": [
    "from numpy.fft import fft, ifft"
   ]
  },
  {
   "cell_type": "code",
   "execution_count": null,
   "metadata": {
    "collapsed": false
   },
   "outputs": [],
   "source": [
    "#Define a rectangular window, of length L\n",
    "#on N points, zeropad to NN=1000\n",
    "# take eg L=100, N=500\n",
    "NN=1000\n",
    "L=10 # 10, then 6, then 20, then 50, then 100...\n",
    "r=np.ones(L)\n",
    "Rf=fft(r,NN)\n",
    "f=fftfreq(NN)\n",
    "plt.plot(f,np.abs(Rf))"
   ]
  },
  {
   "cell_type": "markdown",
   "metadata": {},
   "source": [
    "It remain to compare this to a discrete cardinal sinus. First we define a function and then compare the results.  "
   ]
  },
  {
   "cell_type": "code",
   "execution_count": null,
   "metadata": {
    "collapsed": false
   },
   "outputs": [],
   "source": [
    "def dsinc(x,L):\n",
    "    if isinstance(x,(int,float)): x=[x]\n",
    "    x=np.array(x)\n",
    "    out=np.ones(np.shape(x))\n",
    "    I=np.where(x!=0)\n",
    "    out[I]=np.sin(x[I])/(L*np.sin(x[I]/L))\n",
    "    return out"
   ]
  },
  {
   "cell_type": "code",
   "execution_count": null,
   "metadata": {
    "collapsed": false
   },
   "outputs": [],
   "source": [
    "N=1000\n",
    "L=40\n",
    "f=np.linspace(-0.5,0.5,400)\n",
    "plt.plot(f,dsinc(pi*L*f,L))\n",
    "plt.grid(b='on')"
   ]
  },
  {
   "cell_type": "markdown",
   "metadata": {},
   "source": [
    "Comparison of the Fourier transform of a rectangle and a cardinal sine: "
   ]
  },
  {
   "cell_type": "code",
   "execution_count": null,
   "metadata": {
    "collapsed": false
   },
   "outputs": [],
   "source": [
    "NN=1000\n",
    "L=10 # 10, then 6, then 20, then 50, then 100...\n",
    "r=np.ones(L)\n",
    "Rf=fft(r,NN)\n",
    "\n",
    "N=1000\n",
    "f=np.linspace(-0.5,0.5,400)\n",
    "plt.plot(f,L*np.abs(dsinc(pi*L*f,L)))\n",
    "f=fftfreq(NN)\n",
    "plt.plot(f,np.abs(Rf))\n",
    "plt.grid(b='on')"
   ]
  },
  {
   "cell_type": "markdown",
   "metadata": {},
   "source": [
    "Interactive versions..."
   ]
  },
  {
   "cell_type": "code",
   "execution_count": null,
   "metadata": {
    "collapsed": false
   },
   "outputs": [],
   "source": [
    "# using %matplotlib use a backend that allows external figures\n",
    "# using %matplotlib inline plots the results in the notebook\n",
    "%matplotlib inline\n",
    "slider=widgets.FloatSlider(min=0.1,max=100,step=0.1,value=8)\n",
    "display(slider)\n",
    "\n",
    "\n",
    "#----- Callbacks des widgets -------------\n",
    "def pltsinc(name,L):\n",
    "        plt.clf()\n",
    "        clear_output(wait=True)\n",
    "        #val.value=str(f)\n",
    "        f=np.linspace(-0.5,0.5,400)\n",
    "        plt.plot(f,dsinc(pi*L*f,L))\n",
    "        plt.ylim([-0.3, 1.2])\n",
    "        plt.grid(b='on')\n",
    "        \n",
    "pltsinc('Width',8)\n",
    "slider.on_trait_change(pltsinc,'value')\n"
   ]
  },
  {
   "cell_type": "markdown",
   "metadata": {},
   "source": [
    "This is an example with matplotlib widgets interactivity, (instead of html widgets). The docs can be found at [http://nbviewer.ipython.org/github/jakevdp/matplotlib_pydata2013/blob/master/notebooks/03_Widgets.ipynb](http://nbviewer.ipython.org/github/jakevdp/matplotlib_pydata2013/blob/master/notebooks/03_Widgets.ipynb)"
   ]
  },
  {
   "cell_type": "code",
   "execution_count": null,
   "metadata": {
    "collapsed": false
   },
   "outputs": [],
   "source": [
    "%matplotlib\n",
    "from matplotlib.widgets import Slider\n",
    "\n",
    "fig, ax = plt.subplots()\n",
    "fig.subplots_adjust(bottom=0.2, left=0.1)\n",
    "\n",
    "slider_ax = plt.axes([0.1, 0.1, 0.8, 0.02])\n",
    "slider = Slider(slider_ax, \"Offset\", 0, 40, valinit=8, color='#AAAAAA')\n",
    "L=10\n",
    "f=np.linspace(-0.5,0.5,400)\n",
    "\n",
    "line, = ax.plot(f,dsinc(pi*L*f,L), lw=2)\n",
    "#line2, = ax.plot(f,sinc(pi*L*f), lw=2)\n",
    "#line2 is in order to compare with the \"true\" sinc\n",
    "ax.grid(b='on')    \n",
    "\n",
    "def on_change(L):\n",
    "    line.set_ydata(dsinc(pi*L*f,L))\n",
    "#    line2.set_ydata(sinc(pi*L*f))\n",
    "        \n",
    "\n",
    "slider.on_changed(on_change)"
   ]
  },
  {
   "cell_type": "markdown",
   "metadata": {},
   "source": [
    "### Fourier transform of a sine wave"
   ]
  },
  {
   "cell_type": "markdown",
   "metadata": {},
   "source": [
    "Again, the derivation will be done in class."
   ]
  },
  {
   "cell_type": "code",
   "execution_count": null,
   "metadata": {
    "collapsed": false
   },
   "outputs": [],
   "source": [
    "%matplotlib inline\n",
    "from numpy.fft import fft, ifft\n",
    "N=250; f0=0.1; NN=1000\n",
    "fig,ax=plt.subplots(2,1)\n",
    "def plot_sin_and_transform(N,f0,ax):\n",
    "    t=np.arange(N)\n",
    "    s=np.sin(2*pi*f0*t)\n",
    "    Sf=fft(s,NN)\n",
    "    ax[0].plot(t,s)\n",
    "    f=np.fft.fftfreq(NN)\n",
    "    ax[1].plot(f,np.abs(Sf))\n",
    "plot_sin_and_transform(N,f0,ax)    "
   ]
  },
  {
   "cell_type": "markdown",
   "metadata": {},
   "source": [
    "Interactive versions"
   ]
  },
  {
   "cell_type": "code",
   "execution_count": null,
   "metadata": {
    "collapsed": false
   },
   "outputs": [],
   "source": [
    "# using %matplotlib use a backend that allows external figures\n",
    "# using %matplotlib inline plots the results in the notebook\n",
    "%matplotlib inline\n",
    "sliderN=widgets.IntSlider(min=1,max=1000,step=1,value=200)\n",
    "sliderf0=widgets.FloatSlider(min=0,max=0.5,step=0.01,value=0.1)\n",
    "\n",
    "display(sliderN)\n",
    "display(sliderf0)\n",
    "N=500; f0=0.1;\n",
    "t=np.arange(N)\n",
    "s=np.sin(2*pi*f0*t)\n",
    "Sf=fft(s,NN)\n",
    "f=np.fft.fftfreq(NN)\n",
    "\n",
    "\n",
    "#----- Callbacks des widgets -------------\n",
    "def pltsin(dummy):\n",
    "        clear_output(wait=True)\n",
    "        N=sliderN.value\n",
    "        f0=sliderf0.value\n",
    "        t=np.arange(N)\n",
    "        s=np.sin(2*pi*f0*t)\n",
    "        Sf=fft(s,NN)\n",
    "        f=np.fft.fftfreq(NN)\n",
    "        plt.figure(1)\n",
    "        plt.clf()\n",
    "        plt.plot(t,s)\n",
    "        plt.figure(2)\n",
    "        plt.clf()\n",
    "        plt.plot(f,np.abs(Sf))\n",
    "        \n",
    "pltsin(8)\n",
    "sliderN.on_trait_change(pltsin)\n",
    "sliderf0.on_trait_change(pltsin)"
   ]
  },
  {
   "cell_type": "code",
   "execution_count": null,
   "metadata": {
    "collapsed": false
   },
   "outputs": [],
   "source": [
    "%matplotlib tk\n",
    "from matplotlib.widgets import Slider\n",
    "\n",
    "fig, ax = plt.subplots()\n",
    "fig.subplots_adjust(bottom=0.2, left=0.1)\n",
    "\n",
    "slider_ax = plt.axes([0.1, 0.1, 0.8, 0.02])\n",
    "slider = Slider(slider_ax, \"f0\", 0, 0.5, valinit=0.1, color='#AAAAAA')\n",
    "f=np.linspace(-0.5,0.5,400)\n",
    "N=1000\n",
    "t=np.arange(N)\n",
    "s=np.sin(2*pi*f0*t)\n",
    "Sf=fft(s,NN)\n",
    "f=np.fft.fftfreq(NN)\n",
    "line, = ax.plot(f,np.abs(Sf))\n",
    "\n",
    "ax.grid(b='on')    \n",
    "\n",
    "def on_change(f0):\n",
    "    s=np.sin(2*pi*f0*t)\n",
    "    Sf=fft(s,NN)\n",
    "    line.set_ydata(np.abs(Sf))\n",
    "#    line2.set_ydata(sinc(pi*L*f))\n",
    "        \n",
    "\n",
    "slider.on_changed(on_change)"
   ]
  },
  {
   "cell_type": "markdown",
   "metadata": {},
   "source": [
    "\n",
    "----\n",
    "<div align=right> [Index](toc.ipynb) - [Back](Intro_Fourier.ipynb) - [Next](Discrete_Time_Fourier_properties.ipynb)</div>"
   ]
  }
 ],
 "metadata": {
  "interactive_sols": {
   "cbx_id": 1
  },
  "kernelspec": {
   "display_name": "Python 3",
   "language": "python",
   "name": "python3"
  },
  "language_info": {
   "codemirror_mode": {
    "name": "ipython",
    "version": 3
   },
   "file_extension": ".py",
   "mimetype": "text/x-python",
   "name": "python",
   "nbconvert_exporter": "python",
   "pygments_lexer": "ipython3",
   "version": "3.4.3+"
  },
  "latex_envs": {
   "bibliofile": "biblio.bib",
   "cite_by": "apalike",
   "current_citInitial": 1,
   "eqLabelWithNumbers": true,
   "eqNumInitial": 0
  }
 },
 "nbformat": 4,
 "nbformat_minor": 0
}
