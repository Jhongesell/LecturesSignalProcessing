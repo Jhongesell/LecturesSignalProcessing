{
 "cells": [
  {
   "cell_type": "markdown",
   "metadata": {},
   "source": [
    "# Table of Contents\n",
    "* [Periodization, discretization and sampling](#Periodization,-discretization-and-sampling)\n",
    "\t* [Periodization-discretization duality](#Periodization-discretization-duality)\n",
    "\t\t* [Relation between Fourier series and Fourier transform](#Relation-between-Fourier-series-and-Fourier-transform)\n",
    "\t\t* [Poisson summation formulas](#Poisson-summation-formulas)\n"
   ]
  },
  {
   "cell_type": "code",
   "execution_count": 1,
   "metadata": {
    "collapsed": false
   },
   "outputs": [
    {
     "name": "stdout",
     "output_type": "stream",
     "text": [
      "... Configuring matplotlib formats\n",
      "... Configuring matplotlib with inline figures\n",
      "... Importing numpy as np, scipy as sp, pyplot as plt, scipy.stats as stats\n",
      "   ... scipy.signal as sig\n",
      "... Importing widgets, display, HTML, Image, Javascript\n",
      "... Some LaTeX definitions\n"
     ]
    },
    {
     "data": {
      "text/html": [
       "\n",
       "$$\\require{color}\n",
       "\\require{cancel}\n",
       "\\def\\tf#1{{\\mathrm{FT}\\left\\{ #1 \\right\\}}}\n",
       "\\def\\flecheTF{\\rightleftharpoons }\n",
       "\\def\\TFI#1#2#3{{\\displaystyle{\\int_{-\\infty}^{+\\infty} #1 ~e^{j2\\pi #2 #3} \n",
       "~\\dr{#2}}}}\n",
       "\\def\\TF#1#2#3{{\\displaystyle{\\int_{-\\infty}^{+\\infty} #1 ~e^{-j2\\pi #3 #2} \n",
       "~\\dr{#2}}}}\n",
       "\\def\\sha{ш}\n",
       "\\def\\dr#1{\\mathrm{d}#1}\n",
       "\\def\\egalpardef{\\mathop{=}\\limits^\\triangle}\n",
       "\\def\\sinc#1{{\\mathrm{sinc}\\left( #1 \\right)}}\n",
       "\\def\\rect{\\mathrm{rect}}\n",
       "\\definecolor{lightred}{rgb}{1,0.1,0}\n",
       "\\def\\myblueeqbox#1{{\\fcolorbox{blue}{lightblue}{$\textcolor{blue}{ #1}$}}}\n",
       "\\def\\myeqbox#1#2{{\\fcolorbox{#1}{light#1}{$\textcolor{#1}{ #2}$}}}\n",
       "\\def\\eqbox#1#2#3#4{{\\fcolorbox{#1}{#2}{$\\textcolor{#3}{ #4}$}}}\n",
       "% border|background|text\n",
       "\\def\\eqboxa#1{{\\boxed{#1}}}\n",
       "\\def\\eqboxb#1{{\\eqbox{green}{white}{green}{#1}}}\n",
       "\\def\\eqboxc#1{{\\eqbox{blue}{white}{blue}{#1}}}\n",
       "\\def\\eqboxd#1{{\\eqbox{blue}{lightblue}{blue}{#1}}}\n",
       "\\def\\E#1{\\mathbb{E}\\left[#1\\right]}\n",
       "\\def\\ta#1{\\left<#1\\right>}\n",
       "\\def\\egalparerg{{\\mathop{=}\\limits_\\mathrm{erg}}}\n",
       "\\def\\expo#1{\\exp\\left(#1\\right)}\n",
       "\\def\\d#1{\\mathrm{d}#1}\n",
       "\\def\\wb{\\mathbf{w}} \n",
       "\\def\\sb{\\mathbf{s}} \n",
       "\\def\\xb{\\mathbf{x}}\n",
       "\\def\\Rb{\\mathbf{R}} \n",
       "\\def\\rb{\\mathbf{r}} \n",
       "\\def\\mystar{{*}}\n",
       "\\def\\ub{\\mathbf{u}}\n",
       "\\def\\wbopt{\\mathop{\\mathbf{w}}\\limits^\\triangle}\n",
       "\\def\\deriv#1#2{\\frac{\\mathrm{d}#1}{\\mathrm{d}#2}}\n",
       "\\def\\Ub{\\mathbf{U}}\n",
       "\\def\\db{\\mathbf{d}}\n",
       "\\def\\eb{\\mathbf{e}}\n",
       "\\def\\vb{\\mathbf{v}}\n",
       "\\def\\Ib{\\mathbf{I}}\n",
       "\\def\\Vb{\\mathbf{V}}\n",
       "\\def\\Lambdab{\\mathbf{\\Lambda}}\n",
       "\\def\\Ab{\\mathbf{A}}\n",
       "\\def\\Bb{\\mathbf{B}}\n",
       "\\def\\Cb{\\mathbf{C}}\n",
       "\\def\\Db{\\mathbf{D}}\n",
       "\\def\\Kb{\\mathbf{K}}\n",
       "\\def\\sinc#1{\\mathrm{sinc\\left(#1\\right)}}\n",
       "$$\n"
      ],
      "text/plain": [
       "<IPython.core.display.HTML object>"
      ]
     },
     "metadata": {},
     "output_type": "display_data"
    },
    {
     "name": "stdout",
     "output_type": "stream",
     "text": [
      "... Defining figures captions \n"
     ]
    },
    {
     "data": {
      "text/html": [
       "<style>\n",
       ".caption {\n",
       "font-weight: normal;\n",
       "text-align: left;\n",
       "width:60%; margin-left:10%; border:2px solid; padding-top:5px; padding-bottom:5px;\n",
       "background-color:white;border-color:#efd3d7;color:black;\n",
       "border-radius:8px;-webkit-border-radius:8px;-moz-border-radius:8px;border-radius:8px\n",
       "}\n",
       "</style>"
      ],
      "text/plain": [
       "<IPython.core.display.HTML object>"
      ]
     },
     "metadata": {},
     "output_type": "display_data"
    },
    {
     "name": "stdout",
     "output_type": "stream",
     "text": [
      "... Loading customized Javascript for interactive solutions (show/hide)\n",
      "... Redefining interactive from ipywidgets\n"
     ]
    }
   ],
   "source": [
    "%run nbinit.ipy"
   ]
  },
  {
   "cell_type": "markdown",
   "metadata": {},
   "source": [
    "# Periodization, discretization and sampling"
   ]
  },
  {
   "cell_type": "markdown",
   "metadata": {},
   "source": [
    "## Periodization-discretization duality"
   ]
  },
  {
   "cell_type": "markdown",
   "metadata": {},
   "source": [
    "### Relation between Fourier series and Fourier transform"
   ]
  },
  {
   "cell_type": "markdown",
   "metadata": {},
   "source": [
    "\\index{Fourier transform!Link with Fourier series|end}\n",
    "\n",
    "Remember that we defined the Fourier transform as the limit of the Fourier series of periodic signal, when the period tends to infinity. A periodic signal can also be viewed as the repetition of a basic pattern. This enables to give a link between Fourier series and transform. \n",
    "Let $x(n)$ be a periodic function with period $L_0$. Then\n",
    "\\begin{equation}\n",
    "\\eqboxb{\\displaystyle{\n",
    "x(n) = \\sum_{m=-\\infty}^{+\\infty} x_{L_0} (n-mL_0)},\n",
    "}\n",
    "\\end{equation}\n",
    "where $x_{L_0} (n)$ is the basic pattern with length $L_0$.\n",
    "$x(n)$ being periodic, it can be expressed using a Fourier series, as\n",
    "\\[\n",
    "x(n) = \\sum_{n=0}^{L_0-1} c_k e^{j2\\pi kf_0 n},\n",
    "\\]\n",
    "where $f_0 = 1/L_0$ and\n",
    "\\[\n",
    "c_k = \\frac{1}{L_0} \\sum_{[L_0]} x_{L_0} (n) e^{-j2\\pi kf_0 n}.\n",
    "\\]\n",
    "From this relation, we immediately have\n",
    "\\begin{equation}\n",
    "c_k = \\frac{1}{L_0} X_{L_0} (kf_0),\n",
    "\\end{equation}\n",
    "where $X_{L_0} (f)$ is the Fourier transform of the pattern $x_{L_0} (n)$.\n",
    "Hence\n",
    "\\begin{equation}\n",
    "\\eqboxb{\n",
    "\\displaystyle{x(n) = \\sum_{m=-\\infty}^{+\\infty} x_{L_0} (n-mL_0) = \\frac{1}{L_0}\\sum_{k=0}^{L_0-1} \n",
    " X_{L_0} (kf_0) e^{j2\\pi kf_0 n}}.\n",
    "}\n",
    "\\end{equation}\n",
    "From that, we deduce that the Fourier transform of $x(n)$ writes\n",
    "\\[\n",
    "\\tf{x(n)} = \\frac{1}{L_0}\\sum_{k=0}^{L_0-1} \n",
    " X_{L_0} (kf_0) \\tf{e^{j2\\pi kf_0 n}},\n",
    "\\]\n",
    "that is\n",
    "\\begin{equation}\n",
    "\\eqboxc{\n",
    "\\displaystyle{X(f) = \\tf{x(n)} = \\frac{1}{L_0}\\sum_{k=0}^{L_0-1} \n",
    " X_{L_0} (kf_0) \\delta(f-kf_0)}\n",
    "}.\n",
    "\\end{equation}"
   ]
  },
  {
   "cell_type": "markdown",
   "metadata": {},
   "source": [
    "### Poisson summation formulas"
   ]
  },
  {
   "cell_type": "markdown",
   "metadata": {},
   "source": [
    "Hence, we see that the Fourier transform of a periodic signal with period $L_0$ is  constituted of a series of Dirac impulse, spaced by  $f_0$, and whose weights are the Fourier transform of the initial pattern, taken at the respective frequencies. \n",
    "\n",
    "<div class=mybox>\n",
    "\\textem{Periodicity in the time domain yields spectral lines in the frequency domain.}\n",
    "</div>\n",
    "\n",
    "\n",
    "Taking $x_{L_0}(n) = \\delta(n)$, we obtain the first \\textem{Poisson's formula}:\n",
    "\\begin{equation}\n",
    "\\eqboxc{\\displaystyle{\n",
    "\\sum_{m=-\\infty}^{+\\infty} \\delta (n-mL_0) = \n",
    "\\frac{1}{L_0}\\sum_{k=0}^{L_0-1} e^{j2\\pi kf_0 n}}}. \\label{eq:Poisson1}\n",
    "\\end{equation}\n",
    "\n",
    "The series of delayed Dirac impulses is called a \\textem{Dirac comb}. It is often denoted \n",
    "\\begin{equation}\n",
    "\\sha_{L_0}(n)=\\sum_{m=-\\infty}^{+\\infty} \\delta (n-mL_0). \\label{eq:DiracComb}\n",
    "\\end{equation}\n",
    "Taking the Fourier transforms of the two sides of (\\ref{eq:Poisson1}), we obtain\n",
    "\\begin{equation}\n",
    "\\eqboxc{\n",
    "\\displaystyle{\n",
    "\\sum_{m=-\\infty}^{+\\infty} e^{j2\\pi fmL_0 n} = \n",
    "\\frac{1}{L_0}\\sum_{k=0}^{L_0-1} \\delta(f -kf_0)}};\n",
    "\\end{equation}\n",
    "that is the second \\textem{Poisson's formula}:\n",
    "\\begin{equation}\n",
    "\\eqboxd{\n",
    "\\displaystyle{\n",
    "\\sum_{m=-\\infty}^{+\\infty} \\delta (n-mL_0) \\flecheTF\n",
    "\\frac{1}{L_0}\\sum_{k=0}^{L_0-1} \\delta(f -kf_0)}}. \\label{eq:Poisson2}\n",
    "\\end{equation}\n",
    "This last relation shows that the Fourier transform of a Dirac comb is also a Dirac comb, these two combs having an inverse spacing.\n",
    " "
   ]
  },
  {
   "cell_type": "markdown",
   "metadata": {},
   "source": [
    "\\begin{exercise}\n",
    "Let us check this numerically. This is very easy: define a Dirac comb, take its Fourier transform using the `fft` function, and look at the result. \n",
    "\\end{exercise}"
   ]
  },
  {
   "cell_type": "code",
   "execution_count": null,
   "metadata": {
    "collapsed": false,
    "solution2": "hidden"
   },
   "outputs": [],
   "source": [
    "## DO IT YOURSELF...\n",
    "#DiracComb=\n",
    "#DiracComb_f=fft(DiracComb)\n",
    "#etc"
   ]
  },
  {
   "cell_type": "code",
   "execution_count": null,
   "metadata": {
    "collapsed": false,
    "hidden": false,
    "solution2": "hidden"
   },
   "outputs": [],
   "source": [
    "N=200; L0=5; \n",
    "DiracComb=np.zeros(N)\n",
    "DiracComb[::L0]=1\n",
    "DiracComb_f=fft(DiracComb)\n",
    "plt.stem(DiracComb)\n",
    "plt.ylim([0, 1.1])\n",
    "plt.xlabel(\"Time\")\n",
    "plt.figure()\n",
    "f=np.linspace(0,1,N)\n",
    "plt.stem(f,1/N*abs(DiracComb_f))  # Actually there is a factor N in the fft\n",
    "_=plt.ylim([0, 1.1*1/L0])\n",
    "plt.xlabel(\"Frequency\")\n"
   ]
  },
  {
   "cell_type": "markdown",
   "metadata": {},
   "source": [
    "We may now go back to the exploration of the links between Fourier series and transform, using the second Poisson formula (\\ref{eq:Poisson2}). \n",
    "\n",
    "\\textbf{Convolution with a delayed Dirac impulse} - Let us first look at the result of the convolution of any function with a delayed Dirac impulse: let us denote $\\delta_{n_0}(n)=\\delta(n-n_0)$. The convolution $[x*\\delta_{n_0}](n)$ is eq given by\n",
    "\\begin{align}\n",
    "[x*\\delta_{n_0}](n) & =  \\sum_m x(m) \\delta_{n_0}(n-m)  \\\\\n",
    " & =  \\sum_m x(m) \\delta(n-m-n_0) \\\\\n",
    "  & =    x(n-n_0) \\\\\n",
    " \\end{align}\n",
    "where the last relation follows by the representation formula. Hence \n",
    "<div class=mybox>\n",
    "\\textem{Convolution with a delayed Dirac delays the signal.}\n",
    "</div>\n",
    "This has a simple and direct filtering interpretation. Indeed, if a filters has for impulse response a delayed Dirac impulse, then this means that it is a pure delaying filter. Then to an input $x(n)$ corresponds an output $x(n-n_0)$. <br><br>\n",
    "\n",
    "\n",
    "\\textbf{Convolution with a Dirac comb} - By linearity, the convolution of any signal $x_L(n)$ of length $L$ with a Dirac comb results in the sum of the delayed responses:\n",
    "\\begin{align}\n",
    "x(n) = \\left[x_L*\\sha_{L_0}\\right](n)  & = \\left[x_L*\\sum_k \\delta_{k L_0}\\right](n) \\\\\n",
    "& =  \\sum_k [x_L*\\delta_{k L_0}](n)  \\\\\n",
    "  & =   \\sum_k x_L(n-k L_0). \\\\\n",
    " \\end{align}\n",
    "This is nothing but the expression of a periodic signal. If $L_0$ is larger than the support $L$  of $x_L(n)$, then $x(n)$ is simply the repetition, with a period $L_0$, of the pattern $x_L(n)$. \n",
    "<div class=mybox>\n",
    "\\textem{Convolution with a Dirac comb periodizes the signal.}\n",
    "</div>"
   ]
  },
  {
   "cell_type": "markdown",
   "metadata": {},
   "source": [
    "\\begin{exercise}\\label{exo:periodizationViaConvolution}\n",
    "Let us check this with some simple Python commands: create a Dirac comb, a test signal (e.g.) a  rectangular pulse, convolve the two signals and plot the result. *Experiment with the value $L$ of the length of the test signal*. \n",
    "\\end{exercise}"
   ]
  },
  {
   "cell_type": "code",
   "execution_count": null,
   "metadata": {
    "collapsed": false,
    "solution2": "hidden"
   },
   "outputs": [],
   "source": [
    "# DO IT YOURSELF!\n",
    "#DiracComb=\n",
    "#pulse=\n",
    "#...\n",
    "#z=np.convolve(DiracComb,pulse)\n",
    "#plt.stem(...)"
   ]
  },
  {
   "cell_type": "code",
   "execution_count": null,
   "metadata": {
    "collapsed": false,
    "hidden": false,
    "solution2": "hidden"
   },
   "outputs": [],
   "source": [
    "N=400; L0=20; L=6 # L is the length of the pulse\n",
    "DiracComb=np.zeros(N)\n",
    "DiracComb[::L0]=1\n",
    "pulse=np.zeros(40); pulse[0:L]=1 #or range(L) # <<--\n",
    "z=np.convolve(DiracComb,pulse)\n",
    "plt.stem(z[0:100])\n",
    "plt.title('Convolution with a Dirac comb')\n",
    "plt.xlabel('Time')"
   ]
  },
  {
   "cell_type": "markdown",
   "metadata": {
    "hidden": true
   },
   "source": [
    "We see that the convolution with the Dirac comb effectively periodizes the initial pattern. In the case where the support $L$ of the pulse if larger than the period $L_0$ of the comb, then the result presents \\textem{aliasing} between consecutive patterns (but the resulting signal is still periodic). "
   ]
  },
  {
   "cell_type": "markdown",
   "metadata": {},
   "source": [
    "\\textbf{Effect in the frequency domain} - In the frequency domain, we know, by the Plancherel theorem, that the product of signals results in the convolution of their Fourier transforms (and *vice versa*). As a consequence, \n",
    "$$\n",
    "x(n) = \\left[x_L*\\sha_{L_0}\\right](n) \\flecheTF X_L(f). \\tf{\\sha_{L_0}(n)}.\n",
    "$$\n",
    "Since the Fourier transform of a Dirac comb is also a Dirac comb, we obtain that\n",
    "$$\n",
    "x(n) = \\left[x_L*\\sha_{L_0}\\right](n) \\flecheTF X_L(f). \\frac{1}{L_0}\\sha_\\frac{1}{L_0}(f),\n",
    "$$\n",
    "or\n",
    "$$\n",
    "X(f) = X_L(f). \\frac{1}{L_0}\\sha_\\frac{1}{L_0}(f) =\\frac{1}{L_0}\\sum_k X_L(kf_0) \\delta(f-kf_0),\n",
    "$$\n",
    "with $f_0={1}/{L_0}$. We see that the Fourier transform of the periodized signal is the product of the Fourier transform of the initial pattern with a Dirac comb in frequency. Hence, periodization in the time domain results in a discretization of the frequency axis, yielding a Fourier transform constituted of spectral lines. Observe that the amplitudes of the spectral lines coincide with the Fourier series coefficients. hence it is immediate to find the Fourier series coefficients from the Fourier transform of the periodized pattern.\n",
    "\n",
    "\\begin{textboxa}\n",
    "\\textem{Periodization in the time domain results in a discretization in the frequency domain.}\n",
    "\\end{textboxa}\n"
   ]
  },
  {
   "cell_type": "markdown",
   "metadata": {},
   "source": [
    "\\begin{exercise}\n",
    "Continue the exercise \\ref{exo:periodizationViaConvolution} by an analysis of what happens in the Fourier domain: compute the Fourier transforms of the original and periodized signals and compare them on the same plot. The Fourier transform of the periodized signal should be computed *without* zero padding, ie exactly on $N$ points.\n",
    "\n",
    "You will have to introduce a factor to account for the fact that there is more signal in the periodized one yan in the initial - the factor to consider is simply the number of periods.\n",
    "\\end{exercise}"
   ]
  },
  {
   "cell_type": "code",
   "execution_count": null,
   "metadata": {
    "collapsed": false,
    "solution2": "hidden"
   },
   "outputs": [],
   "source": [
    "#\n",
    "MM=2000 #for zero padding\n",
    "plt.figure()\n",
    "f=np.linspace(0,1,MM)\n",
    "fn=np.linspace(0,1,N)\n",
    "#\n",
    "# FILL IN HERE\n",
    "#\n",
    "plt.title('Fourier transform of original and periodized pulses')\n",
    "_=xlabel('Frequency')"
   ]
  },
  {
   "cell_type": "code",
   "execution_count": null,
   "metadata": {
    "collapsed": false,
    "hidden": true,
    "solution2": "hidden"
   },
   "outputs": [],
   "source": [
    "%matplotlib inline\n",
    "N=200; L0=20; L=12 # L is the length of the pulse\n",
    "DiracComb=np.zeros(N)\n",
    "DiracComb[::L0]=1\n",
    "pulse=np.zeros(40); pulse[0:L]=1 #exp(-0.3*arange(L))\n",
    "z=np.convolve(DiracComb,pulse)\n",
    "plt.stem(z[0:200])\n",
    "plt.title('Periodized signal')\n",
    "plt.xlabel('Time')\n",
    "#\n",
    "MM=1000\n",
    "plt.figure()\n",
    "f=np.linspace(0,1,MM)\n",
    "fn=np.linspace(0,1,N)\n",
    "plt.plot(f,10*abs(fft(pulse,MM)),label=\"FT original signal\")\n",
    "plt.stem(fn,abs(fft(z,N)),'-or',label=\"FT periodized signal\")\n",
    "plt.legend()\n",
    "plt.title('Fourier transform of original and periodized pulses')\n",
    "_=xlabel('Frequency')"
   ]
  },
  {
   "cell_type": "markdown",
   "metadata": {},
   "source": [
    "\n",
    "----\n",
    "<div align=right> [Index](toc.ipynb) - [Back](Continuous_time_case.ipynb) - [Next](DFT.ipynb)</div>"
   ]
  }
 ],
 "metadata": {
  "interactive_sols": {
   "cbx_id": 4
  },
  "kernelspec": {
   "display_name": "Python 3",
   "language": "python",
   "name": "python3"
  },
  "language_info": {
   "codemirror_mode": {
    "name": "ipython",
    "version": 3
   },
   "file_extension": ".py",
   "mimetype": "text/x-python",
   "name": "python",
   "nbconvert_exporter": "python",
   "pygments_lexer": "ipython3",
   "version": "3.4.3+"
  },
  "latex_envs": {
   "bibliofile": "biblio.bib",
   "cite_by": "apalike",
   "current_citInitial": 1,
   "eqLabelWithNumbers": true,
   "eqNumInitial": 0
  },
  "toc": {
   "toc-wrapper_display": "none",
   "toc_cell": false,
   "toc_number_sections": true,
   "toc_threshold": 4
  }
 },
 "nbformat": 4,
 "nbformat_minor": 0
}
