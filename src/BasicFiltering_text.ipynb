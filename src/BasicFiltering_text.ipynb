{
 "cells": [
  {
   "cell_type": "markdown",
   "metadata": {},
   "source": [
    "# Table of Contents\n",
    "* &nbsp;\n",
    "\t* [Lab -- Basic Filtering](#Lab----Basic-Filtering)\n",
    "\t\t* [Analysis of the data](#Analysis-of-the-data)\n",
    "\t\t* [Filtering](#Filtering)\n",
    "\t\t* [Design and implementation of the lowpass averaging filter](#Design-and-implementation-of-the-lowpass-averaging-filter)\n",
    "\t\t\t* [Theoretical part:](#Theoretical-part:)\n",
    "\t\t\t* [Practical part](#Practical-part)\n",
    "\t\t\t* [Computation of the subtracting filter](#Computation-of-the-subtracting-filter)\n",
    "\t\t* [Second part: Boost of a frequency band](#Second-part:-Boost-of-a-frequency-band)\n",
    "\t\t\t* [Pratical part](#Pratical-part)\n",
    "\t\t* [Lowpass [0- 250 Hz] filtering  by the window method](#Lowpass-[0--250-Hz]-filtering--by-the-window-method)\n",
    "\t\t\t* [Theoretical Part](#Theoretical-Part)\n",
    "\t\t\t* [Practical part](#Practical-part)\n",
    "\t\t\t* [Output of the lowpass filter](#Output-of-the-lowpass-filter)\n",
    "\t\t\t* [Group Delay](#Group-Delay)\n"
   ]
  },
  {
   "cell_type": "code",
   "execution_count": 1,
   "metadata": {
    "collapsed": false
   },
   "outputs": [
    {
     "name": "stdout",
     "output_type": "stream",
     "text": [
      "... Configuring matplotlib formats\n",
      "... Configuring matplotlib with inline figures\n",
      "... Importing numpy as np, scipy as sp, pyplot as plt, scipy.stats as stats\n",
      "   ... scipy.signal as sig\n",
      "... Importing widgets, display, HTML, Image, Javascript\n",
      "... Some LaTeX definitions\n"
     ]
    },
    {
     "data": {
      "text/html": [
       "\n",
       "$$\\require{color}\n",
       "\\require{cancel}\n",
       "\\def\\tf#1{{\\mathrm{FT}\\left\\{ #1 \\right\\}}}\n",
       "\\def\\flecheTF{\\rightleftharpoons }\n",
       "\\def\\TFI#1#2#3{{\\displaystyle{\\int_{-\\infty}^{+\\infty} #1 ~e^{j2\\pi #2 #3} \n",
       "~\\dr{#2}}}}\n",
       "\\def\\TF#1#2#3{{\\displaystyle{\\int_{-\\infty}^{+\\infty} #1 ~e^{-j2\\pi #3 #2} \n",
       "~\\dr{#2}}}}\n",
       "\\def\\sha{ш}\n",
       "\\def\\dr#1{\\mathrm{d}#1}\n",
       "\\def\\egalpardef{\\mathop{=}\\limits^\\triangle}\n",
       "\\def\\sinc#1{{\\mathrm{sinc}\\left( #1 \\right)}}\n",
       "\\def\\rect{\\mathrm{rect}}\n",
       "\\definecolor{lightred}{rgb}{1,0.1,0}\n",
       "\\def\\myblueeqbox#1{{\\fcolorbox{blue}{lightblue}{$\textcolor{blue}{ #1}$}}}\n",
       "\\def\\myeqbox#1#2{{\\fcolorbox{#1}{light#1}{$\textcolor{#1}{ #2}$}}}\n",
       "\\def\\eqbox#1#2#3#4{{\\fcolorbox{#1}{#2}{$\\textcolor{#3}{ #4}$}}}\n",
       "% border|background|text\n",
       "\\def\\eqboxa#1{{\\boxed{#1}}}\n",
       "\\def\\eqboxb#1{{\\eqbox{green}{white}{green}{#1}}}\n",
       "\\def\\eqboxc#1{{\\eqbox{blue}{white}{blue}{#1}}}\n",
       "\\def\\eqboxd#1{{\\eqbox{blue}{lightblue}{blue}{#1}}}\n",
       "\\def\\E#1{\\mathbb{E}\\left[#1\\right]}\n",
       "\\def\\ta#1{\\left<#1\\right>}\n",
       "\\def\\egalparerg{{\\mathop{=}\\limits_\\mathrm{erg}}}\n",
       "\\def\\expo#1{\\exp\\left(#1\\right)}\n",
       "\\def\\d#1{\\mathrm{d}#1}\n",
       "\\def\\wb{\\mathbf{w}} \n",
       "\\def\\sb{\\mathbf{s}} \n",
       "\\def\\xb{\\mathbf{x}}\n",
       "\\def\\Rb{\\mathbf{R}} \n",
       "\\def\\rb{\\mathbf{r}} \n",
       "\\def\\mystar{{*}}\n",
       "\\def\\ub{\\mathbf{u}}\n",
       "\\def\\wbopt{\\mathop{\\mathbf{w}}\\limits^\\triangle}\n",
       "\\def\\deriv#1#2{\\frac{\\mathrm{d}#1}{\\mathrm{d}#2}}\n",
       "\\def\\Ub{\\mathbf{U}}\n",
       "\\def\\db{\\mathbf{d}}\n",
       "\\def\\eb{\\mathbf{e}}\n",
       "\\def\\vb{\\mathbf{v}}\n",
       "\\def\\Ib{\\mathbf{I}}\n",
       "\\def\\Vb{\\mathbf{V}}\n",
       "\\def\\Lambdab{\\mathbf{\\Lambda}}\n",
       "\\def\\Ab{\\mathbf{A}}\n",
       "\\def\\Bb{\\mathbf{B}}\n",
       "\\def\\Cb{\\mathbf{C}}\n",
       "\\def\\Db{\\mathbf{D}}\n",
       "\\def\\Kb{\\mathbf{K}}\n",
       "\\def\\sinc#1{\\mathrm{sinc\\left(#1\\right)}}\n",
       "$$\n"
      ],
      "text/plain": [
       "<IPython.core.display.HTML object>"
      ]
     },
     "metadata": {},
     "output_type": "display_data"
    },
    {
     "name": "stdout",
     "output_type": "stream",
     "text": [
      "... Defining figures captions \n"
     ]
    },
    {
     "data": {
      "text/html": [
       "<style>\n",
       ".caption {\n",
       "font-weight: normal;\n",
       "text-align: left;\n",
       "width:60%; margin-left:10%; border:2px solid; padding-top:5px; padding-bottom:5px;\n",
       "background-color:white;border-color:#efd3d7;color:black;\n",
       "border-radius:8px;-webkit-border-radius:8px;-moz-border-radius:8px;border-radius:8px\n",
       "}\n",
       "</style>"
      ],
      "text/plain": [
       "<IPython.core.display.HTML object>"
      ]
     },
     "metadata": {},
     "output_type": "display_data"
    },
    {
     "name": "stdout",
     "output_type": "stream",
     "text": [
      "... Loading customized Javascript for interactive solutions (show/hide)\n"
     ]
    }
   ],
   "source": [
    "%run nbinit.ipy"
   ]
  },
  {
   "cell_type": "markdown",
   "metadata": {},
   "source": [
    "## Lab -- Basic Filtering"
   ]
  },
  {
   "cell_type": "markdown",
   "metadata": {},
   "source": [
    "\n",
    "Author: [J.-F. Bercher](http://www.esiee.fr/~bercherj) <br>\n",
    "date: november 19, 2013 <br>\n",
    "Update: february 25, 2014<br>\n",
    "Last update: december 08, 2014"
   ]
  },
  {
   "cell_type": "markdown",
   "metadata": {},
   "source": [
    ">The goal of this lab is to study and apply several digital filters to a periodic signal with fundamental frequency $f_{0}$=200 Hz, sampled at frequency $F_{s}$=8000 Hz. This signal is corrupted by a low drift, and that is a common problem with sensor measurements. A first filter will be designed in order to remove this drift. In a second step, we will boost a frequency range withing the components of this signal. Finally, we will consider the design of a simple low-pass filter using the window method, which leads to a linear-phase filter. \n",
    ">\n",
    ">This signal is contained into the vector $x$ stored in the file\n",
    "[sig1.npz](sig1.npz). It is possible to load it via the instruction \n",
    "`f=np.load('sig1.npz')`\n",
    "\n"
   ]
  },
  {
   "cell_type": "code",
   "execution_count": null,
   "metadata": {
    "collapsed": false
   },
   "outputs": [],
   "source": [
    "Fs=8000\n",
    "Ts=1/Fs"
   ]
  },
  {
   "cell_type": "markdown",
   "metadata": {},
   "source": [
    "First load all useful modules:"
   ]
  },
  {
   "cell_type": "code",
   "execution_count": null,
   "metadata": {
    "collapsed": false
   },
   "outputs": [],
   "source": [
    "import numpy as np\n",
    "from numpy import ones, zeros, abs, exp, pi, sin, real, imag\n",
    "import matplotlib.pyplot as plt\n",
    "import scipy.io\n",
    "from scipy.signal import lfilter\n",
    "from numpy.fft import fft, ifft, fftshift\n",
    "\n",
    "%matplotlib inline"
   ]
  },
  {
   "cell_type": "markdown",
   "metadata": {},
   "source": [
    "### Analysis of the data"
   ]
  },
  {
   "cell_type": "code",
   "execution_count": null,
   "metadata": {
    "collapsed": false
   },
   "outputs": [],
   "source": [
    "# utilitary function\n",
    "def freq(N,Fs=1):\n",
    "    \"\"\" Returns a vector of size N  of normalized frequencies\n",
    "    between -Fs/2 and Fs/2 \"\"\"\n",
    "    return np.linspace(-0.5,0.5,N)*Fs"
   ]
  },
  {
   "cell_type": "code",
   "execution_count": null,
   "metadata": {
    "collapsed": false
   },
   "outputs": [],
   "source": [
    "# To load the signal\n",
    "sig1=np.load('sig1.npz')\n",
    "#sig1 is a dictionnary. One can look at the keys by: sig1.keys()\n",
    "m=sig1['m']\n",
    "x=sig1['x']"
   ]
  },
  {
   "cell_type": "code",
   "execution_count": null,
   "metadata": {
    "collapsed": false
   },
   "outputs": [],
   "source": [
    "# Time\n",
    "plt.figure(1)\n",
    "#...\n",
    "plt.title('Signal with slow drift')\n"
   ]
  },
  {
   "cell_type": "code",
   "execution_count": null,
   "metadata": {
    "collapsed": false
   },
   "outputs": [],
   "source": [
    "\n",
    "# Frequency representation\n",
    "plt.figure(2)\n",
    "N=len(x)\n",
    "f=freq(N)\n",
    "#plt.plot(f,...)\n",
    "#plt.title('Fourier transform of the signal (modulus)')\n"
   ]
  },
  {
   "cell_type": "markdown",
   "metadata": {},
   "source": [
    "### Filtering"
   ]
  },
  {
   "cell_type": "markdown",
   "metadata": {},
   "source": [
    ">We wish now to modify the spectral content of $x$ using different digital filters with transfer function \n",
    "$H(z)=B(z)/A(z)$. A standard Python function will be particularly useful: \n",
    ">\n",
    ">- *lfilter* implements the associated difference equation. This function computes the output vector $y$ of the digital filter specified by \n",
    "  * the vector $B$ (containing the coefficients of the numerator  $B(z)$, \n",
    "  * and by the vector $A$ of the denominator's coefficients  $A(z)$, \n",
    "for an input vector $x$:\n",
    "`y=lfilter(B,A,x)`\n",
    ">\n",
    ">- *freqz* computes the frequency response \n",
    "$H$(e$^{j2\\pi f / Fs})$ in modulus and phase, for a filter described by the two vectors $B$ and $A$: \n",
    "`freqz(B,A)`"
   ]
  },
  {
   "cell_type": "markdown",
   "metadata": {},
   "source": [
    "### Design and implementation of the lowpass averaging filter"
   ]
  },
  {
   "cell_type": "markdown",
   "metadata": {},
   "source": [
    ">The signal is corrupted by a slow drift of its mean value. We look for a way to extract and then  remove this drift. We will denote $M(n)$ the drift, and $x_c(n)$ the centered (corrected) signal."
   ]
  },
  {
   "cell_type": "markdown",
   "metadata": {},
   "source": [
    "#### Theoretical part:"
   ]
  },
  {
   "cell_type": "markdown",
   "metadata": {},
   "source": [
    ">What analytical expression enable to compute the signal's mean <u>on a period</u>?\n",
    ">\n",
    ">From that, deduce a filter with impulse response $g(n)$ which computes this mean $M(n)$.\n",
    ">\n",
    ">Find another filter, with impulse response $h(n)$, removes this mean: $x_{c}(n)= x(n) - M(n) = x(n) *  h(n)$. Give the expression of $h(n)$.\n",
    ">\n",
    ">Also give the analytical expressions of  $G(z)$ and $H(z)$. "
   ]
  },
  {
   "cell_type": "markdown",
   "metadata": {},
   "source": [
    "#### Practical part"
   ]
  },
  {
   "cell_type": "markdown",
   "metadata": {},
   "source": [
    ">For the averaging filter and then for the subtracting filter:\n",
    "\n",
    ">- Compute and plt.plot the two impulse responses (you may use the instruction `ones(L)` which returns a vector of  $L$ ones.\n",
    "\n",
    ">- plt.plot the frequency responses of these two filters. You may use  the function `fft` which returns the Fourier transform, and plt.plot the modulus `abs` of the result.\n",
    "\n",
    ">- Filter  $x$ by these two filters. plt.plot the output signals, in the time and frequency domain. Conclude. "
   ]
  },
  {
   "cell_type": "code",
   "execution_count": null,
   "metadata": {
    "collapsed": false
   },
   "outputs": [],
   "source": [
    "# Averaging filter\n",
    "#-----------------------------------------------------------\n",
    "# Filter g which computes the mean on a period of 40 samples\n",
    "#...\n",
    "# ...\n",
    "#plt.plot(t,x,t,m_estimated)\n",
    "#plt.title('Signal and estimated drift')\n",
    "#\n",
    "# We check G(f)\n",
    "#G=...\n",
    "#plt.xlabel('Normalized fequencies')\n",
    "#plt.title('Transfer Function of the Averaging Filter')"
   ]
  },
  {
   "cell_type": "markdown",
   "metadata": {},
   "source": [
    "#### Computation of the subtracting filter"
   ]
  },
  {
   "cell_type": "code",
   "execution_count": null,
   "metadata": {
    "collapsed": false
   },
   "outputs": [],
   "source": [
    "# Mean subtracting filter\n",
    "#-----------------------------------------------------------\n",
    "# The filter h subtract the mean computed over a sliding window of 40 samples\n",
    "# h may be defined as \n",
    "#...\n",
    "#plt.title('Signal with removed drift')\n",
    "#plt.show()\n",
    "\n",
    "#\n",
    "#plt.xlabel('Frequencies')\n",
    "#plt.xlim([-0.5, 0.5])\n",
    "#plt.title('Fourier transform of the signal with removed drift')\n",
    "\n",
    "\n",
    "#We check H(f)\n",
    "#...\n",
    "#plt.xlabel('Normalized fequencies')\n",
    "#plt.title('Transfer Function of the Subtracting Filter')"
   ]
  },
  {
   "cell_type": "markdown",
   "metadata": {},
   "source": [
    "### Second part: Boost of a frequency band"
   ]
  },
  {
   "cell_type": "markdown",
   "metadata": {},
   "source": [
    ">We wish now to boost a range of freqencies aound 1000 Hz on the initial signal. \n",
    ">\n",
    ">## Theoretical Part\n",
    ">\n",
    ">After a (possible) recall of the lecturer on rational filters, compute the poles $p_{1}$ and $p_{2}$ of a filter in order to perform this accentuation. Compute the transfer function $H(z)$ and the associated impulse response  $h(n)$. "
   ]
  },
  {
   "cell_type": "markdown",
   "metadata": {},
   "source": [
    "#### Pratical part"
   ]
  },
  {
   "cell_type": "markdown",
   "metadata": {},
   "source": [
    ">- The vector of denominator's $A(z)$ coefficients will be computed according to `A=poly([p1,p2])`, and you will check that you recover the hand-calculated coefficients.\n",
    ">\n",
    ">- plt.plot the frequency response\n",
    ">\n",
    ">- Compute the impulse response, according to \n",
    "        # computing the IR\n",
    "        d=zeros(300)\n",
    "        d[1]=1\n",
    "        h_accentued=lfilter([1],a,d)\n",
    "(output to a Dirac impulse on 300 point). plot it. \n",
    ">\n",
    ">- Compute and plot the impulse response obtained using the theoretical formula. Compare it to the simulation. \n",
    ">\n",
    ">-  Compute and plot the output of the filter with input $x_{c}$, both in the time and frequency domain. Conclude. "
   ]
  },
  {
   "cell_type": "code",
   "execution_count": null,
   "metadata": {
    "collapsed": false
   },
   "outputs": [],
   "source": [
    "# ...\n",
    "\n",
    "# Compute the IR\n",
    "# ...\n",
    "#plt.plot(h_accentued)\n",
    "#plt.title('Impulse response of the boost filter')\n",
    "\n",
    "# in frequency\n",
    "# ...\n",
    "#plt.xlabel('Normalized frequencies')\n",
    "#plt.xlim([-0.5, 0.5])\n",
    "#plt.title('Transfer Function of the Boost Filter')"
   ]
  },
  {
   "cell_type": "code",
   "execution_count": null,
   "metadata": {
    "collapsed": false
   },
   "outputs": [],
   "source": [
    "# Filtering\n",
    "#sig_accentuated=...\n",
    "# ...\n",
    "#plt.xlabel('Time')\n",
    "#plt.xlim([0, len(x)*Ts])\n",
    "#plt.title('Signal with boosted 1000 Hz')\n",
    "\n",
    "# In the frequency domain\n",
    "# ...\n",
    "#plt.xlabel('Normalized frequencies')\n",
    "#plt.xlim([-Fs/2, Fs/2])\n",
    "#plt.title('Fourier Transform of Boosted Signal')"
   ]
  },
  {
   "cell_type": "markdown",
   "metadata": {},
   "source": [
    "- How can we simultaneously boost around 1000 Hz and remove the drift?\n",
    "Propose a filter that performs the two operations.\n"
   ]
  },
  {
   "cell_type": "code",
   "execution_count": null,
   "metadata": {
    "collapsed": false
   },
   "outputs": [],
   "source": [
    "# both filterings: \n",
    "# ...\n",
    "\n",
    "#plt.xlabel('Time')\n",
    "#plt.xlim([0, len(x)*Ts])\n",
    "#plt.title('Centered Signal with Boosted 1000 Hz')"
   ]
  },
  {
   "cell_type": "markdown",
   "metadata": {},
   "source": [
    "### Lowpass [0- 250 Hz] filtering  by the window method"
   ]
  },
  {
   "cell_type": "markdown",
   "metadata": {},
   "source": [
    ">We want now to only keep the low-frequencies components  (0 \n",
    "à 250 Hz) of $x_{c}$ by filtering with a lowpass \n",
    "FIR filter with $N$=101 coefficients. \n",
    ">\n",
    ">##Theoretical Part\n",
    ">\n",
    ">We consider the ideal lowpass filter whose transfer function $H(f)$ (in modulus) is a rectangular function. Compute the (infinite support) impulse response of the associated digital filter.\n",
    ">\n",
    ">##Practical Part \n",
    ">\n",
    ">a. We want to limit the number of coefficients to $L$ (FIR). We thus have to clip-off the initial impulse response. Compute the vector $h$ with $L$ coefficients corresponding to the initial response, windowed by a rectangular window rect$_{T}(t)$, where \n",
    "$T=L*Ts$.\n",
    ">\n",
    ">b. plt.plot the frequency response.\n",
    ">\n",
    ">c. Comput and plt.plot the output of this filter subject to the input \n",
    "$x_{c}$.\n",
    ">\n",
    ">d. Observe the group delay of the frequency response: `plt.plot(f,grpdelay(B,A,N))`. Comment."
   ]
  },
  {
   "cell_type": "markdown",
   "metadata": {},
   "source": [
    "#### Theoretical Part"
   ]
  },
  {
   "cell_type": "markdown",
   "metadata": {},
   "source": [
    "#### Practical part"
   ]
  },
  {
   "cell_type": "code",
   "execution_count": null,
   "metadata": {
    "collapsed": false
   },
   "outputs": [],
   "source": [
    "B=250\n",
    "Fs=8000\n",
    "B=B/Fs # Band in normalized fequencies\n",
    "n=np.arange(-150,150)\n",
    "\n",
    "def sinc(x):\n",
    "    x=np.array(x)\n",
    "    z=[sin(n)/n if n!=0 else 1 for n in x]\n",
    "    return np.array(z)\n",
    "\n",
    "# ...\n",
    "#plt.xlabel('n')\n",
    "#plt.title('Impulse response')"
   ]
  },
  {
   "cell_type": "code",
   "execution_count": null,
   "metadata": {
    "collapsed": false
   },
   "outputs": [],
   "source": [
    "# ...\n",
    "\n",
    "#plt.title(\"Frequency Response\")\n",
    "#plt.xlim([-1000, 1000])\n",
    "#plt.grid(True)"
   ]
  },
  {
   "cell_type": "markdown",
   "metadata": {},
   "source": [
    "#### Output of the lowpass filter"
   ]
  },
  {
   "cell_type": "markdown",
   "metadata": {},
   "source": [
    "#### Group Delay"
   ]
  },
  {
   "cell_type": "markdown",
   "metadata": {},
   "source": [
    ">The group delay is computed as indicated  [here](https://ccrma.stanford.edu/~jos/fp/Numerical_Computation_Group_Delay.html), cf https://ccrma.stanford.edu/~jos/fp/Numerical_Computation_Group_Delay.html"
   ]
  },
  {
   "cell_type": "code",
   "execution_count": null,
   "metadata": {
    "collapsed": false
   },
   "outputs": [],
   "source": [
    "def grpdelay(h):\n",
    "    N=len(h)\n",
    "    NN=1000\n",
    "    hn=h*np.arange(N)\n",
    "    num=fft(hn.flatten(),NN)\n",
    "    den=fft(h.flatten(),NN) \n",
    "    Mden=max(abs(den))\n",
    "    #den[abs(den)<Mden/100]=1\n",
    "    Td=real(num/den)\n",
    "    Td[abs(den)<Mden/10]=0\n",
    "    return num,den,Td\n",
    "hh=zeros(200)\n",
    "#hh[20:25]=array([1, -2, 70, -2, 1])\n",
    "hh[24]=1\n",
    "#plt.plot(grpdelay(hh))\n",
    "num,den,Td=grpdelay(h_tronq)\n",
    "plt.figure(3)\n",
    "plt.plot(Td)"
   ]
  },
  {
   "cell_type": "markdown",
   "metadata": {},
   "source": [
    "Thus we see that we have a group delay of ..."
   ]
  },
  {
   "cell_type": "markdown",
   "metadata": {},
   "source": [
    "END."
   ]
  }
 ],
 "metadata": {
  "interactive_sols": {
   "cbx_id": 1
  },
  "kernelspec": {
   "display_name": "Python 3",
   "language": "python",
   "name": "python3"
  },
  "language_info": {
   "codemirror_mode": {
    "name": "ipython",
    "version": 3
   },
   "file_extension": ".py",
   "mimetype": "text/x-python",
   "name": "python",
   "nbconvert_exporter": "python",
   "pygments_lexer": "ipython3",
   "version": "3.4.3+"
  },
  "latex_envs": {
   "bibliofile": "biblio.bib",
   "cite_by": "apalike",
   "current_citInitial": 1,
   "eqLabelWithNumbers": true,
   "eqNumInitial": 0
  }
 },
 "nbformat": 4,
 "nbformat_minor": 0
}
