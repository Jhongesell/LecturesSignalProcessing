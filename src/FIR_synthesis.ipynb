{
 "cells": [
  {
   "cell_type": "markdown",
   "metadata": {},
   "source": [
    "# Table of Contents\n",
    "* &nbsp;\n",
    "\t* [Synthesis of FIR filters](#Synthesis-of-FIR-filters)\n",
    "\t\t* [Synthesis by sampling in the frequency domain](#Synthesis-by-sampling-in-the-frequency-domain)\n",
    "\t\t* [Synthesis by the window method](#Synthesis-by-the-window-method)\n"
   ]
  },
  {
   "cell_type": "code",
   "execution_count": 1,
   "metadata": {
    "collapsed": false
   },
   "outputs": [
    {
     "name": "stdout",
     "output_type": "stream",
     "text": [
      "... Configuring matplotlib formats\n",
      "... Configuring matplotlib with inline figures\n",
      "... Importing numpy as np, scipy as sp, pyplot as plt, scipy.stats as stats\n",
      "   ... scipy.signal as sig\n",
      "... Importing widgets, display, HTML, Image, Javascript\n",
      "... Some LaTeX definitions\n"
     ]
    },
    {
     "data": {
      "text/html": [
       "\n",
       "$$\\require{color}\n",
       "\\require{cancel}\n",
       "\\def\\tf#1{{\\mathrm{FT}\\left\\{ #1 \\right\\}}}\n",
       "\\def\\flecheTF{\\rightleftharpoons }\n",
       "\\def\\TFI#1#2#3{{\\displaystyle{\\int_{-\\infty}^{+\\infty} #1 ~e^{j2\\pi #2 #3} \n",
       "~\\dr{#2}}}}\n",
       "\\def\\TF#1#2#3{{\\displaystyle{\\int_{-\\infty}^{+\\infty} #1 ~e^{-j2\\pi #3 #2} \n",
       "~\\dr{#2}}}}\n",
       "\\def\\sha{ш}\n",
       "\\def\\dr#1{\\mathrm{d}#1}\n",
       "\\def\\egalpardef{\\mathop{=}\\limits^\\triangle}\n",
       "\\def\\sinc#1{{\\mathrm{sinc}\\left( #1 \\right)}}\n",
       "\\def\\rect{\\mathrm{rect}}\n",
       "\\definecolor{lightred}{rgb}{1,0.1,0}\n",
       "\\def\\myblueeqbox#1{{\\fcolorbox{blue}{lightblue}{$\textcolor{blue}{ #1}$}}}\n",
       "\\def\\myeqbox#1#2{{\\fcolorbox{#1}{light#1}{$\textcolor{#1}{ #2}$}}}\n",
       "\\def\\eqbox#1#2#3#4{{\\fcolorbox{#1}{#2}{$\\textcolor{#3}{ #4}$}}}\n",
       "% border|background|text\n",
       "\\def\\eqboxa#1{{\\boxed{#1}}}\n",
       "\\def\\eqboxb#1{{\\eqbox{green}{white}{green}{#1}}}\n",
       "\\def\\eqboxc#1{{\\eqbox{blue}{white}{blue}{#1}}}\n",
       "\\def\\eqboxd#1{{\\eqbox{blue}{lightblue}{blue}{#1}}}\n",
       "\\def\\E#1{\\mathbb{E}\\left[#1\\right]}\n",
       "\\def\\ta#1{\\left<#1\\right>}\n",
       "\\def\\egalparerg{{\\mathop{=}\\limits_\\mathrm{erg}}}\n",
       "\\def\\expo#1{\\exp\\left(#1\\right)}\n",
       "\\def\\d#1{\\mathrm{d}#1}\n",
       "\\def\\wb{\\mathbf{w}} \n",
       "\\def\\sb{\\mathbf{s}} \n",
       "\\def\\xb{\\mathbf{x}}\n",
       "\\def\\Rb{\\mathbf{R}} \n",
       "\\def\\rb{\\mathbf{r}} \n",
       "\\def\\mystar{{*}}\n",
       "\\def\\ub{\\mathbf{u}}\n",
       "\\def\\wbopt{\\mathop{\\mathbf{w}}\\limits^\\triangle}\n",
       "\\def\\deriv#1#2{\\frac{\\mathrm{d}#1}{\\mathrm{d}#2}}\n",
       "\\def\\Ub{\\mathbf{U}}\n",
       "\\def\\db{\\mathbf{d}}\n",
       "\\def\\eb{\\mathbf{e}}\n",
       "\\def\\vb{\\mathbf{v}}\n",
       "\\def\\Ib{\\mathbf{I}}\n",
       "\\def\\Vb{\\mathbf{V}}\n",
       "\\def\\Lambdab{\\mathbf{\\Lambda}}\n",
       "\\def\\Ab{\\mathbf{A}}\n",
       "\\def\\Bb{\\mathbf{B}}\n",
       "\\def\\Cb{\\mathbf{C}}\n",
       "\\def\\Db{\\mathbf{D}}\n",
       "\\def\\Kb{\\mathbf{K}}\n",
       "\\def\\sinc#1{\\mathrm{sinc\\left(#1\\right)}}\n",
       "$$\n"
      ],
      "text/plain": [
       "<IPython.core.display.HTML object>"
      ]
     },
     "metadata": {},
     "output_type": "display_data"
    },
    {
     "name": "stdout",
     "output_type": "stream",
     "text": [
      "... Defining figures captions \n"
     ]
    },
    {
     "data": {
      "text/html": [
       "<style>\n",
       ".caption {\n",
       "font-weight: normal;\n",
       "text-align: left;\n",
       "width:60%; margin-left:10%; border:2px solid; padding-top:5px; padding-bottom:5px;\n",
       "background-color:white;border-color:#efd3d7;color:black;\n",
       "border-radius:8px;-webkit-border-radius:8px;-moz-border-radius:8px;border-radius:8px\n",
       "}\n",
       "</style>"
      ],
      "text/plain": [
       "<IPython.core.display.HTML object>"
      ]
     },
     "metadata": {},
     "output_type": "display_data"
    },
    {
     "name": "stdout",
     "output_type": "stream",
     "text": [
      "... Loading customized Javascript for interactive solutions (show/hide)\n",
      "... Redefining interactive from ipywidgets\n"
     ]
    }
   ],
   "source": [
    "%run nbinit.ipy"
   ]
  },
  {
   "cell_type": "code",
   "execution_count": null,
   "metadata": {
    "collapsed": false
   },
   "outputs": [],
   "source": [
    "import mpld3\n",
    "mpld3.enable_notebook()\n",
    "import seaborn as sns"
   ]
  },
  {
   "cell_type": "code",
   "execution_count": null,
   "metadata": {
    "collapsed": false
   },
   "outputs": [],
   "source": [
    "import warnings\n",
    "warnings.filterwarnings(\"ignore\", category=DeprecationWarning) "
   ]
  },
  {
   "cell_type": "markdown",
   "metadata": {},
   "source": [
    "## Synthesis of FIR filters"
   ]
  },
  {
   "cell_type": "markdown",
   "metadata": {},
   "source": [
    "### Synthesis by sampling in the frequency domain"
   ]
  },
  {
   "cell_type": "markdown",
   "metadata": {},
   "source": [
    "The idea is compute the impulse response as the inverse Fourier transform of the transfer function. Since we look for an impulse response of finite length, the idea is to use the inverse Discrete Fourier Transform (DFT),\n",
    "which links $L$ samples in the frequency domain to $L$ samples in the time domain. Hence, what we need to do is simply to sample the frequency response on the required number of samples, and then to compute the associated impulse response by inverse DFT. This is really simple. "
   ]
  },
  {
   "cell_type": "code",
   "execution_count": null,
   "metadata": {
    "collapsed": false
   },
   "outputs": [],
   "source": [
    "L=21\n",
    "#ideal filter\n",
    "fc=0.1\n",
    "N=20*L; M=int(np.round(N*fc))\n",
    "r=np.zeros(N); r[0:M]=1; r[-1:-M:-1]=1\n",
    "plt.plot(np.arange(0,N)/N, (r))\n",
    "#sampling the ideal filter\n",
    "# we want a total of L samples; then step=N//L (integer division)\n",
    "step=N//L\n",
    "rs=r[::step]\n",
    "plt.plot(np.arange(0,N,step)/N, (rs), 'og')\n",
    "_=plt.ylim([0, 1.1])\n",
    "_=plt.xlim([0, 1])\n"
   ]
  },
  {
   "cell_type": "markdown",
   "metadata": {},
   "source": [
    "The associated impulse response is given by the inverse DFT. It is represented on figure \\ref{fig:h_sampfreq}."
   ]
  },
  {
   "cell_type": "code",
   "execution_count": null,
   "metadata": {
    "collapsed": false
   },
   "outputs": [],
   "source": [
    "%precision 3\n",
    "# The impulse response:\n",
    "h=real(ifft(rs))\n",
    "print(\"Impulse response h:\",h)\n",
    "plt.plot(h)\n",
    "plt.title(\"Impulse response\")\n",
    "figcaption(\"Impulse response obtained by frequency sampling\",label=\"fig:h_sampfreq\")"
   ]
  },
  {
   "cell_type": "markdown",
   "metadata": {},
   "source": [
    "This impulse response is periodic, because of the implicit periodicity of sequences after use of a DFT operation. The \"true\" response is symmetric around $n=0$. We can display it using a `fftshift`. "
   ]
  },
  {
   "cell_type": "code",
   "execution_count": null,
   "metadata": {
    "collapsed": false
   },
   "outputs": [],
   "source": [
    "delay=(L-1)/2 if L %2 else L/2  # delay of L/2 is L is even, (L-1)/2 otherwise\n",
    "_=plt.plot(np.arange(0,L)-delay,fftshift(h))"
   ]
  },
  {
   "cell_type": "markdown",
   "metadata": {},
   "source": [
    "It is very instructive to look at the frequency response which is effectively realized. In other words we must look at what happens between the points. For that, we approximate the discrete time Fourier transform by zero-padding. At this point, it is really important to shift the impulse response because the zero-padding corresponds to an implicit truncation on $L$ points of the periodic sequence, and we want to keep the  true impulse response. This operation introduces a delay of $L/2$ is $L$ is even and $(L-1)/2$ otherwise.  "
   ]
  },
  {
   "cell_type": "code",
   "execution_count": null,
   "metadata": {
    "collapsed": false
   },
   "outputs": [],
   "source": [
    "NN=1000\n",
    "H=fft(fftshift(h),NN)   ### <-- Here it is really important to introduce a fftshift\n",
    "                        ### otherwise, the sequence has large transitions \n",
    "                        ### on the boundaries"
   ]
  },
  {
   "cell_type": "markdown",
   "metadata": {},
   "source": [
    "Then we display this frequency response and compare it to the ideal filter and to the frequency samples. "
   ]
  },
  {
   "cell_type": "code",
   "execution_count": null,
   "metadata": {
    "collapsed": false
   },
   "outputs": [],
   "source": [
    "#ideal filter\n",
    "plt.plot(np.arange(0,N)/N, (r))\n",
    "#sampling the ideal filter\n",
    "plt.plot(np.arange(0,N,step)/N, (rs), 'og')\n",
    "_=plt.ylim([0, 1.1])\n",
    "_=plt.xlim([0, 1])\n",
    "#realized filter\n",
    "_=plt.plot(np.arange(0,NN)/NN, np.abs(H))\n",
    "_=plt.ylim([0, 1.1*np.max(np.abs(H))])\n"
   ]
  },
  {
   "cell_type": "markdown",
   "metadata": {},
   "source": [
    "Once we have done all this, we can group all the code into a function and experiment with the parameters, using the  interactive facilities of IPython notebook widgets. "
   ]
  },
  {
   "cell_type": "code",
   "execution_count": null,
   "metadata": {
    "collapsed": false
   },
   "outputs": [],
   "source": [
    "mpld3.disable_notebook()\n",
    "def LP_synth_fsampling(fc=0.2, L=20,plot_impresp=False):\n",
    "\n",
    "    #ideal filter\n",
    "    N=20*L; M=int(np.round(N*fc))\n",
    "    r=np.zeros(N); r[0:M]=1; r[-1:-M:-1]=1\n",
    "    #sampling the ideal filter\n",
    "    # we want a total of L samples; then step=N//L (integer division)\n",
    "    step=N//L\n",
    "    rs=r[::step]\n",
    "    clear_output(wait=True)\n",
    "    \n",
    "    # The impulse response:\n",
    "    h=real(ifft(rs))\n",
    "    if plot_impresp:\n",
    "        plt.figure()\n",
    "        %precision 3\n",
    "        plt.plot(h)\n",
    "        plt.title(\"Impulse response\")\n",
    "        \n",
    "    plt.figure()\n",
    "    NN=1000\n",
    "    H=fft(fftshift(h),NN)\n",
    "\n",
    "    #ideal filter\n",
    "    plt.plot(np.arange(0,N)/N, (r))\n",
    "    #sampling the ideal filter\n",
    "    plt.plot(np.arange(0,N,step)/N, (rs), 'og')\n",
    "    plt.xlabel(\"Frequency\")\n",
    "    _=plt.xlim([0, 1])\n",
    "    #realized filter\n",
    "    _=plt.plot(np.arange(0,NN)/NN, np.abs(H))\n",
    "    _=plt.ylim([0, 1.1*np.max(np.abs(H))])\n",
    "    \n",
    "_=interact(LP_synth_fsampling, fc=widgets.FloatSlider(min=0, max=1, step=0.01,value=0.2),\n",
    "         L=widgets.IntSlider(min=1,max=200,value=10), plot_impresp=False)\n",
    "         \n"
   ]
  },
  {
   "cell_type": "markdown",
   "metadata": {},
   "source": [
    "This is a variation on the interactive widgets example, where we do not use the interact function but rather directly the Jupyter widgets. "
   ]
  },
  {
   "cell_type": "code",
   "execution_count": null,
   "metadata": {
    "collapsed": false
   },
   "outputs": [],
   "source": [
    "def wLP_synth_fsampling():\n",
    "    fc=fcw.value;\n",
    "    L=Lw.value;\n",
    "    plot_impresp=imprespw.value;\n",
    "    LP_synth_fsampling(fc, L,plot_impresp)\n",
    "\n",
    "\n",
    "fcw=widgets.FloatSlider(min=0, max=1, step=0.01,value=0.2, description=\"fc\")\n",
    "Lw=widgets.IntSlider(min=1,max=200,value=10,description=\"L\") \n",
    "imprespw=widgets.Checkbox(value=False,description=\"Show impulse response\")\n",
    "fcw.on_trait_change(wLP_synth_fsampling,name=\"value\")\n",
    "Lw.on_trait_change(wLP_synth_fsampling,name=\"value\")\n",
    "imprespw.on_trait_change(wLP_synth_fsampling,name=\"value\")\n",
    "\n",
    "c=widgets.HBox(children=[fcw,Lw])\n",
    "#d=widgets.VBox(children=[c,imprespw])\n",
    "d=widgets.VBox(children=[fcw,Lw,imprespw])\n",
    "d.align=\"center\"\n",
    "d.box_style=\"info\"\n",
    "d.width=\"70%\"\n",
    "d.border_radius=20\n",
    "display(d)"
   ]
  },
  {
   "cell_type": "markdown",
   "metadata": {},
   "source": [
    "### Synthesis by the window method"
   ]
  },
  {
   "cell_type": "markdown",
   "metadata": {},
   "source": [
    "The window method for filter design is an easy and robust method. It directly relies on the use of the convolution theorem and its performance are easily understood in terms of the same convolution theorem. \n",
    "Since what we need is an impulse response associated with an \"ideal\" transfer function, the first step consists in computing the discrete-time inverse Fourier transform of the ideal Fourier transform:\n",
    "$$\n",
    "H(f) \\rightarrow  h(n).\n",
    "$$\n",
    "\n",
    "- Of course, this step would require by hand calculations, or a symbolic computation system. This leads to many exercises for students in traditional signal processing. \n",
    "- In practice, one often begins with a precise numerical representation of the ideal filter and obtain the impulse response by IDFT. In this sense, the method is linked with synthesis by frequency sampling seen above. "
   ]
  },
  {
   "cell_type": "markdown",
   "metadata": {},
   "source": [
    "If we begin with a transfer function which is only specified in magnitude, and if we choose to consider it as purely real, then the impulse response is even, thus non-causal. Furthermore, when the transfer function is band-limited, then its inverse transform has infinite duration. This is a consequence of the uncertainty principle for the Fourier transform. Hence, we face two problems: \n",
    " 1. the impulse response is non-causal,\n",
    " 2. it has infinite support."
   ]
  },
  {
   "cell_type": "markdown",
   "metadata": {},
   "source": [
    "$\\def\\sinc#1{\\mathrm{sinc\\left(#1\\right)}}$\n",
    "A simple illustration is the following. If we consider an ideal low-pass filter, with cut-off frequency $f_c$, then its inverse Fourier transform is a cardinal sine\n",
    "$$\\displaystyle{\n",
    "h(n)=2f_c \\sinc{2\\pi f_c n}.\n",
    "}\n",
    "$$"
   ]
  },
  {
   "cell_type": "code",
   "execution_count": null,
   "metadata": {
    "collapsed": false
   },
   "outputs": [],
   "source": [
    "fc=0.1; N=60; n=np.arange(-N,N, 0.1)\n",
    "plt.plot(n, 2*fc*np.sinc(2*fc*n))\n",
    "_=plt.title(\"Impulse response for an ideal low-pass with $f_c={}$\".format(fc))"
   ]
  },
  {
   "cell_type": "markdown",
   "metadata": {},
   "source": [
    "In order to get a finite number of points for our filter, we have no other solution but  truncate the impulse response. Beware that one (you) need to keep both the positive and negative indexes. To get a causal system, it then suffices to shift the impulse response by the length of the non causal part. In the case of our ideal low-pass filter, this gives: "
   ]
  },
  {
   "cell_type": "code",
   "execution_count": null,
   "metadata": {
    "collapsed": false
   },
   "outputs": [],
   "source": [
    "# L: number of points of the impulse response (odd)\n",
    "L=21\n",
    "M=(L-1)//2\n",
    "fc=0.2; N=40; step=0.1; invstep=int(1/step); n=np.arange(-N,N,step)\n",
    "h=2*fc*np.sinc(2*fc*n)\n",
    "plt.plot(n, h)\n",
    "w=np.zeros(np.shape(n)); w[where(abs(n*invstep)<M*invstep)]=1\n",
    "plt.plot(n, 2*fc*w,'--r')\n",
    "ir_w=np.zeros(np.shape(n)); ir_w[where(abs(n*invstep)<M*invstep)]=h[where(abs(n*invstep)<M*invstep)]\n",
    "#plt.figure(); \n",
    "_=plt.plot(n,ir_w)\n"
   ]
  },
  {
   "cell_type": "markdown",
   "metadata": {},
   "source": [
    "Then the realized transfer function can be computed and compared with the ideal filter. "
   ]
  },
  {
   "cell_type": "code",
   "execution_count": null,
   "metadata": {
    "collapsed": false
   },
   "outputs": [],
   "source": [
    "H_w=fft(ir_w[::invstep], 1000)\n",
    "f=np.linspace(0,1,1000)\n",
    "plt.plot(f, np.abs(H_w),label=\"Realized filter\")\n",
    "plt.plot([0, fc, fc, 1-fc, 1-fc, 1 ],[1, 1, 0, 0, 1, 1 ],label=\"Ideal filter\")\n",
    "_=plt.legend(loc='best')"
   ]
  },
  {
   "cell_type": "markdown",
   "metadata": {},
   "source": [
    "We observe that the frequency response presents ripples in both the band-pass and the stop-band. Besides, the transition bandwidth, from the band-pass to the stop-band is large. Again, we can put all the previous commands in the form of a function, and experiment interactively with the parameters. \n"
   ]
  },
  {
   "cell_type": "code",
   "execution_count": null,
   "metadata": {
    "collapsed": false
   },
   "outputs": [],
   "source": [
    "def LP_synth_window(fc=0.2, L=21,plot_impresp=False):\n",
    "    \n",
    "    # L: number of points of the impulse response (odd)\n",
    "    M=(L-1)//2\n",
    "    step=0.1; invstep=int(1/step); n=np.arange(-M-5,M+5,step)\n",
    "    h=2*fc*np.sinc(2*fc*n)\n",
    "    w=np.zeros(np.shape(n)); w[where(abs(n*invstep)<M*invstep)]=1\n",
    "    ir_w=np.zeros(np.shape(n)); ir_w[where(abs(n*invstep)<M*invstep)]=h[where(abs(n*invstep)<M*invstep)]\n",
    "    #plt.figure(); \n",
    "    if  plot_impresp:\n",
    "        plt.figure(); \n",
    "        plt.plot(n, w,'--r')\n",
    "        _=plt.plot(n,ir_w)\n",
    "        plt.figure()\n",
    "\n",
    "    H_w=fft(ir_w[::invstep], 1000)\n",
    "    f=np.linspace(0,1,1000)\n",
    "    plt.plot(f, np.abs(H_w),label=\"Realized filter\")\n",
    "    plt.plot([0, fc, fc, 1-fc, 1-fc, 1 ],[1, 1, 0, 0, 1, 1 ],label=\"Ideal filter\")\n",
    "    plt.legend(loc='best')\n",
    "    #return ir_w\n",
    "   \n",
    "_=interact(LP_synth_window, fc=widgets.FloatSlider(min=0, max=0.49, step=0.01,value=0.2),\n",
    "         L=widgets.IntSlider(min=1,max=200,value=10), plot_impresp=False)\n",
    "             "
   ]
  },
  {
   "cell_type": "markdown",
   "metadata": {},
   "source": [
    "We observe that the transition bandwidth varies with the number of points kept in the imulse response: and that the larger the number of points, the thinner the transition. We also observe that though the ripples oscillations have higher frequency, their amplitude do no change with the number of points.  \n",
    "\n",
    "There is a simple explanation for these observations, as well as directions for improvement. Instead of the rectangular truncating as above, it is possible to consider more general weight functions, say $w(n)$ of length $N$. The true impulse response is thus *apodized* (literal translation: \"removing the foot\") by multiplication with the window function:\n",
    "$$\n",
    "h_w(n)=h(n)w(n).\n",
    "$$\n",
    "By the Plancherel theorem, we immediately get that\n",
    "$$\n",
    "H_w(h) = [H*W](f).\n",
    "$$\n",
    "The resulting filter is thus the convolution of the ideal response with the Fourier transform of the window function. \n",
    "\n",
    "In the example above, the window function is rectangular. As is now well know, its Fourier transform is a discrete cardinal sine (a ratio of two sine)\n",
    "$$\n",
    "W(f) = \\frac{\\sin\\left(\\pi f (2L+1)\\right)}{(2L+1) \\sin\\left(\\pi f \\right)}.\n",
    "$$Hence, the realized filter results from the convolution between the reactangle representing the ideal low-pass with a cardinal sine. This yields that the transition bandwidth is essentially given by the integral of the main lobe of the cardinal sine, and that the amplitude of the ripples are due to the integrals of the sidelobes. In order to improve the synthetiszed filter, we can adjust the number of taps of the impulse response and/or choose another weight window. "
   ]
  },
  {
   "cell_type": "markdown",
   "metadata": {},
   "source": [
    "Many window functions have been proposed and are used for the design of FIR filters. These windows are also very useful in spectrum analysis where the same kind of problems -- width of a main lobe, ripples due to the side-lobes, are encountered. A series of windows is presented in the following table. Many other windows exist, and entire books are devoted to their characterization. "
   ]
  },
  {
   "cell_type": "markdown",
   "metadata": {},
   "source": [
    "\\begin{equation*}\n",
    "\\begin{array}{||l|l|l|l|l||}\n",
    "\\hline\\hline \n",
    " \\text{Window } & \\mathbf{w(n)} &    \\mathbf{\\Delta f}       &   \\mathbf{\\text{PSLL}}    \\\\ \n",
    "\\hline\\hline \n",
    "  \\text{Rectangular (boxcar)} & 1  &  1   &  -13.252   \\\\\n",
    "\\hline\n",
    "  \\text{Triangular (Bartlett)} & w(n)=1-(n-(N-1)/2)/N       &  2   &  -26.448\n",
    "\\\\\n",
    "\\hline\n",
    "  \\text{Hann} (\\cos^2) &   0.5 - 0.5 \\cos\\left(\\frac{2\\pi{n}}{M-1}\\right) &  2   &   \n",
    "-31.67 \\\\ \n",
    "\\hline\n",
    "  \\text{Nuttal} & --  &  2.98   &  -68.71\n",
    " \\\\ \n",
    "\\hline\n",
    "  \\text{Hamming} & 0.54 - 0.46 \\cos\\left(\\frac{2\\pi{n}}{M-1}\\right)  &  3  &  -42.81\n",
    " \\\\ \n",
    "\\hline\n",
    "  \\text{Bohman} & --  &   3   & -45.99 \\\\ \n",
    "\\hline\n",
    "  \\text{Blackman} &  0.42 - 0.5 \\cos\\left(\\frac{2\\pi n}{M-1}\\right) + 0.08 \\cos\\left(\\frac{4\\pi n}{M-1}\\right)        \n",
    "  & 3  &  -58.11 \\\\\n",
    "\\hline\n",
    "\\text{Flat-top} & --       &  4.96   &  -86.52 \\\\ \n",
    "\\hline\n",
    "\\text{Blackman-Harris} & --      &  4   &  -92 \\\\\n",
    "\\hline\\hline \n",
    "\\end{array}\n",
    "\\end{equation*}\n",
    "\n",
    "This table present the characteristics of some popular windows. $\\Delta f$ represents the width of the main-lobe, normalized to $1/N$. PSLL is the abbreviation of Peal to Side-lobe leakage, and corresponds to the maximum leakage between the amplitude of the main-lobe and the amplitudes of the side-lobes. In the table, we have not reported too complicated  expressions, defined on intervals or so.  For example, the 4 terms Blackman-Harris window, which performs very well, has the expression\n",
    "$$\n",
    "w(n) = \\sum_{k=0}^3 a_k \\cos\\left(\\frac{2\\pi k n}{M-1}\\right) \n",
    "$$\n",
    "with $[a_0, a_1, a_2, a_3] = [0.35875, 0.48829, 0.14128, 0.01168]$. The Kaiser-Bessel window function also performs very well. Its expression is \n",
    "$$w(n) = I_0\\left( \\beta \\sqrt{1-\\frac{4n^2}{(M-1)^2}} \\right)/I_0(\\beta),$$ where $I_0$ is the modified zeroth-order Bessel function. The shape parameter $\\beta$ determines a trade-off between main-lobe width and side lobe level. As $\\beta$ gets large, the window narrows.\n",
    "\n",
    "See the detailed [table](http://books.google.fr/books?id=TYFFAQAAQBAJ&printsec=frontcover&hl=fr#v=snippet&q=162) in the book ``Window Functions and Their Applications in Signal Processing'' by Prabhu (2013)."
   ]
  },
  {
   "cell_type": "raw",
   "metadata": {},
   "source": [
    "%@book{prabhu2013window,\n",
    "%  title={Window Functions and Their Applications in Signal Processing},\n",
    "%  author={Prabhu, K.M.M.},\n",
    "%  isbn={9781466515833},\n",
    "%  lccn={2013031807},\n",
    "%  url={https://books.google.fr/books?id=TYFFAQAAQBAJ},\n",
    "%  year={2013},\n",
    "%  publisher={Taylor \\& Francis}\n",
    "%}"
   ]
  },
  {
   "cell_type": "markdown",
   "metadata": {},
   "source": [
    "We have designed a displaying and comparison tool for the window functions. The listing is provided in the appendix, but for now, readers of the IPython notebook version can experiment a bit by issuing the command `%run windows_disp.ipy`. "
   ]
  },
  {
   "cell_type": "code",
   "execution_count": null,
   "metadata": {
    "collapsed": false
   },
   "outputs": [],
   "source": [
    "\"\"\"This is from scipy.signal.get_window() help\n",
    "List of windows:\n",
    "boxcar, triang, blackman, hamming, hann, bartlett, flattop,\n",
    "        parzen, bohman, blackmanharris, nuttall, barthann,\n",
    "        kaiser (needs beta), gaussian (needs std),\n",
    "        general_gaussian (needs power, width),\n",
    "        slepian (needs width), chebwin (needs attenuation)\"\"\"\n",
    "windows=['boxcar', 'triang', 'blackman', 'hamming', 'hann', 'bartlett', 'flattop',\n",
    "        'parzen', 'bohman', 'blackmanharris', 'nuttall', 'barthann']\n",
    "windows_1parameter=['kaiser', 'gaussian', 'slepian', 'chebwin']\n",
    "windows_2parameter=['general_gaussian']"
   ]
  },
  {
   "cell_type": "code",
   "execution_count": null,
   "metadata": {
    "collapsed": false
   },
   "outputs": [],
   "source": [
    "%run windows_disp_jup.ipy"
   ]
  },
  {
   "cell_type": "markdown",
   "metadata": {},
   "source": [
    "The main observation is that with $N$ fixed, we have a trade-off to find between the width of the main lobe, thus of the transition width, and the amplitude of the side-lobes. The choice is usually done on a case by case basis, which may also include other parameters. To sum it all up, the window method consists in:\n",
    "\n",
    "- calculate (or approximate) the impulse response associated with an ideal impulse response,\n",
    "- choose a number of samples, and a window function, and apodize the impulse response. The choice of the number of points an window function can also be motivated by maximum level of ripples in the band pass and/or in the stop band.\n",
    "- shift the resulting impulse response by half the number of samples in order to obtain a causal filter. \n"
   ]
  },
  {
   "cell_type": "markdown",
   "metadata": {},
   "source": [
    "It is quite simple to adapt the previous script with the rectangular window to accept more general windows. This is done by adding a parameter `window`.  "
   ]
  },
  {
   "cell_type": "code",
   "execution_count": null,
   "metadata": {
    "collapsed": false
   },
   "outputs": [],
   "source": [
    "def LP_synth_genwindow(fc=0.2, L=21,window='boxcar',plot_impresp=False, plot_transferfunc=True):\n",
    "    \n",
    "    # L: number of points of the impulse response (odd)\n",
    "    \n",
    "    M=(L-1)//2\n",
    "    step=1; invstep=int(1/step); n=np.arange(-M,M+1,step)\n",
    "    h=2*fc*np.sinc(2*fc*n)\n",
    "    w=sig.get_window(window,2*M+1)\n",
    "    ir_w=w*h\n",
    "    #plt.figure(); \n",
    "    if  plot_impresp:\n",
    "        plt.figure(); \n",
    "        plt.plot(n, w,'--r', label=\"Window function\")\n",
    "        _=plt.plot(n,h,label=\"Initial impulse response\")\n",
    "        _=plt.plot(n,ir_w, label=\"Windowed impulse response\")\n",
    "        plt.legend()\n",
    "\n",
    "\n",
    "    H_w=fft(ir_w[::invstep], 1000)\n",
    "    if plot_transferfunc:\n",
    "        plt.figure()\n",
    "        f=np.linspace(0,1,1000)\n",
    "        plt.plot(f, np.abs(H_w),label=\"Realized filter\")\n",
    "        plt.plot([0, fc, fc, 1-fc, 1-fc, 1 ],[1, 1, 0, 0, 1, 1 ],label=\"Ideal filter\")\n",
    "        plt.legend(loc='best')\n",
    "    \n",
    "    return ir_w\n",
    "\n",
    "\n",
    "    \n",
    "w=interactive(LP_synth_genwindow, fc=widgets.FloatSlider(min=0, max=0.49, step=0.01,value=0.2),\n",
    "         L=widgets.IntSlider(min=1,max=200,value=10), \n",
    "         window=widgets.Dropdown(options=windows),        \n",
    "         plot_impresp=False,\n",
    "         plot_transferfunc=True)\n",
    "w             "
   ]
  },
  {
   "cell_type": "markdown",
   "metadata": {
    "solution2": "hidden"
   },
   "source": [
    "\\begin{exercise}\n",
    "The function `LP_synth_genwindow` returns the impulse response of the synthetized filter. Create a signal $x_\\text{test}= \\sin(2\\pi f_0 n)+\\sin(2\\pi f_1 n)+\\sin(2\\pi f_2 n)$, with $f_0=0.14$, $f_1=0.24$, $f_2=0.34$ and filter this signal with the synthetized filter, for $f_c=0.2$, $L=50$, and for a `hamming` window. Comment on the results.\n",
    "\\end{exercise}"
   ]
  },
  {
   "cell_type": "code",
   "execution_count": null,
   "metadata": {
    "collapsed": false,
    "hidden": true,
    "solution2": "hidden"
   },
   "outputs": [],
   "source": [
    "# define constants\n",
    "n=np.arange(0,100)\n",
    "f0,f1,f2=0.14, 0.24,0.34\n",
    "# the test signal\n",
    "xtest=sin(2*pi*f0*n)+sin(2*pi*f1*n)+cos(2*pi*f2*n)\n",
    "plt.plot(xtest)\n",
    "plt.title(\"Initial signal\")\n",
    "# compute the filter\n",
    "h1=LP_synth_genwindow(fc=0.2, L=50,window='hamming',plot_impresp=False, plot_transferfunc=False)\n",
    "# then filter the signal\n",
    "y1=sig.lfilter(h1,[1],xtest)\n",
    "#and display it\n",
    "plt.figure()\n",
    "plt.plot(y1)\n",
    "plt.title(\"Filtered signal\")\n"
   ]
  },
  {
   "cell_type": "markdown",
   "metadata": {},
   "source": [
    "The whole synthesis workflow for the window method is available in two specialized functions of the scipy library. Nowadays, it is really useless to redevelop existing programs. It is much more interesting to gain insights on what is really done and how things work. This is actually the goal of this lecture. The two functions avalaible in `scipy.signal` are `firwin` and `firwin2`. "
   ]
  },
  {
   "cell_type": "markdown",
   "metadata": {
    "solution2": "hidden"
   },
   "source": [
    "\\begin{exercise}\n",
    "Use one of these functions to design a high-pass filter with cut-off frequency at $f_c=0.3$. Filter the preceding signal $x_\\text{test}$ and display the results.\n",
    "\\end{exercise}"
   ]
  },
  {
   "cell_type": "code",
   "execution_count": null,
   "metadata": {
    "collapsed": false,
    "hidden": true,
    "solution2": "hidden"
   },
   "outputs": [],
   "source": [
    "# define constants\n",
    "n=np.arange(0,200)\n",
    "f0,f1,f2=0.14, 0.2,0.34\n",
    "# the test signal\n",
    "xtest=sin(2*pi*f0*n)+sin(2*pi*f1*n)+sin(2*pi*f2*n)\n",
    "plt.plot(xtest)\n",
    "plt.title(\"Initial signal\")\n",
    "figcaption(\"Initial signal\")\n",
    "# compute the filter\n",
    "h1=sig.firwin(101, 0.3, width=None, window='hamming', pass_zero=False, scale=True, nyq=0.5)\n",
    "plt.figure()\n",
    "plt.plot(np.linspace(0,1,1000),abs(fft(h1,1000)))\n",
    "plt.xlabel(\"Frequency\")\n",
    "plt.title(\"Transfer function\")\n",
    "figcaption(\"Transfer function\")\n",
    "# then filter the signal\n",
    "y1=sig.lfilter(h1,[1],xtest)\n",
    "#and display it\n",
    "plt.figure()\n",
    "plt.plot(y1)\n",
    "plt.title(\"Filtered signal\")\n",
    "figcaption(\"Filtered signal\")\n"
   ]
  },
  {
   "cell_type": "markdown",
   "metadata": {},
   "source": [
    "\n",
    "----\n",
    "<div align=right> [Index](toc.ipynb) - [Back](ZerosPoles.ipynb) - [Next](Bilinear_synthesis.ipynb)</div>"
   ]
  }
 ],
 "metadata": {
  "interactive_sols": {
   "cbx_id": 3
  },
  "kernelspec": {
   "display_name": "Python 3",
   "language": "python",
   "name": "python3"
  },
  "language_info": {
   "codemirror_mode": {
    "name": "ipython",
    "version": 3
   },
   "file_extension": ".py",
   "mimetype": "text/x-python",
   "name": "python",
   "nbconvert_exporter": "python",
   "pygments_lexer": "ipython3",
   "version": "3.4.3+"
  },
  "latex_envs": {
   "bibliofile": "biblio.bib",
   "cite_by": "apalike",
   "current_citInitial": 1,
   "eqLabelWithNumbers": true,
   "eqNumInitial": 0
  },
  "toc": {
   "toc-wrapper_display": "none",
   "toc_cell": false,
   "toc_number_sections": true,
   "toc_threshold": 4
  }
 },
 "nbformat": 4,
 "nbformat_minor": 0
}
