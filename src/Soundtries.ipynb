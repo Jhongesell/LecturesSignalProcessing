{
 "cells": [
  {
   "cell_type": "code",
   "execution_count": 1,
   "metadata": {
    "collapsed": false
   },
   "outputs": [],
   "source": [
    "from scipy.io import wavfile\n",
    "import matplotlib.pyplot as plt\n",
    "import numpy as np\n",
    "from numpy import pi, sin, cos\n",
    "from numpy.fft import fft, ifft, fftshift\n",
    "%matplotlib inline"
   ]
  },
  {
   "cell_type": "code",
   "execution_count": 2,
   "metadata": {
    "collapsed": false
   },
   "outputs": [
    {
     "data": {
      "application/javascript": [
       "IPython.load_extensions('calico-spell-check', 'calico-document-tools', 'calico-cell-tools');"
      ],
      "text/plain": [
       "<IPython.core.display.Javascript at 0x7ffe00128908>"
      ]
     },
     "metadata": {},
     "output_type": "display_data"
    }
   ],
   "source": [
    "%%javascript\n",
    "IPython.load_extensions('calico-spell-check', 'calico-document-tools', 'calico-cell-tools');"
   ]
  },
  {
   "cell_type": "code",
   "execution_count": 2,
   "metadata": {
    "collapsed": false
   },
   "outputs": [],
   "source": [
    "def wavPlayer(data, rate):\n",
    "\n",
    "    from scipy.io import wavfile\n",
    "    from IPython.core.display import HTML, display\n",
    "    import os\n",
    "    import glob\n",
    "    import tempfile\n",
    "\n",
    "    #tmpwav=\"tmpwav.wav\"       #=tempfile.TemporaryFile(delete=False) #\n",
    "    tmpwav=tempfile.NamedTemporaryFile(dir='./tmp',prefix='tmp',suffix='.wav',delete=True).name\n",
    "    if not os.path.isdir('./tmp'): os.path.mkdir('./tmp')\n",
    "    try:\n",
    "        for fl in glob.glob(\"./tmp/tmp*.wav\"):\n",
    "            os.remove(fl)\n",
    "    except: \n",
    "        print(\"an exception occured\")\n",
    "\n",
    "    scaled = np.int16(data/np.max(np.abs(data)) * 32767)\n",
    "    stmp=np.asarray(scaled,dtype=np.int16)\n",
    "    wavfile.write(tmpwav,rate,stmp)\n",
    "    html=\"\"\"\n",
    "    <audio controls=\"controls\" style=\"width:600px\" >\n",
    "      <source src=\"{filename}\" type=\"audio/wav\">\n",
    "    Your browser does not support the audio element.\n",
    "    </audio>\n",
    "    \"\"\".format(filename=os.path.join('./tmp',os.path.basename(tmpwav)))\n",
    "\n",
    "    display(HTML(html))\n",
    "    "
   ]
  },
  {
   "cell_type": "code",
   "execution_count": 3,
   "metadata": {
    "collapsed": false
   },
   "outputs": [],
   "source": [
    "def save_wav(filename, data,rate):\n",
    "\n",
    "    from scipy.io import wavfile\n",
    "    from IPython.core.display import HTML, display\n",
    "    import tempfile\n",
    "\n",
    "    scaled = np.int16(data/np.max(np.abs(data)) * 32767)\n",
    "    stmp=np.asarray(scaled,dtype=np.int16)\n",
    "    wavfile.write(filename,rate,stmp)\n",
    "    "
   ]
  },
  {
   "cell_type": "markdown",
   "metadata": {},
   "source": [
    "## An Amuzing Experiment..."
   ]
  },
  {
   "cell_type": "markdown",
   "metadata": {},
   "source": [
    "We begin by loading and listening a well known music:"
   ]
  },
  {
   "cell_type": "code",
   "execution_count": 4,
   "metadata": {
    "collapsed": false
   },
   "outputs": [
    {
     "name": "stdout",
     "output_type": "stream",
     "text": [
      "sampling rate = 44100 Hz, length = 340928 samples\n",
      "[  245    54   168 ..., -3380 -4673 -3998]\n"
     ]
    }
   ],
   "source": [
    "fs, sound = wavfile.read('test_sound.wav')\n",
    "print(\"sampling rate = {} Hz, length = {} samples\".format(fs, *sound.shape))\n",
    "print(sound)\n",
    "#plt.plot(sig);"
   ]
  },
  {
   "cell_type": "code",
   "execution_count": 5,
   "metadata": {
    "collapsed": false
   },
   "outputs": [
    {
     "data": {
      "text/html": [
       "\n",
       "    <audio controls=\"controls\" style=\"width:600px\" >\n",
       "      <source src=\"./tmp/tmpg0hwx8rb.wav\" type=\"audio/wav\">\n",
       "    Your browser does not support the audio element.\n",
       "    </audio>\n",
       "    "
      ],
      "text/plain": [
       "<IPython.core.display.HTML at 0x7f34e2afd390>"
      ]
     },
     "metadata": {},
     "output_type": "display_data"
    }
   ],
   "source": [
    "wavPlayer(sound,fs)"
   ]
  },
  {
   "cell_type": "markdown",
   "metadata": {},
   "source": [
    "Now, we examine what happens when decimating, that is subsampling and cancelling one sample every two samples. Clearly, we are suppressing half of the information. Let us listen the result:"
   ]
  },
  {
   "cell_type": "code",
   "execution_count": 7,
   "metadata": {
    "collapsed": false
   },
   "outputs": [
    {
     "name": "stdout",
     "output_type": "stream",
     "text": [
      "Length of decimated signal: 170464\n",
      "[  245   168   510 ..., -2638 -3856 -4673]\n"
     ]
    },
    {
     "data": {
      "text/html": [
       "\n",
       "    <audio controls=\"controls\" style=\"width:600px\" >\n",
       "      <source src=\"./tmp/tmpx6l0ykx0.wav\" type=\"audio/wav\">\n",
       "    Your browser does not support the audio element.\n",
       "    </audio>\n",
       "    "
      ],
      "text/plain": [
       "<IPython.core.display.HTML at 0x7f34e2afd940>"
      ]
     },
     "metadata": {},
     "output_type": "display_data"
    }
   ],
   "source": [
    "decimated_sig=sound[::2]\n",
    "print(\"Length of decimated signal:\", np.size(decimated_sig))\n",
    "print(decimated_sig)\n",
    "wavPlayer(decimated_sig, int(fs/2))"
   ]
  },
  {
   "cell_type": "markdown",
   "metadata": {},
   "source": [
    "**THIS IS QUITE INCREDIBLE! **\n",
    "\n",
    "Though we have cancelled half of the samples, we hear that a new information -- a ghost voice from the Hereafter, appear... "
   ]
  },
  {
   "cell_type": "markdown",
   "metadata": {},
   "source": [
    "## The Explanation"
   ]
  },
  {
   "cell_type": "markdown",
   "metadata": {},
   "source": [
    "Initial signal (before decimation)"
   ]
  },
  {
   "cell_type": "code",
   "execution_count": 10,
   "metadata": {
    "collapsed": false
   },
   "outputs": [
    {
     "data": {
      "text/plain": [
       "(-22050.0, 22050.0)"
      ]
     },
     "execution_count": 10,
     "metadata": {},
     "output_type": "execute_result"
    },
    {
     "data": {
      "image/png": "[encoded data removed]",
      "text/plain": [
       "<matplotlib.figure.Figure at 0x7ffdde79c5f8>"
      ]
     },
     "metadata": {},
     "output_type": "display_data"
    }
   ],
   "source": [
    "plt.figure()\n",
    "f=np.linspace(-0.5,0.5,np.size(sound))*fs\n",
    "plt.plot(f,np.abs(fftshift(fft(sound))))\n",
    "plt.xlabel(\"Frequency\")\n",
    "plt.xlim([-fs/2,fs/2])"
   ]
  },
  {
   "cell_type": "markdown",
   "metadata": {},
   "source": [
    "Because of the ear limitations, we do not really hear sounds of frequencies higer that 10-15 kHz. Therefore, we only hear the part below 10 kHz, which is Ravel's Bolero. "
   ]
  },
  {
   "cell_type": "markdown",
   "metadata": {},
   "source": [
    "After sampling and decimation -- Aliasing occurs...\n",
    "\n",
    "The sound is sampled at fs/2=22050 Hz; but the actual band of the signal is larger than fs/4 (there exists frequency components at fs/2!). Consequently, aliasing will occur: the original spectrum will be periodized with a a period fs/2, and consequently the frequencies around -+fs/2 will aliase around zero... Therefore, the ghostly voice is transported in the audible band and we hear it."
   ]
  },
  {
   "cell_type": "code",
   "execution_count": 11,
   "metadata": {
    "collapsed": false
   },
   "outputs": [
    {
     "data": {
      "text/plain": [
       "(-11025.0, 11025.0)"
      ]
     },
     "execution_count": 11,
     "metadata": {},
     "output_type": "execute_result"
    },
    {
     "data": {
      "image/png": "[encoded data removed]",
      "text/plain": [
       "<matplotlib.figure.Figure at 0x7ffdde79c6a0>"
      ]
     },
     "metadata": {},
     "output_type": "display_data"
    }
   ],
   "source": [
    "plt.figure()\n",
    "f=np.linspace(-0.5,0.5,np.size(decimated_sig))*fs/2\n",
    "plt.plot(f,np.abs(fftshift(fft(decimated_sig))))\n",
    "plt.xlabel(\"Frequency\")\n",
    "plt.xlim([-fs/4,fs/4])\n"
   ]
  },
  {
   "cell_type": "markdown",
   "metadata": {},
   "source": [
    "Observe hat this would have be avoided (but it would have been less funny) if we had implemented an `anti-aliasing` filter before the decimation operation. This is always a cautionary measure to take on. "
   ]
  },
  {
   "cell_type": "markdown",
   "metadata": {},
   "source": [
    "## Construction of the experiment"
   ]
  },
  {
   "cell_type": "code",
   "execution_count": null,
   "metadata": {
    "collapsed": false
   },
   "outputs": [],
   "source": [
    "fs, bo = wavfile.read('Bo.wav')\n",
    "print(\"sampling rate = {} Hz, length = {} samples, channels = {}\".format(fs, *bo.shape))\n",
    "print(bo)\n",
    "#plt.plot(sig);"
   ]
  },
  {
   "cell_type": "code",
   "execution_count": 6,
   "metadata": {
    "collapsed": false
   },
   "outputs": [
    {
     "name": "stdout",
     "output_type": "stream",
     "text": [
      "sampling rate = 44100 Hz, length = 340928 samples, channels = 2\n",
      "[[  73   73]\n",
      " [ -17  -16]\n",
      " [  53   50]\n",
      " ..., \n",
      " [-147 -124]\n",
      " [-149 -146]\n",
      " [-170 -172]]\n"
     ]
    },
    {
     "name": "stderr",
     "output_type": "stream",
     "text": [
      "/usr/lib/python3/dist-packages/scipy/io/wavfile.py:42: WavFileWarning: Unknown wave file format\n",
      "  warnings.warn(\"Unknown wave file format\", WavFileWarning)\n"
     ]
    }
   ],
   "source": [
    "fs, voix = wavfile.read('voix_outretombe.wav')\n",
    "print(\"sampling rate = {} Hz, length = {} samples, channels = {}\".format(fs, *voix.shape))\n",
    "print(voix)\n",
    "#plt.plot(sig);"
   ]
  },
  {
   "cell_type": "code",
   "execution_count": null,
   "metadata": {
    "collapsed": false
   },
   "outputs": [],
   "source": [
    "L=2000000\n",
    "ssig=bo[L:340928+L]\n",
    "del bo"
   ]
  },
  {
   "cell_type": "code",
   "execution_count": null,
   "metadata": {
    "collapsed": false
   },
   "outputs": [],
   "source": [
    "plt.plot(ssig);\n",
    "plt.title(\"Bolero\")\n",
    "plt.figure()\n",
    "plt.plot(voix);\n",
    "plt.title(\"Voice\")"
   ]
  },
  {
   "cell_type": "code",
   "execution_count": null,
   "metadata": {
    "collapsed": false
   },
   "outputs": [],
   "source": [
    "wavPlayer(2*voix, fs)"
   ]
  },
  {
   "cell_type": "code",
   "execution_count": 7,
   "metadata": {
    "collapsed": false
   },
   "outputs": [
    {
     "data": {
      "text/plain": [
       "<matplotlib.text.Text at 0x7f8b159be128>"
      ]
     },
     "execution_count": 7,
     "metadata": {},
     "output_type": "execute_result"
    },
    {
     "data": {
      "image/png": "[encoded data removed]",
      "text/plain": [
       "<matplotlib.figure.Figure at 0x7f8b15edc748>"
      ]
     },
     "metadata": {},
     "output_type": "display_data"
    }
   ],
   "source": [
    "f=np.linspace(-0.5,0.5,len(voix))*44\n",
    "plt.plot(f,np.abs(fftshift(fft(voix[:,1]))))\n",
    "plt.title(\"Fourier transform of voice\")\n",
    "plt.xlabel(\"Frequency\")"
   ]
  },
  {
   "cell_type": "code",
   "execution_count": null,
   "metadata": {
    "collapsed": false
   },
   "outputs": [],
   "source": [
    "import scipy.signal as sig"
   ]
  },
  {
   "cell_type": "markdown",
   "metadata": {},
   "source": [
    "### Design of lowpass antialiasing filter"
   ]
  },
  {
   "cell_type": "code",
   "execution_count": null,
   "metadata": {
    "collapsed": false
   },
   "outputs": [],
   "source": [
    "h=sig.firwin(300,0.5)\n",
    "\n",
    "plt.plot(np.abs(np.fft.fft(h,2000)))"
   ]
  },
  {
   "cell_type": "code",
   "execution_count": null,
   "metadata": {
    "collapsed": false
   },
   "outputs": [],
   "source": [
    "bo_filtered=sig.lfilter(h,[1],ssig[:,1])\n",
    "plt.plot(np.abs(np.fft.fft(bo_filtered[2000:4000])))\n",
    "plt.figure()\n",
    "plt.plot(np.abs(np.fft.fft(ssig[2000:4000,1])))"
   ]
  },
  {
   "cell_type": "code",
   "execution_count": null,
   "metadata": {
    "collapsed": false
   },
   "outputs": [],
   "source": [
    "wavPlayer(30*ssig[:,1], fs)"
   ]
  },
  {
   "cell_type": "code",
   "execution_count": null,
   "metadata": {
    "collapsed": false
   },
   "outputs": [],
   "source": [
    "wavPlayer(30*bo_filtered, fs)"
   ]
  },
  {
   "cell_type": "markdown",
   "metadata": {},
   "source": [
    "### Modulation"
   ]
  },
  {
   "cell_type": "code",
   "execution_count": 16,
   "metadata": {
    "collapsed": false
   },
   "outputs": [
    {
     "data": {
      "text/plain": [
       "<matplotlib.text.Text at 0x7f8b12b5e390>"
      ]
     },
     "execution_count": 16,
     "metadata": {},
     "output_type": "execute_result"
    },
    {
     "data": {
      "image/png": "[encoded data removed]",
      "text/plain": [
       "<matplotlib.figure.Figure at 0x7f8b12ae0048>"
      ]
     },
     "metadata": {},
     "output_type": "display_data"
    },
    {
     "data": {
      "image/png": "[encoded data removed]",
      "text/plain": [
       "<matplotlib.figure.Figure at 0x7f8b12b5a160>"
      ]
     },
     "metadata": {},
     "output_type": "display_data"
    }
   ],
   "source": [
    "t=np.arange(0,len(voix[:,1]))*1/fs\n",
    "f=np.linspace(0,1,len(voix[:,1]))*fs\n",
    "voix_mod=voix[:,1]*np.cos(2*pi*fs/2*t)\n",
    "plt.figure()\n",
    "plt.plot(f,np.abs(fft(voix[:,1])))\n",
    "plt.xlabel(\"Frequency\")\n",
    "plt.title(\"Fourier transform of voice\")\n",
    "\n",
    "plt.figure()\n",
    "plt.plot(f,np.abs(np.fft.fft(voix_mod)))\n",
    "plt.xlabel(\"Frequency\")\n",
    "plt.title(\"Fourier transform of modulated voice\")"
   ]
  },
  {
   "cell_type": "code",
   "execution_count": 12,
   "metadata": {
    "collapsed": false
   },
   "outputs": [
    {
     "data": {
      "text/html": [
       "\n",
       "    <audio controls=\"controls\" style=\"width:600px\" >\n",
       "      <source src=\"./tmp/tmp86kpfsd2.wav\" type=\"audio/wav\">\n",
       "    Your browser does not support the audio element.\n",
       "    </audio>\n",
       "    "
      ],
      "text/plain": [
       "<IPython.core.display.HTML at 0x7f8b12f00a58>"
      ]
     },
     "metadata": {},
     "output_type": "display_data"
    }
   ],
   "source": [
    "wavPlayer(4*voix_mod, fs)"
   ]
  },
  {
   "cell_type": "code",
   "execution_count": null,
   "metadata": {
    "collapsed": false
   },
   "outputs": [],
   "source": [
    "composite_signal=30*bo_filtered+6*voix_mod\n",
    "wavPlayer(composite_signal, fs)"
   ]
  },
  {
   "cell_type": "code",
   "execution_count": null,
   "metadata": {
    "collapsed": false
   },
   "outputs": [],
   "source": [
    "plt.figure()\n",
    "plt.plot(np.abs(np.fft.fft(composite_signal)))"
   ]
  },
  {
   "cell_type": "code",
   "execution_count": null,
   "metadata": {
    "collapsed": false
   },
   "outputs": [],
   "source": [
    "# saving the composite signal\n",
    "#save_wav('test_sound.wav',composite_signal,fs)"
   ]
  },
  {
   "cell_type": "code",
   "execution_count": null,
   "metadata": {
    "collapsed": false
   },
   "outputs": [],
   "source": [
    "subsampled_sig=composite_signal[::2]\n",
    "wavPlayer(subsampled_sig, int(fs/2))"
   ]
  }
 ],
 "metadata": {},
 "nbformat": 4,
 "nbformat_minor": 0
}