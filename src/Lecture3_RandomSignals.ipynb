{
 "cells": [
  {
   "cell_type": "markdown",
   "metadata": {
    "toc": "true"
   },
   "source": [
    "# Table of Contents\n",
    "\n",
    "\n",
    "<div class=\"lev2\"><a href=\"#Analyse-dans-le-domaine-fréquentiel\">Analyse dans le domaine fréquentiel</a></div><div class=\"lev3\"><a href=\"#Notion-de-densité-spectrale-de-Puissance\">Notion de densité spectrale de Puissance</a></div><div class=\"lev3\"><a href=\"#Power-spectrum-estimation\">Power spectrum estimation</a></div><div class=\"lev2\"><a href=\"#Applications\">Applications</a></div><div class=\"lev3\"><a href=\"#Matched-filter\">Matched filter</a></div><div class=\"lev4\"><a href=\"#Matched-filter---Experiment\">Matched filter - Experiment</a></div><div class=\"lev3\"><a href=\"#Wiener-filtering\">Wiener filtering</a></div><div class=\"lev4\"><a href=\"#Introduction\">Introduction</a></div><div class=\"lev4\"><a href=\"#Illustrative-experiment\">Illustrative experiment</a></div><div class=\"lev4\"><a href=\"#Derivation-of-the-Wiener-filter\">Derivation of the Wiener filter</a></div><div class=\"lev4\"><a href=\"#Experiment\">Experiment</a></div><div class=\"lev4\"><a href=\"#Wiener-Smoother-in-the-time-domain\">Wiener Smoother in the time domain</a></div>"
   ]
  },
  {
   "cell_type": "code",
   "execution_count": 1,
   "metadata": {
    "collapsed": false
   },
   "outputs": [
    {
     "name": "stdout",
     "output_type": "stream",
     "text": [
      "... Configuring matplotlib formats\n",
      "... Configuring matplotlib with inline figures\n",
      "... Importing numpy as np, scipy as sp, pyplot as plt, scipy.stats as stats\n",
      "   ... scipy.signal as sig\n",
      "... Importing widgets, display, HTML, Image, Javascript\n",
      "... Some LaTeX definitions\n"
     ]
    },
    {
     "data": {
      "text/html": [
       "\n",
       "$$\\require{color}\n",
       "\\require{cancel}\n",
       "\\def\\tf#1{{\\mathrm{FT}\\left\\{ #1 \\right\\}}}\n",
       "\\def\\flecheTF{\\rightleftharpoons }\n",
       "\\def\\TFI#1#2#3{{\\displaystyle{\\int_{-\\infty}^{+\\infty} #1 ~e^{j2\\pi #2 #3} \n",
       "~\\dr{#2}}}}\n",
       "\\def\\TF#1#2#3{{\\displaystyle{\\int_{-\\infty}^{+\\infty} #1 ~e^{-j2\\pi #3 #2} \n",
       "~\\dr{#2}}}}\n",
       "\\def\\sha{ш}\n",
       "\\def\\dr#1{\\mathrm{d}#1}\n",
       "\\def\\egalpardef{\\mathop{=}\\limits^\\triangle}\n",
       "\\def\\sinc#1{{\\mathrm{sinc}\\left( #1 \\right)}}\n",
       "\\def\\rect{\\mathrm{rect}}\n",
       "\\definecolor{lightred}{rgb}{1,0.1,0}\n",
       "\\def\\myblueeqbox#1{{\\fcolorbox{blue}{lightblue}{$\textcolor{blue}{ #1}$}}}\n",
       "\\def\\myeqbox#1#2{{\\fcolorbox{#1}{light#1}{$\textcolor{#1}{ #2}$}}}\n",
       "\\def\\eqbox#1#2#3#4{{\\fcolorbox{#1}{#2}{$\\textcolor{#3}{ #4}$}}}\n",
       "% border|background|text\n",
       "\\def\\eqboxa#1{{\\boxed{#1}}}\n",
       "\\def\\eqboxb#1{{\\eqbox{green}{white}{green}{#1}}}\n",
       "\\def\\eqboxc#1{{\\eqbox{blue}{white}{blue}{#1}}}\n",
       "\\def\\eqboxd#1{{\\eqbox{blue}{lightblue}{blue}{#1}}}\n",
       "\\def\\E#1{\\mathbb{E}\\left[#1\\right]}\n",
       "\\def\\ta#1{\\left<#1\\right>}\n",
       "\\def\\egalparerg{{\\mathop{=}\\limits_\\mathrm{erg}}}\n",
       "\\def\\expo#1{\\exp\\left(#1\\right)}\n",
       "\\def\\d#1{\\mathrm{d}#1}\n",
       "\\def\\wb{\\mathbf{w}} \n",
       "\\def\\sb{\\mathbf{s}} \n",
       "\\def\\xb{\\mathbf{x}}\n",
       "\\def\\Rb{\\mathbf{R}} \n",
       "\\def\\rb{\\mathbf{r}} \n",
       "\\def\\mystar{{*}}\n",
       "\\def\\ub{\\mathbf{u}}\n",
       "\\def\\wbopt{\\mathop{\\mathbf{w}}\\limits^\\triangle}\n",
       "\\def\\deriv#1#2{\\frac{\\mathrm{d}#1}{\\mathrm{d}#2}}\n",
       "\\def\\Ub{\\mathbf{U}}\n",
       "\\def\\db{\\mathbf{d}}\n",
       "\\def\\eb{\\mathbf{e}}\n",
       "\\def\\vb{\\mathbf{v}}\n",
       "\\def\\Ib{\\mathbf{I}}\n",
       "\\def\\Vb{\\mathbf{V}}\n",
       "\\def\\Lambdab{\\mathbf{\\Lambda}}\n",
       "\\def\\Ab{\\mathbf{A}}\n",
       "\\def\\Bb{\\mathbf{B}}\n",
       "\\def\\Cb{\\mathbf{C}}\n",
       "\\def\\Db{\\mathbf{D}}\n",
       "\\def\\Kb{\\mathbf{K}}\n",
       "\\def\\sinc#1{\\mathrm{sinc\\left(#1\\right)}}\n",
       "$$\n"
      ],
      "text/plain": [
       "<IPython.core.display.HTML object>"
      ]
     },
     "metadata": {},
     "output_type": "display_data"
    },
    {
     "name": "stdout",
     "output_type": "stream",
     "text": [
      "... Defining figures captions \n"
     ]
    },
    {
     "data": {
      "text/html": [
       "<style>\n",
       ".caption {\n",
       "font-weight: normal;\n",
       "text-align: left;\n",
       "width:60%; margin-left:10%; border:2px solid; padding-top:5px; padding-bottom:5px;\n",
       "background-color:white;border-color:#efd3d7;color:black;\n",
       "border-radius:8px;-webkit-border-radius:8px;-moz-border-radius:8px;border-radius:8px\n",
       "}\n",
       "</style>"
      ],
      "text/plain": [
       "<IPython.core.display.HTML object>"
      ]
     },
     "metadata": {},
     "output_type": "display_data"
    },
    {
     "name": "stdout",
     "output_type": "stream",
     "text": [
      "... Loading customized Javascript for interactive solutions (show/hide)\n",
      "... Redefining interactive from ipywidgets\n"
     ]
    }
   ],
   "source": [
    "%run nbinit.ipy"
   ]
  },
  {
   "cell_type": "markdown",
   "metadata": {},
   "source": [
    "## Analyse dans le domaine fréquentiel"
   ]
  },
  {
   "cell_type": "markdown",
   "metadata": {},
   "source": [
    "En repartant de la formule des interférences \n",
    "$$\n",
    "R_{Y_1Y_2}(m) = \\left( h_1 * R_{X_1X_2} * h_2^{*(-)}\\right) (m),\n",
    "$$\n",
    "on obtient simplement, après transformée de Fourier,\n",
    "$$\n",
    "\\fbox{$S_{Y_1Y_2}(f) =  H_1(f) S_{X_1X_2}(f) H_2^{*}(f)$},\n",
    "$$\n",
    "où $S_{Y_1Y_2}(f), S_{X_1X_2}(f), H_1(f)$ et $H_2(f)$ sont \n",
    "respectivement les transform\\'ees de Fourier de $R_{Y_1Y_2}(m)$,\n",
    "$R_{X_1X_2}(m)$, $h_1(m)$ et  $h_2(m)$.\n",
    "Note{La  transformée de Fourier de $h^*(-n)$ vaut $H^*(f)$.}\\\\\n",
    "\n",
    "\\noindent\\textbf{Conséquences :}\n",
    "\n",
    "\\begin{enumerate}\n",
    "\\item En prenant $Y_1=Y_2=Y$, $X_1=X_2=X$ et $H_1=H_2=H$, c'est-à-dire \n",
    "que l'on considère un seul filtre, il vient\n",
    "$$\n",
    "\\fbox{$S_{YY}(f) =  S_{XX}(f) |H(f)|^2 $}.\n",
    "$$\n",
    "\\item Si $H_1(f)$ et $H_2(f)$ sont deux filtres \\textit{disjoints} en fréquence, alors\n",
    "$$\n",
    "S_{Y_1Y_2}(f) =  0.\n",
    "$$\n",
    "On en déduit que \n",
    "$$\n",
    "R_{Y_1Y_2}(\\tau) = \\mathrm{TF}^{-1}[S_{Y_1Y_2}(f)] = \\mathrm{TF}^{-1}[0] =0.\n",
    "$$\n",
    "si les filtres sont disjoints en fréquence, l'intercorrélation des sorties est nulle.\n",
    "\\end{enumerate}\n",
    "\n",
    "\n",
    "\\noindent\\textit{Application}\n",
    "Considérons deux filtres parfaits autour de deux fréquences pures $f_1$ et $f_2$, de même entrée\n",
    "$X(n,\\omega)$. On a ${Y_1(n,\\omega)}= {X(f_1,\\omega)}\\expo{-j2\\pi f_1n}$, et ${Y_2(n,\\omega)}= \n",
    "{X(f_2,\\omega)}\\expo{-j2\\pi f_2n}$, avec toutes les précautions d'usage sur la << non existence >> \n",
    "de la transformée de Fourier considérée pour des signaux aléatoires stationnaires. Dans ces conditions,\n",
    "$$\n",
    "R_{Y_1Y_2}(0) = \\E{X(f_1,\\omega)X^*(f_2,\\omega)}\\expo{-j2\\pi (f_1-f_2)n}=0,\n",
    "$$\n",
    "soit\n",
    "$$\n",
    "\\E{X(f_1,\\omega)X^*(f_2,\\omega)}=0.\n",
    "$$\n",
    "On dit que les composantes spectrales sont décorrélées."
   ]
  },
  {
   "cell_type": "markdown",
   "metadata": {},
   "source": [
    "### Notion de densité spectrale de Puissance"
   ]
  },
  {
   "cell_type": "markdown",
   "metadata": {},
   "source": [
    "La densité spectrale de puissance représente la répartition de la puissance du signal dans le domaine \n",
    "fréquentiel. Il s'agit exactement de la même notion que celle de densité de probabilité : lorsque l'on veut calculer \n",
    "probabilité qu'une variable aléatoire $X$ appartienne à un certain intervalle $[x_1,x_2]$, il suffit d'intégrer la \n",
    "densité de probabilité de la variable entre ces deux bornes :\n",
    "$$\n",
    "\\mathrm{Pr}(X \\in[x_1,x_2]) = \\int_{x_1}^{x_2} p(X) \\dr{X}.\n",
    "$$\n",
    "Si on appelle $D_{XX}(f)$ la densité spectrale de puissance d'un signal aléatoire\n",
    "$X(n,\\omega)$, alors la puissance du signal portée par les composantes \n",
    "fréquentielles comprises entre $f_1$ et $f_2$ s'écrit\n",
    "$$\n",
    "P_{XX}(f \\in [f_1,f_2]) = \\int_{f_1}^{f_2} D_{XX}(f) \\dr{f}.\n",
    "$$ \n",
    "Dès lors, la puissance totale du signal s'écrit\n",
    "\\[\n",
    "P_{XX} = \\int_{-\\frac{1}{2}}^{+\\frac{1}{2}} D_{XX}(f) \\dr{f}.\n",
    "\\]\n",
    "Or on sait que, pour un signal stationnaire et ergodique,\n",
    "\\[\n",
    "P_{XX} = \\E{|X(n,\\omega)|^2} = R_{XX}(0) = \\lim_{N \\rightarrow \n",
    "+\\infty} \\frac{1}{2N} \\sum_{-N}^{+N} |X(n,\\omega)|^2. \n",
    "\\]\n",
    "Par ailleurs,\n",
    "\\[\n",
    "R_{XX}(\\tau) = \\int_{-\\frac{1}{2}}^{+\\frac{1}{2}} S_{XX}(f) \\expo{j2\\pi f\\tau} \\dr{f},\n",
    "\\]\n",
    "soit, pour $\\tau=0$,\n",
    "\\[\n",
    "R_{XX}(0) = P_{XX} = \\int_{-\\frac{1}{2}}^{+\\frac{1}{2}} S_{XX}(f) ~\\dr{f}.\n",
    "\\]\n",
    "La transformée de Fourier $S_{XX}(f)$ de la fonction d'autocorrélation est ainsi \n",
    "une bonne candidate pour être la densité spectrale de puissance. Notons cependant, \n",
    "cette dernière relation ne prouve pas qu'elle le soit.\n",
    "\n",
    "Considérons un filtre parfait, dont le module de la fonction de transfert est\n",
    "d'amplitude un dans une bande $\\Delta f$ centrée sur une fréquence $f_0$, et \n",
    "nul ailleurs : \n",
    "\\[\n",
    "\\left\\{\n",
    "\\begin{array}{l}\n",
    "|H(f)| = 1 \\mbox{  pour  } f \\in [f_0 - \\frac{\\Delta f}{2},f_0 + \\frac{\\Delta \n",
    "f}{2}] \\\\\n",
    "|H(f)| = 0 \\mbox{   ailleurs.}\n",
    "\\end{array}\n",
    "\\right.\n",
    "\\]\n",
    "Notons $Y(n,\\omega) = (h*X)(n,\\omega)$ la réponse de ce filtre à une entrée \n",
    "$X(n,\\omega)$. La puissance de la sortie est donnée par\n",
    "\\[\n",
    "P_{YY} = R_{YY}(0) = \\int_{-\\frac{1}{2}}^{+\\frac{1}{2}} S_{YY}(f) ~\\dr{f},\n",
    "\\]\n",
    "\n",
    "or la formule des interférences fournit\n",
    "\\[\n",
    "S_{YY}(f) = S_{XX}(f) |H(f)|^2,\n",
    "\\]\n",
    "avec les conditions sur le module de $H(f)$ données précédemment. On obtient donc\n",
    "\\[\n",
    "P_{YY}(f \\in [f_0 - \\frac{\\Delta f}{2},f_0 + \\frac{\\Delta f}{2}])  = \\int_{f_0 - \n",
    "\\frac{\\Delta f}{2}}^{f_0 +\\frac{\\Delta f}{2}} S_{XX}(f) ~\\dr{f}, \n",
    "\\]\n",
    "ce qui correspond bien à la définition de la densité spectrale de puissance : la \n",
    "puissance pour les composantes spectrales comprises dans un intervalle est bien \n",
    "égale à l'intégrale de la densité spectrale de puissance sur cet intervalle.\n",
    "Si $\\Delta f$ est suffisamment faible, on pourra considérer la densité spectrale \n",
    "de puissance $S_{XX}(f)$ comme approximativement constante sur l'intervalle, et\n",
    "\\[\n",
    "P_{YY}(f \\in [f_0 - \\frac{\\Delta f}{2},f_0 + \\frac{\\Delta f}{2}]) \\simeq \n",
    "S_{XX}(f_0) \\Delta {f}.\n",
    "\\]\n",
    "Cette dernière relation indique que la densité spectrale de puissance doit \n",
    "s'exprimer en Watts par Hertz. Par ailleurs, lorsque $\\Delta f$ tend vers 0, la \n",
    "puissance recueillie est de plus en plus faible. Pour $\\Delta f = 0$, la puissance \n",
    "obtenue est ainsi normalement nulle, sauf si la densité spectrale elle-même est \n",
    "constituée par une << masse >> de Dirac (de largeur nulle mais d'amplitude \n",
    "infinie) à la fréquence considérée.\n",
    "\n",
    "Notons que le filtre que nous avons défini ci-dessus n'est défini, par commodité \n",
    "de présentation, que pour les fréquences positives. Sa fonction de transfert ne \n",
    "vérifie donc pas la propriété de symétrie hermitienne des signaux réels : la \n",
    "réponse impulsionnelle associée est donc complexe et la sortie $Y(t,\\omega)$ \n",
    "également complexe. En restaurant cette symétrie, c'est-à-dire en imposant \n",
    "$H(f)=H^*(-f)$, ce qui entraîne (notez le module de $f$)\n",
    "\\[\n",
    "\\left\\{\n",
    "\\begin{array}{l}\n",
    "|H(f)| = 1 \\mbox{  pour  } |f| \\in [f_0 - \\frac{\\Delta f}{2},f_0 + \\frac{\\Delta \n",
    "f}{2}] \\\\\n",
    "|H(f)| = 0 \\mbox{   ailleurs,}\n",
    "\\end{array}\n",
    "\\right.\n",
    "\\]\n",
    "la puissance en sortie est\n",
    "\\[\n",
    "P_{YY} = \\int_{-f_0 - \\frac{\\Delta f}{2}}^{-f_0 +\\frac{\\Delta f}{2}} S_{XX}(f)\n",
    "~\\dr{f} + \\int_{f_0 - \\frac{\\Delta f}{2}}^{f_0 +\\frac{\\Delta f}{2}} S_{XX}(f)\n",
    "~\\dr{f}.\n",
    "\\]\n",
    "La densité spectrale de puissance d'un signal aléatoire réel est une fonction \n",
    "paire, ce qui conduit enfin à\n",
    "\\[\n",
    "P_{YY} = 2 \\int_{f_0 - \\frac{\\Delta f}{2}}^{f_0 +\\frac{\\Delta f}{2}} S_{XX}(f)\n",
    "~\\dr{f},\n",
    "\\]\n",
    "relation qui indique que la puissance se partage équitablement dans les fréquences\n",
    "positives et négatives.\\\\\n",
    "\n",
    "\\noindent\\textbf{Exemple} :\\\\\n",
    "\n",
    "Considérons le cas d'une sinusoïde à amplitude et phase aléatoire\n",
    "\\[\n",
    "X(n,\\omega) = A(\\omega) \\sin (2\\pi f_0 n + \\phi(\\omega)),\n",
    "\\]\n",
    "où $A(\\omega)$ est une variable aléatoire centrée de variance $\\sigma^2$ et \n",
    "$\\phi(\\omega)$ uniformément répartie sur $[0,2\\pi]$.\n",
    "La fonction d'autocorrélation de ce signal vaut\n",
    "\\[\n",
    "R_{XX}(\\tau) = \\frac{\\sigma^2}{2}\\cos(2 \\pi f_0 \\tau).\n",
    "\\]\n",
    "Par transformée de Fourier, on obtient la densité spectrale :\n",
    "\\[\n",
    "S_{XX}(f) = \\frac{\\sigma^2}{4}[\\delta(f+f_0) + \\delta(f-f_0)].\n",
    "\\]\n",
    "Enfin, en intégrant la densité spectrale\n",
    "\\[\n",
    "\\int \\frac{\\sigma^2}{4}[\\delta(f+f_0) + \\delta(f-f_0)] \\dr{f}= \\frac{\\sigma^2}{2},\n",
    "\\]\n",
    "on retrouve  la puissance de la sinusoïde, $\\sigma^2/2$, comme il se doit.\\\\\n",
    "\n",
    "Les fonctions de corrélation et les densités spectrales de puissance forment des \n",
    "paires de transformées de Fourier :\n",
    "\\[\n",
    "\\boxed{\n",
    "\\begin{array}{lcl}\n",
    "S_{XX}(f) & \\flecheTF & R_{XX}(\\tau), \\\\\n",
    "S_{XY}(f) & \\flecheTF & R_{XY}(\\tau),\n",
    "\\end{array}\n",
    "}\n",
    "\\]\n",
    "où $S_{XX}(f)$, $S_{XY}(f)$ sont les densités spectrale de puissance et de puissance \n",
    "d'interaction, respectivement. Ces relations constituent le **théorème de \n",
    "Wiener-Kintchine-Einstein**."
   ]
  },
  {
   "cell_type": "markdown",
   "metadata": {},
   "source": [
    "### Power spectrum estimation"
   ]
  },
  {
   "cell_type": "code",
   "execution_count": 2,
   "metadata": {
    "collapsed": false
   },
   "outputs": [],
   "source": [
    "from scipy.signal import lfilter\n",
    "from numpy.fft import fft, ifft, fftshift, fftfreq"
   ]
  },
  {
   "cell_type": "code",
   "execution_count": 3,
   "metadata": {
    "collapsed": false
   },
   "outputs": [
    {
     "data": {
      "image/png": "[encoded data removed]",
      "text/plain": [
       "<matplotlib.figure.Figure at 0x7fe4047b1fd0>"
      ]
     },
     "metadata": {
      "image/png": {
       "height": 255,
       "width": 373
      }
     },
     "output_type": "display_data"
    }
   ],
   "source": [
    "N=2000\n",
    "a=-0.8\n",
    "x=stats.norm(0,1).rvs((N))\n",
    "y=lfilter([1],[1, a],x)\n",
    "Yf=fft(y)\n",
    "Py=1/N*abs(Yf)**2\n",
    "f=fftfreq(N)\n",
    "f=np.linspace(-0.5,0.5,N)\n",
    "Sy=abs(1/abs(fft([1, a],N))**2)\n",
    "plt.plot(f,fftshift(Py),alpha=0.65,label=\"Periodogram\")\n",
    "plt.plot(f,fftshift(Sy),color=\"yellow\", lw=2,label=\"True spectrum\")\n",
    "plt.legend()\n",
    "#\n",
    "# Smoothing\n",
    "#\n",
    "Ry=ifft(Py)\n",
    "hh=sig.hamming(200,sym=True)"
   ]
  },
  {
   "cell_type": "code",
   "execution_count": 4,
   "metadata": {
    "collapsed": false
   },
   "outputs": [
    {
     "data": {
      "image/png": "[encoded data removed]",
      "text/plain": [
       "<matplotlib.figure.Figure at 0x7fe3e00e9d30>"
      ]
     },
     "metadata": {
      "image/png": {
       "height": 255,
       "width": 373
      }
     },
     "output_type": "display_data"
    }
   ],
   "source": [
    "z=np.zeros(N)\n",
    "L=100\n",
    "h=fftshift(sig.hanning(L,sym=True))\n",
    "z[0:round(L/2)]=h[0:round(L/2)]\n",
    "z[-1:-round(L/2)-1:-1]=h[-1:-round(L/2)-1:-1]\n",
    "Py_smoothed=abs(fft(z*Ry))\n",
    "plt.plot(f,fftshift(Py),alpha=0.6,label=\"Periodogram\")\n",
    "plt.plot(f,fftshift(Sy),lw=2,color=\"yellow\",label=\"True spectrum\")\n",
    "plt.plot(f,fftshift(Py_smoothed),alpha=0.7,color=\"lightgreen\", lw=2,label=\"Smoothed \\nPeriodogram\")\n",
    "_=plt.legend()"
   ]
  },
  {
   "cell_type": "code",
   "execution_count": 6,
   "metadata": {
    "collapsed": false
   },
   "outputs": [
    {
     "name": "stderr",
     "output_type": "stream",
     "text": [
      "/usr/local/lib/python3.5/site-packages/ipykernel/__main__.py:7: DeprecationWarning: using a non-integer number instead of an integer will result in an error in the future\n"
     ]
    },
    {
     "data": {
      "text/plain": [
       "<matplotlib.legend.Legend at 0x7fe3dff7cef0>"
      ]
     },
     "execution_count": 6,
     "metadata": {},
     "output_type": "execute_result"
    },
    {
     "data": {
      "image/png": "[encoded data removed]",
      "text/plain": [
       "<matplotlib.figure.Figure at 0x7fe4047b1e80>"
      ]
     },
     "metadata": {
      "image/png": {
       "height": 255,
       "width": 373
      }
     },
     "output_type": "display_data"
    }
   ],
   "source": [
    "#Averaging\n",
    "def averaged_perio(y,M):\n",
    "    N=np.size(y)\n",
    "    L=np.round(N/M)\n",
    "    Py_averaged=np.zeros(N)\n",
    "    for m in range(M):\n",
    "        Py_averaged+=1/L*(abs(fft(y[m*L:(m+1)*L],N))**2)\n",
    "    return  Py_averaged/M\n",
    "\n",
    "Py_averaged=averaged_perio(y,20)\n",
    "\n",
    "plt.plot(f,fftshift(Py),alpha=0.6,label=\"Periodogram\")\n",
    "plt.plot(f,fftshift(Sy),lw=2,color=\"yellow\",label=\"True spectrum\")\n",
    "plt.plot(f,fftshift(Py_averaged),alpha=0.7,color=\"lightgreen\",lw=2,label=\"Averaged \\nPeriodogram\")\n",
    "plt.legend()"
   ]
  },
  {
   "cell_type": "markdown",
   "metadata": {},
   "source": [
    "## Applications"
   ]
  },
  {
   "cell_type": "markdown",
   "metadata": {},
   "source": [
    "### Matched filter"
   ]
  },
  {
   "cell_type": "markdown",
   "metadata": {},
   "source": [
    "We consider a problem frequently encountered in practice, in applications as echography, seismic reflexion, sonar or radar. The problem at hand is as follows: we look for a *known waveform* $s(n)$, up to a delay $n_0$ in a mixture\n",
    "$$\n",
    "y(n)= A s(n-n_0) + v(n),\n",
    "$$\n",
    "where $A$ and $n_0$ are unknowns and $v(n)$ is an additive noise. \n",
    "The problem is to find the delay $n_0$, which typically corresponds to a time-to-target. \n",
    "In order to do that, supppose that we filter the mixture by a filter with impulse response $h$. The ouput has the form\n",
    "$$\n",
    "z(n) = x(n) + w(n),\n",
    "$$\n",
    "with $x(n)=A[h*s](n-n_0)$ and $w(n)=[h*v](n)$, respectively the outputs of the signal and noise part. Clearly, if $v(n)$ is stationnary, so is $w(n)$. Therefore, the idea is to design $h$ so that the signal output is as greater as possible than the noise output, at time $n_0$. In statistical terms, we put this as choosing the filter such that ratio of  the signal output'*power*  to the noise output's power is maximum. Hence, our goal is to design a filter which maximizes the signal-to-noise ratio at time $n_0$. We suppose that the desired signal is deterministic and thus consider its instantaneous power $|x(n_0)|^2$."
   ]
  },
  {
   "cell_type": "markdown",
   "metadata": {},
   "source": [
    "The signal-to-noise ratio at time $n_0$ is\n",
    "$$\n",
    "SNR(n_0) = \\frac{|x(n_0)|^2}{\\E{|w(n)|^2}}.\n",
    "$$\n",
    "Of course, both the numerator and the denominator depends on the filter. Lets us first consider the numerator. We have\n",
    "\\begin{align}\n",
    "x(n_0) & = \\mathrm{FT}^{-1}[X(f)]_{n=n_0} \\\\\n",
    "& = \\left.\\int H(f) \\mathrm{FT}[s(n-n_0)]  e^{j2\\pi f n}\\dr{f}\\right|_{n=n_0} \\\\\n",
    "& = \\left.\\int H(f) S(f)e^{-j2\\pi f n_0} e^{j2\\pi f n}\\dr{f}\\right|_{n=n_0} \\\\\n",
    "& = \\int H(f) S(f)\\dr{f}.\n",
    "\\end{align}\n",
    "As far as the denominator is concerned, we have by the Wiener-Kintchine theorem, that\n",
    "$$\n",
    "\\E{|w(n)|^2} = \\int S_{WW}(f) \\dr{f} =  \\int |H(f)|^2 S_{VV}(f) \\dr{f}.\n",
    "$$\n",
    "Finally, the signal-to-noise ratio becomes\n",
    "$$\n",
    "\\boxed{\n",
    "SNR(n_0) = \\displaystyle{\\frac{\\left|\\int H(f) S(f)\\dr{f}\\right|^2}{\\int |H(f)|^2 S_{VV}(f) \\dr{f}}}.\n",
    "}\n",
    "$$\n",
    "In order to maximize the signal-to-noise ratio we invoke the [Cauchy-Schwarz](http://en.wikipedia.org/wiki/Cauchy%E2%80%93Schwarz_inequality) inequality. Recall that that this inequality states that given to integrable functions $f$ and $g$ and a positive measure $w$, then \n",
    "$$\n",
    "\\left|\\int f(x)g(x)^* w(x) \\dr{x}\\right|^2 \\leq \\int |f(x)|^2 w(x) \\dr{x} \\int |g(x)|^2 w(x) \\dr{x} \n",
    "$$\n",
    "with equality if and only if $f(x)=kg(x)$ for any arbitrary real constant $k$. "
   ]
  },
  {
   "cell_type": "markdown",
   "metadata": {},
   "source": [
    "The idea is to apply this inequality in order to simplify the $SNR(n_0)$. For that, let us express the numerator as \n",
    "$$\n",
    "\\int H(f) S(f)\\dr{f} = \\int H(f)\\sqrt{S_{VV}(f)} \\frac{S(f)}{\\sqrt{S_{VV}(f)}}\\dr{f}.\n",
    "$$\n",
    "By the Cauchy-Schwarz inequality, we then get that\n",
    "$$\n",
    "\\left|\\int H(f) S(f)\\dr{f} \\right|^2 \\leq \\int |H(f)|^2 S_{VV}(f) \\dr{f} \\int \\left|\\frac{S(f)}{\\sqrt{S_{VV}(f)}} \\right|^2\\dr{f}\n",
    "$$\n",
    "Injecting this inequality in the  $SNR(n_0)$ we obtain that\n",
    "$$\n",
    "\\boxed{\n",
    " \\displaystyle{SNR(n_0)\\leq \\int \\left|\\frac{S(f)}{\\sqrt{S_{VV}(f)}} \\right|^2\\dr{f}}\n",
    " }.\n",
    "$$\n",
    "This shows that the SNR at $n_0$ **is upper bounded** by a quantity which is independent of $H(f)$. Furthermore, by the conditions for equality in the Cauchy-Schwartz inequality, we have that the bound is attained if and only if \n",
    "$$\n",
    "H(f) = k \\frac{S(f)^*}{{S_{VV}(f)}}.\n",
    "$$\n",
    "In the special case where $v(n)$ is a white, then $S_{VV}(f)$ is a constant, say $S_{VV}(f)=\\sigma^2$, and \n",
    "$$\n",
    "H(f) = k' {S(f)^*}.\n",
    "$$\n",
    "By inverse Fourier transform, the corresponding impulse response is nothing but \n",
    "$$\n",
    "h(n) = k' s(-n)^*,\n",
    "$$\n",
    "that is, the **complex conjugate and reversed** original waveform. This will be important to link the output of the filter to an estimate of the cross-correlation function. For now, let us also observe that the general transfer function $H(f)$ can be interpreted as a a **whitening operation** followed by the matched filter for an additive white noise:\n",
    "$$\n",
    "H(f) = k \\frac{S(f)^*}{{S_{VV}(f)}}= k \\underbrace{\\frac{1}{\\sqrt{S_{VV}(f)}}}_\\text{whitening} \\times \\underbrace{\\frac{S(f)^*}{\\sqrt{S_{VV}(f)}}}_\\text{matched filter}\n",
    "$$"
   ]
  },
  {
   "cell_type": "markdown",
   "metadata": {},
   "source": [
    "Finally, the output of the matched filter can be viewed as the computation of an estimated of the cross-correlation function. Indeed, the output of the $h(n)$ with input $x$ is\n",
    "\\begin{align}\n",
    "y(n) & = \\sum_l h(l) x(n-l) \\\\\n",
    "& = \\sum_l s(-l)^* x(n-l) \\\\\n",
    "& = \\sum_m s(m)^* x(n+m) \\\\\n",
    "& = \\hat{R}_{xs}(n),\n",
    "\\end{align}\n",
    "where $\\hat{R}_{xs}(n)$ is, up to a factor, an estimate of the cross-correlation between $x$ and $s$. Applying this remark to our initial mixture\n",
    "$$\n",
    "y(n)= A s(n-n_0) + v(n)\n",
    "$$\n",
    "we get that\n",
    "$$\n",
    "z(n) = A \\hat{R}_{ss}(n-n_0) + \\hat{R}_{vs}(n).\n",
    "$$\n",
    "Finally, since $v$ and $s$ are uncorrelated, $\\hat{R}_{vs}(n)\\simeq 0$ and since $\\hat{R}_{ss}(n)$ is maximum at zero, we see that the output will present a peak at $n=n_0$, thus enabling to locate the value of the delay $n_0$. "
   ]
  },
  {
   "cell_type": "markdown",
   "metadata": {},
   "source": [
    "#### Matched filter - Experiment"
   ]
  },
  {
   "cell_type": "markdown",
   "metadata": {},
   "source": [
    " \n",
    " >We simulate now a problem in seismic reflection (or in sonar, or radar), where the goal is to detect the positions of interfaces reflecting the incident waves. The time it takes for a reflection from a particular boundary to arrive at the recorder (a geophone) is called the travel time.  For a simple vertically traveling wave, the travel time $\\tau$ from the surface to the reflector and back is called the Two-Way Time (TWT) and is given by the formula $\\tau=2d/c$, with $d$ the distance from the origin to the refector. \n",
    " To a whole set of interfaces then corresponds the observation\n",
    " $$\n",
    "  r(t)= \\sum A_i s(t-t_i) + b(t)\n",
    " $$\n",
    " where the $t_i$ are the delays associated with each interface and $A_i$ the reflection coefficients.\n",
    " \n",
    " >In order to localize the interfaces, we use a matched filter, which maximizes the signal to noise ratio. \n",
    " \n",
    " >1. Implement the matched filter. Examine the different signals. Is it possible to detect the positions of the interfaces on the time series? using the correlation functions? What is the interest to choose a stimulation signal with a very peaky autocorrelation? \n",
    " \n",
    " >2. Consider a noisy version of the observation (add a Gaussian noise with standard deviation $A$). Compute the output of the matched filter, with impulse response $h(n)=s(-n)$ and introduce a threshold at $3.3$ times the noise standard deviation. Interpret this threshold. Conclusions. Experiment with the level of noise, the number of samples, etc\n",
    " "
   ]
  },
  {
   "cell_type": "code",
   "execution_count": 6,
   "metadata": {
    "collapsed": false
   },
   "outputs": [],
   "source": [
    "def zeropad(v, N):\n",
    "     a=zeros(N)\n",
    "     a[arange(len(v))]=v\n",
    "     return a"
   ]
  },
  {
   "cell_type": "code",
   "execution_count": null,
   "metadata": {
    "collapsed": false
   },
   "outputs": [],
   "source": [
    "N=1000\n",
    "#Interface detection by cross-correlation\n",
    "t=np.arange(100); A=0.5;\n",
    "s=1*sin(2*pi*0.01*(1+0.1*t)*t) #emitted signal\n",
    "figure() \n",
    "plot(t,s) \n",
    "title('Emitted signal');\n",
    "# List of interfaces\n",
    "pos=array([250,300,500,550,700])\n",
    "amp=array([1,1,1,1,0.5])\n",
    "g=zeros(N); g[pos]=amp\n",
    "y=np.convolve(s,g)\n",
    "z=y+A*randn(size(y))\n",
    "figure(2); plot(z); title('Noisy observation')\n",
    "figure(3) \n",
    "plot(y); title('Noiseless observation')"
   ]
  },
  {
   "cell_type": "code",
   "execution_count": null,
   "metadata": {
    "collapsed": false
   },
   "outputs": [],
   "source": [
    "from correlation import xcorr\n",
    "sp=zeropad(s,len(z))\n",
    "figure(4); Rzs,lags=xcorr(z,sp); \n",
    "plot(lags,Rzs); \n",
    "title('Cross-correlation (noisy case)')\n",
    "figure(5); Rys,lags=xcorr(y,sp);  plot(lags,Rys); \n",
    "title('Cross-correlation (noiseless case)')"
   ]
  },
  {
   "cell_type": "markdown",
   "metadata": {},
   "source": [
    " Finally, we introduce a threshold in order to eliminate the peaks due to the noise. For that, we compute the threshold so as to have less than some fixed probability to exceed this level. \n",
    "\n",
    " The method `interval` of an object `stats.norm` returns the endpoints of the range that contains alpha percents of the distribution."
   ]
  },
  {
   "cell_type": "code",
   "execution_count": 9,
   "metadata": {
    "collapsed": false,
    "format": "row"
   },
   "outputs": [
    {
     "name": "stdout",
     "output_type": "stream",
     "text": [
      "(-3.2905267314918945, 3.2905267314919255)\n"
     ]
    }
   ],
   "source": [
    "interv=stats.norm.interval(alpha=0.999,loc=0,scale=1)\n",
    "print(interv)"
   ]
  },
  {
   "cell_type": "markdown",
   "metadata": {},
   "source": [
    " And the actual thresholding:"
   ]
  },
  {
   "cell_type": "code",
   "execution_count": null,
   "metadata": {
    "collapsed": false,
    "format": "row"
   },
   "outputs": [],
   "source": [
    "LR=len(Rzs)\n",
    "Rzs_th=zeros(LR)\n",
    "intervs=array(interv)*std(Rzs[500:])\n",
    "\n",
    "Rzs_th=array([Rzs[u] if (Rzs[u]<intervs[0] or Rzs[u]>intervs[1]) else 0 for u in range(LR)])\n",
    "fig,ax=subplots(1,1,figsize=(8,3))\n",
    "ax.plot(lags,Rzs_th)\n",
    "print(\"The position of interfaces are at\",where(Rzs_th!=0)[0]+lags[0])"
   ]
  },
  {
   "cell_type": "markdown",
   "metadata": {},
   "source": [
    " Quick and Dirty thing to find the \"center\" of consecutive value ranges \n",
    " "
   ]
  },
  {
   "cell_type": "code",
   "execution_count": 11,
   "metadata": {
    "collapsed": false,
    "format": "row"
   },
   "outputs": [],
   "source": [
    "def find_center(v):\n",
    "    Beg=v[0]; Endy=v[0]\n",
    "    u=0; C=[]\n",
    "    for k in range(1,len(v)):\n",
    "        if (v[k]-v[k-1]) in (1,2):\n",
    "            Endy=Endy+1\n",
    "        else:\n",
    "            C.append((Endy+Beg)/2)\n",
    "            u=u+1\n",
    "            Beg=v[k]; Endy=v[k]\n",
    "    if Endy==v[len(v)-1]:\n",
    "        C.append((Endy+Beg)/2) \n",
    "    return C"
   ]
  },
  {
   "cell_type": "code",
   "execution_count": 12,
   "metadata": {
    "collapsed": false,
    "format": "row"
   },
   "outputs": [
    {
     "name": "stdout",
     "output_type": "stream",
     "text": [
      "Positions where the signal exceeds threshold:\n",
      " [249 250 251 253 299 300 301 303 304 499 500 501 504 549 550 551 699 700\n",
      " 701]\n",
      "Detected interfaces positions:      [250.5, 301.0, 500.0, 504.0, 550.0, 700.0]\n",
      "True positions;                     [250 300 500 550 700]\n"
     ]
    }
   ],
   "source": [
    "posit=find_center(where(Rzs_th!=0)[0]+lags[0])\n",
    "print(\"Positions where the signal exceeds threshold:\\n\".ljust(35),\n",
    "      where(Rzs_th!=0)[0]+lags[0])\n",
    "print(\"Detected interfaces positions: \".ljust(35),posit)\n",
    "print(\"True positions; \".ljust(35), pos)"
   ]
  },
  {
   "cell_type": "markdown",
   "metadata": {},
   "source": [
    "### Wiener filtering"
   ]
  },
  {
   "cell_type": "markdown",
   "metadata": {},
   "source": [
    "#### Introduction"
   ]
  },
  {
   "cell_type": "markdown",
   "metadata": {},
   "source": [
    "We consider now the problem of recovering a signal $s(n)$ from an indirect and noisy measurement\n",
    "$$\n",
    "x(n)= [h*s](n) + v(n).\n",
    "$$\n",
    "This problem involves actually two sub-problems that are very interesting on their own:\n",
    "- *smoothing* of the additive noise, \n",
    "- inversion.\n"
   ]
  },
  {
   "cell_type": "markdown",
   "metadata": {},
   "source": [
    "Let us first examine a simple experiment which points-out the necessity of developing a rational approach instead of a adopting a naive one. We generate a random pulse train, filter it, and then reconstruct the input signal by direct division by the transfer function:\n",
    "$$\n",
    "S(f) \\simeq \\frac{X(f)}{H(f)} = S(f)+\\frac{V(f)}{H(f)}\n",
    "$$\n",
    "We consider both a noiseless case and a noisy case."
   ]
  },
  {
   "cell_type": "markdown",
   "metadata": {},
   "source": [
    "#### Illustrative experiment"
   ]
  },
  {
   "cell_type": "code",
   "execution_count": null,
   "metadata": {
    "collapsed": false
   },
   "outputs": [],
   "source": [
    "N=2000\n",
    "a=-0.97\n",
    "L=50\n",
    "spos=stats.bernoulli.rvs(loc=0,p=0.6,size=N/L)\n",
    "s=np.kron(spos,np.ones(L))\n",
    "#x=stats.norm(0,1).rvs((N))\n",
    "d=np.zeros(N); d[0]=1 #Dirac impulse\n",
    "h=sig.lfilter([1, 0.5, 0.95],[1, a],d)\n",
    "#h=sig.lfilter([1, 0.6, 0.95, 1.08, 0.96],[1, a],d)\n",
    "H=fft(h,N)\n",
    "X=fft(s)*H\n",
    "x=real(ifft(X))\n",
    "\n",
    "plt.figure()\n",
    "plt.plot(x)\n",
    "plt.title(\"Observation\")\n",
    "\n",
    "#\n",
    "plt.figure()\n",
    "x_rec=real(ifft(X/H))\n",
    "plt.plot(s,label=\"True signal\")\n",
    "plt.plot(x_rec,label=\"Reconstruction\")\n",
    "plt.title(\"Reconstruction of signal by direct inversion\")\n",
    "plt.ylim([-0.1, 1.1])\n",
    "plt.legend()"
   ]
  },
  {
   "cell_type": "code",
   "execution_count": null,
   "metadata": {
    "collapsed": false
   },
   "outputs": [],
   "source": [
    "# Noisy observation\n",
    "z=x+0.25*stats.norm(0,1).rvs((N))\n",
    "Z=fft(z)\n",
    "plt.figure()\n",
    "plt.plot(z)\n",
    "plt.title(\"Noisy Observation\")\n",
    "plt.figure()\n",
    "x_rec=real(ifft(Z/H))\n",
    "plt.plot(s,label=\"True signal\")\n",
    "plt.plot(x_rec,alpha=0.6,label=\"Reconstruction\")\n",
    "plt.title(\"Reconstruction of (noisy) signal by direct inversion\")\n",
    "plt.legend()"
   ]
  },
  {
   "cell_type": "code",
   "execution_count": null,
   "metadata": {
    "collapsed": false
   },
   "outputs": [],
   "source": [
    "plt.plot(1/abs(H))"
   ]
  },
  {
   "cell_type": "markdown",
   "metadata": {},
   "source": [
    "#### Derivation of the Wiener filter"
   ]
  },
  {
   "cell_type": "markdown",
   "metadata": {},
   "source": [
    "Instead of a direct inversion, we put the problem as the design of a filter $w$ which enables to recover an estimate of $s(n)$, from the noisy observation $x(n)$. \n",
    "$$\n",
    "y(n) = [w*x](n)\n",
    "$$\n",
    "The objective is to minimize the error $e(n)=y(n)-s(n)$, and more precisely of the mean square error\n",
    "$$\n",
    "\\E{e(n)^2}.\n",
    "$$\n"
   ]
  },
  {
   "cell_type": "markdown",
   "metadata": {},
   "source": [
    "Recall that \n",
    "$$\n",
    "\\E{e(n)^2} = R_{EE}[0] =  \\int S_{EE}(f) \\dr{f}.\n",
    "$$\n",
    "Since $e(n)=y(n)-s(n)$, we have that\n",
    "\n",
    "\\begin{align}\n",
    "R_{Y-S,Y-S}(k) & =R_{YY}(k)-R_{YS}(k)-R_{SY}(k)+R_{SS}(k) \\\\\n",
    "S_{Y-S,Y-S}(f) & =S_{YY}(f)-S_{YS}(f)-S_{SY}(f)+S_{SS}(f) \n",
    "\\end{align}\n",
    "\n",
    "From the transformation of the power spectrum by filtering and the symmetries of the cross-spectra, we have\n",
    "\\begin{align}\n",
    "S_{YY}(f) & = |H(f)W(f)|^2 S_{SS}(f) + |W(f)|^2 S_{VV}(f),\\\\\n",
    "S_{YS}(f) & = H(f)W(f) S_{SS}(f), \\\\\n",
    "S_{SY}(f) & = S_{YS}(f)^*.\n",
    "\\end{align}\n",
    "Taking this into account, we arrive at\n",
    "$$\n",
    "S_{Y-S,Y-S}(f)  = |H(f)|^2 |W(f)|^2 S_{SS}(f) + |W(f)|^2 S_{VV}(f) + H(f)W(f) S_{SS}(f) + H(f)^*W(f)^* S_{SS}(f) +  S_{SS}(f).\n",
    "$$\n",
    "It is easy to check that this formula can be rewritten as\n",
    "$$\n",
    "S_{Y-S,Y-S}(f)  = \\left( S_{SS}(f)+ S_{VV}(f)\\right)\\left|W(f)-\\frac{H(f)^* S_{SS}(f)}{|H(f)|^2 S_{SS}(f)+ S_{VV}(f)} \\right|^2+ S_{SS}(f).\n",
    "$$\n",
    "Clearly, it is minimum if \n",
    "$$\n",
    "\\boxed{\n",
    "\\displaystyle{\n",
    "W(f)=\\frac{H(f)^* S_{SS}(f)}{|H(f)|^2 S_{SS}(f)+ S_{VV}(f)} \n",
    "}}.\n",
    "$$"
   ]
  },
  {
   "cell_type": "markdown",
   "metadata": {},
   "source": [
    "From this relation, we learn the following:\n",
    "- In the noiseless case, that is $S_{VV}(f)=0$, then $W(f)=1/H(f)$. THis is the diert inversion, which is only valid if no noise corrupts the output. \n",
    "- for frequencies where the transfer function $H(f)$ is very small, that is where we have a very small signal part,then $W(f)\\sim 0$ (no inversion).\n",
    "- elsewhere, the filter makes a conservative inversion which depends on the local signal-to-noise ratio. \n",
    "\n",
    "- In the case $H(f)=1$, the problem reduces to a smoothing problem, that is to  suppress the noise without too much corrupting of the signal part. The Wiener filter reduces to \n",
    "\\begin{equation}\n",
    "\\boxed{\n",
    "\\displaystyle{\n",
    "W(f)=\\frac{S_{SS}(f)}{ S_{SS}(f)+ S_{VV}(f)} \n",
    "}}. \\label{eq:wiener_smoother_fdomain}\n",
    "\\end{equation}\n",
    "\n",
    "\n",
    "In such case, we see that the transfer function tends to 1 if $S_{SS}(f)\\gg S_{VV}(f)$ (frequency bands where the signal is significantly higher than the noise), to zero if $S_{SS}(f)\\ll S_{VV}(f)$ (much more noise than signal), and otherwise realises a tradeoff guided by the signal-to-noise ratio in the frequency domain.\n",
    "\n"
   ]
  },
  {
   "cell_type": "markdown",
   "metadata": {},
   "source": [
    "#### Experiment"
   ]
  },
  {
   "cell_type": "markdown",
   "metadata": {},
   "source": [
    "\n",
    "We consider an example of optimum filtering, the Wiener smoother. Beginning with a noisy mixture  $x(n)=s(n)+v(n)$, the goal is to find the best filter which minimizes the noise while preserving the signal:  $y(n)=(h*x)(n)\\simeq s(n)$. \n",
    " \n",
    "Simulate a signal $$s(n)=\\exp(-a t)\\sin(2\\pi f_0 t + \\phi(\\omega)).$$ The corresponding implementation lines are \n",
    "\n",
    "```\n",
    "     A=0.2; N=5000\n",
    "     t=arange(N)\n",
    "     s=exp(-0.001*t)*sin(2*pi*0.001*t+2*pi*rand(1))\n",
    "     w=A*randn(N)\n",
    "     x=s+w\n",
    " ```\n",
    " \n",
    "It can be shown that the optimum Wiener filter is such that \n",
    " $$\n",
    " H(f)=\\frac{S_{ss}(f)}{S_{SS}(f)+S_{VV}(f)},$$ \n",
    " where $S_{SS}(f)$ and $S_{VV}(f)$ are respectively the power spectra of the signal and of the noise.\n",
    " Implement this filter and compute its output. \n",
    " In practice, what must be known in order to implement this filter? Is this reasonable? Look at the impulse response and comment. What are the other difficulties for implementation?"
   ]
  },
  {
   "cell_type": "code",
   "execution_count": null,
   "metadata": {
    "collapsed": false
   },
   "outputs": [],
   "source": [
    "A=0.2\n",
    "N=5000\n",
    "t=arange(N)\n",
    "s=exp(-0.001*t)*sin(2*pi*0.001*t+2*pi*rand(1))\n",
    "w=A*randn(N)\n",
    "figure(1); plot(w); title('Noise alone')\n",
    "x=s+w\n",
    "figure(2); plot(s); title('Signal')\n",
    "figure(3); plot(x); title('Observed signal')"
   ]
  },
  {
   "cell_type": "markdown",
   "metadata": {},
   "source": [
    "Implementation"
   ]
  },
  {
   "cell_type": "code",
   "execution_count": null,
   "metadata": {
    "collapsed": false
   },
   "outputs": [],
   "source": [
    "Sss=1/N*abs(fft(s))**2\n",
    "Svv=A*A*ones(N)\n",
    "H=Sss/(Sss+Svv)\n",
    "xx=real(ifft(H*fft(x)))\n",
    "\n",
    "plot(xx)\n",
    "title('Output of the Wiener smoother')"
   ]
  },
  {
   "cell_type": "markdown",
   "metadata": {},
   "source": [
    " The drawbacks are that\n",
    " \n",
    " - One must know the spectra of the signal and of the noise. Here we have suppposed that the noise is white and that we knew its variance. Furthermore, we assumed that the spectrum of the signal is known.\n",
    " - The impulse response may have an infinite support and is not causal. For implementation in real time, on should select a causal solution. This requires to perform a spectral factorization and this is another story, see [here](http://webee.technion.ac.il/people/shimkin/Estimation09/ch3_Wiener.pdf) or [here, page 208](http://ocw.mit.edu/courses/electrical-engineering-and-computer-science/6-011-introduction-to-communication-control-and-signal-processing-spring-2010/readings/MIT6_011S10_chap11.pdf) for details. "
   ]
  },
  {
   "cell_type": "markdown",
   "metadata": {},
   "source": [
    "#### Wiener Smoother in the time domain"
   ]
  },
  {
   "cell_type": "markdown",
   "metadata": {},
   "source": [
    "We now look for the expression of an optimal smoother in the time domain. Of course, we could simply take the impulse response associated with the frequency response (\\ref{eq:wiener_smoother_fdomain}). However, as we saw above, this impulse response is non-causal and has infinite duration. Instead, we shall reformulate the problem to include the fact that we look for a causal finite impulse response. We begin with the observation equation\n",
    "$$\n",
    "x(n)= s(n) + v(n).\n",
    "$$\n",
    "and we look for the filter with impulse response $w(n)$ such that $y(n)=[w*x](n)$ is as near as possible of $s(n)$: this can be formulated as the search for $w$ which minimizes the mean square error\n",
    "$$\n",
    "\\E{\\left([w*x](n)-s(n)\\right)^2}.\n",
    "$$\n",
    "For a FIR filter, the convolution cans be written as the scalar product\n",
    "$\\def\\wb{\\mathbf{w}} \\def\\sb{\\mathbf{s}} \\def\\xb{\\mathbf{x}}$\n",
    "$\\def\\Rb{\\mathbf{R}} \\def\\rb{\\mathbf{r}} $\n",
    "$$\n",
    "y(n) = [w*x](n) = \\sum_{m=0}^{p-1} w(m) x(n-m) = \\wb^t\\xb(n)\n",
    "$$\n",
    "where $\\wb^t=[w(0, w(1)\\ldots w(p-1)]$ and $\\xb(n)^t=[x(n), x(n-1), \\ldots x(n-p+1)]$. The mean square error can then be written as the function of $\\wb$\n",
    "$$\n",
    "J(\\wb)=\\E{\\left(\\wb^t\\xb(n)-s(n)\\right)^2}.\n",
    "$$\n",
    "By the chain rule for differentiation and the fact that \n",
    "$$\n",
    "\\frac{\\dr \\wb^t\\xb(n)}{\\dr \\wb} = \\xb(n),\n",
    "$$\n",
    "we get that\n",
    "\\begin{align}\n",
    "\\frac{\\dr J(\\wb)}{\\dr \\wb} & = 2 \\E{\\xb(n) \\left(\\wb^t\\xb(n)-s(n)\\right)}\\\\\n",
    "& = 2 \\E{\\xb(n) \\left(\\xb^t\\wb(n)-s(n)\\right)}, \\\\\n",
    "& = 2 \\E{\\xb(n)\\xb(n)^t }\\wb - \\E{\\xb(n) s(n)}. \\\\\n",
    "\\end{align}\n",
    "The first term involves a correlation matrix of $\\xb(n)$ and the second the vector of cross correlations between $\\xb(n)$ and $s(n)$. Denoting\n",
    "$$\n",
    "\\begin{cases}\n",
    "\\Rb_{XX}=\\E{\\xb(n)\\xb(n)^t },\\\\\n",
    "\\rb_{SX}=\\E{\\xb(n) s(n)}\n",
    "\\end{cases}\n",
    "$$\n",
    "we obtain\n",
    "$$\n",
    "\\Rb_{XX} \\wb = \\rb_{SX}\n",
    "$$\n",
    "or \n",
    "$$\n",
    "\\boxed{\n",
    "\\displaystyle{\n",
    "\\wb = \\Rb_{XX}^{-1} \\rb_{SX}\n",
    "}}\n",
    "$$\n",
    "if  $\\Rb_{XX}$ is invertible. "
   ]
  },
  {
   "cell_type": "markdown",
   "metadata": {},
   "source": [
    "\n",
    "----\n",
    "<div align=right> <a href=toc.ipynb>Index</a> - <a href=Lecture2_RandomSignals.ipynb>Back</a> - <a href=Optimum_filtering.ipynb>Next</a></div>"
   ]
  }
 ],
 "metadata": {
  "interactive_sols": {
   "cbx_id": 1
  },
  "kernelspec": {
   "display_name": "Python 3",
   "language": "python",
   "name": "python3"
  },
  "language_info": {
   "codemirror_mode": {
    "name": "ipython",
    "version": 3
   },
   "file_extension": ".py",
   "mimetype": "text/x-python",
   "name": "python",
   "nbconvert_exporter": "python",
   "pygments_lexer": "ipython3",
   "version": "3.5.1+"
  },
  "latex_envs": {
   "bibliofile": "biblio.bib",
   "cite_by": "apalike",
   "current_citInitial": 1,
   "eqLabelWithNumbers": true,
   "eqNumInitial": 0
  },
  "toc": {
   "toc-wrapper_display": "none",
   "toc_cell": true,
   "toc_number_sections": false,
   "toc_threshold": 4
  }
 },
 "nbformat": 4,
 "nbformat_minor": 0
}
