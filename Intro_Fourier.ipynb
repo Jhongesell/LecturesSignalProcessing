{
 "cells": [
  {
   "cell_type": "code",
   "execution_count": 1,
   "metadata": {
    "collapsed": false
   },
   "outputs": [
    {
     "name": "stdout",
     "output_type": "stream",
     "text": [
      "... Configuring matplotlib formats\n",
      "... Configuring matplotlib with inline figures\n",
      "... Importing numpy as np, scipy as sp, pyplot as plt, scipy.stats as stats\n",
      "   ... scipy.signal as sig\n",
      "... Importing widgets, display, HTML, Image, Javascript\n",
      "... Some LaTeX definitions\n"
     ]
    },
    {
     "data": {
      "text/html": [
       "\n",
       "$$\\require{color}\n",
       "\\require{cancel}\n",
       "\\def\\tf#1{{\\mathrm{FT}\\left\\{ #1 \\right\\}}}\n",
       "\\def\\flecheTF{\\rightleftharpoons }\n",
       "\\def\\TFI#1#2#3{{\\displaystyle{\\int_{-\\infty}^{+\\infty} #1 ~e^{j2\\pi #2 #3} \n",
       "~\\dr{#2}}}}\n",
       "\\def\\TF#1#2#3{{\\displaystyle{\\int_{-\\infty}^{+\\infty} #1 ~e^{-j2\\pi #3 #2} \n",
       "~\\dr{#2}}}}\n",
       "\\def\\sha{ш}\n",
       "\\def\\dr#1{\\mathrm{d}#1}\n",
       "\\def\\egalpardef{\\mathop{=}\\limits^\\triangle}\n",
       "\\def\\sinc#1{{\\mathrm{sinc}\\left( #1 \\right)}}\n",
       "\\def\\rect{\\mathrm{rect}}\n",
       "\\definecolor{lightred}{rgb}{1,0.1,0}\n",
       "\\def\\myblueeqbox#1{{\\fcolorbox{blue}{lightblue}{$\textcolor{blue}{ #1}$}}}\n",
       "\\def\\myeqbox#1#2{{\\fcolorbox{#1}{light#1}{$\textcolor{#1}{ #2}$}}}\n",
       "\\def\\eqbox#1#2#3#4{{\\fcolorbox{#1}{#2}{$\\textcolor{#3}{ #4}$}}}\n",
       "% border|background|text\n",
       "\\def\\eqboxa#1{{\\boxed{#1}}}\n",
       "\\def\\eqboxb#1{{\\eqbox{green}{white}{green}{#1}}}\n",
       "\\def\\eqboxc#1{{\\eqbox{blue}{white}{blue}{#1}}}\n",
       "\\def\\eqboxd#1{{\\eqbox{blue}{lightblue}{blue}{#1}}}\n",
       "\\def\\E#1{\\mathbb{E}\\left[#1\\right]}\n",
       "\\def\\ta#1{\\left<#1\\right>}\n",
       "\\def\\egalparerg{{\\mathop{=}\\limits_\\mathrm{erg}}}\n",
       "\\def\\expo#1{\\exp\\left(#1\\right)}\n",
       "\\def\\d#1{\\mathrm{d}#1}\n",
       "\\def\\wb{\\mathbf{w}} \n",
       "\\def\\sb{\\mathbf{s}} \n",
       "\\def\\xb{\\mathbf{x}}\n",
       "\\def\\Rb{\\mathbf{R}} \n",
       "\\def\\rb{\\mathbf{r}} \n",
       "\\def\\mystar{{*}}\n",
       "\\def\\ub{\\mathbf{u}}\n",
       "\\def\\wbopt{\\mathop{\\mathbf{w}}\\limits^\\triangle}\n",
       "\\def\\deriv#1#2{\\frac{\\mathrm{d}#1}{\\mathrm{d}#2}}\n",
       "\\def\\Ub{\\mathbf{U}}\n",
       "\\def\\db{\\mathbf{d}}\n",
       "\\def\\eb{\\mathbf{e}}\n",
       "\\def\\vb{\\mathbf{v}}\n",
       "\\def\\Ib{\\mathbf{I}}\n",
       "\\def\\Vb{\\mathbf{V}}\n",
       "\\def\\Lambdab{\\mathbf{\\Lambda}}\n",
       "\\def\\Ab{\\mathbf{A}}\n",
       "\\def\\Bb{\\mathbf{B}}\n",
       "\\def\\Cb{\\mathbf{C}}\n",
       "\\def\\Db{\\mathbf{D}}\n",
       "\\def\\Kb{\\mathbf{K}}\n",
       "\\def\\sinc#1{\\mathrm{sinc\\left(#1\\right)}}\n",
       "$$\n"
      ],
      "text/plain": [
       "<IPython.core.display.HTML object>"
      ]
     },
     "metadata": {},
     "output_type": "display_data"
    },
    {
     "name": "stdout",
     "output_type": "stream",
     "text": [
      "... Defining figures captions \n"
     ]
    },
    {
     "data": {
      "text/html": [
       "<style>\n",
       ".caption {\n",
       "font-weight: normal;\n",
       "text-align: left;\n",
       "width:60%; margin-left:10%; border:2px solid; padding-top:5px; padding-bottom:5px;\n",
       "background-color:white;border-color:#efd3d7;color:black;\n",
       "border-radius:8px;-webkit-border-radius:8px;-moz-border-radius:8px;border-radius:8px\n",
       "}\n",
       "</style>"
      ],
      "text/plain": [
       "<IPython.core.display.HTML object>"
      ]
     },
     "metadata": {},
     "output_type": "display_data"
    },
    {
     "name": "stdout",
     "output_type": "stream",
     "text": [
      "... Loading customized Javascript for interactive solutions (show/hide)\n"
     ]
    }
   ],
   "source": [
    "%run nbinit.ipy"
   ]
  },
  {
   "cell_type": "markdown",
   "metadata": {},
   "source": [
    "# Introduction to the Fourier representation"
   ]
  },
  {
   "cell_type": "markdown",
   "metadata": {},
   "source": [
    "We begin by a simple example which shows that the addition of some sine waves, with special coefficients, converges constructively. We then explain that any periodic signal can be expressed as a sum of sine waves. This is the notion of Fourier series. After an illustration (denoising of a corrupted signal) which introduces a notion of filtering in the frequency domain, we show how the Fourier representation can be extended to aperiodic signals. \n",
    "\n",
    "- [Simple examples](#simple_examples)\n",
    "- [Decomposition on basis - scalar producs](#decomposition)\n",
    "- [Decomposition of periodic functions -- Fourier series](#Fourier_series)\n",
    "- [Complex Fourier series](#Complex_Fourier_series)\n",
    "- [Computer experiment](#Compute_exp)\n",
    "- [Towards Fourier transform](#Towards_the_FT)"
   ]
  },
  {
   "cell_type": "markdown",
   "metadata": {},
   "source": [
    "## Simple examples <a name=\"simple_examples\"></a>"
   ]
  },
  {
   "cell_type": "markdown",
   "metadata": {},
   "source": [
    "> Read the script below, execute (CTRL-Enter), experiment with the parameters. "
   ]
  },
  {
   "cell_type": "code",
   "execution_count": null,
   "metadata": {
    "collapsed": false
   },
   "outputs": [],
   "source": [
    "N=100\n",
    "L=20\n",
    "s=np.zeros(N-1)\n",
    "\n",
    "for k in np.arange(1,3,2):\n",
    "    s=s+1/float(k)*sin(2*pi*k/L*np.arange(1,N,1))\n",
    "plt.plot(s)    \n",
    "plt.title(\"Somme avec \"+str((k-1)/2+1)+\" termes\")"
   ]
  },
  {
   "cell_type": "markdown",
   "metadata": {},
   "source": [
    "The next example is more involved in that it sums sin a cos of different frequencies and with different amplitudes. We also add widgets (sliders) which enable to interact more easily with the program. "
   ]
  },
  {
   "cell_type": "code",
   "execution_count": null,
   "metadata": {
    "collapsed": false
   },
   "outputs": [],
   "source": [
    "def sfou_exp(Km):\n",
    "    clear_output(wait=True)\n",
    "    Kmax=int(Km)\n",
    "    L=400\n",
    "    N=1000\n",
    "    k=0\n",
    "    s=np.zeros(N-1)\n",
    "    #plt.clf()\n",
    "    for k in np.arange(1,Kmax):\n",
    "        ak=0\n",
    "        bk=1.0/k if (k % 2) == 1 else 0 # k odd\n",
    "        \n",
    "       # ak=0 #if (k % 2) == 1 else -2.0/(pi*k**2) \n",
    "       # bk=-1.0/k if (k % 2) == 1 else 1.0/k # \n",
    "        \n",
    "        s=s+ak*cos(2*pi*k/L*np.arange(1,N,1))+bk*sin(2*pi*k/L*np.arange(1,N,1))\n",
    "    ax = plt.axes(xlim=(0, N), ylim=(-2, 2))        \n",
    "    ax.plot(s)    \n",
    "    plt.title(\"Sum with {} terms\".format(k+1))\n",
    "    \n",
    "### --------------------------------------------------    "
   ]
  },
  {
   "cell_type": "code",
   "execution_count": null,
   "metadata": {
    "collapsed": false
   },
   "outputs": [],
   "source": [
    "    \n",
    "\n",
    "fig = plt.figure()\n",
    "ax = plt.axes(xlim=(0, 100), ylim=(-2, 2))\n",
    "\n",
    "# ---- Widgets -----------------------\n",
    "# slider=widgets.FloatSlider(max=100,min=0,step=1,value=1)\n",
    "slide=widgets.IntSlider(max=100,min=0,step=1,value=1)\n",
    "val=widgets.IntText(value='1')\n",
    "\n",
    "#----- Callbacks des widgets -------------\n",
    "def sfou1_Km(name,Km):\n",
    "        val.value=str(Km)\n",
    "        sfou_exp(Km)\n",
    "\n",
    "def sfou2_Km(name, Km):\n",
    "        slide.value=Km\n",
    "        #sfou_exp(Km.value)\n",
    "\n",
    "    \n",
    "# ---- Display -----------------    \n",
    "display(slide)\n",
    "display(val)\n",
    "slide.on_trait_change(sfou1_Km,'value')\n",
    "val.on_trait_change(sfou2_Km,'value')"
   ]
  },
  {
   "cell_type": "markdown",
   "metadata": {},
   "source": [
    "### Decomposition on basis - scalar producs <a name=\"decomposition\"></a>"
   ]
  },
  {
   "cell_type": "markdown",
   "metadata": {},
   "source": [
    "We recall here that any vector can be expressed on a orthonormal basis, and that the coordinates are the scalar product of the vector with the basis vectors. "
   ]
  },
  {
   "cell_type": "code",
   "execution_count": null,
   "metadata": {
    "collapsed": false
   },
   "outputs": [],
   "source": [
    "z=array([1,2])\n",
    "u=array([0,1])\n",
    "v=array([1,0])\n",
    "u1=array([1,1])/sqrt(2)\n",
    "v1=array([-1,1])/sqrt(2)\n",
    "\n",
    "f,ax=subplots(1,1,figsize=(4,4))\n",
    "ax.set_xlim([-1,3])\n",
    "ax.set_ylim([-1,3])\n",
    "ax.spines['right'].set_color('none')\n",
    "ax.spines['top'].set_color('none')\n",
    "#ax.spines['bottom'].set_position('center')\n",
    "ax.quiver(0,0,z[0],z[1],angles='xy',scale_units='xy',scale=1,color='green')\n",
    "ax.quiver(0,0,u[0],u[1],angles='xy',scale_units='xy',scale=1,color='black')\n",
    "ax.quiver(0,0,v[0],v[1],angles='xy',scale_units='xy',scale=1,color='black')\n",
    "ax.quiver(0,0,u1[0],u1[1],angles='xy',scale_units='xy',scale=1,color='red')\n",
    "ax.quiver(0,0,v1[0],v1[1],angles='xy',scale_units='xy',scale=1,color='red')\n",
    "ax.xaxis.set_ticks_position('bottom')\n",
    "ax.yaxis.set_ticks_position('left')"
   ]
  },
  {
   "cell_type": "markdown",
   "metadata": {},
   "source": [
    "From a coordinate system to another: \n",
    "Take a vector (in green in the illustration). Its coordinates in the system $(u,v)$ are [1,2]. In order to obtain the coordinates in the new system $(O,u_1,v_1)$, we have to project the vector on $u_1$ and $u_2$. This is done by the scalar products: "
   ]
  },
  {
   "cell_type": "code",
   "execution_count": null,
   "metadata": {
    "collapsed": false
   },
   "outputs": [],
   "source": [
    "x=z.dot(u1)\n",
    "y=z.dot(v1)\n",
    "print('New coordinates: ',x,y)"
   ]
  },
  {
   "cell_type": "markdown",
   "metadata": {},
   "source": [
    "## Decomposition of periodic functions -- Fourier series <a name=\"Fourier_series\"></a>"
   ]
  },
  {
   "cell_type": "markdown",
   "metadata": {},
   "source": [
    "This idea can be extended to (periodic) functions. Consider the set of all even periodic functions, with a given period, say $L$. The cosine wave functions of all the multiple or the *fundamental* frequency $1/L$ constitute a basis of even periodic functions with period $T$. Let us check that these functions are normed and ortogonal with each other."
   ]
  },
  {
   "cell_type": "code",
   "execution_count": null,
   "metadata": {
    "collapsed": false
   },
   "outputs": [],
   "source": [
    "L=200\n",
    "k=8\n",
    "l=3\n",
    "sk=sqrt(2/L)*cos(2*pi/L*k*np.arange(0,L))\n",
    "sl=sqrt(2/L)*cos(2*pi/L*l*np.arange(0,L))\n"
   ]
  },
  {
   "cell_type": "code",
   "execution_count": null,
   "metadata": {
    "collapsed": false
   },
   "outputs": [],
   "source": [
    "sl.dot(sl)"
   ]
  },
  {
   "cell_type": "markdown",
   "metadata": {},
   "source": [
    "Except in the case $l=0$ where a factor 2 entails"
   ]
  },
  {
   "cell_type": "code",
   "execution_count": null,
   "metadata": {
    "collapsed": false
   },
   "outputs": [],
   "source": [
    "l=0\n",
    "sl=sqrt(2/L)*cos(2*pi/L*l*np.arange(0,L))\n",
    "sl.dot(sl)"
   ]
  },
  {
   "cell_type": "markdown",
   "metadata": {},
   "source": [
    "Therefore, the decomposition of any even periodic function $x(n)$ with period $L$ on the basis of cosines expresses as\n",
    "$$\n",
    "x(n)  = \\sqrt{\\frac{2}{L}}\\left(\\frac{a_0}{2}+\\sum_{k=1}^{+\\infty} a_k \\cos(2\\pi k/L n)\\right)\n",
    "$$\n",
    "with\n",
    "$$a_k = \\sqrt{\\frac{2}{L}}\\sum_{n\\in[L]} x(n)  \\cos(2 \\pi k/L n). $$\n",
    "Regrouping the factors, the series can also be expressed as\n",
    "$$\n",
    "x_\\mathrm{even}(n)  = \\left(\\frac{a_0}{2}+\\sum_{k=1}^{L-1} a_k \\cos(2\\pi k/L n)\\right)\n",
    "$$\n",
    "with\n",
    "$$\n",
    "a_k = \\frac{2}{L}\\sum_{n\\in[L]} x(n)  \\cos(2 \\pi k/L n), \n",
    "$$ \n",
    "where the notation $n\\in[L]$  indicates that the sum has to be done on any length-$L$ interval. \n",
    "The very same reasoning can be done for odd functions, which introduces a decomposition into sine waves:\n",
    "$$\n",
    "x_\\mathrm{odd}(n)  = \\sum_{k=0}^{L-1} b_k \\sin(2\\pi k/L n)\n",
    "$$\n",
    "with\n",
    "$$\n",
    "b_k = \\frac{2}{L}\\sum_{n\\in[L]} x(n)  \\sin(2 \\pi k/L n), \n",
    "$$ \n",
    "Since any function can be decomposed into an odd + even part\n",
    "$$\n",
    "x(n) = x_\\mathrm{even}(n) + x_\\mathrm{odd}(n) = \\frac{x(n)+x(-n)}{2} + \\frac{x(n)-x(-n)}{2},\n",
    "$$\n",
    "we have the sum of the decompositions:\n",
    "\n",
    "$$\n",
    "\\boxed{\n",
    "x(n)  = \\frac{a_0}{2}+\\sum_{k=1}^{L-1} a_k \\cos(2\\pi k/L n)+\\sum_{k=1}^{+\\infty} b_k \\sin(2\\pi k/L n)\n",
    "}\n",
    "$$\n",
    "with\n",
    "$$\n",
    "\\boxed{\n",
    "\\begin{cases}\n",
    "a_k = \\frac{2}{L}\\sum_{n\\in[L]} x(n)  \\cos(2 \\pi k/L n),\\\\\n",
    "b_k = \\frac{2}{L}\\sum_{n\\in[L]} x(n)  \\sin(2 \\pi k/L n), \n",
    "\\end{cases}\n",
    "}\n",
    "$$\n",
    "This is the definition of the Fourier series, and this is no more compicated than that... A remaining question is the question of convergence. That is, does the series converge to the true function? The short answer is Yes: the equality in the series expansion is a true equality, not an approximation. This is a bit out of scope for this course, but you may have a look at [this article](http://en.wikipedia.org/wiki/Convergence_of_Fourier_series). \n",
    "\n",
    "There of course exists a continuous version, valid for time-continuous dignals. \n",
    "\n"
   ]
  },
  {
   "cell_type": "markdown",
   "metadata": {},
   "source": [
    "## Complex Fourier series"
   ]
  },
  {
   "cell_type": "markdown",
   "metadata": {},
   "source": [
    "### Introduction"
   ]
  },
  {
   "cell_type": "markdown",
   "metadata": {},
   "source": [
    "Another series expansion can be defined for complex valued signals. In such case, the trigonometric functions will be replaced by complex exponentials $\\exp(j2\\pi k/L n)$. Let us check that they indeed form a basis of signals:"
   ]
  },
  {
   "cell_type": "code",
   "execution_count": null,
   "metadata": {
    "collapsed": false
   },
   "outputs": [],
   "source": [
    "L=200\n",
    "k=8\n",
    "l=3\n",
    "sk=sqrt(1/L)*exp(1j*2*pi/L*k*np.arange(0,L))\n",
    "sl=sqrt(1/L)*exp(1j*2*pi/L*l*np.arange(0,L))\n",
    "print(\"scalar product between sk and sl: \",np.vdot(sk,sl))\n",
    "print(\"scalar product between sk and sl (i.e. norm of sk): \",np.vdot(sk,sk))"
   ]
  },
  {
   "cell_type": "markdown",
   "metadata": {},
   "source": [
    "It is thus possible to decompose a signal as follows:\n",
    "$$\\boxed{\\begin{aligned}\n",
    "x(n) &= \\sum_{k=0}^{L-1} c_k  e^{j2\\pi\\frac{ k n}{L}}\\\\\n",
    "\\text{with   }\n",
    "c_k &= \\frac{1}{L} \\sum_{n\\in[L]} x(n) e^{-j2\\pi\\frac{ kn }{L} }\n",
    "\\end{aligned}\n",
    "}$$\n",
    "where $c_k$ is the dot product between $x(n)$ and $\\exp(j2\\pi k/L n)$, i.e. the 'coordinate' of $x$ with respect to the 'vector' $\\exp(j2\\pi k/L n)$. \n",
    "This is nothing but the definition of the `complex Fourier series`. \n",
    "\n",
    "**Exercise** -- Show that $c_k$ is periodic with period $L$; i.e. $c_k=c_{k+L}$. \n",
    "\n",
    "Since $c_k$ is periodic in $k$ of period $L$, we see that in term or the *\"normalized frequency\"* $k/L$, it is periodic with period 1. "
   ]
  },
  {
   "cell_type": "markdown",
   "metadata": {},
   "source": [
    "#### Relation of the complex Fourier Series with the standard Fourier Series"
   ]
  },
  {
   "cell_type": "markdown",
   "metadata": {},
   "source": [
    "$\\def\\R#1{\\mathcal{R}\\left\\{#1\\right\\}}$\n",
    "$\\def\\I#1{\\mathcal{I}\\left\\{#1\\right\\}}$"
   ]
  },
  {
   "cell_type": "markdown",
   "metadata": {},
   "source": [
    "It is easy to find a relation between this complex Fourier series and the classical Fourier series. The series can be rewritten as\n",
    "$$\n",
    "x(n) = c_0 + \\sum_{k=1}^{+\\infty} c_k e^{j2\\pi k/L n} + c_{-k} e^{-j2\\pi k/L n}.\n",
    "$$\n",
    "\n",
    "By using the [Euler formulas](http://en.wikipedia.org/wiki/Euler's_formula), developping and rearranging, we get\n",
    "$$\n",
    "\\begin{align}\n",
    "x(n) & = c_0 + \\sum_{k=1}^{+\\infty} \\R{c_k+c_{-k}}\\cos(2\\pi k/L n) + \n",
    " \\I{c_{-k}-c_k}\\sin(2\\pi k/L n) \\\\ &+ j\\left(\\R{c_k-c_{-k}}\\sin(2\\pi k/L n) + \\I{c_k+c_{-k}} \\cos(2\\pi k/L n)\\right).   \n",
    "\\end{align}\n",
    "$$\n",
    "Suppose that $x(n)$ is real valued. Then by direct identification, we have\n",
    "$$\n",
    "\\begin{cases}\n",
    "a_k=\\R{c_k+c_{-k}}\\\\\n",
    "b_k=\\I{c_{-k}-c_k}\n",
    "\\end{cases}\n",
    "$$\n",
    "and, by the cancellation of the imaginary part, the following symmetry relationships for real signals: \n",
    "$$\n",
    "\\begin{cases}\n",
    "\\R{c_k}=\\R{c_{-k}}\\\\\n",
    "\\I{c_k}=-\\I{c_{-k}}.\n",
    "\\end{cases}\n",
    "$$\n",
    "This symmetry is called `Hermitian symmetry'. "
   ]
  },
  {
   "cell_type": "markdown",
   "metadata": {},
   "source": [
    "### Computer experiment <a name=\"Compute_exp\"> </a>\n",
    "\n",
    "> Experiment. Given a signal, computes its decomposition and then reconstruct the signal from its individual components."
   ]
  },
  {
   "cell_type": "code",
   "execution_count": null,
   "metadata": {
    "collapsed": false
   },
   "outputs": [],
   "source": [
    "\n",
    "%matplotlib inline\n",
    "L=400\n",
    "N=500\n",
    "t=np.arange(N)\n",
    "s=sin(2*pi*3*t/L+pi/4)\n",
    "x=[ss if ss>-0.2 else -0.2 for ss in s]\n",
    "plt.plot(t,x)"
   ]
  },
  {
   "cell_type": "markdown",
   "metadata": {},
   "source": [
    "A function for computing the Fourier series coefficients"
   ]
  },
  {
   "cell_type": "code",
   "execution_count": null,
   "metadata": {
    "collapsed": false
   },
   "outputs": [],
   "source": [
    "# compute the coeffs ck\n",
    "def coeffck(x,L,k):\n",
    "    assert np.size(x)==L, \"input must be of length L\"     \n",
    "    karray=[]\n",
    "    res=[]\n",
    "    if isinstance(k,int):\n",
    "       karray.append(k)\n",
    "    else:\n",
    "       karray=np.array(k)\n",
    "   \n",
    "    for k in karray:\n",
    "        res.append(np.vdot(exp(1j*2*pi/L*k*np.arange(0,L)),x))\n",
    "    return 1/L*np.array(res)\n",
    "\n",
    "#test: coeffck(x[0:L],L,[-12,1,7])\n",
    "# --> array([  1.51702135e-02 +4.60742555e-17j,\n",
    "#     -1.31708229e-05 -1.31708229e-05j,   1.37224241e-05 -1.37224241e-05j])"
   ]
  },
  {
   "cell_type": "markdown",
   "metadata": {},
   "source": [
    "Now let us compute the coeffs for actual signal"
   ]
  },
  {
   "cell_type": "code",
   "execution_count": null,
   "metadata": {
    "collapsed": false
   },
   "outputs": [],
   "source": [
    "# compute the coeffs for actual signal\n",
    "c1=coeffck(x[0:L],L,np.arange(0,100))\n",
    "c2=coeffck(x[0:L],L,np.arange(0,-100,-1))\n",
    "s=c1[0]*np.ones((N))\n",
    "for k in np.arange(1,25):\n",
    "    s=s+c1[k]*exp(1j*2*pi/L*k*np.arange(0,N))+c2[k]*exp(-1j*2*pi/L*k*np.arange(0,N))\n",
    "    plt.plot(t,np.real(s))\n",
    "plt.title(\"reconstruction by Fourier series\")\n",
    "plt.xlabel(\"Time\")\n",
    "\n",
    "\n",
    "plt.figure()\n",
    "kk=np.arange(-50,50)\n",
    "c=coeffck(x[0:L],L,kk)\n",
    "plt.stem(kk,np.abs(c))\n",
    "plt.title(\"Fourier series coefficients (modulus)\")\n",
    "plt.xlabel(\"k\")\n",
    "msg=\"\"\"In the frequency representation, the x axis corresponds to the frequencies k/L \n",
    "of the complex exponentials.  \n",
    "Therefore, if a signal is periodic of period M, the corresponding fundamental frequency\n",
    "is 1/M. This frequency then appears at index ko=L/M (if this ratio is an integer). \n",
    "Harmonics will appear at multiples of ko.\"\"\"\n",
    "print(msg)"
   ]
  },
  {
   "cell_type": "markdown",
   "metadata": {},
   "source": [
    "A pulse train corrupts our original signal"
   ]
  },
  {
   "cell_type": "code",
   "execution_count": null,
   "metadata": {
    "collapsed": false
   },
   "outputs": [],
   "source": [
    "L=400\n",
    "# define a pulse train which will corrupt our original signal\n",
    "def sign(x):\n",
    "    if isinstance(x,(int,float)):\n",
    "        return 1 if x>=0 else -1\n",
    "    else:\n",
    "        return np.array([1 if u>=0 else -1 for u in x])\n",
    "\n",
    "#test: sign([2, 1, -0.2, 0])\n",
    "\n",
    "\n",
    "def repeat(x,n):\n",
    "    if isinstance(x,(np.ndarray,list,int,float)):\n",
    "        return np.array([list(x)*n]).flatten()\n",
    "    else:\n",
    "        raise('input must be an array,list,or float/int')\n",
    "\n",
    "#t=np.arange(N)\n",
    "#sig=sign(sin(2*pi*10*t/L))"
   ]
  },
  {
   "cell_type": "code",
   "execution_count": null,
   "metadata": {
    "collapsed": false
   },
   "outputs": [],
   "source": [
    "rect=np.concatenate((np.ones(20),-np.ones(20)))\n",
    "#[1,1,1,1,1,-1,-1,-1,-1,-1]\n",
    "\n",
    "sig=repeat(rect,15)\n",
    "sig=sig[0:N]\n",
    "plt.plot(sig)\n"
   ]
  },
  {
   "cell_type": "markdown",
   "metadata": {},
   "source": [
    "Compute and represent the Fourier coeffs of the pulse train"
   ]
  },
  {
   "cell_type": "code",
   "execution_count": null,
   "metadata": {
    "collapsed": false
   },
   "outputs": [],
   "source": [
    "kk=np.arange(-100,100)\n",
    "c=coeffck(sig[0:L],L,kk)\n",
    "plt.figure()\n",
    "plt.stem(kk,np.abs(c))\n",
    "plt.title(\"Fourier series coefficients (modulus)\")\n",
    "plt.xlabel(\"k\")\n"
   ]
  },
  {
   "cell_type": "markdown",
   "metadata": {},
   "source": [
    "The fundamental frequency of the pulse train is 1 over the length of the pulse, that is 1/40 here. Since The Fourier series is computed on a length L=400, the harmonics appear every 10 samples (ie at indexes k multiples of 10). "
   ]
  },
  {
   "cell_type": "code",
   "execution_count": null,
   "metadata": {
    "collapsed": false
   },
   "outputs": [],
   "source": [
    "z=x+1*sig\n",
    "plt.plot(z)\n",
    "plt.title(\"Corrupted signal\")\n",
    "\n",
    "kk=np.arange(-200,200)\n",
    "cz=coeffck(z[0:L],L,kk)\n",
    "plt.figure()\n",
    "plt.stem(kk,np.abs(cz))\n",
    "plt.title(\"Fourier series coefficients (modulus)\")\n",
    "plt.xlabel(\"k\")"
   ]
  },
  {
   "cell_type": "markdown",
   "metadata": {},
   "source": [
    "Now, we try to kill all the frequencies harmonics of 10 (the fundamental frequency of the pulse train), and reconstruct the resulting signal..."
   ]
  },
  {
   "cell_type": "code",
   "execution_count": null,
   "metadata": {
    "collapsed": false
   },
   "outputs": [],
   "source": [
    "# kill frequencies harmonics of 10 (the fundamental frequency of the pulse train)\n",
    "# and reconstruct the resulting signal\n",
    "\n",
    "s=np.zeros(N)\n",
    "kmin=np.min(kk)\n",
    "for k in kk:\n",
    "    if not k%10:  #true if k is multiple of 10\n",
    "        s=s+cz[k+kmin]*exp(1j*2*pi/L*k*np.arange(0,N))\n",
    "plt.figure()\n",
    "plt.plot(t,np.real(s))\n",
    "plt.title(\"reconstruction by Fourier series\")\n",
    "plt.xlabel(\"Time\")\n",
    "\n",
    "plt.figure()\n",
    "plt.plot(t,z-np.real(s))\n",
    "plt.title(\"reconstruction by Fourier series\")\n",
    "plt.xlabel(\"Time\")"
   ]
  },
  {
   "cell_type": "markdown",
   "metadata": {},
   "source": [
    "----\n",
    "<div align=right> [Index](toc.ipynb) - [Back](Intro_Filtering.ipynb) - [Next](Fourier_transform.ipynb)</div>"
   ]
  }
 ],
 "metadata": {
  "interactive_sols": {
   "cbx_id": 1
  },
  "kernelspec": {
   "display_name": "Python 3",
   "language": "python",
   "name": "python3"
  },
  "language_info": {
   "codemirror_mode": {
    "name": "ipython",
    "version": 3
   },
   "file_extension": ".py",
   "mimetype": "text/x-python",
   "name": "python",
   "nbconvert_exporter": "python",
   "pygments_lexer": "ipython3",
   "version": "3.4.3+"
  },
  "latex_envs": {
   "bibliofile": "biblio.bib",
   "cite_by": "apalike",
   "current_citInitial": 1,
   "eqLabelWithNumbers": true,
   "eqNumInitial": 0
  }
 },
 "nbformat": 4,
 "nbformat_minor": 0
}
