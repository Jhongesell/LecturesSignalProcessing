{
 "cells": [
  {
   "cell_type": "markdown",
   "metadata": {},
   "source": [
    "# Table of Contents\n",
    "* &nbsp;\n",
    "\t* [Synthesis of IIR filters by the bilinear transformation method](#Synthesis-of-IIR-filters-by-the-bilinear-transformation-method)\n",
    "\t\t* [The bilinear transform](#The-bilinear-transform)\n",
    "\t\t* [Synthesis of low-pass filters -- procedure](#Synthesis-of-low-pass-filters----procedure)\n",
    "\t\t* [Synthesis of other type of filters](#Synthesis-of-other-type-of-filters)\n",
    "\t\t* [Numerical results](#Numerical-results)\n"
   ]
  },
  {
   "cell_type": "code",
   "execution_count": 3,
   "metadata": {
    "collapsed": false
   },
   "outputs": [
    {
     "name": "stdout",
     "output_type": "stream",
     "text": [
      "... Configuring matplotlib formats\n",
      "... Configuring matplotlib with inline figures\n",
      "... Importing numpy as np, scipy as sp, pyplot as plt, scipy.stats as stats\n",
      "   ... scipy.signal as sig\n",
      "... Importing widgets, display, HTML, Image, Javascript\n",
      "... Some LaTeX definitions\n"
     ]
    },
    {
     "data": {
      "text/html": [
       "\n",
       "$$\\require{color}\n",
       "\\require{cancel}\n",
       "\\def\\tf#1{{\\mathrm{FT}\\left\\{ #1 \\right\\}}}\n",
       "\\def\\flecheTF{\\rightleftharpoons }\n",
       "\\def\\TFI#1#2#3{{\\displaystyle{\\int_{-\\infty}^{+\\infty} #1 ~e^{j2\\pi #2 #3} \n",
       "~\\dr{#2}}}}\n",
       "\\def\\TF#1#2#3{{\\displaystyle{\\int_{-\\infty}^{+\\infty} #1 ~e^{-j2\\pi #3 #2} \n",
       "~\\dr{#2}}}}\n",
       "\\def\\sha{ш}\n",
       "\\def\\dr#1{\\mathrm{d}#1}\n",
       "\\def\\egalpardef{\\mathop{=}\\limits^\\triangle}\n",
       "\\def\\sinc#1{{\\mathrm{sinc}\\left( #1 \\right)}}\n",
       "\\def\\rect{\\mathrm{rect}}\n",
       "\\definecolor{lightred}{rgb}{1,0.1,0}\n",
       "\\def\\myblueeqbox#1{{\\fcolorbox{blue}{lightblue}{$\textcolor{blue}{ #1}$}}}\n",
       "\\def\\myeqbox#1#2{{\\fcolorbox{#1}{light#1}{$\textcolor{#1}{ #2}$}}}\n",
       "\\def\\eqbox#1#2#3#4{{\\fcolorbox{#1}{#2}{$\\textcolor{#3}{ #4}$}}}\n",
       "% border|background|text\n",
       "\\def\\eqboxa#1{{\\boxed{#1}}}\n",
       "\\def\\eqboxb#1{{\\eqbox{green}{white}{green}{#1}}}\n",
       "\\def\\eqboxc#1{{\\eqbox{blue}{white}{blue}{#1}}}\n",
       "\\def\\eqboxd#1{{\\eqbox{blue}{lightblue}{blue}{#1}}}\n",
       "\\def\\E#1{\\mathbb{E}\\left[#1\\right]}\n",
       "\\def\\ta#1{\\left<#1\\right>}\n",
       "\\def\\egalparerg{{\\mathop{=}\\limits_\\mathrm{erg}}}\n",
       "\\def\\expo#1{\\exp\\left(#1\\right)}\n",
       "\\def\\d#1{\\mathrm{d}#1}\n",
       "\\def\\wb{\\mathbf{w}} \n",
       "\\def\\sb{\\mathbf{s}} \n",
       "\\def\\xb{\\mathbf{x}}\n",
       "\\def\\Rb{\\mathbf{R}} \n",
       "\\def\\rb{\\mathbf{r}} \n",
       "\\def\\mystar{{*}}\n",
       "\\def\\ub{\\mathbf{u}}\n",
       "\\def\\wbopt{\\mathop{\\mathbf{w}}\\limits^\\triangle}\n",
       "\\def\\deriv#1#2{\\frac{\\mathrm{d}#1}{\\mathrm{d}#2}}\n",
       "\\def\\Ub{\\mathbf{U}}\n",
       "\\def\\db{\\mathbf{d}}\n",
       "\\def\\eb{\\mathbf{e}}\n",
       "\\def\\vb{\\mathbf{v}}\n",
       "\\def\\Ib{\\mathbf{I}}\n",
       "\\def\\Vb{\\mathbf{V}}\n",
       "\\def\\Lambdab{\\mathbf{\\Lambda}}\n",
       "\\def\\Ab{\\mathbf{A}}\n",
       "\\def\\Bb{\\mathbf{B}}\n",
       "\\def\\Cb{\\mathbf{C}}\n",
       "\\def\\Db{\\mathbf{D}}\n",
       "\\def\\Kb{\\mathbf{K}}\n",
       "\\def\\sinc#1{\\mathrm{sinc\\left(#1\\right)}}\n",
       "$$\n"
      ],
      "text/plain": [
       "<IPython.core.display.HTML object>"
      ]
     },
     "metadata": {},
     "output_type": "display_data"
    },
    {
     "name": "stdout",
     "output_type": "stream",
     "text": [
      "... Defining figures captions \n"
     ]
    },
    {
     "data": {
      "text/html": [
       "<style>\n",
       ".caption {\n",
       "font-weight: normal;\n",
       "text-align: left;\n",
       "width:60%; margin-left:10%; border:2px solid; padding-top:5px; padding-bottom:5px;\n",
       "background-color:white;border-color:#efd3d7;color:black;\n",
       "border-radius:8px;-webkit-border-radius:8px;-moz-border-radius:8px;border-radius:8px\n",
       "}\n",
       "</style>"
      ],
      "text/plain": [
       "<IPython.core.display.HTML object>"
      ]
     },
     "metadata": {},
     "output_type": "display_data"
    },
    {
     "name": "stdout",
     "output_type": "stream",
     "text": [
      "... Loading customized Javascript for interactive solutions (show/hide)\n"
     ]
    }
   ],
   "source": [
    "%run nbinit.ipy"
   ]
  },
  {
   "cell_type": "code",
   "execution_count": 4,
   "metadata": {
    "collapsed": false
   },
   "outputs": [],
   "source": [
    "import warnings\n",
    "warnings.filterwarnings(\"ignore\", category=DeprecationWarning) "
   ]
  },
  {
   "cell_type": "code",
   "execution_count": 5,
   "metadata": {
    "collapsed": false
   },
   "outputs": [],
   "source": [
    "import seaborn as sns                 #this can be removed safely  if seaborn is not available\n",
    "sns.mpl.rc(\"figure\", figsize=(7,4))   #idem "
   ]
  },
  {
   "cell_type": "markdown",
   "metadata": {},
   "source": [
    "## Synthesis of IIR filters by the bilinear transformation method"
   ]
  },
  {
   "cell_type": "markdown",
   "metadata": {},
   "source": [
    "A simple and effective method for designing IIR digital filters with prescribed\n",
    "magnitude response specifications is the bilinear transformation method. The point is that already exists well-known optimal methods for the design of analog filters, such as Butterworth, Chebyshev, or elliptic filter designs. \n",
    "Then, the idea is to map the digital filter into an equivalent analog filter, which can be designed optimally, and map back the design to the digital domain. The key for this procedure is to dispose of a reversible mapping from the analog domain to the digital domain. "
   ]
  },
  {
   "cell_type": "markdown",
   "metadata": {},
   "source": [
    "### The bilinear transform"
   ]
  },
  {
   "cell_type": "markdown",
   "metadata": {},
   "source": [
    "Recall that in the analog domain, the equivalent of the Z-transform is the [Laplace transform](http://en.wikipedia.org/wiki/Laplace_transform) which associates a signal $s(t)$ with a function $S(p)$ of the complex variable $p$. When $p$ lives on the imaginary axis of the complex plane, then the Laplace transform reduces to the Fourier transform (for causal signals). For transfer functions, stability is linked to the positions of poles in the complex plane. They must have a negative real part (that is belong to the left half plane) to ensure the stability of the underlying system. "
   ]
  },
  {
   "cell_type": "markdown",
   "metadata": {},
   "source": [
    "The formula for the bilinear transform comes from a formal analogy between the derivation operator in the Laplace and Z domains. \n",
    "\n",
    "The bilinear transform makes an association between  analog  and  digital frequencies, as follows:\n",
    "\\begin{equation}\n",
    "\\eqboxd{\n",
    "\\displaystyle{\n",
    "p=k \\frac{1-z^{-1}}{1+z^{-1}}}},\n",
    "\\label{eq:BLT}\n",
    "\\end{equation}\n",
    "where $k$ is an arbitrary constant. The usual derivation leads to $k=2/T_s$, where  $T_s$ is the sampling period. However, using a general parameter $k$ does not change the methodology and offers a free parameter that enables to simplify the procedure. \n",
    "\n",
    "The  point is that this transform presents some interesting  and useful features:\n",
    "\n",
    " 1. It preserves stability and minimum phase property (the zeros of the transfer function  are with negative real part (analog case) or are inside the unit circle (discrete case). \n",
    " 2. It maps the infinite analog axis into a periodic frequency axis in the frequency domain for discrete signals. That mapping is highly non linear and warp the frequency components, but it recovers the well-known property of periodicity of the Fourier transform of discrete signals. \n",
    " \n",
    "The corresponding mapping of frequencies is obtained as follows. Letting $p=j\\omega_a=j2\\pi f_a $ and $z=\\exp(\\omega_d)=\\exp(j2\\pi f_d)$. Plugging this in (\\ref{eq:BLT}), we readily obtain\n",
    " \\begin{equation}\n",
    " \\eqboxc{\\displaystyle{\n",
    " \\omega_a=k \\tan\\left( \\frac{\\omega_d }{2}\\right)}},\n",
    " \\label{eq:prewarping}\n",
    " \\end{equation}\n",
    " or\n",
    " \\begin{equation}\n",
    " \\eqboxc{\\displaystyle{\n",
    " \\omega_d=2 \\arctan\\left( \\frac{\\omega_a }{k}\\right)}}.\n",
    " \\label{eq:prewarping_b}\n",
    " \\end{equation}\n",
    "The transformation (\\ref{eq:prewarping}) corresponds to the initial transform of the specifications in the digital domain into analog domain specifications. It is often called a *pre-warping* . Figure \\ref{fig:BLT} shows the mapping of pulsations from one domain into the other one."
   ]
  },
  {
   "cell_type": "code",
   "execution_count": null,
   "metadata": {
    "collapsed": false
   },
   "outputs": [],
   "source": [
    "k=2; xmin=-5*pi; xmax=-xmin\n",
    "omegaa=np.arange(xmin, xmax,0.1)\n",
    "omegad=2*np.arctan(omegaa/k)\n",
    "plt.plot(omegaa,omegad)\n",
    "plt.plot([xmin, xmax],[-pi, -pi],'--', color='lightblue')\n",
    "plt.plot([xmin, xmax],[pi, pi],'--', color='lightblue')\n",
    "#plt.text(-3.7,0.4,'Fs/2', color='blue',fontsize=14)\n",
    "plt.xlabel(\"Analog pulsations $\\omega_a$\")\n",
    "plt.ylabel(\"Digital pulsations $\\omega_d$\")\n",
    "_=plt.xlim([xmin, xmax])\n",
    "plt.title(\"Frequency mapping of the bilinear transform\")\n",
    "figcaption(\"Frequency mapping of the bilinear transform\", label=\"fig:BLT\")"
   ]
  },
  {
   "cell_type": "markdown",
   "metadata": {},
   "source": [
    "When designing a digital filter using an analog approximation and the bilinear transform, we follow these steps:\n",
    "Pre-warp the cutoff frequencies\n",
    "Design the necessary analog filter\n",
    "apply the bilinear transform to the transfer function\n",
    "Normalize the resultant transfer function to be monotonic and have a unity passband gain (0dB)."
   ]
  },
  {
   "cell_type": "markdown",
   "metadata": {},
   "source": [
    "### Synthesis of low-pass filters -- procedure"
   ]
  },
  {
   "cell_type": "markdown",
   "metadata": {},
   "source": [
    "Let $\\omega_p$ and $\\omega_s$ denote the edges of the pass-band and of the stop-band. \n",
    "\n",
    "1. For the synthesis of the analog filter, it is convenient to work with a normalized filter such that $\\Omega_p=1$. Therefore, as a first step, we set \n",
    "$$\n",
    "k = \\arctan(\\omega_p/2)\n",
    "$$\n",
    "which ensures that $\\Omega_p=1$. Then, we compute $\\Omega_s=2 \\arctan\\left( \\omega_s /k\\right)$.\n",
    "\n",
    "2. Synthetize the optimum filter in the analog domain, given the type of filter, the frequency and gain constraints. This usually consists in determining the order of the filter such that the gain constraints (ripples, minimum attenuation, etc) are satisfied, and then select the corresponding polynomial. This yields a transfer function $H_a(p)$.\n",
    "\n",
    "3. Map back the results to the digital domain, using the bilinear transform (\\ref{eq:BLT}), that is compute\n",
    "$$\n",
    "\\eqboxc{\\displaystyle{\n",
    "H(z) = \\left. H_a(p) \\right|_{p=k \\frac{1-z^{-1}}{1+z^{-1}}}}}\n",
    "$$\n"
   ]
  },
  {
   "cell_type": "markdown",
   "metadata": {},
   "source": [
    "\\begin{exercise}\n",
    "We want to synthetize a digital filter with $f_p=6kHz$, with a maximum attenuation of -3dB, and a stop-band frequency of $f_s=9kHz$, with a minimum attenuation of -9dB. The Nyquist rate (sampling frequency) is $F_s=36kHz$. \n",
    "\n",
    "- Represent the template for this sythesis,\n",
    "- Compute the pulsations in the analog domain (fix $\\Omega_p=1$).\n",
    "- if we choose a Butterworth filter, the best order is $n=2$ and the corresponding polynomial is $D(p)=p^2+\\sqrt{2}p+1$, and the transfer function is $H_a(p)=1/D(p)$. Compute $H(z)$. \n",
    "- Plot $H(f)$. Use `sig.freqz` for computing the transfer function. We also provide a function `plt_LPtemplate(omega, A, Abounds=None)` which displays the template of the filter. Import it using `from plt_LPtemplate import *`.\n",
    "\\end{exercise}"
   ]
  },
  {
   "cell_type": "code",
   "execution_count": 1,
   "metadata": {
    "cbox_ck": false,
    "cbox_id": "myCheck1",
    "collapsed": false,
    "manualexec": true,
    "widget": true
   },
   "outputs": [
    {
     "data": {
      "text/html": [
       "<div class=\"onoffswitch\">\n",
       "<input type=\"checkbox\" name=\"onoffswitch\" class=\"onoffswitch-checkbox\"\n",
       "onclick=\"document.getElementById('myCheck1').checked ? \n",
       "show_input(2) : hide_input(2)\" \n",
       "id=\"myCheck1\"  checked>\n",
       "<label class=\"onoffswitch-label\" for=\"myCheck1\"> \n",
       "<span class=\"onoffswitch-inner\"></span> \n",
       "<span class=\"onoffswitch-switch\"></span>\n",
       "</label>\n",
       "</div>"
      ],
      "text/plain": [
       "<IPython.core.display.HTML object>"
      ]
     },
     "metadata": {},
     "output_type": "display_data"
    }
   ],
   "source": [
    "from IPython.display import HTML, display, Javascript\n",
    "display(HTML('<div class=\"onoffswitch\">\\n<input type=\"checkbox\" name=\"onoffswitch\" class=\"onoffswitch-checkbox\"\\nonclick=\"document.getElementById('+\"'myCheck1'\"+').checked ? \\nshow_input(2) : hide_input(2)\" \\nid=\"myCheck1\"  checked>\\n<label class=\"onoffswitch-label\" for=\"myCheck1\"> \\n<span class=\"onoffswitch-inner\"></span> \\n<span class=\"onoffswitch-switch\"></span>\\n</label>\\n</div>'))"
   ]
  },
  {
   "cell_type": "markdown",
   "metadata": {
    "hidden": true
   },
   "source": [
    "**Elements of solution** \n",
    " \n",
    " -  $k=1/\\tan(\\pi/6)=\\sqrt{3}$\n",
    " - $\\Omega_s = k \\tan(\\pi/4) = \\sqrt{3}$ \n",
    " - $$\n",
    " H(z) = \\frac{1+2z^{-1}+z^{-2}}{(4+\\sqrt{6})-4 z^{-1} + (4-\\sqrt{6})z^{-2}}\n",
    " $$"
   ]
  },
  {
   "cell_type": "code",
   "execution_count": null,
   "metadata": {
    "collapsed": false,
    "hidden": true
   },
   "outputs": [],
   "source": [
    "# compute the transfer function using freqz \n",
    "w,H = sig.freqz([1, 2, 1],[4+sqrt(6), -4, 4-sqrt(6)], whole=True)\n",
    "# plot the result --w-pi corresponds to a shift of the pulsation \n",
    "#axis associated with the fftshift of the transfer function. \n",
    "plt.plot(w-pi, 20*np.log10(fftshift(np.abs(H))))\n",
    "# plot the filter template\n",
    "from plt_LPtemplate import *\n",
    "plt_LPtemplate([pi/3, pi/2],[-3, -9],Abounds=[5, -35])\n",
    "plt.title(\"Realized filter and its template\")\n",
    "figcaption(\"Realized filter and its template\")"
   ]
  },
  {
   "cell_type": "markdown",
   "metadata": {},
   "source": [
    "In practice, the transfer function can be generated by transforming the poles and zeros of the analog filter into the poles and zeros of the digital filter. This is simply done using the transformation\n",
    "$$\n",
    "z=\\frac{1+p/k}{1-p/k}.\n",
    "$$\n",
    "It remains a global gain that can be fixed using a value at $H(1)$ ($\\omega=0)$.This dramatically simplifies the synthesis in practice.\n"
   ]
  },
  {
   "cell_type": "markdown",
   "metadata": {},
   "source": [
    "### Synthesis of other type of filters"
   ]
  },
  {
   "cell_type": "markdown",
   "metadata": {},
   "source": [
    "For other kind of filters (namely band-pass, high-pass, band-stop), we can either: \n",
    " - use the bilinear transform and the pre-warping to obtain a filter of the same type in the analog domain; then transferring the problem to the analog designer. \n",
    " - use an auxiliary transform that converts a digital low-pass filter into another type of filter. \n",
    "Using the second option, we see that the low-pass synthesis procedure has to be completed with\n",
    "\n",
    "0. Transform the specifications of the digital filter into specifications for a low-pass digital filter.  "
   ]
  },
  {
   "cell_type": "markdown",
   "metadata": {},
   "source": [
    "#### Transposition from a low-pass filter ($\\omega_p$) to another type\n",
    "Let $\\omega_1$ and $\\omega_2$ denote the low and high cut-off frequencies (only $\\omega_1$ for the transposition of a low-pass into a high-pass). These transformations preserve the unit circle. That is, $z=e^{j\\theta}$ is transformed into $z=e^{j\\theta'}$. There is an additional frequency warping, but the notion of frequency is preserved.\n",
    "1. **low-pass $\\omega_p$-- low-pass $\\omega_1$**\n",
    "$$\n",
    "z^{-1} \\rightarrow \\frac{z^{-1}-\\alpha}{1-\\alpha z^{-1}}\n",
    "$$\n",
    "with\n",
    "$$\n",
    "\\alpha=\\frac{\\sin\\left(\\frac{\\omega_p-\\omega_1}{2}\\right)}{\\sin\\left(\\frac{\\omega_p+\\omega_1}{2}\\right)}\n",
    "$$\n",
    "\n",
    "3. **low-pass $\\omega_p$-- band-pass $\\omega_1, \\omega_2 $**\n",
    "$$\n",
    "z^{-1} \\rightarrow - \\frac\n",
    "{z^{-2}-\\frac{2\\alpha \\beta}{\\beta+1} z^{-1} + \\frac{\\beta-1}{\\beta+1}}\n",
    "{\\frac{\\beta-1}{\\beta+1}z^{-2} -\\frac{2\\alpha \\beta}{\\beta+1} z^{-1} + 1}\n",
    "$$\n",
    "with\n",
    "$$\n",
    "\\alpha=\\frac{\\cos\\left(\\frac{\\omega_p+\\omega_1}{2}\\right)}{\\cos\\left(\\frac{\\omega_p-\\omega_1}{2}\\right)}\n",
    "$$\n",
    "and\n",
    "$$\n",
    "\\beta=\\tan\\left(\\frac{\\omega_p}{2}\\right)\\tan\\left(\\frac{\\omega_2-\\omega_1}{2}\\right)\n",
    "$$"
   ]
  },
  {
   "cell_type": "markdown",
   "metadata": {},
   "source": [
    "\\begin{exercise}\n",
    "We want to synthetize an high-pass digital filter with edge frequencies $2, 4, 12$ and $14$ kHz,  with a maximum attenuation of 3dB in the band-pass, and a minimum attenuation of -12dB in the  stop-band. The Nyquist rate (sampling frequency) is $F_s=32kHz$. \n",
    "\n",
    "- Represent the template for this sythesis,\n",
    "- Compute the pulsations in the analog domain (fix $\\Omega_p=1$).\n",
    "- if we choose a Butterworth filter, the best order is $n=2$ and the corresponding polynomial is $D(p)=p^2+\\sqrt{2}p+1$, and the transfer function is $H_a(p)=1/D(p)$. Compute $H(z)$. \n",
    "- Plot $H(f)$. Use `sig.freqz` for computing the transfer function. \n",
    "\\end{exercise}"
   ]
  },
  {
   "cell_type": "code",
   "execution_count": 2,
   "metadata": {
    "cbox_ck": true,
    "cbox_id": "myCheck2",
    "collapsed": false,
    "manualexec": true,
    "widget": true
   },
   "outputs": [
    {
     "data": {
      "text/html": [
       "<div class=\"onoffswitch\">\n",
       "<input type=\"checkbox\" name=\"onoffswitch\" class=\"onoffswitch-checkbox\"\n",
       "onclick=\"document.getElementById('myCheck2').checked ? \n",
       "show_input(2) : hide_input(2)\" \n",
       "id=\"myCheck2\"  checked>\n",
       "<label class=\"onoffswitch-label\" for=\"myCheck2\"> \n",
       "<span class=\"onoffswitch-inner\"></span> \n",
       "<span class=\"onoffswitch-switch\"></span>\n",
       "</label>\n",
       "</div>"
      ],
      "text/plain": [
       "<IPython.core.display.HTML object>"
      ]
     },
     "metadata": {},
     "output_type": "display_data"
    }
   ],
   "source": [
    "from IPython.display import HTML, display, Javascript\n",
    "display(HTML('<div class=\"onoffswitch\">\\n<input type=\"checkbox\" name=\"onoffswitch\" class=\"onoffswitch-checkbox\"\\nonclick=\"document.getElementById('+\"'myCheck2'\"+').checked ? \\nshow_input(2) : hide_input(2)\" \\nid=\"myCheck2\"  checked>\\n<label class=\"onoffswitch-label\" for=\"myCheck2\"> \\n<span class=\"onoffswitch-inner\"></span> \\n<span class=\"onoffswitch-switch\"></span>\\n</label>\\n</div>'))"
   ]
  },
  {
   "cell_type": "markdown",
   "metadata": {
    "hidden": false
   },
   "source": [
    "** Sketch of solution**\n",
    "- normalized pulsations: $\\omega_0=\\frac{\\pi}{8}, \\omega_1=\\frac{\\pi}{4}, \\omega_2=\\frac{3\\pi}{4}, \\omega_3=\\frac{7\\pi}{8}$\n",
    "- transposition into a digital low-pass $\\alpha=0, \\beta=\\tan(\\omega_p/2)$. Choosing $\\beta=1$, we get $\\omega_p=\\pi/2$\n",
    "- the transform is thus $z^{-1} \\rightarrow -z^{-2}$\n",
    "- In the BLT, we take $k=1$; thus $\\omega_s=1$ and $\\omega_s=\\tan(3\\pi/8)$\n",
    "- Finally, we obtain\n",
    "$$\n",
    " H(z) = \\frac{1+2z^{-1}+z^{-2}}{(2+\\sqrt{2}) + (2-\\sqrt{2})z^{-2}}\n",
    " $$\n",
    " for the digital low-pass, which after  the transform  $z^{-1} \\rightarrow -z^{-2}$ gives\n",
    "$$\n",
    " H(z) = \\frac{1-2z^{-2}+z^{-4}}{(2+\\sqrt{2}) + (2-\\sqrt{2})z^{-4}}\n",
    "$$"
   ]
  },
  {
   "cell_type": "code",
   "execution_count": null,
   "metadata": {
    "collapsed": false,
    "hidden": false
   },
   "outputs": [],
   "source": [
    "# compute the transfer function using freqz \n",
    "w,H = sig.freqz([1, 0, -2, 0, 1],[2+sqrt(2), 0, 0, 0, 2-sqrt(2)], whole=True)\n",
    "# plot the result --w-pi corresponds to a shift of the pulsation \n",
    "#axis associated with the fftshift of the transfer function. \n",
    "plt.plot((w-pi)/(2*pi)*32, 20*np.log10(fftshift(np.abs(H))))\n",
    "plt.xlabel(\"Frequencies\")\n",
    "_=plt.ylim([-15, 0])\n"
   ]
  },
  {
   "cell_type": "markdown",
   "metadata": {},
   "source": [
    "### Numerical results"
   ]
  },
  {
   "cell_type": "markdown",
   "metadata": {},
   "source": [
    "Finally, we point out that these procedures have been systematized into computer programs. Two functions are available in scipy to design an IIR filter: `sig.iirfilter` that computes the coefficients of a filter for a given order, and  `sig.iirdesign` that even determine a correct order given constraint on maximum and/or minimum attenuation. It is instructive to consult the help of these functions (e.g. `help(sig.iirdesign)`) and try to reproduce the results we obtained analytically above. Possible solutions are provided below."
   ]
  },
  {
   "cell_type": "code",
   "execution_count": null,
   "metadata": {
    "collapsed": false
   },
   "outputs": [],
   "source": [
    "b,a= sig.iirfilter(2, [1/(pi)], rp=None, rs=None, btype='lowpass', analog=False, ftype='butter', output='ba')\n",
    "# compute the ttransfer function using freqz \n",
    "w,H = sig.freqz(b,a, whole=True)\n",
    "# plot the result --w-pi corresponds to a shift of the pulsation \n",
    "#axis associated with the fftshift of the transfer function. \n",
    "plt.plot(w-pi, 20*np.log10(fftshift(np.abs(H))))\n",
    "# plot the filter template\n",
    "from plt_LPtemplate import *\n",
    "plt_LPtemplate([pi/3, pi/2],[-3, -9],Abounds=[12, -35])\n",
    "plt.title(\"Realized filter and its template\")\n",
    "figcaption(\"Realized filter and its template\")"
   ]
  },
  {
   "cell_type": "code",
   "execution_count": null,
   "metadata": {
    "collapsed": false
   },
   "outputs": [],
   "source": [
    "b,a= sig.iirdesign([4/16, 12/16], [2/16, 14/16], 3, 12, analog=False, \n",
    "                   ftype='butter', output='ba')\n",
    "# compute the ttransfer function using freqz \n",
    "w,H = sig.freqz(b,a, whole=True)\n",
    "# plot the result --w-pi corresponds to a shift of the pulsation \n",
    "#axis associated with the fftshift of the transfer function. \n",
    "plt.plot((w-pi)/(2*pi)*32, 20*np.log10(fftshift(np.abs(H))))\n",
    "_=plt.ylim([-20,0])\n"
   ]
  },
  {
   "cell_type": "markdown",
   "metadata": {},
   "source": [
    "\n",
    "----\n",
    "<div align=right> [Index](toc.ipynb) - [Back](FIR_synthesis.ipynb) - [Next](BasicFiltering_text.ipynb)</div>"
   ]
  }
 ],
 "metadata": {
  "interactive_sols": {
   "cbx_id": 3
  },
  "kernelspec": {
   "display_name": "Python 3",
   "language": "python",
   "name": "python3"
  },
  "language_info": {
   "codemirror_mode": {
    "name": "ipython",
    "version": 3
   },
   "file_extension": ".py",
   "mimetype": "text/x-python",
   "name": "python",
   "nbconvert_exporter": "python",
   "pygments_lexer": "ipython3",
   "version": "3.4.3+"
  },
  "latex_envs": {
   "bibliofile": "biblio.bib",
   "cite_by": "apalike",
   "current_citInitial": 1,
   "eqLabelWithNumbers": true,
   "eqNumInitial": 0
  }
 },
 "nbformat": 4,
 "nbformat_minor": 0
}
