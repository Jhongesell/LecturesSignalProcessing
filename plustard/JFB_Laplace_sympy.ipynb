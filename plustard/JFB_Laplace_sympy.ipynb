{
 "cells": [
  {
   "cell_type": "code",
   "execution_count": 6,
   "metadata": {
    "collapsed": false
   },
   "outputs": [],
   "source": [
    "import sympy\n",
    "sympy.init_printing()"
   ]
  },
  {
   "cell_type": "markdown",
   "metadata": {},
   "source": [
    "Installation of sympy with\n",
    "pip3 install sympy"
   ]
  },
  {
   "cell_type": "code",
   "execution_count": 7,
   "metadata": {
    "collapsed": false
   },
   "outputs": [
    {
     "data": {
      "image/png": "[encoded data removed]",
      "text/latex": [
       "$$\\begin{pmatrix}\\frac{s^{- a}}{s} \\Gamma{\\left(a + 1 \\right)}, & 0, & - \\Re{a} < 1\\end{pmatrix}$$"
      ],
      "text/plain": [
       "⎛ -a                        ⎞\n",
       "⎜s  ⋅Γ(a + 1)               ⎟\n",
       "⎜────────────, 0, -re(a) < 1⎟\n",
       "⎝     s                     ⎠"
      ]
     },
     "execution_count": 7,
     "metadata": {},
     "output_type": "execute_result"
    }
   ],
   "source": [
    "from sympy.integrals import laplace_transform\n",
    "from sympy.abc import t, s, a\n",
    "laplace_transform(t**a, t, s)\n",
    "#(s**(-a)*gamma(a + 1)/s, 0, -re(a) < 1)"
   ]
  },
  {
   "cell_type": "code",
   "execution_count": 8,
   "metadata": {
    "collapsed": false
   },
   "outputs": [
    {
     "data": {
      "image/png": "[encoded data removed]",
      "text/latex": [
       "$$\\begin{pmatrix}\\frac{1}{b + s}, & - b, & - \\frac{s}{b} \\neq 1\\end{pmatrix}$$"
      ],
      "text/plain": [
       "⎛  1        -s     ⎞\n",
       "⎜─────, -b, ─── ≠ 1⎟\n",
       "⎝b + s       b     ⎠"
      ]
     },
     "execution_count": 8,
     "metadata": {},
     "output_type": "execute_result"
    }
   ],
   "source": [
    "from sympy import *\n",
    "b=Symbol('b', real=True, negative=True)\n",
    "laplace_transform(exp(-b*t), t, s)"
   ]
  },
  {
   "cell_type": "code",
   "execution_count": 15,
   "metadata": {
    "collapsed": false
   },
   "outputs": [
    {
     "name": "stdout",
     "output_type": "stream",
     "text": [
      "Help on function inverse_laplace_transform in module sympy.integrals.transforms:\n",
      "\n",
      "inverse_laplace_transform(F, s, t, plane=None, **hints)\n",
      "    Compute the inverse Laplace transform of `F(s)`, defined as\n",
      "    \n",
      "    .. math :: f(t) = \\int_{c-i\\infty}^{c+i\\infty} e^{st} F(s) \\mathrm{d}s,\n",
      "    \n",
      "    for `c` so large that `F(s)` has no singularites in the\n",
      "    half-plane `\\operatorname{Re}(s) > c-\\epsilon`.\n",
      "    \n",
      "    The plane can be specified by\n",
      "    argument ``plane``, but will be inferred if passed as None.\n",
      "    \n",
      "    Under certain regularity conditions, this recovers `f(t)` from its\n",
      "    Laplace Transform `F(s)`, for non-negative `t`, and vice\n",
      "    versa.\n",
      "    \n",
      "    If the integral cannot be computed in closed form, this function returns\n",
      "    an unevaluated :class:`InverseLaplaceTransform` object.\n",
      "    \n",
      "    Note that this function will always assume `t` to be real,\n",
      "    regardless of the sympy assumption on `t`.\n",
      "    \n",
      "    For a description of possible hints, refer to the docstring of\n",
      "    :func:`sympy.integrals.transforms.IntegralTransform.doit`.\n",
      "    \n",
      "    >>> from sympy.integrals.transforms import inverse_laplace_transform\n",
      "    >>> from sympy import exp, Symbol\n",
      "    >>> from sympy.abc import s, t\n",
      "    >>> a = Symbol('a', positive=True)\n",
      "    >>> inverse_laplace_transform(exp(-a*s)/s, s, t)\n",
      "    Heaviside(-a + t)\n",
      "    \n",
      "    See Also\n",
      "    ========\n",
      "    \n",
      "    laplace_transform\n",
      "    hankel_transform, inverse_hankel_transform\n",
      "\n"
     ]
    }
   ],
   "source": [
    "help(inverse_laplace_transform)"
   ]
  },
  {
   "cell_type": "markdown",
   "metadata": {},
   "source": [
    "Use the PFE method to simplify $F_1(s)$ below and find the time domain function $f_1(t)$ corresponding to $F_1(s)$\n",
    "\n",
    "$$F_1(s) = \\frac{2s+5}{s^2 + 5s + 6}$$\n",
    "\n",
    "(Quick solution: [Wolfram|Alpha](http://www.wolframalpha.com/input/?i=inverse+laplace+transform+%282s+%2B+5%29%2F%28s%5E2+%2B+5s+%2B+6%29))"
   ]
  },
  {
   "cell_type": "code",
   "execution_count": 12,
   "metadata": {
    "collapsed": false
   },
   "outputs": [],
   "source": [
    "s=Symbol('s')\n",
    "F1 = (2*s+5)/(s**2 + 5*s + 6)"
   ]
  },
  {
   "cell_type": "code",
   "execution_count": 13,
   "metadata": {
    "collapsed": false
   },
   "outputs": [
    {
     "data": {
      "image/png": "[encoded data removed]",
      "text/latex": [
       "$$\\frac{1}{s + 3} + \\frac{1}{s + 2}$$"
      ],
      "text/plain": [
       "  1       1  \n",
       "───── + ─────\n",
       "s + 3   s + 2"
      ]
     },
     "execution_count": 13,
     "metadata": {},
     "output_type": "execute_result"
    }
   ],
   "source": [
    "apart(F1)"
   ]
  },
  {
   "cell_type": "code",
   "execution_count": 16,
   "metadata": {
    "collapsed": false
   },
   "outputs": [
    {
     "data": {
      "image/png": "[encoded data removed]",
      "text/latex": [
       "$$\\left(e^{t} + 1\\right) e^{- 3 t} \\theta\\left(t\\right)$$"
      ],
      "text/plain": [
       "⎛ t    ⎞  -3⋅t             \n",
       "⎝ℯ  + 1⎠⋅ℯ    ⋅Heaviside(t)"
      ]
     },
     "execution_count": 16,
     "metadata": {},
     "output_type": "execute_result"
    }
   ],
   "source": [
    "inverse_laplace_transform(F1,s,t)"
   ]
  },
  {
   "cell_type": "markdown",
   "metadata": {},
   "source": [
    "Determine the Inverse Laplace Transform of\n",
    "\n",
    "$$F_2(s) = \\frac{3s^2+2s+5}{s^3 + 9s^s + 23s + 15}$$\n",
    "\n",
    "(Quick solution: [Wolfram|Alpha](http://www.wolframalpha.com/input/?i=inverse+laplace+transform+%283s%5E2+%2B+2s+%2B+5%29%2F%28s%5E3+%2B+9s%5E2+%2B+23s+%2B+15%29))"
   ]
  },
  {
   "cell_type": "code",
   "execution_count": 19,
   "metadata": {
    "collapsed": false
   },
   "outputs": [
    {
     "data": {
      "image/png": "[encoded data removed]",
      "text/latex": [
       "$$\\frac{35}{4 s + 20} - \\frac{13}{2 s + 6} + \\frac{3}{4 s + 4}$$"
      ],
      "text/plain": [
       "    35          13          3    \n",
       "───────── - ───────── + ─────────\n",
       "4⋅(s + 5)   2⋅(s + 3)   4⋅(s + 1)"
      ]
     },
     "execution_count": 19,
     "metadata": {},
     "output_type": "execute_result"
    }
   ],
   "source": [
    "apart((3*s**2+2*s+5)/(s**3 + 9*s**2 + 23*s + 15))"
   ]
  },
  {
   "cell_type": "markdown",
   "metadata": {},
   "source": [
    "We can now use the previous technique to find the solution which according to Sympy should be\n",
    "\n",
    "$$f_1(t) = \\frac{3}{4}e^{-t} - \\frac{13}{2}e^{-3t} + \\frac{35}{4}e^{-5t}$$"
   ]
  },
  {
   "cell_type": "code",
   "execution_count": 21,
   "metadata": {
    "collapsed": false
   },
   "outputs": [
    {
     "data": {
      "image/png": "[encoded data removed]",
      "text/latex": [
       "$$\\frac{\\theta\\left(t\\right)}{4} \\left(3 e^{4 t} - 26 e^{2 t} + 35\\right) e^{- 5 t}$$"
      ],
      "text/plain": [
       "⎛   4⋅t       2⋅t     ⎞  -5⋅t             \n",
       "⎝3⋅ℯ    - 26⋅ℯ    + 35⎠⋅ℯ    ⋅Heaviside(t)\n",
       "──────────────────────────────────────────\n",
       "                    4                     "
      ]
     },
     "execution_count": 21,
     "metadata": {},
     "output_type": "execute_result"
    }
   ],
   "source": [
    "F2=(3*s**2+2*s+5)/(s**3 + 9*s**2 + 23*s + 15)\n",
    "inverse_laplace_transform(F2,s,t)"
   ]
  },
  {
   "cell_type": "code",
   "execution_count": 18,
   "metadata": {
    "collapsed": false
   },
   "outputs": [
    {
     "data": {
      "image/png": "[encoded data removed]",
      "text/latex": [
       "$$\\left(s + 1\\right) \\left(s + 3\\right) \\left(s + 5\\right)$$"
      ],
      "text/plain": [
       "(s + 1)⋅(s + 3)⋅(s + 5)"
      ]
     },
     "execution_count": 18,
     "metadata": {},
     "output_type": "execute_result"
    }
   ],
   "source": [
    "factor(s**3 + 9*s**2 + 23*s + 15)"
   ]
  },
  {
   "cell_type": "markdown",
   "metadata": {},
   "source": [
    "### With complex poles\n",
    "\n",
    "Rework Example 3-2 from the text book using quadratic factors.\n",
    "\n",
    "Find the Inverse Laplace Transform of \n",
    "\n",
    "$$F_3(s) = \\frac{s + 3}{(s+1)(s^2 + 4s + 8)}$$\n",
    "\n",
    "(Quick solution: [Wolfram|Alpha](http://www.wolframalpha.com/input/?i=inverse+laplace+transform+%28s%2B3%29%2F%28%28s+%2B+1%29%28s%5E2+%2B+4s+%2B+8%29%29) &ndash; Shows that the computer is not always best!)"
   ]
  },
  {
   "cell_type": "code",
   "execution_count": 22,
   "metadata": {
    "collapsed": false
   },
   "outputs": [],
   "source": [
    "F3=(s + 3)/((s+1)*(s**2 + 4*s + 8))"
   ]
  },
  {
   "cell_type": "code",
   "execution_count": 25,
   "metadata": {
    "collapsed": false
   },
   "outputs": [
    {
     "name": "stdout",
     "output_type": "stream",
     "text": [
      "5*(4*exp(t) + 3*sin(2*t) - 4*cos(2*t))*exp(-2*t)*Heaviside(t)/(2*(1 - 2*I)**2*(1 + 2*I)**2)\n"
     ]
    }
   ],
   "source": [
    "out=inverse_laplace_transform(F3,s,t)\n",
    "print(out)"
   ]
  },
  {
   "cell_type": "code",
   "execution_count": 26,
   "metadata": {
    "collapsed": true
   },
   "outputs": [
    {
     "data": {
      "image/png": "[encoded data removed]",
      "text/latex": [
       "$$\\frac{5 e^{- 2 t} \\theta\\left(t\\right)}{2 \\left(1 - 2 i\\right)^{2} \\left(1 + 2 i\\right)^{2}} \\left(4 e^{t} + 3 \\sin{\\left (2 t \\right )} - 4 \\cos{\\left (2 t \\right )}\\right)$$"
      ],
      "text/plain": [
       "  ⎛   t                          ⎞  -2⋅t             \n",
       "5⋅⎝4⋅ℯ  + 3⋅sin(2⋅t) - 4⋅cos(2⋅t)⎠⋅ℯ    ⋅Heaviside(t)\n",
       "─────────────────────────────────────────────────────\n",
       "                          2          2               \n",
       "               2⋅(1 - 2⋅ⅈ) ⋅(1 + 2⋅ⅈ)                "
      ]
     },
     "execution_count": 26,
     "metadata": {},
     "output_type": "execute_result"
    }
   ],
   "source": [
    "out"
   ]
  },
  {
   "cell_type": "code",
   "execution_count": 27,
   "metadata": {
    "collapsed": false
   },
   "outputs": [
    {
     "data": {
      "image/png": "[encoded data removed]",
      "text/latex": [
       "$$\\frac{\\theta\\left(t\\right)}{10} \\left(4 e^{t} + 3 \\sin{\\left (2 t \\right )} - 4 \\cos{\\left (2 t \\right )}\\right) e^{- 2 t}$$"
      ],
      "text/plain": [
       "⎛   t                          ⎞  -2⋅t             \n",
       "⎝4⋅ℯ  + 3⋅sin(2⋅t) - 4⋅cos(2⋅t)⎠⋅ℯ    ⋅Heaviside(t)\n",
       "───────────────────────────────────────────────────\n",
       "                         10                        "
      ]
     },
     "execution_count": 27,
     "metadata": {},
     "output_type": "execute_result"
    }
   ],
   "source": [
    "simplify(out)"
   ]
  },
  {
   "cell_type": "markdown",
   "metadata": {},
   "source": [
    "We complete the square \n",
    "\n",
    "$$s^2 + 4s + 8 = (s + 2)^2 + 4$$\n",
    "\n",
    "Then comparing this with the desired form $(s - a)^2 + \\omega^2$, we have $a = -2$ and $\\omega^2 = 4 \\to \\omega = \\sqrt{4} = 2$.\n",
    "\n",
    "To solve this, we need to find the PFE for the assumed solution:\n",
    "\n",
    "$$F_3(s) = \\frac{r_1}{s+1} + \\frac{r_2s}{(s + 2)^2 + 4} + \\frac{r_3(s+2)}{(s + 2)^2 + 4}$$\n",
    "\n",
    "expecting the solution\n",
    "\n",
    "$$f_3(t) = \\frac{2}{5}e^{-t} + \\frac{3}{10}\\sin 2t - \\frac{2}{5}\\cos 2t$$\n",
    "\n",
    "You can use trig. identities to simplify this further if you wish.\n",
    "\n"
   ]
  },
  {
   "cell_type": "markdown",
   "metadata": {},
   "source": [
    "Find the inverse Laplace Transform of \n",
    "\n",
    "$$F_4(s) = \\frac{s+3}{(s+2)(s+1)^2}$$\n",
    "\n",
    "Note that the transform\n",
    "\n",
    "$$te^{at} \\Leftrightarrow \\frac{1}{(s - a)^2}$$\n",
    "\n",
    "will be useful.\n",
    "\n",
    "(Quick solution: [Wolfram|Alpha](http://www.wolframalpha.com/input/?i=inverse+laplace+transform+%28s%2B3%29%2F%28%28s%2B2%29%28s+%2B+1%29%5E2%29))"
   ]
  },
  {
   "cell_type": "code",
   "execution_count": 31,
   "metadata": {
    "collapsed": false
   },
   "outputs": [
    {
     "data": {
      "image/png": "[encoded data removed]",
      "text/latex": [
       "$$\\left(\\left(2 t - 1\\right) e^{t} + 1\\right) e^{- 2 t} \\theta\\left(t\\right)$$"
      ],
      "text/plain": [
       "⎛           t    ⎞  -2⋅t             \n",
       "⎝(2⋅t - 1)⋅ℯ  + 1⎠⋅ℯ    ⋅Heaviside(t)"
      ]
     },
     "execution_count": 31,
     "metadata": {},
     "output_type": "execute_result"
    }
   ],
   "source": [
    "F4 = (s+3)/((s+2)*(s+1)**2)\n",
    "inverse_laplace_transform(F4,s,t)"
   ]
  },
  {
   "cell_type": "code",
   "execution_count": 36,
   "metadata": {
    "collapsed": false
   },
   "outputs": [
    {
     "data": {
      "image/png": "[encoded data removed]",
      "text/latex": [
       "$$- \\frac{2 s + 1}{5 s^{2} + 20 s + 40} + \\frac{2}{5 s + 5}$$"
      ],
      "text/plain": [
       "      2⋅s + 1            2    \n",
       "- ──────────────── + ─────────\n",
       "    ⎛ 2          ⎞   5⋅(s + 1)\n",
       "  5⋅⎝s  + 4⋅s + 8⎠            "
      ]
     },
     "execution_count": 36,
     "metadata": {},
     "output_type": "execute_result"
    }
   ],
   "source": [
    "zz=apart(F3)\n",
    "zz"
   ]
  },
  {
   "cell_type": "code",
   "execution_count": 42,
   "metadata": {
    "collapsed": false
   },
   "outputs": [
    {
     "data": {
      "text/plain": [
       "'-(2*s + 1)/(5*(s**2 + 4*s + 8)) + 2/(5*(s + 1))'"
      ]
     },
     "execution_count": 42,
     "metadata": {},
     "output_type": "execute_result"
    }
   ],
   "source": [
    "str(zz)\n"
   ]
  },
  {
   "cell_type": "code",
   "execution_count": 35,
   "metadata": {
    "collapsed": false
   },
   "outputs": [
    {
     "data": {
      "image/png": "[encoded data removed]",
      "text/latex": [
       "$$\\frac{s + 3}{\\left(s + 1\\right) \\left(s^{2} + 4 s + 8\\right)}$$"
      ],
      "text/plain": [
       "        s + 3         \n",
       "──────────────────────\n",
       "        ⎛ 2          ⎞\n",
       "(s + 1)⋅⎝s  + 4⋅s + 8⎠"
      ]
     },
     "execution_count": 35,
     "metadata": {},
     "output_type": "execute_result"
    }
   ],
   "source": [
    "factor(zz)"
   ]
  },
  {
   "cell_type": "code",
   "execution_count": null,
   "metadata": {
    "collapsed": false
   },
   "outputs": [],
   "source": []
  },
  {
   "cell_type": "code",
   "execution_count": null,
   "metadata": {
    "collapsed": false
   },
   "outputs": [],
   "source": []
  }
 ],
 "metadata": {},
 "nbformat": 4,
 "nbformat_minor": 0
}