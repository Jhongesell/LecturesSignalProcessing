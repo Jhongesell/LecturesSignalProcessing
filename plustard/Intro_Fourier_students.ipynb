{
 "cells": [
  {
   "cell_type": "code",
   "execution_count": null,
   "metadata": {
    "collapsed": false
   },
   "outputs": [],
   "source": [
    "%config InlineBackend.figure_format = 'svg'\n",
    "#In new notebooks created for IPython 1.0+, I would recommend using %matplotlib inline, since it is more tidy \n",
    "# and you have more control over which packages are imported and how. Commonly, scipy and numpy are imported separately with:\n",
    "# from: http://nbviewer.ipython.org/github/jrjohansson/scientific-python-lectures/blob/master/Lecture-4-Matplotlib.ipynb#Versions\n",
    "#%config InlineBackend.figure_format = 'svg' #this is depreceated in 2.x\n",
    "%config InlineBackend.figure_formats = {'svg', 'jpeg'}\n",
    "\n",
    "import numpy as np\n",
    "import scipy as sp\n",
    "import matplotlib.pyplot as plt\n",
    "import scipy.stats as stats\n",
    "# Also import pylab for more easy interactive use (but less control)\n",
    "from pylab import *\n",
    "\n",
    "#For displaying widgets\n",
    "from IPython.html import widgets\n",
    "from IPython.html.widgets import interact, interactive, fixed\n",
    "from IPython.html import widgets\n",
    "from IPython.display import clear_output, display, HTML, Image\n",
    "\n",
    "#Some specific imports for plotting\n",
    "\n",
    "%matplotlib inline"
   ]
  },
  {
   "cell_type": "markdown",
   "metadata": {},
   "source": [
    "# Introduction to the Fourier representation\n",
    "We begin by a simple example which shows that the addition of some sine waves, with special coefficients, converges constructively. We then explain that any periodic signal can be expressed as a sum of sine waves. This is the notion of Fourier series. After an illustration (denoising of a corrupted signal) which introduces a notion of filtering in the frequency domain, we show how the Fourier representation can be extended to aperiodic signals. \n",
    "\n",
    "- [Simple examples](#simple_examples)\n",
    "- [Decomposition on basis - scalar producs](#decomposition)\n",
    "- [Decomposition of periodic functions -- Fourier series](#Fourier_series)\n",
    "- [Complex Fourier series](#Complex_Fourier_series)\n",
    "- [Computer experiment](#Compute_exp)\n"
   ]
  },
  {
   "cell_type": "markdown",
   "metadata": {},
   "source": [
    "## Simple examples <a name=\"simple_examples\"></a>"
   ]
  },
  {
   "cell_type": "markdown",
   "metadata": {},
   "source": [
    "> Read the script below, execute (CTRL-Enter), experiment with the parameters. "
   ]
  },
  {
   "cell_type": "code",
   "execution_count": null,
   "metadata": {
    "collapsed": false
   },
   "outputs": [],
   "source": [
    "N=100\n",
    "L=20\n",
    "s=np.zeros(N-1)\n",
    "\n",
    "for k in np.arange(1,6,2):\n",
    "    s=s+1/float(k)*sin(2*pi*k/L*np.arange(1,N,1))\n",
    "plt.plot(s)    \n",
    "plt.title(\"Somme avec \"+str((k-1)/2+1)+\" termes\")"
   ]
  },
  {
   "cell_type": "markdown",
   "metadata": {},
   "source": [
    "The next example is more involved in that it sums sin a cos of different frequencies and with different amplitudes. We also add widgets (sliders) which enable to interact more easily with the program. "
   ]
  },
  {
   "cell_type": "code",
   "execution_count": null,
   "metadata": {
    "collapsed": false
   },
   "outputs": [],
   "source": [
    "def sfou_exp(Km):\n",
    "    Kmax=int(Km)\n",
    "    L=400\n",
    "    N=1000\n",
    "    k=0\n",
    "    s=np.zeros(N-1)\n",
    "    #plt.clf()\n",
    "    for k in np.arange(1,Kmax):\n",
    "        ak=0\n",
    "        bk=1.0/k if (k % 2) == 1 else 0 # k odd\n",
    "        \n",
    "        #ak=0 #if (k % 2) == 1 else -2.0/(pi*k**2) \n",
    "        #bk=-1.0/k if (k % 2) == 1 else 1.0/k # \n",
    "        \n",
    "        s=s+ak*cos(2*pi*k/L*np.arange(1,N,1))+bk*sin(2*pi*k/L*np.arange(1,N,1))\n",
    "    ax = plt.axes(xlim=(0, N), ylim=(-2, 2))        \n",
    "    ax.plot(s)    \n",
    "    plt.title(\"Sum with {} terms\".format(k+1))\n",
    "    \n",
    "### --------------------------------------------------    "
   ]
  },
  {
   "cell_type": "code",
   "execution_count": null,
   "metadata": {
    "collapsed": false
   },
   "outputs": [],
   "source": [
    "    \n",
    "\n",
    "fig = plt.figure()\n",
    "ax = plt.axes(xlim=(0, 100), ylim=(-2, 2))\n",
    "\n",
    "# ---- Widgets -----------------------\n",
    "# slider=widgets.FloatSliderWidget(max=100,min=0,step=1,value=1)\n",
    "slide=widgets.IntSliderWidget(max=100,min=0,step=1,value=1)\n",
    "val=widgets.TextWidget(value='1')\n",
    "\n",
    "#----- Callbacks des widgets -------------\n",
    "def sfou1_Km(name,Km):\n",
    "        clear_output(wait=True)\n",
    "        val.value=str(Km)\n",
    "        sfou_exp(Km)\n",
    "\n",
    "def sfou2_Km(Km):\n",
    "        clear_output(wait=True)\n",
    "        slide.value=int(Km.value)\n",
    "        #sfou_exp(Km.value)\n",
    "\n",
    "    \n",
    "# ---- Display -----------------    \n",
    "display(slide)\n",
    "display(val)\n",
    "slide.on_trait_change(sfou1_Km,'value')\n",
    "#val.on_trait_change(sfou2_Km,'value')\n",
    "val.on_submit(sfou2_Km)"
   ]
  },
  {
   "cell_type": "markdown",
   "metadata": {},
   "source": [
    "## Decomposition on basis - scalar producs <a name=\"decomposition\"></a>\n",
    "\n",
    "We recall here that any vector can be expressed on a orthonormal basis , and that the coordinates are the scalar product of the vector with the basis vectors. "
   ]
  },
  {
   "cell_type": "code",
   "execution_count": null,
   "metadata": {
    "collapsed": false
   },
   "outputs": [],
   "source": [
    "z=array([1,2])\n",
    "u=array([0,1])\n",
    "v=array([1,0])\n",
    "u1=array([1,1])/sqrt(2)\n",
    "v1=array([-1,1])/sqrt(2)\n",
    "\n",
    "f,ax=subplots(1,1,figsize=(4,4))\n",
    "ax.set_xlim([-1,3])\n",
    "ax.set_ylim([-1,3])\n",
    "ax.spines['right'].set_color('none')\n",
    "ax.spines['top'].set_color('none')\n",
    "#ax.spines['bottom'].set_position('center')\n",
    "ax.quiver(0,0,z[0],z[1],angles='xy',scale_units='xy',scale=1,color='green')\n",
    "ax.quiver(0,0,u[0],u[1],angles='xy',scale_units='xy',scale=1,color='black')\n",
    "ax.quiver(0,0,v[0],v[1],angles='xy',scale_units='xy',scale=1,color='black')\n",
    "ax.quiver(0,0,u1[0],u1[1],angles='xy',scale_units='xy',scale=1,color='red')\n",
    "ax.quiver(0,0,v1[0],v1[1],angles='xy',scale_units='xy',scale=1,color='red')\n",
    "ax.xaxis.set_ticks_position('bottom')\n",
    "ax.yaxis.set_ticks_position('left')"
   ]
  },
  {
   "cell_type": "markdown",
   "metadata": {},
   "source": [
    "From a coordinate system to another: \n",
    "Take a vector (in green in the illustration). Its coordinates in the system $(u,v)$ are [1,2]. In order to obtain the coordinates in the new system $(O,u_1,v_1)$, we have to project the vector on $u_1$ and $u_2$. This is done by the scalar products: "
   ]
  },
  {
   "cell_type": "code",
   "execution_count": null,
   "metadata": {
    "collapsed": false
   },
   "outputs": [],
   "source": [
    "x=z.dot(u1)\n",
    "y=z.dot(v1)\n",
    "print('New coordinates: ',x,y)"
   ]
  },
  {
   "cell_type": "markdown",
   "metadata": {},
   "source": [
    "##Decomposition of periodic functions -- Fourier series <a name=\"Fourier_series\"></a>"
   ]
  },
  {
   "cell_type": "markdown",
   "metadata": {},
   "source": [
    "This idea can be extended to (periodic) functions. Consider the set of all even periodic functions, with a given period, say $L$. The cosine wave functions of all the multiple or the *fundamental* frequency $1/L$ constitute a basis of even periodic functions with period $T$. Let us check that these functions are normed and ortogonal with each other."
   ]
  },
  {
   "cell_type": "code",
   "execution_count": null,
   "metadata": {
    "collapsed": false
   },
   "outputs": [],
   "source": [
    "L=200\n",
    "k=8\n",
    "l=3\n",
    "sk=sqrt(2/L)*cos(2*pi/L*k*np.arange(0,L))\n",
    "sl=sqrt(2/L)*cos(2*pi/L*l*np.arange(0,L))\n"
   ]
  },
  {
   "cell_type": "code",
   "execution_count": null,
   "metadata": {
    "collapsed": false
   },
   "outputs": [],
   "source": [
    "sl.dot(sl)"
   ]
  },
  {
   "cell_type": "markdown",
   "metadata": {},
   "source": [
    "Except in the case $l=0$ where a factor 2 entails"
   ]
  },
  {
   "cell_type": "code",
   "execution_count": null,
   "metadata": {
    "collapsed": false
   },
   "outputs": [],
   "source": [
    "l=0\n",
    "sl=sqrt(2/L)*cos(2*pi/L*l*np.arange(0,L))\n",
    "sl.dot(sl)"
   ]
  },
  {
   "cell_type": "markdown",
   "metadata": {},
   "source": [
    "Therefore, the decomposition of any even periodic function $x(n)$ with period $L$ on the basis of cosines expresses as\n",
    "$$\n",
    "x(n)  = \\sqrt{\\frac{2}{L}}\\left(\\frac{a_0}{2}+\\sum_{k=1}^{+\\infty} a_k \\cos(2\\pi k/L n)\\right)\n",
    "$$\n",
    "with\n",
    "$$a_k = \\sqrt{\\frac{2}{L}}\\sum_{n\\in[L]} x(n)  \\cos(2 \\pi k/L n). $$\n",
    "Regrouping the factors, the series can also be expressed as\n",
    "$$\n",
    "x_\\mathrm{even}(n)  = \\left(\\frac{a_0}{2}+\\sum_{k=1}^{L-1} a_k \\cos(2\\pi k/L n)\\right)\n",
    "$$\n",
    "with\n",
    "$$a_k = \\frac{2}{L}\\sum_{n\\in[L]} x(n)  \\cos(2 \\pi k/L n), $$ \n",
    "where the notation $n\\in[L]$  indicates that the sum has to be done on any length-$L$ interval. \n",
    "The very same reasoning can be done for odd functions, which introduces a decomposition into sine waves:\n",
    "$$\n",
    "x_\\mathrm{odd}(n)  = \\sum_{k=0}^{L-1} b_k \\sin(2\\pi k/L n)\n",
    "$$\n",
    "with\n",
    "$$b_k = \\frac{2}{L}\\sum_{n\\in[L]} x(n)  \\sin(2 \\pi k/L n), $$ \n",
    "Since any function can be decomposed into an odd + even part\n",
    "$$\n",
    "x(n) = x_\\mathrm{even}(n) + x_\\mathrm{odd}(n) = \\frac{x(n)+x(-n)}{2} + \\frac{x(n)-x(-n)}{2},\n",
    "$$\n",
    "we have the sum of the decompositions:\n",
    "\n",
    "$$\n",
    "\\boxed{\n",
    "x(n)  = \\frac{a_0}{2}+\\sum_{k=1}^{L-1} a_k \\cos(2\\pi k/L n)+\\sum_{k=1}^{+\\infty} b_k \\sin(2\\pi k/L n)\n",
    "}\n",
    "$$\n",
    "with\n",
    "$$\n",
    "\\boxed{\n",
    "\\begin{cases}\n",
    "a_k = \\frac{2}{L}\\sum_{n\\in[L]} x(n)  \\cos(2 \\pi k/L n),\\\\\n",
    "b_k = \\frac{2}{L}\\sum_{n\\in[L]} x(n)  \\sin(2 \\pi k/L n), \n",
    "\\end{cases}\n",
    "}\n",
    "$$\n",
    "This is the definition of the Fourier series, and this is no more compicated than that... A remaining question is the question of convergence. That is, does the series converge to the true function? The short answer is Yes: the equality in the series expansion is a true equality, not an approximation. This is a bit out of scope for this course, but you may have a look at [this article](http://en.wikipedia.org/wiki/Convergence_of_Fourier_series). \n",
    "\n",
    "There of course exists a continuous version, valid for time-continuous dignals. \n",
    "\n"
   ]
  },
  {
   "cell_type": "markdown",
   "metadata": {},
   "source": [
    "## Complex Fourier series <a name=\"Complex_Fourier_series\"></a>\n",
    "\n",
    "### Introduction\n",
    "\n",
    "Another series expansion can be defined for complex valued signals. In such case, the trigonometric functions will be replaced by complex exponentials $\\exp(j2\\pi k/L n)$. Let us check that they indeed form a basis of signals:"
   ]
  },
  {
   "cell_type": "code",
   "execution_count": null,
   "metadata": {
    "collapsed": false
   },
   "outputs": [],
   "source": [
    "L=200\n",
    "k=8\n",
    "l=3\n",
    "sk=sqrt(1/L)*exp(1j*2*pi/L*k*np.arange(0,L))\n",
    "sl=sqrt(1/L)*exp(1j*2*pi/L*l*np.arange(0,L))\n",
    "print(\"scalar product between sk and sl: \",np.vdot(sk,sl))\n",
    "print(\"scalar product between sk and sl (i.e. norm of sk): \",np.vdot(sk,sk))"
   ]
  },
  {
   "cell_type": "markdown",
   "metadata": {},
   "source": [
    "It is thus possible to decompose a signal as follows:\n",
    "$$\\boxed{\\begin{aligned}\n",
    "x(n) &= \\sum_{k=0}^{L-1} c_k  e^{j2\\pi\\frac{ k n}{L}}\\\\\n",
    "\\text{with   }\n",
    "c_k &= \\frac{1}{L} \\sum_{n\\in[L]} x(n) e^{-j2\\pi\\frac{ kn }{L} }\n",
    "\\end{aligned}\n",
    "}$$\n",
    "where $c_k$ is the dot product between $x(n)$ and $\\exp(j2\\pi k/L n)$, i.e. the 'coordinate' of $x$ with respect to the 'vector' $\\exp(j2\\pi k/L n)$. \n",
    "This is nothing but the definition of the `complex Fourier series`. \n",
    "\n",
    "**Exercise** -- Show that $c_k$ is periodic with period $L$; i.e. $c_k=c_{k+L}$. \n",
    "\n",
    "Since $c_k$ is periodic in $k$ of period $L$, we see that in term or the *\"normalized frequency\"* $k/L$, it is periodic with period 1. "
   ]
  },
  {
   "cell_type": "markdown",
   "metadata": {},
   "source": [
    "### Relation of the complex Fourier Series with the standard Fourier Series <a name=\"#RelationCFS_SFS\">\n",
    "\n",
    "$\\def\\R#1{\\mathcal{R}\\left\\{#1\\right\\}}$\n",
    "$\\def\\I#1{\\mathcal{I}\\left\\{#1\\right\\}}$\n",
    "\n",
    "It is easy to find a relation between this complex Fourier series and the classical Fourier series. The series can be rewritten as\n",
    "$$\n",
    "x(n) = c_0 + \\sum_{k=1}^{+\\infty} c_k e^{j2\\pi k/L n} + c_{-k} e^{-j2\\pi k/L n}.\n",
    "$$\n",
    "\n",
    "By using the [Euler formulas](http://en.wikipedia.org/wiki/Euler's_formula), developping and rearranging, we get\n",
    "$$\n",
    "\\begin{align}\n",
    "x(n) & = c_0 + \\sum_{k=1}^{+\\infty} \\R{c_k+c_{-k}}\\cos(2\\pi k/L n) + \n",
    " \\I{c_{-k}-c_k}\\sin(2\\pi k/L n) \\\\ &+ j\\left(\\R{c_k-c_{-k}}\\sin(2\\pi k/L n) + \\I{c_k+c_{-k}} \\cos(2\\pi k/L n)\\right).   \n",
    "\\end{align}\n",
    "$$\n",
    "Suppose that $x(n)$ is real valued. Then by direct identification, we have\n",
    "\\begin{cases}\n",
    "a_k=\\R{c_k+c_{-k}}\\\\\n",
    "b_k=\\I{c_{-k}-c_k}\n",
    "\\end{cases}\n",
    "and, by the cancellation of the imaginary part, the following symmetry relationships for real signals: \n",
    "\\begin{cases}\n",
    "\\R{c_k}=\\R{c_{-k}}\\\\\n",
    "\\I{c_k}=-\\I{c_{-k}}.\n",
    "\\end{cases}\n",
    "This symmetry is called `Hermitian symmetry'. "
   ]
  },
  {
   "cell_type": "markdown",
   "metadata": {},
   "source": [
    "### Computer experiment <a name=\"Compute_exp\"> </a>\n",
    "\n",
    "> Experiment. Given a signal, computes its decomposition and then reconstruct the signal from its individual components."
   ]
  },
  {
   "cell_type": "code",
   "execution_count": null,
   "metadata": {
    "collapsed": false
   },
   "outputs": [],
   "source": [
    "\n",
    "%matplotlib inline\n",
    "L=400\n",
    "N=500\n",
    "t=np.arange(N)\n",
    "s=sin(2*pi*3*t/L+pi/4)\n",
    "x=[ss if ss>-0.2 else -0.2 for ss in s]\n",
    "plt.plot(t,x)"
   ]
  },
  {
   "cell_type": "markdown",
   "metadata": {},
   "source": [
    "A function for computing the Fourier series coefficients"
   ]
  },
  {
   "cell_type": "code",
   "execution_count": null,
   "metadata": {
    "collapsed": false
   },
   "outputs": [],
   "source": [
    "# compute the coeffs ck\n",
    "def coeffck(x,L,k):\n",
    "    assert np.size(x)==L, \"input must be of length L\"     \n",
    "    karray=[]\n",
    "    res=[]\n",
    "    if isinstance(k,int):\n",
    "       karray.append(k)\n",
    "    else:\n",
    "       karray=np.array(k)\n",
    "   \n",
    "    for k in karray:\n",
    "        res.append(np.vdot(exp(1j*2*pi/L*k*np.arange(0,L)),x))\n",
    "    return 1/L*np.array(res)\n",
    "\n",
    "#test: coeffck(x[0:L],L,[-12,1,7])\n",
    "# --> array([  1.51702135e-02 +4.60742555e-17j,\n",
    "#     -1.31708229e-05 -1.31708229e-05j,   1.37224241e-05 -1.37224241e-05j])"
   ]
  },
  {
   "cell_type": "markdown",
   "metadata": {},
   "source": [
    "Now let us compute the coeffs for actual signal"
   ]
  },
  {
   "cell_type": "code",
   "execution_count": null,
   "metadata": {
    "collapsed": false
   },
   "outputs": [],
   "source": [
    "# compute the coeffs for actual signal\n",
    "c1=coeffck(x[0:L],L,np.arange(0,100))\n",
    "c2=coeffck(x[0:L],L,np.arange(0,-100,-1))\n",
    "s=c1[0]*np.ones((N))\n",
    "# Signal reconstruction\n",
    "# Implement the reconstruction formula (LaTeX notation)\n",
    "# x(n) = \\sum_{k=0}^{L-1} c_k  e^{j2\\pi\\frac{ k n}{L}}\\\n",
    "for k in np.arange(1,25):\n",
    "    ## DO IT YOURSELF \n",
    "    # implement the reconstruction formula s=..\n",
    "    #s=s+...\n",
    "    # and plot the result\n",
    "    #plt.plot(...)\n",
    "plt.title(\"reconstruction by Fourier series\")\n",
    "plt.xlabel(\"Time\")\n",
    "\n",
    "\n",
    "plt.figure()\n",
    "kk=np.arange(-50,50)\n",
    "c=coeffck(x[0:L],L,kk)\n",
    "plt.stem(kk,np.abs(c))\n",
    "plt.title(\"Fourier series coefficients (modulus)\")\n",
    "plt.xlabel(\"k\")\n",
    "msg=\"\"\"In the frequency representation, the x axis corresponds to the frequencies k/L \n",
    "of the complex exponentials.  \n",
    "Therefore, if a signal is periodic of period M, the corresponding fundamental frequency\n",
    "is 1/M. This frequency then appears at index ko=L/M (if this ratio is an integer). \n",
    "Harmonics will appear at multiples of ko.\"\"\"\n",
    "print(msg)"
   ]
  },
  {
   "cell_type": "markdown",
   "metadata": {},
   "source": [
    "A pulse train corrupts our original signal"
   ]
  },
  {
   "cell_type": "code",
   "execution_count": null,
   "metadata": {
    "collapsed": false
   },
   "outputs": [],
   "source": [
    "L=400\n",
    "# define a pulse train which will corrupt our original signal\n",
    "def sign(x):\n",
    "    if isinstance(x,(int,float)):\n",
    "        return 1 if x>=0 else -1\n",
    "    else:\n",
    "        return np.array([1 if u>=0 else -1 for u in x])\n",
    "\n",
    "#test: sign([2, 1, -0.2, 0])\n",
    "\n",
    "\n",
    "def repeat(x,n):\n",
    "    if isinstance(x,(np.ndarray,list,int,float)):\n",
    "        return np.array([list(x)*n]).flatten()\n",
    "    else:\n",
    "        raise('input must be an array,list,or float/int')\n",
    "\n",
    "#t=np.arange(N)\n",
    "#sig=sign(sin(2*pi*10*t/L))"
   ]
  },
  {
   "cell_type": "code",
   "execution_count": null,
   "metadata": {
    "collapsed": false
   },
   "outputs": [],
   "source": [
    "rect=np.concatenate((np.ones(20),-np.ones(20)))\n",
    "#[1,1,1,1,1,-1,-1,-1,-1,-1]\n",
    "\n",
    "sig=repeat(rect,15)\n",
    "sig=sig[0:N]\n",
    "plt.plot(sig)\n"
   ]
  },
  {
   "cell_type": "markdown",
   "metadata": {},
   "source": [
    "Compute and represent the Fourier coeffs of the pulse train"
   ]
  },
  {
   "cell_type": "code",
   "execution_count": null,
   "metadata": {
    "collapsed": false
   },
   "outputs": [],
   "source": [
    "kk=np.arange(-100,100)\n",
    "c=coeffck(sig[0:L],L,kk)\n",
    "plt.figure()\n",
    "plt.stem(kk,np.abs(c))\n",
    "plt.title(\"Fourier series coefficients (modulus)\")\n",
    "plt.xlabel(\"k\")\n"
   ]
  },
  {
   "cell_type": "markdown",
   "metadata": {},
   "source": [
    "The fundamental frequency of the pulse train is 1 over the length of the pulse, that is 1/40 here. Since The Fourier series is computed on a length L=400, the harmonics appear every 10 samples (ie at indexes k multiples of 10). "
   ]
  },
  {
   "cell_type": "code",
   "execution_count": null,
   "metadata": {
    "collapsed": false
   },
   "outputs": [],
   "source": [
    "z=x+1*sig\n",
    "plt.plot(z)\n",
    "plt.title(\"Corrupted signal\")\n",
    "\n",
    "kk=np.arange(-200,200)\n",
    "cz=coeffck(z[0:L],L,kk)\n",
    "plt.figure()\n",
    "plt.stem(kk,np.abs(cz))\n",
    "plt.title(\"Fourier series coefficients (modulus)\")\n",
    "plt.xlabel(\"k\")"
   ]
  },
  {
   "cell_type": "markdown",
   "metadata": {},
   "source": [
    "Now, we try to kill all the frequencies harmonics of 10 (the fundamental frequency of the pulse train), and reconstruct the resulting signal..."
   ]
  },
  {
   "cell_type": "code",
   "execution_count": null,
   "metadata": {
    "collapsed": false
   },
   "outputs": [],
   "source": [
    "# kill frequencies harmonics of 10 (the fundamental frequency of the pulse train)\n",
    "# and reconstruct the resulting signal\n",
    "\n",
    "s=np.zeros(N)\n",
    "kmin=np.min(kk)\n",
    "for k in kk:\n",
    "    if not k%10:  #true if k is multiple of 10\n",
    "        s=s+cz[k+kmin]*exp(1j*2*pi/L*k*np.arange(0,N))\n",
    "plt.figure()\n",
    "plt.plot(t,np.real(s))\n",
    "plt.title(\"reconstruction by Fourier series\")\n",
    "plt.xlabel(\"Time\")\n",
    "\n",
    "plt.figure()\n",
    "plt.plot(t,z-np.real(s))\n",
    "plt.title(\"reconstruction by Fourier series\")\n",
    "plt.xlabel(\"Time\")"
   ]
  },
  {
   "cell_type": "markdown",
   "metadata": {},
   "source": [
    "## Towards Fourier transform <a name=\"Towards_the_FT\"></a>\n",
    "\n",
    "Suppose that we only have an observation of length $N$. So no periodic signal, but a signal of size $N$. We do not know if there were data before the first sample, and we do not know if there were data after sample $N$. What to do? Facing to such situation, we can still \n",
    "- imagine that the data are periodic outside of the observation interval, with a period $N$. Then the formulas for the Fourier series **are** valid, for $n$ in the observation interval. Actually there is no problem with that. The resulting transformation is called the *Discrete Fourier Transform*. The corresponding formulas are\n",
    "\n",
    "$$\n",
    "\\boxed{\\begin{aligned}\n",
    "x(n) &= \\sum_{k=0}^{N-1} X(k)  e^{j2\\pi\\frac{ k n}{N}}\\\\\n",
    "\\text{with   }\n",
    "X(k) &= \\frac{1}{N}\\sum_{n=0}^{N-1} x(n)  e^{-j2\\pi\\frac{ k n}{N}}\n",
    "\\end{aligned}\n",
    "}$$\n",
    "\n",
    "\n",
    "- we may also consider that there is nothing --that is zeros, outside of the observation interval. In such condition, we can still imagine that we have a periodic signal, but with an infinite period. Since the separation of two harmonics in the Fourier series is $\\Delta f$=1/period, we see that $\\Delta f\\rightarrow 0$. Then the Fourier representation becomes continuous. This is illustrated below.  \n"
   ]
  },
  {
   "cell_type": "code",
   "execution_count": null,
   "metadata": {
    "collapsed": false
   },
   "outputs": [],
   "source": [
    "Lpad=20 # then 200, then 2000\n",
    "# define a rectangular pulse\n",
    "rect=np.concatenate((np.ones(20),-np.ones(20)))\n",
    "# Add zeros after:\n",
    "rect_zeropadded=np.concatenate((rect,np.zeros(Lpad)))\n",
    "sig=rect_zeropadded\n",
    "plt.plot(sig)\n",
    "# compute the Fourier series for |k/Lsig|<1/4\n",
    "Lsig=np.size(sig)\n",
    "fmax=int(Lsig/4)\n",
    "kk=np.arange(-fmax,fmax)\n",
    "c=coeffck(sig[0:Lsig],Lsig,kk)\n",
    "# plot it\n",
    "plt.figure()\n",
    "plt.stem(kk/Lsig,np.abs(c))\n",
    "plt.title(\"Fourier series coefficients (modulus)\")\n",
    "plt.xlabel(\"Normalized frequency -- k/Lsig\")"
   ]
  },
  {
   "cell_type": "markdown",
   "metadata": {},
   "source": [
    "$\\def\\d{\\mathrm{d}}$\n",
    "Hence we obtain a formula where the discrete sum for reconstructing the time-series $x(n)$ becomes a continuous sum, since $f$ is now continuous:\n",
    "$$\n",
    "\\begin{aligned}\n",
    "x(n) = \\sum_{k=0}^{N-1} c_k & e^{j2\\pi\\frac{ k n}{N}}   = \\sum_{k/N=0}^{1-1/N} N X(k)  e^{j2\\pi\\frac{ k n}{N}} \\frac{1}{N} \\\\ \n",
    "&\\rightarrow x(n) = \\int_{0}^{1} X(f)  e^{j2\\pi f n} \\d f \n",
    "\\end{aligned}\n",
    "$$\n",
    "Finally, we end with the following pair of **Fourier transform**:\n",
    "\n",
    "$$\n",
    "\\boxed{\\begin{aligned}\n",
    "x(n) & = \\int_{0}^{1} X(f)  e^{j2\\pi f n} \\d f \\\\\n",
    "\\text{with   }\n",
    "X(f) &= \\sum_{n=-\\infty}^{\\infty} x(n)  e^{-j2\\pi f n}\n",
    "\\end{aligned}\n",
    "}$$\n"
   ]
  }
 ],
 "metadata": {},
 "nbformat": 4,
 "nbformat_minor": 0
}