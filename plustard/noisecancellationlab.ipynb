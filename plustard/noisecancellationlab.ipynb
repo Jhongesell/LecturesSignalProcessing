{
 "cells": [
  {
   "cell_type": "markdown",
   "metadata": {},
   "source": [
    "# Table of Contents\n",
    "* &nbsp;\n",
    "\t* &nbsp;\n",
    "\t\t* [Experimentation -- Noise cancellation ](#Experimentation----Noise-cancellation)\n",
    "\t\t\t* [Implementation of the noise canceller](#Implementation-of-the-noise-canceller)\n",
    "\t\t\t* [First experiment ](#First-experiment)\n",
    "\t\t\t* [Second experiment](#Second-experiment)\n",
    "\t\t\t* [Corrupted speech](#Corrupted-speech)\n"
   ]
  },
  {
   "cell_type": "code",
   "execution_count": 15,
   "metadata": {
    "collapsed": false
   },
   "outputs": [
    {
     "name": "stdout",
     "output_type": "stream",
     "text": [
      "... Configuring matplotlib formats\n",
      "... Configuring matplotlib with inline figures\n",
      "... Importing numpy as np, scipy as sp, pyplot as plt, scipy.stats as stats\n",
      "   ... scipy.signal as sig\n",
      "... Importing widgets, display, HTML, Image, Javascript\n",
      "... Some LaTeX definitions\n"
     ]
    },
    {
     "data": {
      "text/html": [
       "\n",
       "$$\\require{color}\n",
       "\\require{cancel}\n",
       "\\def\\tf#1{{\\mathrm{FT}\\left\\{ #1 \\right\\}}}\n",
       "\\def\\flecheTF{\\rightleftharpoons }\n",
       "\\def\\TFI#1#2#3{{\\displaystyle{\\int_{-\\infty}^{+\\infty} #1 ~e^{j2\\pi #2 #3} \n",
       "~\\dr{#2}}}}\n",
       "\\def\\TF#1#2#3{{\\displaystyle{\\int_{-\\infty}^{+\\infty} #1 ~e^{-j2\\pi #3 #2} \n",
       "~\\dr{#2}}}}\n",
       "\\def\\sha{ш}\n",
       "\\def\\dr#1{\\mathrm{d}#1}\n",
       "\\def\\egalpardef{\\mathop{=}\\limits^\\triangle}\n",
       "\\def\\sinc#1{{\\mathrm{sinc}\\left( #1 \\right)}}\n",
       "\\def\\rect{\\mathrm{rect}}\n",
       "\\definecolor{lightred}{rgb}{1,0.1,0}\n",
       "\\def\\myblueeqbox#1{{\\fcolorbox{blue}{lightblue}{$\textcolor{blue}{ #1}$}}}\n",
       "\\def\\myeqbox#1#2{{\\fcolorbox{#1}{light#1}{$\textcolor{#1}{ #2}$}}}\n",
       "\\def\\eqbox#1#2#3#4{{\\fcolorbox{#1}{#2}{$\\textcolor{#3}{ #4}$}}}\n",
       "% border|background|text\n",
       "\\def\\eqboxa#1{{\\boxed{#1}}}\n",
       "\\def\\eqboxb#1{{\\eqbox{green}{white}{green}{#1}}}\n",
       "\\def\\eqboxc#1{{\\eqbox{blue}{white}{blue}{#1}}}\n",
       "\\def\\eqboxd#1{{\\eqbox{blue}{lightblue}{blue}{#1}}}\n",
       "\\def\\E#1{\\mathbb{E}\\left[#1\\right]}\n",
       "\\def\\ta#1{\\left<#1\\right>}\n",
       "\\def\\egalparerg{{\\mathop{=}\\limits_\\mathrm{erg}}}\n",
       "\\def\\expo#1{\\exp\\left(#1\\right)}\n",
       "\\def\\d#1{\\mathrm{d}#1}\n",
       "\\def\\wb{\\mathbf{w}} \n",
       "\\def\\sb{\\mathbf{s}} \n",
       "\\def\\xb{\\mathbf{x}}\n",
       "\\def\\Rb{\\mathbf{R}} \n",
       "\\def\\rb{\\mathbf{r}} \n",
       "\\def\\mystar{{*}}\n",
       "\\def\\ub{\\mathbf{u}}\n",
       "\\def\\wbopt{\\mathop{\\mathbf{w}}\\limits^\\triangle}\n",
       "\\def\\deriv#1#2{\\frac{\\mathrm{d}#1}{\\mathrm{d}#2}}\n",
       "\\def\\Ub{\\mathbf{U}}\n",
       "\\def\\db{\\mathbf{d}}\n",
       "\\def\\eb{\\mathbf{e}}\n",
       "\\def\\vb{\\mathbf{v}}\n",
       "\\def\\Ib{\\mathbf{I}}\n",
       "\\def\\Vb{\\mathbf{V}}\n",
       "\\def\\Lambdab{\\mathbf{\\Lambda}}\n",
       "\\def\\Ab{\\mathbf{A}}\n",
       "\\def\\Bb{\\mathbf{B}}\n",
       "\\def\\Cb{\\mathbf{C}}\n",
       "\\def\\Db{\\mathbf{D}}\n",
       "\\def\\Kb{\\mathbf{K}}\n",
       "\\def\\sinc#1{\\mathrm{sinc\\left(#1\\right)}}\n",
       "$$\n"
      ],
      "text/plain": [
       "<IPython.core.display.HTML object>"
      ]
     },
     "metadata": {},
     "output_type": "display_data"
    },
    {
     "name": "stdout",
     "output_type": "stream",
     "text": [
      "... Defining figures captions \n"
     ]
    },
    {
     "data": {
      "text/html": [
       "<style>\n",
       ".caption {\n",
       "font-weight: normal;\n",
       "text-align: left;\n",
       "width:60%; margin-left:10%; border:2px solid; padding-top:5px; padding-bottom:5px;\n",
       "background-color:white;border-color:#efd3d7;color:black;\n",
       "border-radius:8px;-webkit-border-radius:8px;-moz-border-radius:8px;border-radius:8px\n",
       "}\n",
       "</style>"
      ],
      "text/plain": [
       "<IPython.core.display.HTML object>"
      ]
     },
     "metadata": {},
     "output_type": "display_data"
    },
    {
     "name": "stdout",
     "output_type": "stream",
     "text": [
      "... Loading customized Javascript for interactive solutions (show/hide)\n"
     ]
    }
   ],
   "source": [
    "%run nbinit.ipy"
   ]
  },
  {
   "cell_type": "markdown",
   "metadata": {},
   "source": [
    "## Experimentation -- Noise cancellation "
   ]
  },
  {
   "cell_type": "markdown",
   "metadata": {},
   "source": [
    "\n",
    "<img src=\"noisecancellation.jpg\"  width=\"60%\" height=\"60%\">"
   ]
  },
  {
   "cell_type": "markdown",
   "metadata": {},
   "source": [
    "\n",
    "Let $s$ be the signal we want to estimate from the mixture $x=s+b$, and from the noise reference $u$.  You will apply a noise cancellation procedure, where the filter will be identified in an adaptive way, using a LMS algorithm. \n"
   ]
  },
  {
   "cell_type": "markdown",
   "metadata": {
    "hidden": false
   },
   "source": [
    "### Implementation of the noise canceller"
   ]
  },
  {
   "cell_type": "markdown",
   "metadata": {
    "hidden": false
   },
   "source": [
    " \n",
    "You will implement a function following the call syntax\n"
   ]
  },
  {
   "cell_type": "code",
   "execution_count": null,
   "metadata": {
    "collapsed": false,
    "hidden": false
   },
   "outputs": [],
   "source": [
    "def noisecancel(ref,signal,h_ini,mu,normalized=False):\n",
    "    \"\"\"\n",
    "    Noise cancellation algorithm\n",
    "    Inputs:\n",
    "    =======\n",
    "    ref: array\n",
    "        noise reference\n",
    "    signal:  array\n",
    "        signal path (signal mixture s +b, where b is correlated with ref\n",
    "    h_ini: array\n",
    "        initial impulse response\n",
    "    mu: adaptation step\n",
    "    Outputs:\n",
    "    ========\n",
    "    h: array\n",
    "        identified impulse response \n",
    "    s: array\n",
    "        signal identified by noise cancellation\n",
    "    b_est: array\n",
    "        noise on the signal path estimated from ref\n",
    "    \"\"\"\n",
    "    #\n",
    "    # DO IT YOURSELF!\n",
    "    #\n",
    "    #return (h,s,b_est)"
   ]
  },
  {
   "cell_type": "code",
   "execution_count": 8,
   "metadata": {
    "cbox_ck": false,
    "cbox_id": "myCheck23",
    "collapsed": false,
    "widget": true
   },
   "outputs": [
    {
     "data": {
      "text/html": [
       "<div class=\"onoffswitch\">\n",
       "<input type=\"checkbox\" name=\"onoffswitch\" class=\"onoffswitch-checkbox\"\n",
       "onclick=\"document.getElementById('myCheck23').checked ? \n",
       "show_input(2) : hide_input(2)\" \n",
       "id=\"myCheck23\"  checked>\n",
       "<label class=\"onoffswitch-label\" for=\"myCheck23\"> \n",
       "<span class=\"onoffswitch-inner\"></span> \n",
       "<span class=\"onoffswitch-switch\"></span>\n",
       "</label>\n",
       "</div>"
      ],
      "text/plain": [
       "<IPython.core.display.HTML object>"
      ]
     },
     "metadata": {},
     "output_type": "display_data"
    }
   ],
   "source": [
    "from IPython.display import HTML, display, Javascript\n",
    "display(HTML('<div class=\"onoffswitch\">\\n<input type=\"checkbox\" name=\"onoffswitch\" class=\"onoffswitch-checkbox\"\\nonclick=\"document.getElementById('+\"'myCheck23'\"+').checked ? \\nshow_input(2) : hide_input(2)\" \\nid=\"myCheck23\"  checked>\\n<label class=\"onoffswitch-label\" for=\"myCheck23\"> \\n<span class=\"onoffswitch-inner\"></span> \\n<span class=\"onoffswitch-switch\"></span>\\n</label>\\n</div>'))"
   ]
  },
  {
   "cell_type": "code",
   "execution_count": null,
   "metadata": {
    "collapsed": false,
    "hidden": true
   },
   "outputs": [],
   "source": [
    "def lms(d,u,w,mu):\n",
    "    \"\"\" \n",
    "    Implements a single iteration of the stochastic gradient (LMS)\\n\n",
    "    :math:`w(n+1)=w(n)+\\\\mu u(n)\\\\left(d(n)-w(n)^T u(n)\\\\right)̀`\n",
    "    \n",
    "    Input:\n",
    "    ======\n",
    "        d : desired sequence at time n \n",
    "        u : input of length p\n",
    "        w : wiener filter to update \n",
    "        mu : adaptation step\n",
    "    \n",
    "    Returns:\n",
    "    =======\n",
    "        w : upated filter\n",
    "        err : d-dest\n",
    "        dest : prediction = :math:`u(n)^T w` \n",
    "    \"\"\"\n",
    "    u=squeeze(u) #Remove single-dimensional entries from the shape of an array.\n",
    "    w=squeeze(w)\n",
    "    dest=u.dot(w)\n",
    "    err=d-dest\n",
    "    w=w+mu*u*err\n",
    "    return (w,err,dest)"
   ]
  },
  {
   "cell_type": "code",
   "execution_count": null,
   "metadata": {
    "collapsed": false,
    "hidden": true
   },
   "outputs": [],
   "source": [
    "def noisecancel(ref,signal,h_ini,mu,normalized=False):\n",
    "    \"\"\"\n",
    "    Noise cancellation algorithm\n",
    "    Inputs:\n",
    "    =======\n",
    "    ref: array\n",
    "        noise reference\n",
    "    signal:  array\n",
    "        signal path (signal mixture s +b, where b is correlated with ref\n",
    "    h_ini: array\n",
    "        initial impulse response\n",
    "    mu: adaptation step\n",
    "    \n",
    "    Outputs:\n",
    "    ========\n",
    "    h: array\n",
    "        identified impulse response \n",
    "    s: array\n",
    "        signal identified by noise cancellation\n",
    "    b_est: array\n",
    "        noise on the signal path estimated from ref\n",
    "    \"\"\"\n",
    "\n",
    "\n",
    "    ref=np.squeeze(ref) \n",
    "    signal=np.squeeze(signal) \n",
    "    h_ini=np.squeeze(h_ini)\n",
    "\n",
    "    N=np.size(signal)\n",
    "    L=np.size(h_ini)\n",
    "    h=h_ini\n",
    "    s=np.zeros(N)\n",
    "    b_est=np.zeros(N)\n",
    "    \n",
    "    for t in np.arange(L,N):\n",
    "         u=ref[t:t-L:-1]\n",
    "         if normalized:\n",
    "            mun=mu/(dot(u,u)+1e-10)   \n",
    "         else:\n",
    "            mun=mu\n",
    "         (h, s[t],b_est[t]) = lms(signal[t], u, h, mun)\n",
    "\n",
    "    return (h,s,b_est)"
   ]
  },
  {
   "cell_type": "markdown",
   "metadata": {},
   "source": [
    "You may first test your implementation using the following test script."
   ]
  },
  {
   "cell_type": "code",
   "execution_count": null,
   "metadata": {
    "collapsed": false
   },
   "outputs": [],
   "source": [
    "# Test: Problem Simulation\n",
    "N=1000\n",
    "u=np.random.randn(N)\n",
    "v=sig.lfilter(ones(10),1,u)\n",
    "s=sin(2*pi*0.03*np.arange(N))\n",
    "x=s+v\n",
    "(h,s,s_est)=noisecancel(u,x,zeros(12),0.2,normalized=True)\n",
    "plt.figure()\n",
    "plt.plot(x)\n",
    "plt.title(\"Observations\")\n",
    "plt.figure()\n",
    "plt.plot(v)\n",
    "plt.title(\"Noise reference\")\n",
    "plt.figure()\n",
    "plt.plot(s)\n",
    "plt.title(\"Cleaned signal\")\n",
    "print(h)"
   ]
  },
  {
   "cell_type": "markdown",
   "metadata": {},
   "source": [
    "### First experiment "
   ]
  },
  {
   "cell_type": "markdown",
   "metadata": {},
   "source": [
    "For your experiments, you have to consider the tests signals included in the files \n",
    "`sb1.npz` and `sb2.npz`. The first file contains two noise references, one is stationary, the second non stationary. You will consider these two references successively. You will take values between  0.01 and 1 for the adaptation step (or you may use the normalized version). \n"
   ]
  },
  {
   "cell_type": "markdown",
   "metadata": {},
   "source": [
    "We must first load the data:\n",
    "\n",
    "    f=numpy.load('sb1.npz')"
   ]
  },
  {
   "cell_type": "code",
   "execution_count": null,
   "metadata": {
    "collapsed": false
   },
   "outputs": [],
   "source": [
    "f=np.load('sb1.npz')\n",
    "# f is a dictionary\n",
    "# its keys are given by\n",
    "print(\"keys: \", f.keys())\n",
    "# Then the contents are affected to local variables\n",
    "obs=f['obs']\n",
    "ref1=f['ref1']\n",
    "ref2=f['ref2']"
   ]
  },
  {
   "cell_type": "markdown",
   "metadata": {},
   "source": [
    "Plot the different signals"
   ]
  },
  {
   "cell_type": "code",
   "execution_count": 9,
   "metadata": {
    "cbox_ck": false,
    "cbox_id": "myCheck9",
    "collapsed": false,
    "manualexec": true,
    "widget": true
   },
   "outputs": [
    {
     "data": {
      "text/html": [
       "<div class=\"onoffswitch\">\n",
       "<input type=\"checkbox\" name=\"onoffswitch\" class=\"onoffswitch-checkbox\"\n",
       "onclick=\"document.getElementById('myCheck9').checked ? \n",
       "show_input(1) : hide_input(1)\" \n",
       "id=\"myCheck9\"  checked>\n",
       "<label class=\"onoffswitch-label\" for=\"myCheck9\"> \n",
       "<span class=\"onoffswitch-inner\"></span> \n",
       "<span class=\"onoffswitch-switch\"></span>\n",
       "</label>\n",
       "</div>"
      ],
      "text/plain": [
       "<IPython.core.display.HTML object>"
      ]
     },
     "metadata": {},
     "output_type": "display_data"
    }
   ],
   "source": [
    "from IPython.display import HTML, display, Javascript\n",
    "display(HTML('<div class=\"onoffswitch\">\\n<input type=\"checkbox\" name=\"onoffswitch\" class=\"onoffswitch-checkbox\"\\nonclick=\"document.getElementById('+\"'myCheck9'\"+').checked ? \\nshow_input(1) : hide_input(1)\" \\nid=\"myCheck9\"  checked>\\n<label class=\"onoffswitch-label\" for=\"myCheck9\"> \\n<span class=\"onoffswitch-inner\"></span> \\n<span class=\"onoffswitch-switch\"></span>\\n</label>\\n</div>'))"
   ]
  },
  {
   "cell_type": "code",
   "execution_count": null,
   "metadata": {
    "collapsed": false,
    "hidden": true
   },
   "outputs": [],
   "source": [
    "import matplotlib.gridspec as gridspec\n",
    "G = gridspec.GridSpec(2, 2)\n",
    "\n",
    "fig=plt.figure(figsize=(10,4))\n",
    "ax1 = plt.subplot(G[0:, 0])\n",
    "ax1.plot(obs)\n",
    "title(\"Observation\")\n",
    "ax2 = subplot(G[0, 1])\n",
    "ax2.plot(ref1)\n",
    "plt.title(\"Noise reference 1\")\n",
    "\n",
    "ax3 = subplot(G[1, 1])\n",
    "ax3.plot(ref2)\n",
    "plt.title(\"Noise reference 2\")\n",
    "fig.tight_layout()   #avoid covering of titles and labels\n",
    "figcaption(\"Noise cancellation experiment -- Available signals\",label=\"fig:availablesignals1\")"
   ]
  },
  {
   "cell_type": "markdown",
   "metadata": {},
   "source": [
    "Test the noise cancellation algorithm, using the two references."
   ]
  },
  {
   "cell_type": "code",
   "execution_count": 10,
   "metadata": {
    "cbox_ck": false,
    "cbox_id": "myCheck10",
    "collapsed": false,
    "manualexec": true,
    "widget": true
   },
   "outputs": [
    {
     "data": {
      "text/html": [
       "<div class=\"onoffswitch\">\n",
       "<input type=\"checkbox\" name=\"onoffswitch\" class=\"onoffswitch-checkbox\"\n",
       "onclick=\"document.getElementById('myCheck10').checked ? \n",
       "show_input(1) : hide_input(1)\" \n",
       "id=\"myCheck10\"  checked>\n",
       "<label class=\"onoffswitch-label\" for=\"myCheck10\"> \n",
       "<span class=\"onoffswitch-inner\"></span> \n",
       "<span class=\"onoffswitch-switch\"></span>\n",
       "</label>\n",
       "</div>"
      ],
      "text/plain": [
       "<IPython.core.display.HTML object>"
      ]
     },
     "metadata": {},
     "output_type": "display_data"
    }
   ],
   "source": [
    "from IPython.display import HTML, display, Javascript\n",
    "display(HTML('<div class=\"onoffswitch\">\\n<input type=\"checkbox\" name=\"onoffswitch\" class=\"onoffswitch-checkbox\"\\nonclick=\"document.getElementById('+\"'myCheck10'\"+').checked ? \\nshow_input(1) : hide_input(1)\" \\nid=\"myCheck10\"  checked>\\n<label class=\"onoffswitch-label\" for=\"myCheck10\"> \\n<span class=\"onoffswitch-inner\"></span> \\n<span class=\"onoffswitch-switch\"></span>\\n</label>\\n</div>'))"
   ]
  },
  {
   "cell_type": "code",
   "execution_count": null,
   "metadata": {
    "collapsed": false,
    "hidden": true
   },
   "outputs": [],
   "source": [
    "# With the non stationary reference\n",
    "(h,s,sest)=noisecancel(ref2,obs,zeros(10),0.8,normalized=True)\n",
    "plt.plot(s)\n",
    "plt.title(\"Extracted signal\")\n",
    "figcaption(\"Extracted signal\",label=\"fig:extractedsignal1\")\n",
    "plt.figure()\n",
    "plt.plot(sest)\n",
    "plt.title(\"Extracted noise\")\n",
    "figcaption(\"Extracted noise\",label=\"fig:extractednoise1\")\n"
   ]
  },
  {
   "cell_type": "code",
   "execution_count": 11,
   "metadata": {
    "cbox_ck": false,
    "cbox_id": "myCheck11",
    "collapsed": false,
    "manualexec": true,
    "widget": true
   },
   "outputs": [
    {
     "data": {
      "text/html": [
       "<div class=\"onoffswitch\">\n",
       "<input type=\"checkbox\" name=\"onoffswitch\" class=\"onoffswitch-checkbox\"\n",
       "onclick=\"document.getElementById('myCheck11').checked ? \n",
       "show_input(1) : hide_input(1)\" \n",
       "id=\"myCheck11\"  checked>\n",
       "<label class=\"onoffswitch-label\" for=\"myCheck11\"> \n",
       "<span class=\"onoffswitch-inner\"></span> \n",
       "<span class=\"onoffswitch-switch\"></span>\n",
       "</label>\n",
       "</div>"
      ],
      "text/plain": [
       "<IPython.core.display.HTML object>"
      ]
     },
     "metadata": {},
     "output_type": "display_data"
    }
   ],
   "source": [
    "from IPython.display import HTML, display, Javascript\n",
    "display(HTML('<div class=\"onoffswitch\">\\n<input type=\"checkbox\" name=\"onoffswitch\" class=\"onoffswitch-checkbox\"\\nonclick=\"document.getElementById('+\"'myCheck11'\"+').checked ? \\nshow_input(1) : hide_input(1)\" \\nid=\"myCheck11\"  checked>\\n<label class=\"onoffswitch-label\" for=\"myCheck11\"> \\n<span class=\"onoffswitch-inner\"></span> \\n<span class=\"onoffswitch-switch\"></span>\\n</label>\\n</div>'))"
   ]
  },
  {
   "cell_type": "code",
   "execution_count": null,
   "metadata": {
    "collapsed": false,
    "hidden": true
   },
   "outputs": [],
   "source": [
    "# With the stationary reference\n",
    "(h,s,sest)=noisecancel(ref1,obs,zeros(10),0.8,normalized=True)\n",
    "plt.plot(s)\n",
    "plt.title(\"Extracted signal\")\n",
    "figcaption(\"Extracted signal\",label=\"fig:extractedsignal2\")\n",
    "plt.figure()\n",
    "plt.plot(sest)\n",
    "plt.title(\"Extracted noise\")\n",
    "figcaption(\"Extracted noise\",label=\"fig:extractednoise2\")\n"
   ]
  },
  {
   "cell_type": "markdown",
   "metadata": {},
   "source": [
    "### Second experiment"
   ]
  },
  {
   "cell_type": "markdown",
   "metadata": {},
   "source": [
    "For the second signal in  `sb2.npz`, we have a much more important non stationarity and a lower signal-to-noise ratio. It might be useful to consider the problem in two phases, so as to obtain a frst estimate of the impulse response, which will be used as an initial condition in the second phase. "
   ]
  },
  {
   "cell_type": "code",
   "execution_count": null,
   "metadata": {
    "collapsed": false
   },
   "outputs": [],
   "source": [
    "f=np.load('sb2.npz')\n",
    "# f is a dictionary\n",
    "# its keys are given by\n",
    "print(\"keys: \", f.keys())\n",
    "#  Then the contents are affected to local variables\n",
    "Text=f['Text']\n",
    "x=f['x']\n",
    "y=f['y']"
   ]
  },
  {
   "cell_type": "markdown",
   "metadata": {},
   "source": [
    "Print the Text variable, and display the different signals. "
   ]
  },
  {
   "cell_type": "code",
   "execution_count": 12,
   "metadata": {
    "cbox_ck": false,
    "cbox_id": "myCheck12",
    "collapsed": false,
    "manualexec": true,
    "widget": true
   },
   "outputs": [
    {
     "data": {
      "text/html": [
       "<div class=\"onoffswitch\">\n",
       "<input type=\"checkbox\" name=\"onoffswitch\" class=\"onoffswitch-checkbox\"\n",
       "onclick=\"document.getElementById('myCheck12').checked ? \n",
       "show_input(1) : hide_input(1)\" \n",
       "id=\"myCheck12\"  checked>\n",
       "<label class=\"onoffswitch-label\" for=\"myCheck12\"> \n",
       "<span class=\"onoffswitch-inner\"></span> \n",
       "<span class=\"onoffswitch-switch\"></span>\n",
       "</label>\n",
       "</div>"
      ],
      "text/plain": [
       "<IPython.core.display.HTML object>"
      ]
     },
     "metadata": {},
     "output_type": "display_data"
    }
   ],
   "source": [
    "from IPython.display import HTML, display, Javascript\n",
    "display(HTML('<div class=\"onoffswitch\">\\n<input type=\"checkbox\" name=\"onoffswitch\" class=\"onoffswitch-checkbox\"\\nonclick=\"document.getElementById('+\"'myCheck12'\"+').checked ? \\nshow_input(1) : hide_input(1)\" \\nid=\"myCheck12\"  checked>\\n<label class=\"onoffswitch-label\" for=\"myCheck12\"> \\n<span class=\"onoffswitch-inner\"></span> \\n<span class=\"onoffswitch-switch\"></span>\\n</label>\\n</div>'))"
   ]
  },
  {
   "cell_type": "code",
   "execution_count": null,
   "metadata": {
    "collapsed": false,
    "hidden": true
   },
   "outputs": [],
   "source": [
    "print(Text) #\n",
    "plot(x)\n",
    "title(\"x: Noise reference\")\n",
    "figure()\n",
    "plot(y)\n",
    "title(\"y = s + b : available data\")"
   ]
  },
  {
   "cell_type": "markdown",
   "metadata": {},
   "source": [
    "Call the noise canceller in order to extract signal."
   ]
  },
  {
   "cell_type": "code",
   "execution_count": 13,
   "metadata": {
    "cbox_ck": false,
    "cbox_id": "myCheck13",
    "collapsed": false,
    "manualexec": true,
    "widget": true
   },
   "outputs": [
    {
     "data": {
      "text/html": [
       "<div class=\"onoffswitch\">\n",
       "<input type=\"checkbox\" name=\"onoffswitch\" class=\"onoffswitch-checkbox\"\n",
       "onclick=\"document.getElementById('myCheck13').checked ? \n",
       "show_input(1) : hide_input(1)\" \n",
       "id=\"myCheck13\"  checked>\n",
       "<label class=\"onoffswitch-label\" for=\"myCheck13\"> \n",
       "<span class=\"onoffswitch-inner\"></span> \n",
       "<span class=\"onoffswitch-switch\"></span>\n",
       "</label>\n",
       "</div>"
      ],
      "text/plain": [
       "<IPython.core.display.HTML object>"
      ]
     },
     "metadata": {},
     "output_type": "display_data"
    }
   ],
   "source": [
    "from IPython.display import HTML, display, Javascript\n",
    "display(HTML('<div class=\"onoffswitch\">\\n<input type=\"checkbox\" name=\"onoffswitch\" class=\"onoffswitch-checkbox\"\\nonclick=\"document.getElementById('+\"'myCheck13'\"+').checked ? \\nshow_input(1) : hide_input(1)\" \\nid=\"myCheck13\"  checked>\\n<label class=\"onoffswitch-label\" for=\"myCheck13\"> \\n<span class=\"onoffswitch-inner\"></span> \\n<span class=\"onoffswitch-switch\"></span>\\n</label>\\n</div>'))"
   ]
  },
  {
   "cell_type": "code",
   "execution_count": null,
   "metadata": {
    "collapsed": false,
    "hidden": true
   },
   "outputs": [],
   "source": [
    "(h,s,sest)=noisecancel(x,y,zeros(10),0.8,normalized=True)\n",
    "(h,s,sest)=noisecancel(x,y,h,0.1,normalized=True)\n",
    "# We assume that the filter is stationary and filter again \n",
    "# with this filter as initial condition \n",
    "(h,s,sest)=noisecancel(x,y,h,0.0001,normalized=True)\n",
    "plt.plot(s)\n",
    "plt.title(\"Extracted signal\")\n",
    "figcaption(\"Extracted signal\",label=\"fig:extractedsignal3\")\n",
    "plt.figure()\n",
    "plt.plot(sest)\n",
    "plt.title(\"Extracted noise\")\n",
    "figcaption(\"Extracted noise\",label=\"fig:extractednoise3\")\n",
    "\n",
    "print(\"Identified filter: \",h)"
   ]
  },
  {
   "cell_type": "markdown",
   "metadata": {},
   "source": [
    "### Corrupted speech"
   ]
  },
  {
   "cell_type": "markdown",
   "metadata": {},
   "source": [
    "We end with a speech sound, corrupted by a cricket chirping \n",
    "\n",
    "1. We load data by\n",
    "   \n",
    "        f=numpy.load('parole_bruitee.npz')  \n",
    "        g=numpy.load('decticelle.npz')\n",
    "        \n",
    "   then the contents are affected to local variables\n",
    "\n",
    "        d=f['d']\n",
    "        u=g['u']\n",
    "2.   Perform the noise cancellation. Then you will be able to listen the result \n",
    "- using the Audio object if you use the IPython notebook\n",
    "```\n",
    "from IPython.display import Audio\n",
    "Audio(data=name_of_array,rate=value_of-rate) #eg rate=8820\n",
    "```\n",
    "- using the `sound` function which has been thrown together by your servant \n",
    "```\n",
    "from syssound import *\n",
    "sound(name_of_array)\n",
    "```"
   ]
  },
  {
   "cell_type": "code",
   "execution_count": null,
   "metadata": {
    "collapsed": false
   },
   "outputs": [],
   "source": [
    "f=np.load('parole_bruitee.npz')\n",
    "print(f.keys())\n",
    "g=np.load('decticelle.npz')\n",
    "g.keys()"
   ]
  },
  {
   "cell_type": "markdown",
   "metadata": {},
   "source": [
    "Call the noisecanceller, display the results and listen the different signals... "
   ]
  },
  {
   "cell_type": "code",
   "execution_count": 14,
   "metadata": {
    "cbox_ck": false,
    "cbox_id": "myCheck22",
    "collapsed": false,
    "manualexec": true,
    "widget": true
   },
   "outputs": [
    {
     "data": {
      "text/html": [
       "<div class=\"onoffswitch\">\n",
       "<input type=\"checkbox\" name=\"onoffswitch\" class=\"onoffswitch-checkbox\"\n",
       "onclick=\"document.getElementById('myCheck22').checked ? \n",
       "show_input(4) : hide_input(4)\" \n",
       "id=\"myCheck22\"  checked>\n",
       "<label class=\"onoffswitch-label\" for=\"myCheck22\"> \n",
       "<span class=\"onoffswitch-inner\"></span> \n",
       "<span class=\"onoffswitch-switch\"></span>\n",
       "</label>\n",
       "</div>"
      ],
      "text/plain": [
       "<IPython.core.display.HTML object>"
      ]
     },
     "metadata": {},
     "output_type": "display_data"
    }
   ],
   "source": [
    "from IPython.display import HTML, display, Javascript\n",
    "display(HTML('<div class=\"onoffswitch\">\\n<input type=\"checkbox\" name=\"onoffswitch\" class=\"onoffswitch-checkbox\"\\nonclick=\"document.getElementById('+\"'myCheck22'\"+').checked ? \\nshow_input(4) : hide_input(4)\" \\nid=\"myCheck22\"  checked>\\n<label class=\"onoffswitch-label\" for=\"myCheck22\"> \\n<span class=\"onoffswitch-inner\"></span> \\n<span class=\"onoffswitch-switch\"></span>\\n</label>\\n</div>'))"
   ]
  },
  {
   "cell_type": "code",
   "execution_count": null,
   "metadata": {
    "collapsed": false,
    "hidden": true
   },
   "outputs": [],
   "source": [
    "d=f['d']\n",
    "u=g['u']\n",
    "(h,s,sest)=noisecancel(u,d,zeros(5),0.1,normalized=True)\n",
    "plt.plot(d)\n",
    "plt.title(\"Corrupted Signal\")\n",
    "figcaption(\"Corrupted Signal\", label=\"fig:corruptedsignal\")\n",
    "plt.figure()\n",
    "plt.plot(s)\n",
    "plt.title(\"Recovered Speech?\")\n",
    "figcaption(\"Recovered speech\", label=\"fig:recoveredspeech\")"
   ]
  },
  {
   "cell_type": "code",
   "execution_count": null,
   "metadata": {
    "collapsed": false,
    "hidden": true
   },
   "outputs": [],
   "source": [
    "from IPython.display import Audio"
   ]
  },
  {
   "cell_type": "code",
   "execution_count": null,
   "metadata": {
    "collapsed": false,
    "hidden": true
   },
   "outputs": [],
   "source": [
    "# Corrupted signal\n",
    "Audio(data=d,rate=8820)"
   ]
  },
  {
   "cell_type": "code",
   "execution_count": null,
   "metadata": {
    "collapsed": false,
    "hidden": true
   },
   "outputs": [],
   "source": [
    "# Restored one signal\n",
    "Audio(data=s,rate=8820)"
   ]
  }
 ],
 "metadata": {
  "celltoolbar": "Edit Metadata",
  "interactive_sols": {
   "cbx_id": 24
  },
  "kernelspec": {
   "display_name": "Python 3",
   "language": "python",
   "name": "python3"
  },
  "language_info": {
   "codemirror_mode": {
    "name": "ipython",
    "version": 3
   },
   "file_extension": ".py",
   "mimetype": "text/x-python",
   "name": "python",
   "nbconvert_exporter": "python",
   "pygments_lexer": "ipython3",
   "version": "3.4.3+"
  },
  "latex_envs": {
   "bibliofile": "biblio.bib",
   "cite_by": "apalike",
   "current_citInitial": 1,
   "eqLabelWithNumbers": true,
   "eqNumInitial": 0
  }
 },
 "nbformat": 4,
 "nbformat_minor": 0
}
