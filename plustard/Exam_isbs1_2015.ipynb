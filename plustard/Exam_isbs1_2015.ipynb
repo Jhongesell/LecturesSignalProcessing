{
 "cells": [
  {
   "cell_type": "markdown",
   "metadata": {},
   "source": [
    "# Examen ISBS1 -- Traitement du signal"
   ]
  },
  {
   "cell_type": "markdown",
   "metadata": {},
   "source": [
    "**Tous documents autorisés** <br>\n",
    "Durée :  deux heures\n"
   ]
  },
  {
   "cell_type": "markdown",
   "metadata": {},
   "source": [
    "Avant toute chose, vous chargerez les modules utiles, comme lors des séances de cours/td, en appelant le programme `nbinit.ipy` qui se charge de charger les modules utiles. "
   ]
  },
  {
   "cell_type": "code",
   "execution_count": null,
   "metadata": {
    "collapsed": false
   },
   "outputs": [],
   "source": [
    "%run nbinit.ipy"
   ]
  },
  {
   "cell_type": "markdown",
   "metadata": {},
   "source": [
    "## 0 - Consignes : \n",
    "\n",
    "**1. Questions de cours**:\n",
    "\n",
    "   - L'épreuve comprend 10 questions de cours, que vous retrouverez sur [icampus](https://icampus.esiee.fr/mod/quiz/view.php?id=4687) -- 10 questions, nombre de tentatives illimitées, dernière tentative retenue.\n",
    "\n",
    "**2. Questions comprenant une mise en oeuvre numérique** :\n",
    " - Editer le nom du notebook, ci-dessus, en `votre_nom`\n",
    " - vous devez faire les calculs numériques dans ce notebok. En fin d'épreuve, vous vous connecterez sur icampus \"[remise de devoir](https://icampus.esiee.fr/mod/assign/view.php?id=4713)\" et transférerez ce notebook. \n",
    " - vous pouvez ajouter une copie de commentaires, si vous le jugez utile\n",
    " "
   ]
  },
  {
   "cell_type": "markdown",
   "metadata": {},
   "source": [
    "## 1 - Conception d'un filtre réjecteur et application au filtrage d'un Electrocardiogramme (ECG)"
   ]
  },
  {
   "cell_type": "markdown",
   "metadata": {},
   "source": [
    "Vous chargerez les données de mesures d'un ECG par \n",
    "```\n",
    "ecg=np.load('ecg.npy')\n",
    "```\n",
    "Il s'agit de données **réelles**. \n",
    "\n",
    "- La fréquence d'échantillonnage utilisée est de $f_s=1000$ Hz. \n",
    "\n",
    "Les mesures sont entâchées par un fort \"bruit\" constitué par une interférence électrique à 50Hz. Une partie de votre travail va consister à vous débarasser de cette interérence. "
   ]
  },
  {
   "cell_type": "code",
   "execution_count": null,
   "metadata": {
    "collapsed": false
   },
   "outputs": [],
   "source": [
    "#Exécuter ceci !\n",
    "ecg=np.load('ecg.npy')"
   ]
  },
  {
   "cell_type": "markdown",
   "metadata": {},
   "source": [
    "### 1.1 Représentation du signal\n",
    "\n",
    "Avant cela on va regarder comment sont faites les données. Faites attention au fait que l'on a *beaucoup de points*. Si vous tracez brutalement le signal, cela risque d'encombrer la mémoire et de prendre pas mal de temps. Je vous suggère donc de ne tracer qu'une portion du signal (par exemple 3000 points, de 0:3000)\n",
    "\n",
    "1 -  Donner le nombre de points composant le signal ecg"
   ]
  },
  {
   "cell_type": "code",
   "execution_count": null,
   "metadata": {
    "collapsed": false
   },
   "outputs": [],
   "source": [
    "# cellule de code pour faire des calculs si nécessaire\n",
    "# ....\n",
    "\n",
    "# --> insérer la réponse ici\n",
    "# N=\n",
    "# print(\"N=\",N)"
   ]
  },
  {
   "cell_type": "markdown",
   "metadata": {},
   "source": [
    "2 -  Quelle durée représente 3000 échantillons ? Quelle durée représente la totalité des échantillons disponible ?"
   ]
  },
  {
   "cell_type": "code",
   "execution_count": null,
   "metadata": {
    "collapsed": false
   },
   "outputs": [],
   "source": [
    "# cellule de code pour faire des calculs si nécessaire\n",
    "# ....\n",
    "\n",
    "# --> insérer les réponses ici\n",
    "# duree_3000= \n",
    "# duree_totale= "
   ]
  },
  {
   "cell_type": "markdown",
   "metadata": {},
   "source": [
    "3 - Tracer 3000 points du signal temporel, mettre un titre \"ECG - représentation temporelle\", un label pour l'axe des abscisses, et *graduer correctement les abscisses en secondes*."
   ]
  },
  {
   "cell_type": "code",
   "execution_count": null,
   "metadata": {
    "collapsed": false
   },
   "outputs": [],
   "source": [
    "# cellule de code pour faire les calculs et lancer la représentation\n",
    "# ....\n"
   ]
  },
  {
   "cell_type": "markdown",
   "metadata": {},
   "source": [
    "4 - On veut maintenant examiner le signal en fréquence. Calculer et tracer la transformée de Fourier prise sur 4096 points (on aime bien les puissances de deux),  mettre un titre \"ECG - représentation fréquentielle\", un label pour l'axe des abscisses, et *graduer correctement les abscisses en fréquences* (on rappelle que la fréquence d'échantillonnage est $f_s=1000$ Hz. Vous pourrez éventuellement zoomer la représentation -- par exemple sur [0, 250Hz], en utilisant la commande `plt.xlim`.  "
   ]
  },
  {
   "cell_type": "code",
   "execution_count": 5,
   "metadata": {
    "collapsed": false
   },
   "outputs": [],
   "source": [
    "# cellule de code pour faire les calculs et lancer la représentation\n",
    "# ....\n"
   ]
  },
  {
   "cell_type": "markdown",
   "metadata": {},
   "source": [
    "--> Commenter dans la cellule ci-dessous, ou sur une feuille de papier à part, sur les caractéristiques marquantes que vous observez sur cette représentation. \n"
   ]
  },
  {
   "cell_type": "markdown",
   "metadata": {},
   "source": [
    "> ..."
   ]
  },
  {
   "cell_type": "markdown",
   "metadata": {},
   "source": [
    "Au vu de la représentation fréquentielle, serait il possible de sous-échantillonner ce signal ? Dans l'affirmative, quelle fréquence suggéreriez vous ?\n"
   ]
  },
  {
   "cell_type": "markdown",
   "metadata": {},
   "source": [
    "--> Répondre dans la cellule ci-dessous, ou sur une feuille de papier à part, sur la possibilité de sous-échantillonnage. "
   ]
  },
  {
   "cell_type": "markdown",
   "metadata": {},
   "source": [
    "> ..."
   ]
  },
  {
   "cell_type": "markdown",
   "metadata": {},
   "source": [
    "### 1.2 Filtrage"
   ]
  },
  {
   "cell_type": "markdown",
   "metadata": {},
   "source": [
    "Nous avons vu que pour retirer une interférence périodique polluant un signal à variations lentes, il suffit de calculer une moyenne glissante, locale,  sur une durée d'une période. C'est cette idée que vous allez mettre en oeuvre ici. "
   ]
  },
  {
   "cell_type": "markdown",
   "metadata": {},
   "source": [
    "1 - Quel est le nombre de points $L$ par période du signal parasite ? Définissez la réponse impulsionnelle d'un filtre moyenneur sur cette durée. Tracez la fonction de transfert, à nouveau sur $M=4096$ points et en utilisant une échelle correcte pour l'axe des abscisses. Vous pouvez avoir intérêt à zoomer la représentation -- par exemple sur [0, 250Hz], en utilisant la commande `plt.xlim`.  "
   ]
  },
  {
   "cell_type": "code",
   "execution_count": null,
   "metadata": {
    "collapsed": false
   },
   "outputs": [],
   "source": [
    "# définition de h\n",
    "# ...\n",
    "\n",
    "# calcul de la fonction de transfert\n",
    "# ...\n",
    "\n",
    "\n",
    "# tracé..\n",
    "# ...\n",
    "\n"
   ]
  },
  {
   "cell_type": "markdown",
   "metadata": {},
   "source": [
    "2 - Filtrez la totalité du signal ecg par ce filtre, puis affichez 1500  points du résultat que vous comparerez au signal initial (vous pouvez faire des subplots ou tracer sur le même graphique; il pourrait être opportun d'ajouter une légende -- commande `plt.legend()` et définir des labels)."
   ]
  },
  {
   "cell_type": "code",
   "execution_count": null,
   "metadata": {
    "collapsed": false
   },
   "outputs": [],
   "source": [
    "# filtrage par h\n",
    "# ...\n",
    "\n",
    "\n",
    "# tracé..\n",
    "# ...\n",
    "\n"
   ]
  },
  {
   "cell_type": "markdown",
   "metadata": {},
   "source": [
    "3 - Normalement vous devriez voir apparaître un léger retard entre les deux signaux. Expliquez d'où peut venir ce décalage. "
   ]
  },
  {
   "cell_type": "markdown",
   "metadata": {},
   "source": [
    "> --> D'où vient le décalage temporel ? \n"
   ]
  },
  {
   "cell_type": "markdown",
   "metadata": {},
   "source": [
    "Recalez les signaux en introduisant un retard adéquat [attention, ce doit être un nombre entier. Forcer éventuellement le type par un cast `int()`)  et tracez à nouveau la comparaison des signaux avant et après filtrage. "
   ]
  },
  {
   "cell_type": "code",
   "execution_count": null,
   "metadata": {
    "collapsed": false
   },
   "outputs": [],
   "source": [
    "\n",
    "# tracé..\n",
    "# ...\n"
   ]
  },
  {
   "cell_type": "code",
   "execution_count": null,
   "metadata": {
    "collapsed": false
   },
   "outputs": [],
   "source": []
  },
  {
   "cell_type": "markdown",
   "metadata": {},
   "source": [
    "## 2. Une question subsidiaire"
   ]
  },
  {
   "cell_type": "markdown",
   "metadata": {},
   "source": [
    "On considère maintenant un filtre à réponse impulsionnelle infinie possédant les coefficients suivants :"
   ]
  },
  {
   "cell_type": "code",
   "execution_count": 10,
   "metadata": {
    "collapsed": false
   },
   "outputs": [
    {
     "data": {
      "text/plain": [
       "array([  1.        ,  -5.48487936,  12.79990334, -16.24900038,\n",
       "        11.83119266,  -4.68619948,   0.78979292])"
      ]
     },
     "execution_count": 10,
     "metadata": {},
     "output_type": "execute_result"
    }
   ],
   "source": [
    "a= array([  1.        ,  -5.48487936,  12.79990334, -16.24900038,\n",
    "        11.83119266,  -4.68619948,   0.78979292])\n",
    "a"
   ]
  },
  {
   "cell_type": "code",
   "execution_count": 11,
   "metadata": {
    "collapsed": false
   },
   "outputs": [
    {
     "data": {
      "text/plain": [
       "array([  0.88870296,  -5.07375285,  12.3217415 , -16.27257352,\n",
       "        12.3217415 ,  -5.07375285,   0.88870296])"
      ]
     },
     "execution_count": 11,
     "metadata": {},
     "output_type": "execute_result"
    }
   ],
   "source": [
    "b = array([  0.88870296,  -5.07375285,  12.3217415 , -16.27257352,\n",
    "        12.3217415 ,  -5.07375285,   0.88870296])\n",
    "b"
   ]
  },
  {
   "cell_type": "markdown",
   "metadata": {},
   "source": [
    "### 2.1 -  Tracé de la réponse impulsionnelle\n",
    "\n",
    "Calculer la réponse impulsionnelle (sur 200 points), en appliquant la définition..\n",
    "Tracez le résultat, en utilisant un diagramme en batons (fonction `plt.stem`). "
   ]
  },
  {
   "cell_type": "code",
   "execution_count": null,
   "metadata": {
    "collapsed": false
   },
   "outputs": [],
   "source": [
    "# calcul de la RI\n",
    "#\n",
    "\n",
    "# tracé\n",
    "#\n"
   ]
  },
  {
   "cell_type": "markdown",
   "metadata": {},
   "source": [
    "### 2.2 -  Tracé de la fonction de transfert\n",
    "\n",
    "Calculez puis tracez la fonction de transfert, comme toujours **avec un axe des abscisses gradué correctement **. "
   ]
  },
  {
   "cell_type": "code",
   "execution_count": null,
   "metadata": {
    "collapsed": false
   },
   "outputs": [],
   "source": [
    "# calcul de la fonction de transfert \n",
    "#\n",
    "#"
   ]
  },
  {
   "cell_type": "code",
   "execution_count": 9,
   "metadata": {
    "collapsed": false
   },
   "outputs": [],
   "source": [
    "# tracé..\n",
    "# ..."
   ]
  }
 ],
 "metadata": {},
 "nbformat": 4,
 "nbformat_minor": 0
}