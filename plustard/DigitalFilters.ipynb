{
 "metadata": {
  "name": "",
  "signature": "sha256:124a46922f19f53a6c27fda3c0e3e74097f6e19ce40d60b779cb7da01a71ef56"
 },
 "nbformat": 3,
 "nbformat_minor": 0,
 "worksheets": [
  {
   "cells": [
    {
     "cell_type": "heading",
     "level": 1,
     "metadata": {},
     "source": [
      "Digital filters"
     ]
    },
    {
     "cell_type": "heading",
     "level": 3,
     "metadata": {},
     "source": [
      "Introduction"
     ]
    },
    {
     "cell_type": "markdown",
     "metadata": {},
     "source": [
      "To be continued"
     ]
    },
    {
     "cell_type": "heading",
     "level": 3,
     "metadata": {},
     "source": [
      "The z-transform"
     ]
    },
    {
     "cell_type": "markdown",
     "metadata": {},
     "source": [
      "To be continued"
     ]
    },
    {
     "cell_type": "markdown",
     "metadata": {},
     "source": [
      "\n",
      "----\n",
      "<div align=right> [Index](toc.ipynb) - [Back](LabImages_correction.ipynb) - [Next](FIR_synthesis.ipynb)</div>"
     ]
    }
   ],
   "metadata": {}
  }
 ]
}