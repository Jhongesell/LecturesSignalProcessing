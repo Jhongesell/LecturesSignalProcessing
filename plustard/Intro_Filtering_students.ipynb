{
 "cells": [
  {
   "cell_type": "code",
   "execution_count": null,
   "metadata": {
    "collapsed": false
   },
   "outputs": [],
   "source": [
    "%config InlineBackend.figure_format = 'svg'\n",
    "#In new notebooks created for IPython 1.0+, I would recommend using %matplotlib inline, since it is more tidy \n",
    "# and you have more control over which packages are imported and how. Commonly, scipy and numpy are imported separately with:\n",
    "# from: http://nbviewer.ipython.org/github/jrjohansson/scientific-python-lectures/blob/master/Lecture-4-Matplotlib.ipynb#Versions\n",
    "#%config InlineBackend.figure_format = 'svg' #this is depreceated in 2.x\n",
    "%config InlineBackend.figure_formats = {'svg', 'jpeg'}\n",
    "\n",
    "import numpy as np\n",
    "import scipy as sp\n",
    "import matplotlib.pyplot as plt\n",
    "import scipy.stats as stats\n",
    "# Also import pylab for more easy interactive use (but less control)\n",
    "from pylab import *\n",
    "\n",
    "#For displaying widgets\n",
    "from IPython.html import widgets\n",
    "from IPython.html.widgets import interact, interactive, fixed\n",
    "from IPython.html import widgets\n",
    "from IPython.display import clear_output, display, HTML, Image\n",
    "\n",
    "#Some specific imports for plotting\n",
    "\n",
    "%matplotlib inline"
   ]
  },
  {
   "cell_type": "markdown",
   "metadata": {},
   "source": [
    "# An basic introduction to filtering\n",
    "Through examples, we define several operations on signals and show how they transform them. Then we define what is a filter and the notion of impulse response.   \n",
    "\n",
    "- [Transformations of signals - Examples of difference equations](#difference_equations)\n",
    "- [Filters](#filters)\n",
    "- [Notion of impulse response](#impulse_response)"
   ]
  },
  {
   "cell_type": "markdown",
   "metadata": {},
   "source": [
    "## Transformations of signals - Examples of difference equations <a name=\"difference_equations\"></a>"
   ]
  },
  {
   "cell_type": "markdown",
   "metadata": {},
   "source": [
    "We begin by defining a test signal."
   ]
  },
  {
   "cell_type": "code",
   "execution_count": null,
   "metadata": {
    "collapsed": false
   },
   "outputs": [],
   "source": [
    "# rectangular pulse\n",
    "N=20; L=5; M=10\n",
    "r=np.zeros(N)\n",
    "\n",
    "r[L:M]=1\n",
    "#\n",
    "plt.stem(r)\n",
    "_=plt.ylim([0, 1.2])"
   ]
  },
  {
   "cell_type": "code",
   "execution_count": null,
   "metadata": {
    "collapsed": false
   },
   "outputs": [],
   "source": [
    "def op1(signal):\n",
    "    transformed_signal=np.zeros(np.size(signal))\n",
    "    for t in np.arange(np.size(signal)):\n",
    "        transformed_signal[t]=signal[t]-signal[t-1]\n",
    "    return transformed_signal    \n",
    "\n",
    "def op2(signal):\n",
    "    transformed_signal=np.zeros(np.size(signal))\n",
    "    for t in np.arange(np.size(signal)):\n",
    "        transformed_signal[t]=0.5*signal[t]+0.5*signal[t-1]\n",
    "    return transformed_signal"
   ]
  },
  {
   "cell_type": "code",
   "execution_count": null,
   "metadata": {
    "collapsed": false
   },
   "outputs": [],
   "source": [
    "plt.figure()\n",
    "plt.stem(op1(r))\n",
    "_=plt.ylim([-1.2, 1.2])\n",
    "plt.title(\"Filtering of rectangular signal with op1\")\n",
    "plt.figure()\n",
    "plt.stem(op2(r),'r')\n",
    "_=plt.ylim([-0.2, 2.2])\n",
    "plt.title(\"Filtering of rectangular signal with op2\")"
   ]
  },
  {
   "cell_type": "markdown",
   "metadata": {},
   "source": [
    "We define a sine wave and check that the operation implemented by \"op1\" seems to be a derivative..."
   ]
  },
  {
   "cell_type": "code",
   "execution_count": null,
   "metadata": {
    "collapsed": false
   },
   "outputs": [],
   "source": [
    "# DO IT YOURSELF\n",
    "# define a sine wave \"sig\" with frequency 0.05 for t between 0 and 100, 500 samples. Use functions \n",
    "# linspace, sin. Plot the result. "
   ]
  },
  {
   "cell_type": "markdown",
   "metadata": {},
   "source": [
    "Composition of operations:"
   ]
  },
  {
   "cell_type": "code",
   "execution_count": null,
   "metadata": {
    "collapsed": false
   },
   "outputs": [],
   "source": [
    "plt.stem(op1(op2(r)),'r')\n",
    "_=plt.ylim([-1.2, 2.2])"
   ]
  },
  {
   "cell_type": "code",
   "execution_count": null,
   "metadata": {
    "collapsed": false
   },
   "outputs": [],
   "source": [
    "# DO IT YOURSELF\n",
    "# define op3() as the transformation \"transformed_signal[t]= 0.7*transformed_signal[t-1]+signal[t]\"\n",
    "\n",
    "\n",
    "plt.stem(op3(r),'r')\n",
    "plt.title(\"Filtering of rectangular signal with op3\")\n",
    "_=plt.ylim([-0.2, 3.2])"
   ]
  },
  {
   "cell_type": "markdown",
   "metadata": {},
   "source": [
    "### A curiosity"
   ]
  },
  {
   "cell_type": "code",
   "execution_count": null,
   "metadata": {
    "collapsed": false
   },
   "outputs": [],
   "source": [
    "def op4(signal):\n",
    "    transformed_signal=np.zeros(np.size(signal))\n",
    "    for t in np.arange(np.size(signal)):\n",
    "        transformed_signal[t]= 1*transformed_signal[t-1]+signal[t]\n",
    "    return transformed_signal\n",
    "\n",
    "plt.stem(op4(r),'r')\n",
    "plt.title(\"Filtering of rectangular signal with op4\")\n",
    "_=plt.ylim([-0.2, 3.2])\n",
    "# And then..\n",
    "plt.figure()\n",
    "plt.stem(op1(op4(r)),'r')\n",
    "plt.title(\"Filtering of rectangular signal with op1(op4)\")\n",
    "_=plt.ylim([-0.2, 1.2])"
   ]
  },
  {
   "cell_type": "markdown",
   "metadata": {},
   "source": [
    "## Filters <a name=\"filters\"></a>\n",
    "\n",
    "**Definition** A filter is a time-invariant linear system. \n",
    "\n",
    "- Time invariance means that if $y(n)$ is the response associated with an input $x(n)$, then $y(n-n_0)$ is the response associated with the input $x(n-n_0)$. \n",
    "- Linearity means that if $y_1(n)$ and $y_2(n)$ are the outputs associated with $x_1(n)$ and $x_2(n)$, then the output associated with $a_1x_1(n)+a_2x_2(n)$ is $a_1y_1(n)+a_2y_2(n)$ (superposition principle)"
   ]
  },
  {
   "cell_type": "markdown",
   "metadata": {},
   "source": [
    "**Exercises** -- Check whether the following systems are filers or not. \n",
    "- $x(n) \\rightarrow 2x(n)$\n",
    "- $x(n) \\rightarrow 2x(n) + 1$\n",
    "- $x(n) \\rightarrow 2x(n)+x(n-1)$\n",
    "- $x(n) \\rightarrow x(n)^2$\n",
    "\n"
   ]
  },
  {
   "cell_type": "markdown",
   "metadata": {},
   "source": [
    "## Notion of impulse response <a name=\"impulse_response\"></a>\n",
    "**Definition** A Dirac impulse (or impulse for short) is defined by\n",
    "$$\n",
    "\\delta(n) = \n",
    "\\begin{cases} \n",
    " 1 &\\text{ if } n=0 \\\\\n",
    " 0 &\\text{ elsewhere}\n",
    "\\end{cases}\n",
    "$$\n",
    "\n",
    "**Definition** The impulse response of a system is nothing but the output of the system excited by a Dirac impulse. It is often denoted $h(h)$.\n",
    "$$\n",
    "\\delta(n) \\rightarrow  \\text{System} \\rightarrow h(n)\n",
    "$$\n"
   ]
  },
  {
   "cell_type": "code",
   "execution_count": null,
   "metadata": {
    "collapsed": false
   },
   "outputs": [],
   "source": [
    "def dirac(n):\n",
    "# dirac function\n",
    "    return 1 if n==0 else 0\n",
    "def dirac_vector(N):\n",
    "    out = np.zeros(N)\n",
    "    out[0]=1\n",
    "    return out"
   ]
  },
  {
   "cell_type": "code",
   "execution_count": null,
   "metadata": {
    "collapsed": false
   },
   "outputs": [],
   "source": [
    "d=dirac_vector(20)\n",
    "fig,ax=plt.subplots(2,2,sharex=True)\n",
    "plt.subplot\n",
    "ax[0][0].stem(op1(d),  label=\"Filter 1\")\n",
    "ax[0][0].legend()\n",
    "ax[0][1].stem(op2(d),  label=\"Filter 2\")\n",
    "ax[0][1].legend()\n",
    "ax[1][0].stem(op3(d), label=\"Filter 3\")\n",
    "ax[1][0].legend()\n",
    "ax[1][1].stem(op4(d), label=\"Filter 4\")\n",
    "ax[1][1].legend()\n",
    "plt.suptitle(\"Impulse responses\")"
   ]
  },
  {
   "cell_type": "markdown",
   "metadata": {},
   "source": [
    "### Curiosity (continued)"
   ]
  },
  {
   "cell_type": "markdown",
   "metadata": {},
   "source": [
    "The impulse response of op4(op1) is given by"
   ]
  },
  {
   "cell_type": "code",
   "execution_count": null,
   "metadata": {
    "collapsed": false
   },
   "outputs": [],
   "source": [
    "h=op4(op1(dirac_vector(20)))\n",
    "plt.stem(h, label=\"Filter 4(1)\")\n",
    "_=plt.axis([-5, 20, 0, 1.2])"
   ]
  },
  {
   "cell_type": "markdown",
   "metadata": {},
   "source": [
    "This is nothing but a Dirac impulse! We already observed that op4(op1(signal))=signal; that is the filter is an identity transformation. In other words, op4 acts as the \"inverse\" of op1.     Finally, we note that the impuse response of the indentity filter is a Dirac impulse. \n"
   ]
  }
 ],
 "metadata": {},
 "nbformat": 4,
 "nbformat_minor": 0
}