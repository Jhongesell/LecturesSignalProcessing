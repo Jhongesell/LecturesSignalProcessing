{
 "cells": [
  {
   "cell_type": "code",
   "execution_count": 1,
   "metadata": {
    "collapsed": false
   },
   "outputs": [
    {
     "data": {
      "image/png": "[encoded data removed]",
      "text/latex": [
       "$$\\frac{3}{4} + \\frac{3}{16 z + 4} - \\frac{3}{4 z + 2}$$"
      ],
      "text/plain": [
       "3        3             3     \n",
       "─ + ─────────── - ───────────\n",
       "4   4⋅(4⋅z + 1)   2⋅(2⋅z + 1)"
      ]
     },
     "execution_count": 1,
     "metadata": {},
     "output_type": "execute_result"
    }
   ],
   "source": [
    "import sympy\n",
    "from sympy import *\n",
    "sympy.init_printing()\n",
    "\n",
    "z=Symbol('z')\n",
    "F1 = (6*z**2)/((4*z+1)*(2*z+1))\n",
    "#cancel(F1)\n",
    "apart(F1)"
   ]
  },
  {
   "cell_type": "code",
   "execution_count": 4,
   "metadata": {
    "collapsed": false
   },
   "outputs": [
    {
     "data": {
      "image/png": "[encoded data removed]",
      "text/latex": [
       "$$\\begin{cases} \\frac{1}{- \\frac{a}{z} + 1} & \\text{for}\\: \\left\\lvert{\\frac{a}{z}}\\right\\rvert < 1 \\\\\\sum_{n=0}^{\\infty} a^{n} z^{- n} & \\text{otherwise} \\end{cases}$$"
      ],
      "text/plain": [
       "⎧     1            │a│    \n",
       "⎪  ───────     for │─│ < 1\n",
       "⎪    a             │z│    \n",
       "⎪  - ─ + 1                \n",
       "⎪    z                    \n",
       "⎪                         \n",
       "⎪  ∞                      \n",
       "⎨ ___                     \n",
       "⎪ ╲                       \n",
       "⎪  ╲    n  -n             \n",
       "⎪  ╱   a ⋅z     otherwise \n",
       "⎪ ╱                       \n",
       "⎪ ‾‾‾                     \n",
       "⎪n = 0                    \n",
       "⎩                         "
      ]
     },
     "execution_count": 4,
     "metadata": {},
     "output_type": "execute_result"
    }
   ],
   "source": [
    "#z,x=sympy.symbols('zx')\n",
    "from sympy.abc import n, x, a, z, s, f, t\n",
    "from sympy import summation, oo, symbols, log, exp, cos\n",
    "def h(n): return a**n\n",
    "e=sympy.summation(h(n)*z**(-n), (n, 0, oo))\n",
    "e"
   ]
  },
  {
   "cell_type": "code",
   "execution_count": 56,
   "metadata": {
    "collapsed": false
   },
   "outputs": [
    {
     "data": {
      "image/png": "[encoded data removed]",
      "text/latex": [
       "$$\\frac{a^{2} y}{\\left(a - b\\right) \\left(a - c\\right) \\left(a x - 1\\right)} - \\frac{b^{2} y}{\\left(a - b\\right) \\left(b - c\\right) \\left(b x - 1\\right)} + \\frac{c^{2} y}{\\left(a - c\\right) \\left(b - c\\right) \\left(c x - 1\\right)}$$"
      ],
      "text/plain": [
       "            2                           2                           2         \n",
       "           a ⋅y                        b ⋅y                        c ⋅y       \n",
       "───────────────────────── - ───────────────────────── + ──────────────────────\n",
       "(a - b)⋅(a - c)⋅(a⋅x - 1)   (a - b)⋅(b - c)⋅(b⋅x - 1)   (a - c)⋅(b - c)⋅(c⋅x -\n",
       "\n",
       "   \n",
       "   \n",
       "───\n",
       " 1)"
      ]
     },
     "execution_count": 56,
     "metadata": {},
     "output_type": "execute_result"
    }
   ],
   "source": [
    "(a,b,c,d)=symbols('a b c d')\n",
    "F1 = (y)/((a*x-1)*(b*x-1)*(c*x-1))\n",
    "out=apart(F1,x,full=True)\n",
    "out"
   ]
  },
  {
   "cell_type": "code",
   "execution_count": null,
   "metadata": {
    "collapsed": false
   },
   "outputs": [],
   "source": []
  },
  {
   "cell_type": "code",
   "execution_count": null,
   "metadata": {
    "collapsed": false
   },
   "outputs": [],
   "source": []
  },
  {
   "cell_type": "code",
   "execution_count": 6,
   "metadata": {
    "collapsed": false
   },
   "outputs": [
    {
     "data": {
      "image/png": "[encoded data removed]",
      "text/latex": [
       "$$\\begin{bmatrix}\\frac{2 A z + A - 6 z^{2}}{4 z + 1}\\end{bmatrix}$$"
      ],
      "text/plain": [
       "⎡               2⎤\n",
       "⎢2⋅A⋅z + A - 6⋅z ⎥\n",
       "⎢────────────────⎥\n",
       "⎣    4⋅z + 1     ⎦"
      ]
     },
     "execution_count": 6,
     "metadata": {},
     "output_type": "execute_result"
    }
   ],
   "source": [
    "A, B=symbols('A B')\n",
    "solve((6*z**2)/((4*z+1)*(2*z+1))- A/(4*z+1) +B/(2*z+1),(B))"
   ]
  },
  {
   "cell_type": "code",
   "execution_count": 42,
   "metadata": {
    "collapsed": false
   },
   "outputs": [
    {
     "data": {
      "image/png": "[encoded data removed]",
      "text/latex": [
       "$$- \\frac{a y}{\\left(a - b\\right) \\left(a x - 1\\right)} + \\frac{b y}{\\left(a - b\\right) \\left(b x - 1\\right)}$$"
      ],
      "text/plain": [
       "         a⋅y                 b⋅y       \n",
       "- ───────────────── + ─────────────────\n",
       "  (a - b)⋅(a⋅x - 1)   (a - b)⋅(b⋅x - 1)"
      ]
     },
     "execution_count": 42,
     "metadata": {},
     "output_type": "execute_result"
    }
   ],
   "source": [
    "(a,b)=symbols('a b')\n",
    "F1 = (y)/((a*x-1)*(b*x-1))\n",
    "out=apart(F1,x,full=True)\n",
    "out"
   ]
  },
  {
   "cell_type": "code",
   "execution_count": 43,
   "metadata": {
    "collapsed": false
   },
   "outputs": [
    {
     "data": {
      "image/png": "[encoded data removed]",
      "text/latex": [
       "$$- \\frac{7 y}{21 x - 3} + \\frac{4 y}{12 x - 3}$$"
      ],
      "text/plain": [
       "      7⋅y           4⋅y    \n",
       "- ─────────── + ───────────\n",
       "  3⋅(7⋅x - 1)   3⋅(4⋅x - 1)"
      ]
     },
     "execution_count": 43,
     "metadata": {},
     "output_type": "execute_result"
    }
   ],
   "source": [
    "(a,b)=symbols('a b')\n",
    "F1 = (y)/((7*x-1)*(4*x-1))\n",
    "out=apart(F1,x,full=True)\n",
    "out"
   ]
  },
  {
   "cell_type": "code",
   "execution_count": 25,
   "metadata": {
    "collapsed": false
   },
   "outputs": [
    {
     "data": {
      "image/png": "[encoded data removed]",
      "text/latex": [
       "$$- \\frac{7 y}{68 x - 119} + \\frac{y}{51 x - 17}$$"
      ],
      "text/plain": [
       "      7⋅y             y      \n",
       "- ──────────── + ────────────\n",
       "  17⋅(4⋅x - 7)   17⋅(3⋅x - 1)"
      ]
     },
     "execution_count": 25,
     "metadata": {},
     "output_type": "execute_result"
    }
   ],
   "source": [
    "x, y=symbols('x y')\n",
    "apart(y*x**1/((-4*x + 7)*(3*x - 1)), x)"
   ]
  },
  {
   "cell_type": "code",
   "execution_count": 22,
   "metadata": {
    "collapsed": false
   },
   "outputs": [
    {
     "data": {
      "image/png": "[encoded data removed]",
      "text/latex": [
       "$$\\frac{6 z^{2}}{\\left(2 z + 1\\right) \\left(4 z + 1\\right)}$$"
      ],
      "text/plain": [
       "           2       \n",
       "        6⋅z        \n",
       "───────────────────\n",
       "(2⋅z + 1)⋅(4⋅z + 1)"
      ]
     },
     "execution_count": 22,
     "metadata": {},
     "output_type": "execute_result"
    }
   ],
   "source": [
    "factor(out)"
   ]
  },
  {
   "cell_type": "code",
   "execution_count": 30,
   "metadata": {
    "collapsed": false
   },
   "outputs": [
    {
     "data": {
      "image/png": "[encoded data removed]",
      "text/latex": [
       "$$\\frac{6.09375 z + 1.546875}{\\left(2 z + 1\\right) \\left(4 z + 1\\right)}$$"
      ],
      "text/plain": [
       "6.09375⋅z + 1.546875\n",
       "────────────────────\n",
       "(2⋅z + 1)⋅(4⋅z + 1) "
      ]
     },
     "execution_count": 30,
     "metadata": {},
     "output_type": "execute_result"
    }
   ],
   "source": [
    "together(aa)"
   ]
  }
 ],
 "metadata": {},
 "nbformat": 4,
 "nbformat_minor": 0
}