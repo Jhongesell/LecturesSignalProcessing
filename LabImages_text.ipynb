{
 "cells": [
  {
   "cell_type": "markdown",
   "metadata": {},
   "source": [
    "## Lab on basics in image processing"
   ]
  },
  {
   "cell_type": "markdown",
   "metadata": {},
   "source": [
    "# Table of Contents\n",
    "* [Lab on basic image processing](#Lab-on-basic-image-processing)\n",
    "\t* [Introduction](#Introduction)\n",
    "\t* [Frequency representation -- Filtering in the frequency domain](#Frequency-representation----Filtering-in-the-frequency-domain)\n",
    "\t\t* [A pretty sine wave](#A-pretty-sine-wave)\n",
    "\t* [Playing with Barbara -- Filtering in the frequency domain](#Playing-with-Barbara----Filtering-in-the-frequency-domain)\n",
    "\t* [Filtering by convolution](#Filtering-by-convolution)\n"
   ]
  },
  {
   "cell_type": "markdown",
   "metadata": {},
   "source": [
    "### Introduction"
   ]
  },
  {
   "cell_type": "markdown",
   "metadata": {},
   "source": [
    "The objective of this lab is to show how the notions we discovered in the monodimensional case -- that is for signals, can be extended to the two dimensional case. This also enable to have a new look at these notions and perhaps contribute to stenghten their understanding. \n",
    "\n",
    "In particular, we will look at the problems of representation and filtering, both in the direct (spatial) domain and in the transformed (spatial frequencies) domain. Next  we will look at the problems of sampling and  filtering.  \n",
    "\n",
    "Within Python, the modules `scipy.signal` and `scipy.ndimage` will be useful. \n"
   ]
  },
  {
   "cell_type": "markdown",
   "metadata": {},
   "source": [
    "In order to facilitate your learning and work, your servant has prepared a bunch of useful functions, namely: \n",
    "\n",
    "    rect2 -- returns a two dimensional centered rectangle\n",
    "    bandpass2d -- returns a 2D-bandpass filter (in the frequency domain)\n",
    "    showfft2 -- display of the 2D-Fourier transform, correcly centered and normalized\n",
    "    mesh -- display a ``3D'' representaion of an objet (à la Matlab (tm))\n",
    "\n",
    "To read an image file, you will use the function `imread`. \n",
    "\n",
    "To display an image in gray levels, you may use\n",
    "\n",
    "```python\n",
    "        imshow(S,cmap='gray',origin='upper')\n",
    "```\n",
    "\n",
    "You may either display your graphics inline (it is the default) or using external windows; for that call `%matplotlib`. To return to the inline mode,  use \n",
    "`%matplotlib inline`. \n"
   ]
  },
  {
   "cell_type": "code",
   "execution_count": 1,
   "metadata": {
    "collapsed": false
   },
   "outputs": [],
   "source": [
    "#This was for Python v. 2.7\n",
    "#from __future__ import division\n",
    "#from __future__ import print_function\n",
    "\n",
    "import matplotlib.pyplot as plt\n",
    "import numpy as np\n",
    "from numpy import abs, where, sin, cos, ones, zeros, log, real, imag\n",
    "from scipy import ndimage as ndi\n",
    "from scipy import signal as sig\n",
    "from numpy.fft import fft, ifft, fft2, ifft2, fftshift\n",
    "from scipy.ndimage import convolve as convolvend\n",
    "# For 3D representations\n",
    "from mpl_toolkits.mplot3d.axes3d import Axes3D\n",
    "\n",
    "# change the dpi for a better vizualisation of images\n",
    "import matplotlib\n",
    "savedpi=matplotlib.rcParams['savefig.dpi']\n",
    "%matplotlib inline"
   ]
  },
  {
   "cell_type": "markdown",
   "metadata": {},
   "source": [
    "Listing of offered utility functions"
   ]
  },
  {
   "cell_type": "code",
   "execution_count": 4,
   "metadata": {
    "collapsed": false
   },
   "outputs": [],
   "source": [
    "# from defs_tp_img import *\n",
    "# \n",
    "## Definitions\n",
    "# ============\n",
    "\n",
    "def isodd(num):\n",
    "        return num & 1 and True or False\n",
    "# or num%2==1        \n",
    "\n",
    "## \n",
    "def rect2(L,N):\n",
    "    \"\"\" Returns a (2L+1)x(2L+1) rectangle centered over a \n",
    "    NxN matrix\"\"\"\n",
    "    x=np.zeros((N,N))\n",
    "    center=(round((N+1)/2),round((N+1)/2)) if isodd(N) else (round(N/2+1),round(N/2+1))\n",
    "    x[center[0]-L:center[0]+L+1,center[1]-L:center[1]+L+1]=1    \n",
    "    return x\n",
    "\n",
    "## \n",
    "def bandpass2d(position,half_width,total_dim):    \n",
    "    \"\"\" Returns the frequency response of a bandpass filter, correctly centered on\n",
    "    `position`, of half-width `half_width` and symmeterized in frequency domain \n",
    "    (zero at the center of the resulting matrix)\n",
    "    Parameters\n",
    "    ----------\n",
    "    position: array\n",
    "        center-frequency of the band-pass response \n",
    "        (in samples -- the corresponding frequencies are 2*position/total_dim)\n",
    "    half_width: integer\n",
    "         half frequency band\n",
    "    total_dim: integer\n",
    "          image dimension\n",
    "    Author : jfb\"\"\"\n",
    "    N=total_dim    \n",
    "    center=(round((N+1)/2),round((N+1)/2)) if isodd(N) else (round(N/2+1),round(N/2+1))\n",
    "    # \n",
    "    H=zeros((N,N))    \n",
    "    H[center[0]+position[0]-half_width:center[0]+position[0]+half_width+1,center[1]+position[1]-half_width:center[1]+position[1]+half_width+1]=1    \n",
    "    position=-np.array(position)  # symmetric frequencies\n",
    "    H[center[0]+position[0]-half_width:center[0]+position[0]+half_width+1,center[1]+position[1]-half_width:center[1]+position[1]+half_width+1]=1    \n",
    "    return H\n",
    "    \n",
    "## 2D fequency representation\n",
    "def showfft2(X,Zero='uncentered', Freq='normalized', num=None,cmap='hot'):\n",
    "    \"\"\"Display an image, in the 2D Fourier domain\n",
    "    The representation is centered and in normalized frequencies.\n",
    "    **/!\\\\   *showfft2* **does not compute the Fourier transform**. \n",
    "    The user is responsible for supplying correct data.\n",
    "    Parameters:\n",
    "    -----------\n",
    "        X : 2D data in the Fourier domain\n",
    "        Num: Figure number(optional)\n",
    "        Zero='uncentered' (default), the input Fourier transform are supposed uncenterd and a \n",
    "        fftshift is applied\n",
    "        Freq='normalized' (default); otherwise axis are in samples\n",
    "    ``Author: jfb``\n",
    "    \"\"\"\n",
    "    N,M=np.shape(X)\n",
    "    plt.figure(num)\n",
    "    if Zero!='centered':\n",
    "        X=fftshift(X)\n",
    "    if Freq=='normalized':\n",
    "        extent=(-0.5, 0.5, -0.5, 0.5)\n",
    "    else:\n",
    "        extent=(-N/2, N/2, -N/2, N/2)\n",
    "    im=plt.imshow(X,aspect='auto',origin='lower', extent=extent, cmap=cmap)    \n",
    "    if Freq=='normalized':   \n",
    "        ticks=np.arange(-0.5,0.6,0.1)\n",
    "        plt.xticks(ticks)\n",
    "        plt.yticks(ticks)\n",
    "    plt.colorbar()\n",
    "  \n",
    "\n",
    "   \n",
    "def mesh(obj3D,numfig=None,subplt=(1,1,1),cmap='hot'):\n",
    "    \"\"\"\n",
    "    Emulates Matlab's mesh \n",
    "    Author: jfb\n",
    "    \"\"\"\n",
    "    fig = plt.figure(numfig)\n",
    "    ax = fig.add_subplot(subplt[0],subplt[1],subplt[2], projection='3d')\n",
    "    m,n=np.shape(obj3D)\n",
    "    mm=np.arange(m)\n",
    "    nn=np.arange(n)\n",
    "    X,Y=np.meshgrid(nn,mm)\n",
    "    ax.plot_surface(X, Y, obj3D, rstride=max([round(m/50), 1]), \n",
    "                    cstride=max([round(n/50), 1]), cmap=cmap)\n",
    "    \n",
    "def saltpepper(percent=85,shape=None):\n",
    "        s=np.random.random(size=shape)\n",
    "        d=np.where(s>percent/100)\n",
    "        out=np.ones(shape=shape)\n",
    "        out[d]=0\n",
    "        return out\n"
   ]
  },
  {
   "cell_type": "markdown",
   "metadata": {},
   "source": [
    "### Frequency representation -- Filtering in the frequency domain"
   ]
  },
  {
   "cell_type": "markdown",
   "metadata": {},
   "source": [
    "#### A pretty sine wave"
   ]
  },
  {
   "cell_type": "markdown",
   "metadata": {},
   "source": [
    "- Generate a sine wave $f(x,y) = \\sin(2\\pi (f_x x+f_y y))$ , with $f_x$ an $f_y$ between 0.02 à 0.2, on $N\\times N$ points (e.g.  $N=512$). For the implementation, you may use a `for` loop, or a double comprehension list, or even the smart function `fromfunction()` and an anonymous `lambda` function.  Display the result using  `imshow`.\n",
    "\n",
    "Note that for a matrix, usually the first index denotes the rows and the second the columns. Therefore modifying something with respect to x results in a variation along the rows of the matrix (usually the \"y\" axis).."
   ]
  },
  {
   "cell_type": "code",
   "execution_count": null,
   "metadata": {
    "collapsed": false
   },
   "outputs": [],
   "source": [
    "?np.fromfunction"
   ]
  },
  {
   "cell_type": "code",
   "execution_count": null,
   "metadata": {
    "collapsed": false
   },
   "outputs": [],
   "source": [
    "fx,fy= 0.02, 0.01\n",
    "#\n",
    "# DO IT YOURSELF...\n",
    "#\n",
    "# Z=\n",
    "#\n",
    "#\n",
    "plt.imshow(Z,cmap='hot',origin='upper')\n",
    "_=plt.xlabel('y')\n",
    "_=plt.ylabel('x')"
   ]
  },
  {
   "cell_type": "markdown",
   "metadata": {},
   "source": [
    "- Transform your program into a function `pltsin` which takes the two frequencies as inputs. Then implement a interactive version, using the lines\n",
    "```python\n",
    "from IPython.html.widgets import interact, interactive, fixed\n",
    "interact(pltsin,fx=[-0.1,0.1,0.01], fy=[-0.1,0.1,0.01])  \n",
    "```\n",
    "Then play with the parameters, and look at what happens when you change the values of the frequencies. "
   ]
  },
  {
   "cell_type": "code",
   "execution_count": null,
   "metadata": {
    "collapsed": false
   },
   "outputs": [],
   "source": [
    "from IPython.html.widgets import interact, interactive, fixed\n",
    "def pltsin(fx,fy):\n",
    "# DO IT YOURSELF...\n",
    "#\n",
    "#\n",
    "interact(pltsin,fx=[-0.1,0.1,0.01], fy=[-0.1,0.1,0.01])   "
   ]
  },
  {
   "cell_type": "markdown",
   "metadata": {},
   "source": [
    "- Compute the 2D Fourier transform of $f(x,y)$ (using function fft2) and display the modulus (function abs) of the result, via `showfft2`. What are the significations of the axes? What are the spatial frequencies of the sine wave. Experiment with several values of $f_x, f_y$. "
   ]
  },
  {
   "cell_type": "code",
   "execution_count": null,
   "metadata": {
    "collapsed": false
   },
   "outputs": [],
   "source": [
    "# We change the frequencies for ease of visualization in the frequency domain\n",
    "fx,fy= 0.1, 0.2\n",
    "#S=\n",
    "\n",
    "# Display\n",
    "#\n",
    "plt.title('2D Fourier transform')   \n",
    "plt.xlabel('Frequencies $f_y$')\n",
    "plt.ylabel('Frequencies $f_x$')"
   ]
  },
  {
   "cell_type": "markdown",
   "metadata": {},
   "source": [
    "- Show theoretically, and then check it numerically, that the 2D Fourier transform can be obtained as the succession of two 1-dimensional transforms, applied respectively to the rows and then to the columns (or vice versa).  You will take advantage of the fact that the standard `fft` has a parameter axis which is the axis over which the `fft` is actually computed. "
   ]
  },
  {
   "cell_type": "code",
   "execution_count": null,
   "metadata": {
    "collapsed": false
   },
   "outputs": [],
   "source": [
    "# DO IT!\n",
    "#\n",
    "plt.title('2D-Fourier transform as the succession of two 1D transforms')   \n",
    "plt.xlabel('Frequencies $f_y$')\n",
    "plt.ylabel('Frequencies $f_x$')\n"
   ]
  },
  {
   "cell_type": "markdown",
   "metadata": {},
   "source": [
    "### Playing with Barbara -- Filtering in the frequency domain"
   ]
  },
  {
   "cell_type": "markdown",
   "metadata": {},
   "source": [
    "*Rappelle-toi Barbara <br>\n",
    "Il pleuvait sans cesse sur Brest ce jour-là <br>\n",
    "Et tu marchais souriante <br>\n",
    "Épanouie ravie ruisselante <br>\n",
    "Sous la pluie* (Prévert, 1946)"
   ]
  },
  {
   "cell_type": "markdown",
   "metadata": {},
   "source": [
    "- Load the image Barbara, using `plt.imread('barbara.png')` and display it (in gray levels)."
   ]
  },
  {
   "cell_type": "code",
   "execution_count": null,
   "metadata": {
    "collapsed": false
   },
   "outputs": [],
   "source": [
    "matplotlib.rcParams['savefig.dpi'] = 2*savedpi # double dpi <-- This is to increase resolution\n",
    "#\n",
    "#%% reading and displaying the image\n",
    "#B=\n"
   ]
  },
  {
   "cell_type": "markdown",
   "metadata": {},
   "source": [
    "-  Display the corresponding frequency representation `showfft2` , in log scale (simply take `log(abs())`!) "
   ]
  },
  {
   "cell_type": "code",
   "execution_count": null,
   "metadata": {
    "collapsed": false
   },
   "outputs": [],
   "source": [
    "matplotlib.rcParams['savefig.dpi'] = savedpi #restore dpi\n",
    "# Do it!\n",
    "plt.title(\"Barbara's 2D Fourier transform\")"
   ]
  },
  {
   "cell_type": "markdown",
   "metadata": {},
   "source": [
    "- Filter this image using a low-pass filter with a rectangular frequency response (use the function `rect2`), for rectangles of half-width 40, 80 ,100. Display the different resulting images, as well as the differences with the initial image. Observations, conclusions. "
   ]
  },
  {
   "cell_type": "code",
   "execution_count": null,
   "metadata": {
    "collapsed": false
   },
   "outputs": [],
   "source": [
    "L=40\n",
    "#\n",
    "#\n",
    "#\n",
    "#\n",
    "plt.title('Fourier transform of the filtered image')\n"
   ]
  },
  {
   "cell_type": "markdown",
   "metadata": {},
   "source": [
    "The corresponding results in the spatial domain are:"
   ]
  },
  {
   "cell_type": "code",
   "execution_count": null,
   "metadata": {
    "collapsed": false
   },
   "outputs": [],
   "source": [
    "matplotlib.rcParams['savefig.dpi'] = 2*savedpi \n",
    "#And in the spatial domain\n",
    "#\n",
    "#\n",
    "plt.title(\"Filtered image (spatial domain)\")\n",
    "# Also experiment with L=80, L=100\n",
    "# Differences : \n",
    "#\n",
    "#\n",
    "plt.title(\"Difference between the original image and its low-pass filtered\")"
   ]
  },
  {
   "cell_type": "markdown",
   "metadata": {},
   "source": [
    "- design a frequency response that kills selectively the frequencies around points (46,54) and (-70,79), e.g. on a neighborhood of  $\\pm$ 10 points. In order to do that, you may use the function `bandpass2d`, and you will create a frequency rejector by  `1-bandpass2d`. Look again at the Fourier transform of Barbara, but wit the axes in  points, so as to understand what you do. Apply the filter to the initial image and look at the result in the spatial domain. Try to understand the modifications. In particular, **look at the tablecloth**. Also look at the difference image. "
   ]
  },
  {
   "cell_type": "code",
   "execution_count": null,
   "metadata": {
    "collapsed": false
   },
   "outputs": [],
   "source": [
    "matplotlib.rcParams['savefig.dpi'] = savedpi  # restore initial dpi\n",
    "# Rejector filter\n",
    "#\n",
    "#\n",
    "#\n",
    "plt.title('Bandpass filter (frequencies)')"
   ]
  },
  {
   "cell_type": "code",
   "execution_count": null,
   "metadata": {
    "collapsed": false
   },
   "outputs": [],
   "source": [
    "matplotlib.rcParams['savefig.dpi'] = savedpi\n",
    "#\n",
    "#\n",
    "#\n",
    "plt.title(\"FT of the filtered image\")\n",
    "plt.xlabel('y')"
   ]
  },
  {
   "cell_type": "code",
   "execution_count": null,
   "metadata": {
    "collapsed": false
   },
   "outputs": [],
   "source": [
    "# in the spatial domain we than have\n",
    "matplotlib.rcParams['savefig.dpi'] = 2*savedpi \n",
    "#B_filtered\n",
    "#\n",
    "#\n",
    "plt.title(\"Filtered image by the frequency rejector\")\n",
    "# Differences: \n",
    "#\n",
    "#\n",
    "plt.title(\"Difference between the initial image and its filtered\")"
   ]
  },
  {
   "cell_type": "markdown",
   "metadata": {},
   "source": [
    "### Filtering by convolution"
   ]
  },
  {
   "cell_type": "markdown",
   "metadata": {},
   "source": [
    "The function that will be useful in this part is the function `convolve` from the module scipy.ndimage (get it by `ndi.convolve` if ndimage has been imported under the name ndi). We will alo use a `np.random.normal(size=(...))` for adding gaussian noise (with typically a scale 0.1); or `saltpepper` for a salt and pepper noise. \n",
    "\n",
    "\n",
    "- begin by implementing a convolution in two dimensions, by studying the following code:\n",
    "\n",
    "        h=ones((2*ll+1,2*ll+1)) # h the impulse response\n",
    "        for m in range(ll,M-ll):\n",
    "            for n in range(ll,N-ll):\n",
    "                B_filtered[m,n]=sum(sum(h*B[m-ll:m+ll+1,n-ll:n+ll+1]))      \n",
    "\n",
    "Compute a low-pass filtering of Barbara (h constant over an half width of 3 to 10), and examine the result. "
   ]
  },
  {
   "cell_type": "code",
   "execution_count": null,
   "metadata": {
    "collapsed": false
   },
   "outputs": [],
   "source": [
    "(N,M)=np.shape(B)\n",
    "#\n",
    "#\n",
    "#\n",
    "plt.imshow(B_filtered,cmap='gray',origin='upper')      \n"
   ]
  },
  {
   "cell_type": "markdown",
   "metadata": {},
   "source": [
    "As we see, it is very simple. Nothing but a sum of products.  A better implementation would take care of edge effects. "
   ]
  },
  {
   "cell_type": "markdown",
   "metadata": {},
   "source": [
    "- Do this filtering again, but using the function `ndi.convolve`. Examine the effect of the filtering with an additive gaussian noise `np.random.normal(size=(512,512)` with scale 0.1 or a salt and pepper noise. Check that the filtering is indeed a low-pass filter by looking at its transfer function -- use a zero-padding when computing the Fourier transform `fft2(h,s=(1000,1000))`. You can also use the `mesh` function for the representation."
   ]
  },
  {
   "cell_type": "code",
   "execution_count": null,
   "metadata": {
    "collapsed": false
   },
   "outputs": [],
   "source": [
    "B=plt.imread('barbara.png')\n",
    "#\n",
    "#\n",
    "#\n",
    "imshow(B_filtered,cmap='gray',origin='upper')   \n",
    "title('Filtered image')\n"
   ]
  },
  {
   "cell_type": "markdown",
   "metadata": {},
   "source": [
    "Transfer function"
   ]
  },
  {
   "cell_type": "code",
   "execution_count": null,
   "metadata": {
    "collapsed": false
   },
   "outputs": [],
   "source": [
    "\n",
    "# Lets us look at the transfer function associated with this impulse response.. \n",
    "#\n",
    "#\n",
    "#\n",
    "plt.title('Transfer function of the averaging filter')\n"
   ]
  },
  {
   "cell_type": "markdown",
   "metadata": {},
   "source": [
    "- On the Barbara image, or on the image of cells, or of bacterias, test a Prewit or a Sobel gradient, with impulse responses\n",
    "\n",
    "         dx=np.array([[1.0, 0.0, -1.0],[1.0, 0.0, -1.0],[1.0, 0.0, -1.0],])      \n",
    "         # dx=np.array([[1.0, 0.0, -1.0],[2.0, 0.0, -2.0],[1.0, 0.0, -1.0],]) #Sobel\n",
    "         dy=np.transpose(dx)\n",
    "  \n",
    "applied over the two directions (x,y), by `ndi.convolve` and build the gradient magnitude image. \n",
    "\n",
    "NB: if Dx and Dy are the gradient images obtained in directions x, y, then the gradient magnitude image is  $\\sqrt{Dx^2+Dy^2}$.\n",
    "\n",
    "The ndimage module contains many predefined filters, such as  `scipy.ndimage.filters.sobel`. However, we use here the direct convolution, for pedagogical purposes, instead of these functions. \n"
   ]
  },
  {
   "cell_type": "code",
   "execution_count": null,
   "metadata": {
    "collapsed": false
   },
   "outputs": [],
   "source": [
    "# Computation of gradient images and magnitude image\n",
    "#\n",
    "#\n",
    "# Sobel Filter\n",
    "#dx=np.array([[1.0, 0.0, -1.0],[2.0, 0.0, -2.0],[1.0, 0.0, -1.0],])\n",
    "#dy=np.transpose(dx)\n",
    "#\n",
    "#\n",
    "#\n",
    "### Prewitt Filter\n",
    "#dx=np.array([[1.0, 0.0, -1.0],[1.0, 0.0, -1.0],[1.0, 0.0, -1.0],])\n",
    "#dy=np.transpose(dx)"
   ]
  },
  {
   "cell_type": "code",
   "execution_count": null,
   "metadata": {
    "collapsed": false
   },
   "outputs": [],
   "source": [
    "plt.figure()\n",
    "#\n",
    "plt.title('Image filtered using a Sobel gradient over rows') \n",
    "plt.figure()\n",
    "#\n",
    "plt.title('Image filtered using a Sobel gradient over columns') \n",
    "plt.figure()\n",
    "#\n",
    "plt.title(\"Sobel's Gradient magnitude\") "
   ]
  },
  {
   "cell_type": "markdown",
   "metadata": {},
   "source": [
    "Sobel's transfer function"
   ]
  },
  {
   "cell_type": "code",
   "execution_count": null,
   "metadata": {
    "collapsed": false
   },
   "outputs": [],
   "source": [
    "# Sobel's transfer function\n",
    "#\n",
    "#"
   ]
  },
  {
   "cell_type": "markdown",
   "metadata": {},
   "source": [
    "idem with Barbara"
   ]
  },
  {
   "cell_type": "code",
   "execution_count": null,
   "metadata": {
    "collapsed": false
   },
   "outputs": [],
   "source": [
    "B=plt.imread('barbara.png') # ou cellules.png\n",
    "#\n",
    "#\n",
    "#\n",
    "#\n",
    "#\n",
    "plt.title(\"Sobel's Gradient magnitude\") "
   ]
  },
  {
   "cell_type": "markdown",
   "metadata": {},
   "source": [
    "\n",
    "----\n",
    "<div align=right> [Index](toc.ipynb) - [Back](Sampling.ipynb) - [Next](LabImages_correction.ipynb)</div>"
   ]
  }
 ],
 "metadata": {
  "interactive_sols": {
   "cbx_id": 1
  },
  "kernelspec": {
   "display_name": "Python 3",
   "language": "python",
   "name": "python3"
  },
  "language_info": {
   "codemirror_mode": {
    "name": "ipython",
    "version": 3
   },
   "file_extension": ".py",
   "mimetype": "text/x-python",
   "name": "python",
   "nbconvert_exporter": "python",
   "pygments_lexer": "ipython3",
   "version": "3.4.3+"
  },
  "latex_envs": {
   "bibliofile": "biblio.bib",
   "cite_by": "apalike",
   "current_citInitial": 1,
   "eqLabelWithNumbers": true,
   "eqNumInitial": 0
  }
 },
 "nbformat": 4,
 "nbformat_minor": 0
}
